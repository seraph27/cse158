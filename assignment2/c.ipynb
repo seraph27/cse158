{
 "cells": [
  {
   "cell_type": "code",
   "execution_count": 1,
   "metadata": {},
   "outputs": [],
   "source": [
    "from surprise import Dataset, Reader, SVD\n",
    "from surprise.model_selection import cross_validate, KFold\n",
    "from sklearn.model_selection import train_test_split\n",
    "from surprise import accuracy\n",
    "from sklearn.metrics import mean_squared_error\n",
    "import numpy as np\n",
    "import pandas as pd\n",
    "import wandb\n",
    "import itertools\n",
    "from random import shuffle"
   ]
  },
  {
   "cell_type": "code",
   "execution_count": 2,
   "metadata": {},
   "outputs": [
    {
     "data": {
      "text/html": [
       "<div>\n",
       "<style scoped>\n",
       "    .dataframe tbody tr th:only-of-type {\n",
       "        vertical-align: middle;\n",
       "    }\n",
       "\n",
       "    .dataframe tbody tr th {\n",
       "        vertical-align: top;\n",
       "    }\n",
       "\n",
       "    .dataframe thead th {\n",
       "        text-align: right;\n",
       "    }\n",
       "</style>\n",
       "<table border=\"1\" class=\"dataframe\">\n",
       "  <thead>\n",
       "    <tr style=\"text-align: right;\">\n",
       "      <th></th>\n",
       "      <th>user_id</th>\n",
       "      <th>parent_asin</th>\n",
       "      <th>rating</th>\n",
       "    </tr>\n",
       "  </thead>\n",
       "  <tbody>\n",
       "    <tr>\n",
       "      <th>0</th>\n",
       "      <td>AGKHLEW2SOWHNMFQIJGBECAF7INQ</td>\n",
       "      <td>B00YQ6X8EO</td>\n",
       "      <td>5.0</td>\n",
       "    </tr>\n",
       "    <tr>\n",
       "      <th>1</th>\n",
       "      <td>AGKHLEW2SOWHNMFQIJGBECAF7INQ</td>\n",
       "      <td>B081TJ8YS3</td>\n",
       "      <td>4.0</td>\n",
       "    </tr>\n",
       "    <tr>\n",
       "      <th>2</th>\n",
       "      <td>AE74DYR3QUGVPZJ3P7RFWBGIX7XQ</td>\n",
       "      <td>B097R46CSY</td>\n",
       "      <td>5.0</td>\n",
       "    </tr>\n",
       "    <tr>\n",
       "      <th>3</th>\n",
       "      <td>AFQLNQNQYFWQZPJQZS6V3NZU4QBQ</td>\n",
       "      <td>B09JS339BZ</td>\n",
       "      <td>1.0</td>\n",
       "    </tr>\n",
       "    <tr>\n",
       "      <th>4</th>\n",
       "      <td>AFQLNQNQYFWQZPJQZS6V3NZU4QBQ</td>\n",
       "      <td>B08BZ63GMJ</td>\n",
       "      <td>5.0</td>\n",
       "    </tr>\n",
       "  </tbody>\n",
       "</table>\n",
       "</div>"
      ],
      "text/plain": [
       "                        user_id parent_asin  rating\n",
       "0  AGKHLEW2SOWHNMFQIJGBECAF7INQ  B00YQ6X8EO     5.0\n",
       "1  AGKHLEW2SOWHNMFQIJGBECAF7INQ  B081TJ8YS3     4.0\n",
       "2  AE74DYR3QUGVPZJ3P7RFWBGIX7XQ  B097R46CSY     5.0\n",
       "3  AFQLNQNQYFWQZPJQZS6V3NZU4QBQ  B09JS339BZ     1.0\n",
       "4  AFQLNQNQYFWQZPJQZS6V3NZU4QBQ  B08BZ63GMJ     5.0"
      ]
     },
     "metadata": {},
     "output_type": "display_data"
    },
    {
     "name": "stdout",
     "output_type": "stream",
     "text": [
      "user_id         object\n",
      "parent_asin     object\n",
      "rating         float64\n",
      "dtype: object\n"
     ]
    }
   ],
   "source": [
    "df = pd.read_csv('ratings.csv')\n",
    "\n",
    "display(df.head())\n",
    "\n",
    "print(df.dtypes)"
   ]
  },
  {
   "cell_type": "code",
   "execution_count": null,
   "metadata": {},
   "outputs": [
    {
     "name": "stderr",
     "output_type": "stream",
     "text": [
      "\u001b[34m\u001b[1mwandb\u001b[0m: Using wandb-core as the SDK backend.  Please refer to https://wandb.me/wandb-core for more information.\n",
      "\u001b[34m\u001b[1mwandb\u001b[0m: Currently logged in as: \u001b[33mjackjack170827\u001b[0m (\u001b[33mjackjack170827-uc-san-diego\u001b[0m). Use \u001b[1m`wandb login --relogin`\u001b[0m to force relogin\n"
     ]
    },
    {
     "data": {
      "text/html": [
       "Tracking run with wandb version 0.18.7"
      ],
      "text/plain": [
       "<IPython.core.display.HTML object>"
      ]
     },
     "metadata": {},
     "output_type": "display_data"
    },
    {
     "data": {
      "text/html": [
       "Run data is saved locally in <code>/Users/julie/cse158-project/wandb/run-20241202_234755-9g2n9a99</code>"
      ],
      "text/plain": [
       "<IPython.core.display.HTML object>"
      ]
     },
     "metadata": {},
     "output_type": "display_data"
    },
    {
     "data": {
      "text/html": [
       "Syncing run <strong><a href='https://wandb.ai/jackjack170827-uc-san-diego/cse158-project-rating/runs/9g2n9a99' target=\"_blank\">SVD_f50_lr0.001_reg0.02_ep20</a></strong> to <a href='https://wandb.ai/jackjack170827-uc-san-diego/cse158-project-rating' target=\"_blank\">Weights & Biases</a> (<a href='https://wandb.me/developer-guide' target=\"_blank\">docs</a>)<br/>"
      ],
      "text/plain": [
       "<IPython.core.display.HTML object>"
      ]
     },
     "metadata": {},
     "output_type": "display_data"
    },
    {
     "data": {
      "text/html": [
       " View project at <a href='https://wandb.ai/jackjack170827-uc-san-diego/cse158-project-rating' target=\"_blank\">https://wandb.ai/jackjack170827-uc-san-diego/cse158-project-rating</a>"
      ],
      "text/plain": [
       "<IPython.core.display.HTML object>"
      ]
     },
     "metadata": {},
     "output_type": "display_data"
    },
    {
     "data": {
      "text/html": [
       " View run at <a href='https://wandb.ai/jackjack170827-uc-san-diego/cse158-project-rating/runs/9g2n9a99' target=\"_blank\">https://wandb.ai/jackjack170827-uc-san-diego/cse158-project-rating/runs/9g2n9a99</a>"
      ],
      "text/plain": [
       "<IPython.core.display.HTML object>"
      ]
     },
     "metadata": {},
     "output_type": "display_data"
    },
    {
     "data": {
      "application/vnd.jupyter.widget-view+json": {
       "model_id": "4dae9a72a4914976b455efb4290117e9",
       "version_major": 2,
       "version_minor": 0
      },
      "text/plain": [
       "VBox(children=(Label(value='0.007 MB of 0.007 MB uploaded\\r'), FloatProgress(value=1.0, max=1.0)))"
      ]
     },
     "metadata": {},
     "output_type": "display_data"
    },
    {
     "data": {
      "text/html": [
       "\n",
       "    <style>\n",
       "        .wandb-row {\n",
       "            display: flex;\n",
       "            flex-direction: row;\n",
       "            flex-wrap: wrap;\n",
       "            justify-content: flex-start;\n",
       "            width: 100%;\n",
       "        }\n",
       "        .wandb-col {\n",
       "            display: flex;\n",
       "            flex-direction: column;\n",
       "            flex-basis: 100%;\n",
       "            flex: 1;\n",
       "            padding: 10px;\n",
       "        }\n",
       "    </style>\n",
       "<div class=\"wandb-row\"><div class=\"wandb-col\"><h3>Run history:</h3><br/><table class=\"wandb\"><tr><td>avg_val_MAE</td><td>▁</td></tr><tr><td>avg_val_MSE</td><td>▁</td></tr><tr><td>avg_val_RMSE</td><td>▁</td></tr><tr><td>fold_val_MAE</td><td>▆▁▆▂█</td></tr><tr><td>fold_val_MSE</td><td>▇▁▇▄█</td></tr><tr><td>fold_val_RMSE</td><td>▇▁▇▄█</td></tr></table><br/></div><div class=\"wandb-col\"><h3>Run summary:</h3><br/><table class=\"wandb\"><tr><td>avg_val_MAE</td><td>1.19461</td></tr><tr><td>avg_val_MSE</td><td>2.07876</td></tr><tr><td>avg_val_RMSE</td><td>1.44179</td></tr><tr><td>fold_val_MAE</td><td>1.19686</td></tr><tr><td>fold_val_MSE</td><td>2.08649</td></tr><tr><td>fold_val_RMSE</td><td>1.44447</td></tr></table><br/></div></div>"
      ],
      "text/plain": [
       "<IPython.core.display.HTML object>"
      ]
     },
     "metadata": {},
     "output_type": "display_data"
    },
    {
     "data": {
      "text/html": [
       " View run <strong style=\"color:#cdcd00\">SVD_f50_lr0.001_reg0.02_ep20</strong> at: <a href='https://wandb.ai/jackjack170827-uc-san-diego/cse158-project-rating/runs/9g2n9a99' target=\"_blank\">https://wandb.ai/jackjack170827-uc-san-diego/cse158-project-rating/runs/9g2n9a99</a><br/> View project at: <a href='https://wandb.ai/jackjack170827-uc-san-diego/cse158-project-rating' target=\"_blank\">https://wandb.ai/jackjack170827-uc-san-diego/cse158-project-rating</a><br/>Synced 4 W&B file(s), 0 media file(s), 3 artifact file(s) and 0 other file(s)"
      ],
      "text/plain": [
       "<IPython.core.display.HTML object>"
      ]
     },
     "metadata": {},
     "output_type": "display_data"
    },
    {
     "data": {
      "text/html": [
       "Find logs at: <code>./wandb/run-20241202_234755-9g2n9a99/logs</code>"
      ],
      "text/plain": [
       "<IPython.core.display.HTML object>"
      ]
     },
     "metadata": {},
     "output_type": "display_data"
    },
    {
     "data": {
      "text/html": [
       "Tracking run with wandb version 0.18.7"
      ],
      "text/plain": [
       "<IPython.core.display.HTML object>"
      ]
     },
     "metadata": {},
     "output_type": "display_data"
    },
    {
     "data": {
      "text/html": [
       "Run data is saved locally in <code>/Users/julie/cse158-project/wandb/run-20241202_234828-bpnjv4pu</code>"
      ],
      "text/plain": [
       "<IPython.core.display.HTML object>"
      ]
     },
     "metadata": {},
     "output_type": "display_data"
    },
    {
     "data": {
      "text/html": [
       "Syncing run <strong><a href='https://wandb.ai/jackjack170827-uc-san-diego/cse158-project-rating/runs/bpnjv4pu' target=\"_blank\">SVD_f50_lr0.001_reg0.02_ep50</a></strong> to <a href='https://wandb.ai/jackjack170827-uc-san-diego/cse158-project-rating' target=\"_blank\">Weights & Biases</a> (<a href='https://wandb.me/developer-guide' target=\"_blank\">docs</a>)<br/>"
      ],
      "text/plain": [
       "<IPython.core.display.HTML object>"
      ]
     },
     "metadata": {},
     "output_type": "display_data"
    },
    {
     "data": {
      "text/html": [
       " View project at <a href='https://wandb.ai/jackjack170827-uc-san-diego/cse158-project-rating' target=\"_blank\">https://wandb.ai/jackjack170827-uc-san-diego/cse158-project-rating</a>"
      ],
      "text/plain": [
       "<IPython.core.display.HTML object>"
      ]
     },
     "metadata": {},
     "output_type": "display_data"
    },
    {
     "data": {
      "text/html": [
       " View run at <a href='https://wandb.ai/jackjack170827-uc-san-diego/cse158-project-rating/runs/bpnjv4pu' target=\"_blank\">https://wandb.ai/jackjack170827-uc-san-diego/cse158-project-rating/runs/bpnjv4pu</a>"
      ],
      "text/plain": [
       "<IPython.core.display.HTML object>"
      ]
     },
     "metadata": {},
     "output_type": "display_data"
    },
    {
     "data": {
      "text/html": [
       "\n",
       "    <style>\n",
       "        .wandb-row {\n",
       "            display: flex;\n",
       "            flex-direction: row;\n",
       "            flex-wrap: wrap;\n",
       "            justify-content: flex-start;\n",
       "            width: 100%;\n",
       "        }\n",
       "        .wandb-col {\n",
       "            display: flex;\n",
       "            flex-direction: column;\n",
       "            flex-basis: 100%;\n",
       "            flex: 1;\n",
       "            padding: 10px;\n",
       "        }\n",
       "    </style>\n",
       "<div class=\"wandb-row\"><div class=\"wandb-col\"><h3>Run history:</h3><br/><table class=\"wandb\"><tr><td>avg_val_MAE</td><td>▁</td></tr><tr><td>avg_val_MSE</td><td>▁</td></tr><tr><td>avg_val_RMSE</td><td>▁</td></tr><tr><td>fold_val_MAE</td><td>▃█▆▁▅</td></tr><tr><td>fold_val_MSE</td><td>▄█▆▁▅</td></tr><tr><td>fold_val_RMSE</td><td>▄█▆▁▅</td></tr></table><br/></div><div class=\"wandb-col\"><h3>Run summary:</h3><br/><table class=\"wandb\"><tr><td>avg_val_MAE</td><td>1.17199</td></tr><tr><td>avg_val_MSE</td><td>2.02875</td></tr><tr><td>avg_val_RMSE</td><td>1.42434</td></tr><tr><td>fold_val_MAE</td><td>1.17223</td></tr><tr><td>fold_val_MSE</td><td>2.03022</td></tr><tr><td>fold_val_RMSE</td><td>1.42486</td></tr></table><br/></div></div>"
      ],
      "text/plain": [
       "<IPython.core.display.HTML object>"
      ]
     },
     "metadata": {},
     "output_type": "display_data"
    },
    {
     "data": {
      "text/html": [
       " View run <strong style=\"color:#cdcd00\">SVD_f50_lr0.001_reg0.02_ep50</strong> at: <a href='https://wandb.ai/jackjack170827-uc-san-diego/cse158-project-rating/runs/bpnjv4pu' target=\"_blank\">https://wandb.ai/jackjack170827-uc-san-diego/cse158-project-rating/runs/bpnjv4pu</a><br/> View project at: <a href='https://wandb.ai/jackjack170827-uc-san-diego/cse158-project-rating' target=\"_blank\">https://wandb.ai/jackjack170827-uc-san-diego/cse158-project-rating</a><br/>Synced 5 W&B file(s), 0 media file(s), 0 artifact file(s) and 0 other file(s)"
      ],
      "text/plain": [
       "<IPython.core.display.HTML object>"
      ]
     },
     "metadata": {},
     "output_type": "display_data"
    },
    {
     "data": {
      "text/html": [
       "Find logs at: <code>./wandb/run-20241202_234828-bpnjv4pu/logs</code>"
      ],
      "text/plain": [
       "<IPython.core.display.HTML object>"
      ]
     },
     "metadata": {},
     "output_type": "display_data"
    },
    {
     "data": {
      "text/html": [
       "Tracking run with wandb version 0.18.7"
      ],
      "text/plain": [
       "<IPython.core.display.HTML object>"
      ]
     },
     "metadata": {},
     "output_type": "display_data"
    },
    {
     "data": {
      "text/html": [
       "Run data is saved locally in <code>/Users/julie/cse158-project/wandb/run-20241202_234919-vwyh4y4j</code>"
      ],
      "text/plain": [
       "<IPython.core.display.HTML object>"
      ]
     },
     "metadata": {},
     "output_type": "display_data"
    },
    {
     "data": {
      "text/html": [
       "Syncing run <strong><a href='https://wandb.ai/jackjack170827-uc-san-diego/cse158-project-rating/runs/vwyh4y4j' target=\"_blank\">SVD_f50_lr0.001_reg0.02_ep100</a></strong> to <a href='https://wandb.ai/jackjack170827-uc-san-diego/cse158-project-rating' target=\"_blank\">Weights & Biases</a> (<a href='https://wandb.me/developer-guide' target=\"_blank\">docs</a>)<br/>"
      ],
      "text/plain": [
       "<IPython.core.display.HTML object>"
      ]
     },
     "metadata": {},
     "output_type": "display_data"
    },
    {
     "data": {
      "text/html": [
       " View project at <a href='https://wandb.ai/jackjack170827-uc-san-diego/cse158-project-rating' target=\"_blank\">https://wandb.ai/jackjack170827-uc-san-diego/cse158-project-rating</a>"
      ],
      "text/plain": [
       "<IPython.core.display.HTML object>"
      ]
     },
     "metadata": {},
     "output_type": "display_data"
    },
    {
     "data": {
      "text/html": [
       " View run at <a href='https://wandb.ai/jackjack170827-uc-san-diego/cse158-project-rating/runs/vwyh4y4j' target=\"_blank\">https://wandb.ai/jackjack170827-uc-san-diego/cse158-project-rating/runs/vwyh4y4j</a>"
      ],
      "text/plain": [
       "<IPython.core.display.HTML object>"
      ]
     },
     "metadata": {},
     "output_type": "display_data"
    },
    {
     "data": {
      "text/html": [
       "\n",
       "    <style>\n",
       "        .wandb-row {\n",
       "            display: flex;\n",
       "            flex-direction: row;\n",
       "            flex-wrap: wrap;\n",
       "            justify-content: flex-start;\n",
       "            width: 100%;\n",
       "        }\n",
       "        .wandb-col {\n",
       "            display: flex;\n",
       "            flex-direction: column;\n",
       "            flex-basis: 100%;\n",
       "            flex: 1;\n",
       "            padding: 10px;\n",
       "        }\n",
       "    </style>\n",
       "<div class=\"wandb-row\"><div class=\"wandb-col\"><h3>Run history:</h3><br/><table class=\"wandb\"><tr><td>avg_val_MAE</td><td>▁</td></tr><tr><td>avg_val_MSE</td><td>▁</td></tr><tr><td>avg_val_RMSE</td><td>▁</td></tr><tr><td>fold_val_MAE</td><td>▆▅▁▃█</td></tr><tr><td>fold_val_MSE</td><td>▆▆▁▃█</td></tr><tr><td>fold_val_RMSE</td><td>▆▆▁▃█</td></tr></table><br/></div><div class=\"wandb-col\"><h3>Run summary:</h3><br/><table class=\"wandb\"><tr><td>avg_val_MAE</td><td>1.1553</td></tr><tr><td>avg_val_MSE</td><td>1.99842</td></tr><tr><td>avg_val_RMSE</td><td>1.41365</td></tr><tr><td>fold_val_MAE</td><td>1.15727</td></tr><tr><td>fold_val_MSE</td><td>2.00679</td></tr><tr><td>fold_val_RMSE</td><td>1.41661</td></tr></table><br/></div></div>"
      ],
      "text/plain": [
       "<IPython.core.display.HTML object>"
      ]
     },
     "metadata": {},
     "output_type": "display_data"
    },
    {
     "data": {
      "text/html": [
       " View run <strong style=\"color:#cdcd00\">SVD_f50_lr0.001_reg0.02_ep100</strong> at: <a href='https://wandb.ai/jackjack170827-uc-san-diego/cse158-project-rating/runs/vwyh4y4j' target=\"_blank\">https://wandb.ai/jackjack170827-uc-san-diego/cse158-project-rating/runs/vwyh4y4j</a><br/> View project at: <a href='https://wandb.ai/jackjack170827-uc-san-diego/cse158-project-rating' target=\"_blank\">https://wandb.ai/jackjack170827-uc-san-diego/cse158-project-rating</a><br/>Synced 5 W&B file(s), 0 media file(s), 0 artifact file(s) and 0 other file(s)"
      ],
      "text/plain": [
       "<IPython.core.display.HTML object>"
      ]
     },
     "metadata": {},
     "output_type": "display_data"
    },
    {
     "data": {
      "text/html": [
       "Find logs at: <code>./wandb/run-20241202_234919-vwyh4y4j/logs</code>"
      ],
      "text/plain": [
       "<IPython.core.display.HTML object>"
      ]
     },
     "metadata": {},
     "output_type": "display_data"
    },
    {
     "data": {
      "text/html": [
       "Tracking run with wandb version 0.18.7"
      ],
      "text/plain": [
       "<IPython.core.display.HTML object>"
      ]
     },
     "metadata": {},
     "output_type": "display_data"
    },
    {
     "data": {
      "text/html": [
       "Run data is saved locally in <code>/Users/julie/cse158-project/wandb/run-20241202_235052-dthfndes</code>"
      ],
      "text/plain": [
       "<IPython.core.display.HTML object>"
      ]
     },
     "metadata": {},
     "output_type": "display_data"
    },
    {
     "data": {
      "text/html": [
       "Syncing run <strong><a href='https://wandb.ai/jackjack170827-uc-san-diego/cse158-project-rating/runs/dthfndes' target=\"_blank\">SVD_f50_lr0.001_reg0.02_ep200</a></strong> to <a href='https://wandb.ai/jackjack170827-uc-san-diego/cse158-project-rating' target=\"_blank\">Weights & Biases</a> (<a href='https://wandb.me/developer-guide' target=\"_blank\">docs</a>)<br/>"
      ],
      "text/plain": [
       "<IPython.core.display.HTML object>"
      ]
     },
     "metadata": {},
     "output_type": "display_data"
    },
    {
     "data": {
      "text/html": [
       " View project at <a href='https://wandb.ai/jackjack170827-uc-san-diego/cse158-project-rating' target=\"_blank\">https://wandb.ai/jackjack170827-uc-san-diego/cse158-project-rating</a>"
      ],
      "text/plain": [
       "<IPython.core.display.HTML object>"
      ]
     },
     "metadata": {},
     "output_type": "display_data"
    },
    {
     "data": {
      "text/html": [
       " View run at <a href='https://wandb.ai/jackjack170827-uc-san-diego/cse158-project-rating/runs/dthfndes' target=\"_blank\">https://wandb.ai/jackjack170827-uc-san-diego/cse158-project-rating/runs/dthfndes</a>"
      ],
      "text/plain": [
       "<IPython.core.display.HTML object>"
      ]
     },
     "metadata": {},
     "output_type": "display_data"
    },
    {
     "data": {
      "text/html": [
       "\n",
       "    <style>\n",
       "        .wandb-row {\n",
       "            display: flex;\n",
       "            flex-direction: row;\n",
       "            flex-wrap: wrap;\n",
       "            justify-content: flex-start;\n",
       "            width: 100%;\n",
       "        }\n",
       "        .wandb-col {\n",
       "            display: flex;\n",
       "            flex-direction: column;\n",
       "            flex-basis: 100%;\n",
       "            flex: 1;\n",
       "            padding: 10px;\n",
       "        }\n",
       "    </style>\n",
       "<div class=\"wandb-row\"><div class=\"wandb-col\"><h3>Run history:</h3><br/><table class=\"wandb\"><tr><td>avg_val_MAE</td><td>▁</td></tr><tr><td>avg_val_MSE</td><td>▁</td></tr><tr><td>avg_val_RMSE</td><td>▁</td></tr><tr><td>fold_val_MAE</td><td>▃▄▁█▅</td></tr><tr><td>fold_val_MSE</td><td>▂▂▁█▄</td></tr><tr><td>fold_val_RMSE</td><td>▂▂▁█▄</td></tr></table><br/></div><div class=\"wandb-col\"><h3>Run summary:</h3><br/><table class=\"wandb\"><tr><td>avg_val_MAE</td><td>1.14102</td></tr><tr><td>avg_val_MSE</td><td>1.98101</td></tr><tr><td>avg_val_RMSE</td><td>1.40748</td></tr><tr><td>fold_val_MAE</td><td>1.14156</td></tr><tr><td>fold_val_MSE</td><td>1.98245</td></tr><tr><td>fold_val_RMSE</td><td>1.408</td></tr></table><br/></div></div>"
      ],
      "text/plain": [
       "<IPython.core.display.HTML object>"
      ]
     },
     "metadata": {},
     "output_type": "display_data"
    },
    {
     "data": {
      "text/html": [
       " View run <strong style=\"color:#cdcd00\">SVD_f50_lr0.001_reg0.02_ep200</strong> at: <a href='https://wandb.ai/jackjack170827-uc-san-diego/cse158-project-rating/runs/dthfndes' target=\"_blank\">https://wandb.ai/jackjack170827-uc-san-diego/cse158-project-rating/runs/dthfndes</a><br/> View project at: <a href='https://wandb.ai/jackjack170827-uc-san-diego/cse158-project-rating' target=\"_blank\">https://wandb.ai/jackjack170827-uc-san-diego/cse158-project-rating</a><br/>Synced 5 W&B file(s), 0 media file(s), 0 artifact file(s) and 0 other file(s)"
      ],
      "text/plain": [
       "<IPython.core.display.HTML object>"
      ]
     },
     "metadata": {},
     "output_type": "display_data"
    },
    {
     "data": {
      "text/html": [
       "Find logs at: <code>./wandb/run-20241202_235052-dthfndes/logs</code>"
      ],
      "text/plain": [
       "<IPython.core.display.HTML object>"
      ]
     },
     "metadata": {},
     "output_type": "display_data"
    },
    {
     "data": {
      "text/html": [
       "Tracking run with wandb version 0.18.7"
      ],
      "text/plain": [
       "<IPython.core.display.HTML object>"
      ]
     },
     "metadata": {},
     "output_type": "display_data"
    },
    {
     "data": {
      "text/html": [
       "Run data is saved locally in <code>/Users/julie/cse158-project/wandb/run-20241202_235400-katlowve</code>"
      ],
      "text/plain": [
       "<IPython.core.display.HTML object>"
      ]
     },
     "metadata": {},
     "output_type": "display_data"
    },
    {
     "data": {
      "text/html": [
       "Syncing run <strong><a href='https://wandb.ai/jackjack170827-uc-san-diego/cse158-project-rating/runs/katlowve' target=\"_blank\">SVD_f50_lr0.001_reg0.05_ep20</a></strong> to <a href='https://wandb.ai/jackjack170827-uc-san-diego/cse158-project-rating' target=\"_blank\">Weights & Biases</a> (<a href='https://wandb.me/developer-guide' target=\"_blank\">docs</a>)<br/>"
      ],
      "text/plain": [
       "<IPython.core.display.HTML object>"
      ]
     },
     "metadata": {},
     "output_type": "display_data"
    },
    {
     "data": {
      "text/html": [
       " View project at <a href='https://wandb.ai/jackjack170827-uc-san-diego/cse158-project-rating' target=\"_blank\">https://wandb.ai/jackjack170827-uc-san-diego/cse158-project-rating</a>"
      ],
      "text/plain": [
       "<IPython.core.display.HTML object>"
      ]
     },
     "metadata": {},
     "output_type": "display_data"
    },
    {
     "data": {
      "text/html": [
       " View run at <a href='https://wandb.ai/jackjack170827-uc-san-diego/cse158-project-rating/runs/katlowve' target=\"_blank\">https://wandb.ai/jackjack170827-uc-san-diego/cse158-project-rating/runs/katlowve</a>"
      ],
      "text/plain": [
       "<IPython.core.display.HTML object>"
      ]
     },
     "metadata": {},
     "output_type": "display_data"
    },
    {
     "data": {
      "text/html": [
       "\n",
       "    <style>\n",
       "        .wandb-row {\n",
       "            display: flex;\n",
       "            flex-direction: row;\n",
       "            flex-wrap: wrap;\n",
       "            justify-content: flex-start;\n",
       "            width: 100%;\n",
       "        }\n",
       "        .wandb-col {\n",
       "            display: flex;\n",
       "            flex-direction: column;\n",
       "            flex-basis: 100%;\n",
       "            flex: 1;\n",
       "            padding: 10px;\n",
       "        }\n",
       "    </style>\n",
       "<div class=\"wandb-row\"><div class=\"wandb-col\"><h3>Run history:</h3><br/><table class=\"wandb\"><tr><td>avg_val_MAE</td><td>▁</td></tr><tr><td>avg_val_MSE</td><td>▁</td></tr><tr><td>avg_val_RMSE</td><td>▁</td></tr><tr><td>fold_val_MAE</td><td>▃█▆█▁</td></tr><tr><td>fold_val_MSE</td><td>▁█▄▇▁</td></tr><tr><td>fold_val_RMSE</td><td>▁█▄▇▁</td></tr></table><br/></div><div class=\"wandb-col\"><h3>Run summary:</h3><br/><table class=\"wandb\"><tr><td>avg_val_MAE</td><td>1.19534</td></tr><tr><td>avg_val_MSE</td><td>2.0785</td></tr><tr><td>avg_val_RMSE</td><td>1.4417</td></tr><tr><td>fold_val_MAE</td><td>1.19346</td></tr><tr><td>fold_val_MSE</td><td>2.07225</td></tr><tr><td>fold_val_RMSE</td><td>1.43953</td></tr></table><br/></div></div>"
      ],
      "text/plain": [
       "<IPython.core.display.HTML object>"
      ]
     },
     "metadata": {},
     "output_type": "display_data"
    },
    {
     "data": {
      "text/html": [
       " View run <strong style=\"color:#cdcd00\">SVD_f50_lr0.001_reg0.05_ep20</strong> at: <a href='https://wandb.ai/jackjack170827-uc-san-diego/cse158-project-rating/runs/katlowve' target=\"_blank\">https://wandb.ai/jackjack170827-uc-san-diego/cse158-project-rating/runs/katlowve</a><br/> View project at: <a href='https://wandb.ai/jackjack170827-uc-san-diego/cse158-project-rating' target=\"_blank\">https://wandb.ai/jackjack170827-uc-san-diego/cse158-project-rating</a><br/>Synced 5 W&B file(s), 0 media file(s), 0 artifact file(s) and 0 other file(s)"
      ],
      "text/plain": [
       "<IPython.core.display.HTML object>"
      ]
     },
     "metadata": {},
     "output_type": "display_data"
    },
    {
     "data": {
      "text/html": [
       "Find logs at: <code>./wandb/run-20241202_235400-katlowve/logs</code>"
      ],
      "text/plain": [
       "<IPython.core.display.HTML object>"
      ]
     },
     "metadata": {},
     "output_type": "display_data"
    },
    {
     "data": {
      "text/html": [
       "Tracking run with wandb version 0.18.7"
      ],
      "text/plain": [
       "<IPython.core.display.HTML object>"
      ]
     },
     "metadata": {},
     "output_type": "display_data"
    },
    {
     "data": {
      "text/html": [
       "Run data is saved locally in <code>/Users/julie/cse158-project/wandb/run-20241202_235430-46chifhf</code>"
      ],
      "text/plain": [
       "<IPython.core.display.HTML object>"
      ]
     },
     "metadata": {},
     "output_type": "display_data"
    },
    {
     "data": {
      "text/html": [
       "Syncing run <strong><a href='https://wandb.ai/jackjack170827-uc-san-diego/cse158-project-rating/runs/46chifhf' target=\"_blank\">SVD_f50_lr0.001_reg0.05_ep50</a></strong> to <a href='https://wandb.ai/jackjack170827-uc-san-diego/cse158-project-rating' target=\"_blank\">Weights & Biases</a> (<a href='https://wandb.me/developer-guide' target=\"_blank\">docs</a>)<br/>"
      ],
      "text/plain": [
       "<IPython.core.display.HTML object>"
      ]
     },
     "metadata": {},
     "output_type": "display_data"
    },
    {
     "data": {
      "text/html": [
       " View project at <a href='https://wandb.ai/jackjack170827-uc-san-diego/cse158-project-rating' target=\"_blank\">https://wandb.ai/jackjack170827-uc-san-diego/cse158-project-rating</a>"
      ],
      "text/plain": [
       "<IPython.core.display.HTML object>"
      ]
     },
     "metadata": {},
     "output_type": "display_data"
    },
    {
     "data": {
      "text/html": [
       " View run at <a href='https://wandb.ai/jackjack170827-uc-san-diego/cse158-project-rating/runs/46chifhf' target=\"_blank\">https://wandb.ai/jackjack170827-uc-san-diego/cse158-project-rating/runs/46chifhf</a>"
      ],
      "text/plain": [
       "<IPython.core.display.HTML object>"
      ]
     },
     "metadata": {},
     "output_type": "display_data"
    },
    {
     "data": {
      "text/html": [
       "\n",
       "    <style>\n",
       "        .wandb-row {\n",
       "            display: flex;\n",
       "            flex-direction: row;\n",
       "            flex-wrap: wrap;\n",
       "            justify-content: flex-start;\n",
       "            width: 100%;\n",
       "        }\n",
       "        .wandb-col {\n",
       "            display: flex;\n",
       "            flex-direction: column;\n",
       "            flex-basis: 100%;\n",
       "            flex: 1;\n",
       "            padding: 10px;\n",
       "        }\n",
       "    </style>\n",
       "<div class=\"wandb-row\"><div class=\"wandb-col\"><h3>Run history:</h3><br/><table class=\"wandb\"><tr><td>avg_val_MAE</td><td>▁</td></tr><tr><td>avg_val_MSE</td><td>▁</td></tr><tr><td>avg_val_RMSE</td><td>▁</td></tr><tr><td>fold_val_MAE</td><td>▅▁█▇▁</td></tr><tr><td>fold_val_MSE</td><td>▆▃█▇▁</td></tr><tr><td>fold_val_RMSE</td><td>▆▃█▇▁</td></tr></table><br/></div><div class=\"wandb-col\"><h3>Run summary:</h3><br/><table class=\"wandb\"><tr><td>avg_val_MAE</td><td>1.17309</td></tr><tr><td>avg_val_MSE</td><td>2.02789</td></tr><tr><td>avg_val_RMSE</td><td>1.42403</td></tr><tr><td>fold_val_MAE</td><td>1.16996</td></tr><tr><td>fold_val_MSE</td><td>2.01257</td></tr><tr><td>fold_val_RMSE</td><td>1.41865</td></tr></table><br/></div></div>"
      ],
      "text/plain": [
       "<IPython.core.display.HTML object>"
      ]
     },
     "metadata": {},
     "output_type": "display_data"
    },
    {
     "data": {
      "text/html": [
       " View run <strong style=\"color:#cdcd00\">SVD_f50_lr0.001_reg0.05_ep50</strong> at: <a href='https://wandb.ai/jackjack170827-uc-san-diego/cse158-project-rating/runs/46chifhf' target=\"_blank\">https://wandb.ai/jackjack170827-uc-san-diego/cse158-project-rating/runs/46chifhf</a><br/> View project at: <a href='https://wandb.ai/jackjack170827-uc-san-diego/cse158-project-rating' target=\"_blank\">https://wandb.ai/jackjack170827-uc-san-diego/cse158-project-rating</a><br/>Synced 5 W&B file(s), 0 media file(s), 0 artifact file(s) and 0 other file(s)"
      ],
      "text/plain": [
       "<IPython.core.display.HTML object>"
      ]
     },
     "metadata": {},
     "output_type": "display_data"
    },
    {
     "data": {
      "text/html": [
       "Find logs at: <code>./wandb/run-20241202_235430-46chifhf/logs</code>"
      ],
      "text/plain": [
       "<IPython.core.display.HTML object>"
      ]
     },
     "metadata": {},
     "output_type": "display_data"
    },
    {
     "data": {
      "text/html": [
       "Tracking run with wandb version 0.18.7"
      ],
      "text/plain": [
       "<IPython.core.display.HTML object>"
      ]
     },
     "metadata": {},
     "output_type": "display_data"
    },
    {
     "data": {
      "text/html": [
       "Run data is saved locally in <code>/Users/julie/cse158-project/wandb/run-20241202_235524-14niko65</code>"
      ],
      "text/plain": [
       "<IPython.core.display.HTML object>"
      ]
     },
     "metadata": {},
     "output_type": "display_data"
    },
    {
     "data": {
      "text/html": [
       "Syncing run <strong><a href='https://wandb.ai/jackjack170827-uc-san-diego/cse158-project-rating/runs/14niko65' target=\"_blank\">SVD_f50_lr0.001_reg0.05_ep100</a></strong> to <a href='https://wandb.ai/jackjack170827-uc-san-diego/cse158-project-rating' target=\"_blank\">Weights & Biases</a> (<a href='https://wandb.me/developer-guide' target=\"_blank\">docs</a>)<br/>"
      ],
      "text/plain": [
       "<IPython.core.display.HTML object>"
      ]
     },
     "metadata": {},
     "output_type": "display_data"
    },
    {
     "data": {
      "text/html": [
       " View project at <a href='https://wandb.ai/jackjack170827-uc-san-diego/cse158-project-rating' target=\"_blank\">https://wandb.ai/jackjack170827-uc-san-diego/cse158-project-rating</a>"
      ],
      "text/plain": [
       "<IPython.core.display.HTML object>"
      ]
     },
     "metadata": {},
     "output_type": "display_data"
    },
    {
     "data": {
      "text/html": [
       " View run at <a href='https://wandb.ai/jackjack170827-uc-san-diego/cse158-project-rating/runs/14niko65' target=\"_blank\">https://wandb.ai/jackjack170827-uc-san-diego/cse158-project-rating/runs/14niko65</a>"
      ],
      "text/plain": [
       "<IPython.core.display.HTML object>"
      ]
     },
     "metadata": {},
     "output_type": "display_data"
    },
    {
     "data": {
      "text/html": [
       "\n",
       "    <style>\n",
       "        .wandb-row {\n",
       "            display: flex;\n",
       "            flex-direction: row;\n",
       "            flex-wrap: wrap;\n",
       "            justify-content: flex-start;\n",
       "            width: 100%;\n",
       "        }\n",
       "        .wandb-col {\n",
       "            display: flex;\n",
       "            flex-direction: column;\n",
       "            flex-basis: 100%;\n",
       "            flex: 1;\n",
       "            padding: 10px;\n",
       "        }\n",
       "    </style>\n",
       "<div class=\"wandb-row\"><div class=\"wandb-col\"><h3>Run history:</h3><br/><table class=\"wandb\"><tr><td>avg_val_MAE</td><td>▁</td></tr><tr><td>avg_val_MSE</td><td>▁</td></tr><tr><td>avg_val_RMSE</td><td>▁</td></tr><tr><td>fold_val_MAE</td><td>▇▅▁▄█</td></tr><tr><td>fold_val_MSE</td><td>█▄▁▄▇</td></tr><tr><td>fold_val_RMSE</td><td>█▄▁▄▇</td></tr></table><br/></div><div class=\"wandb-col\"><h3>Run summary:</h3><br/><table class=\"wandb\"><tr><td>avg_val_MAE</td><td>1.15702</td></tr><tr><td>avg_val_MSE</td><td>1.99779</td></tr><tr><td>avg_val_RMSE</td><td>1.41343</td></tr><tr><td>fold_val_MAE</td><td>1.15964</td></tr><tr><td>fold_val_MSE</td><td>2.00498</td></tr><tr><td>fold_val_RMSE</td><td>1.41597</td></tr></table><br/></div></div>"
      ],
      "text/plain": [
       "<IPython.core.display.HTML object>"
      ]
     },
     "metadata": {},
     "output_type": "display_data"
    },
    {
     "data": {
      "text/html": [
       " View run <strong style=\"color:#cdcd00\">SVD_f50_lr0.001_reg0.05_ep100</strong> at: <a href='https://wandb.ai/jackjack170827-uc-san-diego/cse158-project-rating/runs/14niko65' target=\"_blank\">https://wandb.ai/jackjack170827-uc-san-diego/cse158-project-rating/runs/14niko65</a><br/> View project at: <a href='https://wandb.ai/jackjack170827-uc-san-diego/cse158-project-rating' target=\"_blank\">https://wandb.ai/jackjack170827-uc-san-diego/cse158-project-rating</a><br/>Synced 5 W&B file(s), 0 media file(s), 0 artifact file(s) and 0 other file(s)"
      ],
      "text/plain": [
       "<IPython.core.display.HTML object>"
      ]
     },
     "metadata": {},
     "output_type": "display_data"
    },
    {
     "data": {
      "text/html": [
       "Find logs at: <code>./wandb/run-20241202_235524-14niko65/logs</code>"
      ],
      "text/plain": [
       "<IPython.core.display.HTML object>"
      ]
     },
     "metadata": {},
     "output_type": "display_data"
    },
    {
     "data": {
      "text/html": [
       "Tracking run with wandb version 0.18.7"
      ],
      "text/plain": [
       "<IPython.core.display.HTML object>"
      ]
     },
     "metadata": {},
     "output_type": "display_data"
    },
    {
     "data": {
      "text/html": [
       "Run data is saved locally in <code>/Users/julie/cse158-project/wandb/run-20241202_235657-va746fpl</code>"
      ],
      "text/plain": [
       "<IPython.core.display.HTML object>"
      ]
     },
     "metadata": {},
     "output_type": "display_data"
    },
    {
     "data": {
      "text/html": [
       "Syncing run <strong><a href='https://wandb.ai/jackjack170827-uc-san-diego/cse158-project-rating/runs/va746fpl' target=\"_blank\">SVD_f50_lr0.001_reg0.05_ep200</a></strong> to <a href='https://wandb.ai/jackjack170827-uc-san-diego/cse158-project-rating' target=\"_blank\">Weights & Biases</a> (<a href='https://wandb.me/developer-guide' target=\"_blank\">docs</a>)<br/>"
      ],
      "text/plain": [
       "<IPython.core.display.HTML object>"
      ]
     },
     "metadata": {},
     "output_type": "display_data"
    },
    {
     "data": {
      "text/html": [
       " View project at <a href='https://wandb.ai/jackjack170827-uc-san-diego/cse158-project-rating' target=\"_blank\">https://wandb.ai/jackjack170827-uc-san-diego/cse158-project-rating</a>"
      ],
      "text/plain": [
       "<IPython.core.display.HTML object>"
      ]
     },
     "metadata": {},
     "output_type": "display_data"
    },
    {
     "data": {
      "text/html": [
       " View run at <a href='https://wandb.ai/jackjack170827-uc-san-diego/cse158-project-rating/runs/va746fpl' target=\"_blank\">https://wandb.ai/jackjack170827-uc-san-diego/cse158-project-rating/runs/va746fpl</a>"
      ],
      "text/plain": [
       "<IPython.core.display.HTML object>"
      ]
     },
     "metadata": {},
     "output_type": "display_data"
    },
    {
     "data": {
      "text/html": [
       "\n",
       "    <style>\n",
       "        .wandb-row {\n",
       "            display: flex;\n",
       "            flex-direction: row;\n",
       "            flex-wrap: wrap;\n",
       "            justify-content: flex-start;\n",
       "            width: 100%;\n",
       "        }\n",
       "        .wandb-col {\n",
       "            display: flex;\n",
       "            flex-direction: column;\n",
       "            flex-basis: 100%;\n",
       "            flex: 1;\n",
       "            padding: 10px;\n",
       "        }\n",
       "    </style>\n",
       "<div class=\"wandb-row\"><div class=\"wandb-col\"><h3>Run history:</h3><br/><table class=\"wandb\"><tr><td>avg_val_MAE</td><td>▁</td></tr><tr><td>avg_val_MSE</td><td>▁</td></tr><tr><td>avg_val_RMSE</td><td>▁</td></tr><tr><td>fold_val_MAE</td><td>█▅▇▇▁</td></tr><tr><td>fold_val_MSE</td><td>█▅▇▇▁</td></tr><tr><td>fold_val_RMSE</td><td>█▅▇▇▁</td></tr></table><br/></div><div class=\"wandb-col\"><h3>Run summary:</h3><br/><table class=\"wandb\"><tr><td>avg_val_MAE</td><td>1.14356</td></tr><tr><td>avg_val_MSE</td><td>1.981</td></tr><tr><td>avg_val_RMSE</td><td>1.40748</td></tr><tr><td>fold_val_MAE</td><td>1.13915</td></tr><tr><td>fold_val_MSE</td><td>1.96416</td></tr><tr><td>fold_val_RMSE</td><td>1.40148</td></tr></table><br/></div></div>"
      ],
      "text/plain": [
       "<IPython.core.display.HTML object>"
      ]
     },
     "metadata": {},
     "output_type": "display_data"
    },
    {
     "data": {
      "text/html": [
       " View run <strong style=\"color:#cdcd00\">SVD_f50_lr0.001_reg0.05_ep200</strong> at: <a href='https://wandb.ai/jackjack170827-uc-san-diego/cse158-project-rating/runs/va746fpl' target=\"_blank\">https://wandb.ai/jackjack170827-uc-san-diego/cse158-project-rating/runs/va746fpl</a><br/> View project at: <a href='https://wandb.ai/jackjack170827-uc-san-diego/cse158-project-rating' target=\"_blank\">https://wandb.ai/jackjack170827-uc-san-diego/cse158-project-rating</a><br/>Synced 5 W&B file(s), 0 media file(s), 0 artifact file(s) and 0 other file(s)"
      ],
      "text/plain": [
       "<IPython.core.display.HTML object>"
      ]
     },
     "metadata": {},
     "output_type": "display_data"
    },
    {
     "data": {
      "text/html": [
       "Find logs at: <code>./wandb/run-20241202_235657-va746fpl/logs</code>"
      ],
      "text/plain": [
       "<IPython.core.display.HTML object>"
      ]
     },
     "metadata": {},
     "output_type": "display_data"
    },
    {
     "data": {
      "text/html": [
       "Tracking run with wandb version 0.18.7"
      ],
      "text/plain": [
       "<IPython.core.display.HTML object>"
      ]
     },
     "metadata": {},
     "output_type": "display_data"
    },
    {
     "data": {
      "text/html": [
       "Run data is saved locally in <code>/Users/julie/cse158-project/wandb/run-20241202_235954-kyb4l3vm</code>"
      ],
      "text/plain": [
       "<IPython.core.display.HTML object>"
      ]
     },
     "metadata": {},
     "output_type": "display_data"
    },
    {
     "data": {
      "text/html": [
       "Syncing run <strong><a href='https://wandb.ai/jackjack170827-uc-san-diego/cse158-project-rating/runs/kyb4l3vm' target=\"_blank\">SVD_f50_lr0.001_reg0.1_ep20</a></strong> to <a href='https://wandb.ai/jackjack170827-uc-san-diego/cse158-project-rating' target=\"_blank\">Weights & Biases</a> (<a href='https://wandb.me/developer-guide' target=\"_blank\">docs</a>)<br/>"
      ],
      "text/plain": [
       "<IPython.core.display.HTML object>"
      ]
     },
     "metadata": {},
     "output_type": "display_data"
    },
    {
     "data": {
      "text/html": [
       " View project at <a href='https://wandb.ai/jackjack170827-uc-san-diego/cse158-project-rating' target=\"_blank\">https://wandb.ai/jackjack170827-uc-san-diego/cse158-project-rating</a>"
      ],
      "text/plain": [
       "<IPython.core.display.HTML object>"
      ]
     },
     "metadata": {},
     "output_type": "display_data"
    },
    {
     "data": {
      "text/html": [
       " View run at <a href='https://wandb.ai/jackjack170827-uc-san-diego/cse158-project-rating/runs/kyb4l3vm' target=\"_blank\">https://wandb.ai/jackjack170827-uc-san-diego/cse158-project-rating/runs/kyb4l3vm</a>"
      ],
      "text/plain": [
       "<IPython.core.display.HTML object>"
      ]
     },
     "metadata": {},
     "output_type": "display_data"
    },
    {
     "data": {
      "text/html": [
       "\n",
       "    <style>\n",
       "        .wandb-row {\n",
       "            display: flex;\n",
       "            flex-direction: row;\n",
       "            flex-wrap: wrap;\n",
       "            justify-content: flex-start;\n",
       "            width: 100%;\n",
       "        }\n",
       "        .wandb-col {\n",
       "            display: flex;\n",
       "            flex-direction: column;\n",
       "            flex-basis: 100%;\n",
       "            flex: 1;\n",
       "            padding: 10px;\n",
       "        }\n",
       "    </style>\n",
       "<div class=\"wandb-row\"><div class=\"wandb-col\"><h3>Run history:</h3><br/><table class=\"wandb\"><tr><td>avg_val_MAE</td><td>▁</td></tr><tr><td>avg_val_MSE</td><td>▁</td></tr><tr><td>avg_val_RMSE</td><td>▁</td></tr><tr><td>fold_val_MAE</td><td>▁▇█▅▆</td></tr><tr><td>fold_val_MSE</td><td>▁█▆▅▅</td></tr><tr><td>fold_val_RMSE</td><td>▁█▆▅▅</td></tr></table><br/></div><div class=\"wandb-col\"><h3>Run summary:</h3><br/><table class=\"wandb\"><tr><td>avg_val_MAE</td><td>1.19666</td></tr><tr><td>avg_val_MSE</td><td>2.07964</td></tr><tr><td>avg_val_RMSE</td><td>1.44209</td></tr><tr><td>fold_val_MAE</td><td>1.19709</td></tr><tr><td>fold_val_MSE</td><td>2.07952</td></tr><tr><td>fold_val_RMSE</td><td>1.44205</td></tr></table><br/></div></div>"
      ],
      "text/plain": [
       "<IPython.core.display.HTML object>"
      ]
     },
     "metadata": {},
     "output_type": "display_data"
    },
    {
     "data": {
      "text/html": [
       " View run <strong style=\"color:#cdcd00\">SVD_f50_lr0.001_reg0.1_ep20</strong> at: <a href='https://wandb.ai/jackjack170827-uc-san-diego/cse158-project-rating/runs/kyb4l3vm' target=\"_blank\">https://wandb.ai/jackjack170827-uc-san-diego/cse158-project-rating/runs/kyb4l3vm</a><br/> View project at: <a href='https://wandb.ai/jackjack170827-uc-san-diego/cse158-project-rating' target=\"_blank\">https://wandb.ai/jackjack170827-uc-san-diego/cse158-project-rating</a><br/>Synced 5 W&B file(s), 0 media file(s), 0 artifact file(s) and 0 other file(s)"
      ],
      "text/plain": [
       "<IPython.core.display.HTML object>"
      ]
     },
     "metadata": {},
     "output_type": "display_data"
    },
    {
     "data": {
      "text/html": [
       "Find logs at: <code>./wandb/run-20241202_235954-kyb4l3vm/logs</code>"
      ],
      "text/plain": [
       "<IPython.core.display.HTML object>"
      ]
     },
     "metadata": {},
     "output_type": "display_data"
    },
    {
     "data": {
      "text/html": [
       "Tracking run with wandb version 0.18.7"
      ],
      "text/plain": [
       "<IPython.core.display.HTML object>"
      ]
     },
     "metadata": {},
     "output_type": "display_data"
    },
    {
     "data": {
      "text/html": [
       "Run data is saved locally in <code>/Users/julie/cse158-project/wandb/run-20241203_000023-asmrmqd5</code>"
      ],
      "text/plain": [
       "<IPython.core.display.HTML object>"
      ]
     },
     "metadata": {},
     "output_type": "display_data"
    },
    {
     "data": {
      "text/html": [
       "Syncing run <strong><a href='https://wandb.ai/jackjack170827-uc-san-diego/cse158-project-rating/runs/asmrmqd5' target=\"_blank\">SVD_f50_lr0.001_reg0.1_ep50</a></strong> to <a href='https://wandb.ai/jackjack170827-uc-san-diego/cse158-project-rating' target=\"_blank\">Weights & Biases</a> (<a href='https://wandb.me/developer-guide' target=\"_blank\">docs</a>)<br/>"
      ],
      "text/plain": [
       "<IPython.core.display.HTML object>"
      ]
     },
     "metadata": {},
     "output_type": "display_data"
    },
    {
     "data": {
      "text/html": [
       " View project at <a href='https://wandb.ai/jackjack170827-uc-san-diego/cse158-project-rating' target=\"_blank\">https://wandb.ai/jackjack170827-uc-san-diego/cse158-project-rating</a>"
      ],
      "text/plain": [
       "<IPython.core.display.HTML object>"
      ]
     },
     "metadata": {},
     "output_type": "display_data"
    },
    {
     "data": {
      "text/html": [
       " View run at <a href='https://wandb.ai/jackjack170827-uc-san-diego/cse158-project-rating/runs/asmrmqd5' target=\"_blank\">https://wandb.ai/jackjack170827-uc-san-diego/cse158-project-rating/runs/asmrmqd5</a>"
      ],
      "text/plain": [
       "<IPython.core.display.HTML object>"
      ]
     },
     "metadata": {},
     "output_type": "display_data"
    },
    {
     "data": {
      "text/html": [
       "\n",
       "    <style>\n",
       "        .wandb-row {\n",
       "            display: flex;\n",
       "            flex-direction: row;\n",
       "            flex-wrap: wrap;\n",
       "            justify-content: flex-start;\n",
       "            width: 100%;\n",
       "        }\n",
       "        .wandb-col {\n",
       "            display: flex;\n",
       "            flex-direction: column;\n",
       "            flex-basis: 100%;\n",
       "            flex: 1;\n",
       "            padding: 10px;\n",
       "        }\n",
       "    </style>\n",
       "<div class=\"wandb-row\"><div class=\"wandb-col\"><h3>Run history:</h3><br/><table class=\"wandb\"><tr><td>avg_val_MAE</td><td>▁</td></tr><tr><td>avg_val_MSE</td><td>▁</td></tr><tr><td>avg_val_RMSE</td><td>▁</td></tr><tr><td>fold_val_MAE</td><td>▄▁▃▃█</td></tr><tr><td>fold_val_MSE</td><td>▄▁▂▂█</td></tr><tr><td>fold_val_RMSE</td><td>▄▁▂▂█</td></tr></table><br/></div><div class=\"wandb-col\"><h3>Run summary:</h3><br/><table class=\"wandb\"><tr><td>avg_val_MAE</td><td>1.17547</td></tr><tr><td>avg_val_MSE</td><td>2.02962</td></tr><tr><td>avg_val_RMSE</td><td>1.42464</td></tr><tr><td>fold_val_MAE</td><td>1.18125</td></tr><tr><td>fold_val_MSE</td><td>2.04779</td></tr><tr><td>fold_val_RMSE</td><td>1.43101</td></tr></table><br/></div></div>"
      ],
      "text/plain": [
       "<IPython.core.display.HTML object>"
      ]
     },
     "metadata": {},
     "output_type": "display_data"
    },
    {
     "data": {
      "text/html": [
       " View run <strong style=\"color:#cdcd00\">SVD_f50_lr0.001_reg0.1_ep50</strong> at: <a href='https://wandb.ai/jackjack170827-uc-san-diego/cse158-project-rating/runs/asmrmqd5' target=\"_blank\">https://wandb.ai/jackjack170827-uc-san-diego/cse158-project-rating/runs/asmrmqd5</a><br/> View project at: <a href='https://wandb.ai/jackjack170827-uc-san-diego/cse158-project-rating' target=\"_blank\">https://wandb.ai/jackjack170827-uc-san-diego/cse158-project-rating</a><br/>Synced 5 W&B file(s), 0 media file(s), 0 artifact file(s) and 0 other file(s)"
      ],
      "text/plain": [
       "<IPython.core.display.HTML object>"
      ]
     },
     "metadata": {},
     "output_type": "display_data"
    },
    {
     "data": {
      "text/html": [
       "Find logs at: <code>./wandb/run-20241203_000023-asmrmqd5/logs</code>"
      ],
      "text/plain": [
       "<IPython.core.display.HTML object>"
      ]
     },
     "metadata": {},
     "output_type": "display_data"
    },
    {
     "data": {
      "text/html": [
       "Tracking run with wandb version 0.18.7"
      ],
      "text/plain": [
       "<IPython.core.display.HTML object>"
      ]
     },
     "metadata": {},
     "output_type": "display_data"
    },
    {
     "data": {
      "text/html": [
       "Run data is saved locally in <code>/Users/julie/cse158-project/wandb/run-20241203_000115-egc94f0l</code>"
      ],
      "text/plain": [
       "<IPython.core.display.HTML object>"
      ]
     },
     "metadata": {},
     "output_type": "display_data"
    },
    {
     "data": {
      "text/html": [
       "Syncing run <strong><a href='https://wandb.ai/jackjack170827-uc-san-diego/cse158-project-rating/runs/egc94f0l' target=\"_blank\">SVD_f50_lr0.001_reg0.1_ep100</a></strong> to <a href='https://wandb.ai/jackjack170827-uc-san-diego/cse158-project-rating' target=\"_blank\">Weights & Biases</a> (<a href='https://wandb.me/developer-guide' target=\"_blank\">docs</a>)<br/>"
      ],
      "text/plain": [
       "<IPython.core.display.HTML object>"
      ]
     },
     "metadata": {},
     "output_type": "display_data"
    },
    {
     "data": {
      "text/html": [
       " View project at <a href='https://wandb.ai/jackjack170827-uc-san-diego/cse158-project-rating' target=\"_blank\">https://wandb.ai/jackjack170827-uc-san-diego/cse158-project-rating</a>"
      ],
      "text/plain": [
       "<IPython.core.display.HTML object>"
      ]
     },
     "metadata": {},
     "output_type": "display_data"
    },
    {
     "data": {
      "text/html": [
       " View run at <a href='https://wandb.ai/jackjack170827-uc-san-diego/cse158-project-rating/runs/egc94f0l' target=\"_blank\">https://wandb.ai/jackjack170827-uc-san-diego/cse158-project-rating/runs/egc94f0l</a>"
      ],
      "text/plain": [
       "<IPython.core.display.HTML object>"
      ]
     },
     "metadata": {},
     "output_type": "display_data"
    },
    {
     "data": {
      "text/html": [
       "\n",
       "    <style>\n",
       "        .wandb-row {\n",
       "            display: flex;\n",
       "            flex-direction: row;\n",
       "            flex-wrap: wrap;\n",
       "            justify-content: flex-start;\n",
       "            width: 100%;\n",
       "        }\n",
       "        .wandb-col {\n",
       "            display: flex;\n",
       "            flex-direction: column;\n",
       "            flex-basis: 100%;\n",
       "            flex: 1;\n",
       "            padding: 10px;\n",
       "        }\n",
       "    </style>\n",
       "<div class=\"wandb-row\"><div class=\"wandb-col\"><h3>Run history:</h3><br/><table class=\"wandb\"><tr><td>avg_val_MAE</td><td>▁</td></tr><tr><td>avg_val_MSE</td><td>▁</td></tr><tr><td>avg_val_RMSE</td><td>▁</td></tr><tr><td>fold_val_MAE</td><td>▃█▆▁▆</td></tr><tr><td>fold_val_MSE</td><td>▂█▅▁▅</td></tr><tr><td>fold_val_RMSE</td><td>▂█▅▁▅</td></tr></table><br/></div><div class=\"wandb-col\"><h3>Run summary:</h3><br/><table class=\"wandb\"><tr><td>avg_val_MAE</td><td>1.16054</td></tr><tr><td>avg_val_MSE</td><td>1.99982</td></tr><tr><td>avg_val_RMSE</td><td>1.41415</td></tr><tr><td>fold_val_MAE</td><td>1.16136</td></tr><tr><td>fold_val_MSE</td><td>2.00094</td></tr><tr><td>fold_val_RMSE</td><td>1.41454</td></tr></table><br/></div></div>"
      ],
      "text/plain": [
       "<IPython.core.display.HTML object>"
      ]
     },
     "metadata": {},
     "output_type": "display_data"
    },
    {
     "data": {
      "text/html": [
       " View run <strong style=\"color:#cdcd00\">SVD_f50_lr0.001_reg0.1_ep100</strong> at: <a href='https://wandb.ai/jackjack170827-uc-san-diego/cse158-project-rating/runs/egc94f0l' target=\"_blank\">https://wandb.ai/jackjack170827-uc-san-diego/cse158-project-rating/runs/egc94f0l</a><br/> View project at: <a href='https://wandb.ai/jackjack170827-uc-san-diego/cse158-project-rating' target=\"_blank\">https://wandb.ai/jackjack170827-uc-san-diego/cse158-project-rating</a><br/>Synced 5 W&B file(s), 0 media file(s), 0 artifact file(s) and 0 other file(s)"
      ],
      "text/plain": [
       "<IPython.core.display.HTML object>"
      ]
     },
     "metadata": {},
     "output_type": "display_data"
    },
    {
     "data": {
      "text/html": [
       "Find logs at: <code>./wandb/run-20241203_000115-egc94f0l/logs</code>"
      ],
      "text/plain": [
       "<IPython.core.display.HTML object>"
      ]
     },
     "metadata": {},
     "output_type": "display_data"
    },
    {
     "data": {
      "text/html": [
       "Tracking run with wandb version 0.18.7"
      ],
      "text/plain": [
       "<IPython.core.display.HTML object>"
      ]
     },
     "metadata": {},
     "output_type": "display_data"
    },
    {
     "data": {
      "text/html": [
       "Run data is saved locally in <code>/Users/julie/cse158-project/wandb/run-20241203_000250-06axvo36</code>"
      ],
      "text/plain": [
       "<IPython.core.display.HTML object>"
      ]
     },
     "metadata": {},
     "output_type": "display_data"
    },
    {
     "data": {
      "text/html": [
       "Syncing run <strong><a href='https://wandb.ai/jackjack170827-uc-san-diego/cse158-project-rating/runs/06axvo36' target=\"_blank\">SVD_f50_lr0.001_reg0.1_ep200</a></strong> to <a href='https://wandb.ai/jackjack170827-uc-san-diego/cse158-project-rating' target=\"_blank\">Weights & Biases</a> (<a href='https://wandb.me/developer-guide' target=\"_blank\">docs</a>)<br/>"
      ],
      "text/plain": [
       "<IPython.core.display.HTML object>"
      ]
     },
     "metadata": {},
     "output_type": "display_data"
    },
    {
     "data": {
      "text/html": [
       " View project at <a href='https://wandb.ai/jackjack170827-uc-san-diego/cse158-project-rating' target=\"_blank\">https://wandb.ai/jackjack170827-uc-san-diego/cse158-project-rating</a>"
      ],
      "text/plain": [
       "<IPython.core.display.HTML object>"
      ]
     },
     "metadata": {},
     "output_type": "display_data"
    },
    {
     "data": {
      "text/html": [
       " View run at <a href='https://wandb.ai/jackjack170827-uc-san-diego/cse158-project-rating/runs/06axvo36' target=\"_blank\">https://wandb.ai/jackjack170827-uc-san-diego/cse158-project-rating/runs/06axvo36</a>"
      ],
      "text/plain": [
       "<IPython.core.display.HTML object>"
      ]
     },
     "metadata": {},
     "output_type": "display_data"
    },
    {
     "data": {
      "text/html": [
       "\n",
       "    <style>\n",
       "        .wandb-row {\n",
       "            display: flex;\n",
       "            flex-direction: row;\n",
       "            flex-wrap: wrap;\n",
       "            justify-content: flex-start;\n",
       "            width: 100%;\n",
       "        }\n",
       "        .wandb-col {\n",
       "            display: flex;\n",
       "            flex-direction: column;\n",
       "            flex-basis: 100%;\n",
       "            flex: 1;\n",
       "            padding: 10px;\n",
       "        }\n",
       "    </style>\n",
       "<div class=\"wandb-row\"><div class=\"wandb-col\"><h3>Run history:</h3><br/><table class=\"wandb\"><tr><td>avg_val_MAE</td><td>▁</td></tr><tr><td>avg_val_MSE</td><td>▁</td></tr><tr><td>avg_val_RMSE</td><td>▁</td></tr><tr><td>fold_val_MAE</td><td>█▂▄▃▁</td></tr><tr><td>fold_val_MSE</td><td>█▁▄▃▂</td></tr><tr><td>fold_val_RMSE</td><td>█▁▄▃▂</td></tr></table><br/></div><div class=\"wandb-col\"><h3>Run summary:</h3><br/><table class=\"wandb\"><tr><td>avg_val_MAE</td><td>1.14699</td></tr><tr><td>avg_val_MSE</td><td>1.97987</td></tr><tr><td>avg_val_RMSE</td><td>1.40707</td></tr><tr><td>fold_val_MAE</td><td>1.14544</td></tr><tr><td>fold_val_MSE</td><td>1.97517</td></tr><tr><td>fold_val_RMSE</td><td>1.40541</td></tr></table><br/></div></div>"
      ],
      "text/plain": [
       "<IPython.core.display.HTML object>"
      ]
     },
     "metadata": {},
     "output_type": "display_data"
    },
    {
     "data": {
      "text/html": [
       " View run <strong style=\"color:#cdcd00\">SVD_f50_lr0.001_reg0.1_ep200</strong> at: <a href='https://wandb.ai/jackjack170827-uc-san-diego/cse158-project-rating/runs/06axvo36' target=\"_blank\">https://wandb.ai/jackjack170827-uc-san-diego/cse158-project-rating/runs/06axvo36</a><br/> View project at: <a href='https://wandb.ai/jackjack170827-uc-san-diego/cse158-project-rating' target=\"_blank\">https://wandb.ai/jackjack170827-uc-san-diego/cse158-project-rating</a><br/>Synced 5 W&B file(s), 0 media file(s), 0 artifact file(s) and 0 other file(s)"
      ],
      "text/plain": [
       "<IPython.core.display.HTML object>"
      ]
     },
     "metadata": {},
     "output_type": "display_data"
    },
    {
     "data": {
      "text/html": [
       "Find logs at: <code>./wandb/run-20241203_000250-06axvo36/logs</code>"
      ],
      "text/plain": [
       "<IPython.core.display.HTML object>"
      ]
     },
     "metadata": {},
     "output_type": "display_data"
    },
    {
     "data": {
      "text/html": [
       "Tracking run with wandb version 0.18.7"
      ],
      "text/plain": [
       "<IPython.core.display.HTML object>"
      ]
     },
     "metadata": {},
     "output_type": "display_data"
    },
    {
     "data": {
      "text/html": [
       "Run data is saved locally in <code>/Users/julie/cse158-project/wandb/run-20241203_000548-0kxnltbs</code>"
      ],
      "text/plain": [
       "<IPython.core.display.HTML object>"
      ]
     },
     "metadata": {},
     "output_type": "display_data"
    },
    {
     "data": {
      "text/html": [
       "Syncing run <strong><a href='https://wandb.ai/jackjack170827-uc-san-diego/cse158-project-rating/runs/0kxnltbs' target=\"_blank\">SVD_f50_lr0.005_reg0.02_ep20</a></strong> to <a href='https://wandb.ai/jackjack170827-uc-san-diego/cse158-project-rating' target=\"_blank\">Weights & Biases</a> (<a href='https://wandb.me/developer-guide' target=\"_blank\">docs</a>)<br/>"
      ],
      "text/plain": [
       "<IPython.core.display.HTML object>"
      ]
     },
     "metadata": {},
     "output_type": "display_data"
    },
    {
     "data": {
      "text/html": [
       " View project at <a href='https://wandb.ai/jackjack170827-uc-san-diego/cse158-project-rating' target=\"_blank\">https://wandb.ai/jackjack170827-uc-san-diego/cse158-project-rating</a>"
      ],
      "text/plain": [
       "<IPython.core.display.HTML object>"
      ]
     },
     "metadata": {},
     "output_type": "display_data"
    },
    {
     "data": {
      "text/html": [
       " View run at <a href='https://wandb.ai/jackjack170827-uc-san-diego/cse158-project-rating/runs/0kxnltbs' target=\"_blank\">https://wandb.ai/jackjack170827-uc-san-diego/cse158-project-rating/runs/0kxnltbs</a>"
      ],
      "text/plain": [
       "<IPython.core.display.HTML object>"
      ]
     },
     "metadata": {},
     "output_type": "display_data"
    },
    {
     "data": {
      "text/html": [
       "\n",
       "    <style>\n",
       "        .wandb-row {\n",
       "            display: flex;\n",
       "            flex-direction: row;\n",
       "            flex-wrap: wrap;\n",
       "            justify-content: flex-start;\n",
       "            width: 100%;\n",
       "        }\n",
       "        .wandb-col {\n",
       "            display: flex;\n",
       "            flex-direction: column;\n",
       "            flex-basis: 100%;\n",
       "            flex: 1;\n",
       "            padding: 10px;\n",
       "        }\n",
       "    </style>\n",
       "<div class=\"wandb-row\"><div class=\"wandb-col\"><h3>Run history:</h3><br/><table class=\"wandb\"><tr><td>avg_val_MAE</td><td>▁</td></tr><tr><td>avg_val_MSE</td><td>▁</td></tr><tr><td>avg_val_RMSE</td><td>▁</td></tr><tr><td>fold_val_MAE</td><td>█▁▄▄▆</td></tr><tr><td>fold_val_MSE</td><td>█▁▄▄▆</td></tr><tr><td>fold_val_RMSE</td><td>█▁▄▄▆</td></tr></table><br/></div><div class=\"wandb-col\"><h3>Run summary:</h3><br/><table class=\"wandb\"><tr><td>avg_val_MAE</td><td>1.15489</td></tr><tr><td>avg_val_MSE</td><td>1.99723</td></tr><tr><td>avg_val_RMSE</td><td>1.41323</td></tr><tr><td>fold_val_MAE</td><td>1.15621</td></tr><tr><td>fold_val_MSE</td><td>2.00159</td></tr><tr><td>fold_val_RMSE</td><td>1.41477</td></tr></table><br/></div></div>"
      ],
      "text/plain": [
       "<IPython.core.display.HTML object>"
      ]
     },
     "metadata": {},
     "output_type": "display_data"
    },
    {
     "data": {
      "text/html": [
       " View run <strong style=\"color:#cdcd00\">SVD_f50_lr0.005_reg0.02_ep20</strong> at: <a href='https://wandb.ai/jackjack170827-uc-san-diego/cse158-project-rating/runs/0kxnltbs' target=\"_blank\">https://wandb.ai/jackjack170827-uc-san-diego/cse158-project-rating/runs/0kxnltbs</a><br/> View project at: <a href='https://wandb.ai/jackjack170827-uc-san-diego/cse158-project-rating' target=\"_blank\">https://wandb.ai/jackjack170827-uc-san-diego/cse158-project-rating</a><br/>Synced 5 W&B file(s), 0 media file(s), 0 artifact file(s) and 0 other file(s)"
      ],
      "text/plain": [
       "<IPython.core.display.HTML object>"
      ]
     },
     "metadata": {},
     "output_type": "display_data"
    },
    {
     "data": {
      "text/html": [
       "Find logs at: <code>./wandb/run-20241203_000548-0kxnltbs/logs</code>"
      ],
      "text/plain": [
       "<IPython.core.display.HTML object>"
      ]
     },
     "metadata": {},
     "output_type": "display_data"
    },
    {
     "data": {
      "text/html": [
       "Tracking run with wandb version 0.18.7"
      ],
      "text/plain": [
       "<IPython.core.display.HTML object>"
      ]
     },
     "metadata": {},
     "output_type": "display_data"
    },
    {
     "data": {
      "text/html": [
       "Run data is saved locally in <code>/Users/julie/cse158-project/wandb/run-20241203_000621-80e7dzx3</code>"
      ],
      "text/plain": [
       "<IPython.core.display.HTML object>"
      ]
     },
     "metadata": {},
     "output_type": "display_data"
    },
    {
     "data": {
      "text/html": [
       "Syncing run <strong><a href='https://wandb.ai/jackjack170827-uc-san-diego/cse158-project-rating/runs/80e7dzx3' target=\"_blank\">SVD_f50_lr0.005_reg0.02_ep50</a></strong> to <a href='https://wandb.ai/jackjack170827-uc-san-diego/cse158-project-rating' target=\"_blank\">Weights & Biases</a> (<a href='https://wandb.me/developer-guide' target=\"_blank\">docs</a>)<br/>"
      ],
      "text/plain": [
       "<IPython.core.display.HTML object>"
      ]
     },
     "metadata": {},
     "output_type": "display_data"
    },
    {
     "data": {
      "text/html": [
       " View project at <a href='https://wandb.ai/jackjack170827-uc-san-diego/cse158-project-rating' target=\"_blank\">https://wandb.ai/jackjack170827-uc-san-diego/cse158-project-rating</a>"
      ],
      "text/plain": [
       "<IPython.core.display.HTML object>"
      ]
     },
     "metadata": {},
     "output_type": "display_data"
    },
    {
     "data": {
      "text/html": [
       " View run at <a href='https://wandb.ai/jackjack170827-uc-san-diego/cse158-project-rating/runs/80e7dzx3' target=\"_blank\">https://wandb.ai/jackjack170827-uc-san-diego/cse158-project-rating/runs/80e7dzx3</a>"
      ],
      "text/plain": [
       "<IPython.core.display.HTML object>"
      ]
     },
     "metadata": {},
     "output_type": "display_data"
    },
    {
     "data": {
      "text/html": [
       "\n",
       "    <style>\n",
       "        .wandb-row {\n",
       "            display: flex;\n",
       "            flex-direction: row;\n",
       "            flex-wrap: wrap;\n",
       "            justify-content: flex-start;\n",
       "            width: 100%;\n",
       "        }\n",
       "        .wandb-col {\n",
       "            display: flex;\n",
       "            flex-direction: column;\n",
       "            flex-basis: 100%;\n",
       "            flex: 1;\n",
       "            padding: 10px;\n",
       "        }\n",
       "    </style>\n",
       "<div class=\"wandb-row\"><div class=\"wandb-col\"><h3>Run history:</h3><br/><table class=\"wandb\"><tr><td>avg_val_MAE</td><td>▁</td></tr><tr><td>avg_val_MSE</td><td>▁</td></tr><tr><td>avg_val_RMSE</td><td>▁</td></tr><tr><td>fold_val_MAE</td><td>██▁▄▆</td></tr><tr><td>fold_val_MSE</td><td>██▁▅▆</td></tr><tr><td>fold_val_RMSE</td><td>██▁▅▆</td></tr></table><br/></div><div class=\"wandb-col\"><h3>Run summary:</h3><br/><table class=\"wandb\"><tr><td>avg_val_MAE</td><td>1.13716</td></tr><tr><td>avg_val_MSE</td><td>1.97901</td></tr><tr><td>avg_val_RMSE</td><td>1.40677</td></tr><tr><td>fold_val_MAE</td><td>1.13778</td></tr><tr><td>fold_val_MSE</td><td>1.97928</td></tr><tr><td>fold_val_RMSE</td><td>1.40687</td></tr></table><br/></div></div>"
      ],
      "text/plain": [
       "<IPython.core.display.HTML object>"
      ]
     },
     "metadata": {},
     "output_type": "display_data"
    },
    {
     "data": {
      "text/html": [
       " View run <strong style=\"color:#cdcd00\">SVD_f50_lr0.005_reg0.02_ep50</strong> at: <a href='https://wandb.ai/jackjack170827-uc-san-diego/cse158-project-rating/runs/80e7dzx3' target=\"_blank\">https://wandb.ai/jackjack170827-uc-san-diego/cse158-project-rating/runs/80e7dzx3</a><br/> View project at: <a href='https://wandb.ai/jackjack170827-uc-san-diego/cse158-project-rating' target=\"_blank\">https://wandb.ai/jackjack170827-uc-san-diego/cse158-project-rating</a><br/>Synced 5 W&B file(s), 0 media file(s), 0 artifact file(s) and 0 other file(s)"
      ],
      "text/plain": [
       "<IPython.core.display.HTML object>"
      ]
     },
     "metadata": {},
     "output_type": "display_data"
    },
    {
     "data": {
      "text/html": [
       "Find logs at: <code>./wandb/run-20241203_000621-80e7dzx3/logs</code>"
      ],
      "text/plain": [
       "<IPython.core.display.HTML object>"
      ]
     },
     "metadata": {},
     "output_type": "display_data"
    },
    {
     "data": {
      "text/html": [
       "Tracking run with wandb version 0.18.7"
      ],
      "text/plain": [
       "<IPython.core.display.HTML object>"
      ]
     },
     "metadata": {},
     "output_type": "display_data"
    },
    {
     "data": {
      "text/html": [
       "Run data is saved locally in <code>/Users/julie/cse158-project/wandb/run-20241203_000713-leqg66f6</code>"
      ],
      "text/plain": [
       "<IPython.core.display.HTML object>"
      ]
     },
     "metadata": {},
     "output_type": "display_data"
    },
    {
     "data": {
      "text/html": [
       "Syncing run <strong><a href='https://wandb.ai/jackjack170827-uc-san-diego/cse158-project-rating/runs/leqg66f6' target=\"_blank\">SVD_f50_lr0.005_reg0.02_ep100</a></strong> to <a href='https://wandb.ai/jackjack170827-uc-san-diego/cse158-project-rating' target=\"_blank\">Weights & Biases</a> (<a href='https://wandb.me/developer-guide' target=\"_blank\">docs</a>)<br/>"
      ],
      "text/plain": [
       "<IPython.core.display.HTML object>"
      ]
     },
     "metadata": {},
     "output_type": "display_data"
    },
    {
     "data": {
      "text/html": [
       " View project at <a href='https://wandb.ai/jackjack170827-uc-san-diego/cse158-project-rating' target=\"_blank\">https://wandb.ai/jackjack170827-uc-san-diego/cse158-project-rating</a>"
      ],
      "text/plain": [
       "<IPython.core.display.HTML object>"
      ]
     },
     "metadata": {},
     "output_type": "display_data"
    },
    {
     "data": {
      "text/html": [
       " View run at <a href='https://wandb.ai/jackjack170827-uc-san-diego/cse158-project-rating/runs/leqg66f6' target=\"_blank\">https://wandb.ai/jackjack170827-uc-san-diego/cse158-project-rating/runs/leqg66f6</a>"
      ],
      "text/plain": [
       "<IPython.core.display.HTML object>"
      ]
     },
     "metadata": {},
     "output_type": "display_data"
    },
    {
     "data": {
      "text/html": [
       "\n",
       "    <style>\n",
       "        .wandb-row {\n",
       "            display: flex;\n",
       "            flex-direction: row;\n",
       "            flex-wrap: wrap;\n",
       "            justify-content: flex-start;\n",
       "            width: 100%;\n",
       "        }\n",
       "        .wandb-col {\n",
       "            display: flex;\n",
       "            flex-direction: column;\n",
       "            flex-basis: 100%;\n",
       "            flex: 1;\n",
       "            padding: 10px;\n",
       "        }\n",
       "    </style>\n",
       "<div class=\"wandb-row\"><div class=\"wandb-col\"><h3>Run history:</h3><br/><table class=\"wandb\"><tr><td>avg_val_MAE</td><td>▁</td></tr><tr><td>avg_val_MSE</td><td>▁</td></tr><tr><td>avg_val_RMSE</td><td>▁</td></tr><tr><td>fold_val_MAE</td><td>▆█▂▄▁</td></tr><tr><td>fold_val_MSE</td><td>██▁▂▃</td></tr><tr><td>fold_val_RMSE</td><td>██▁▂▃</td></tr></table><br/></div><div class=\"wandb-col\"><h3>Run summary:</h3><br/><table class=\"wandb\"><tr><td>avg_val_MAE</td><td>1.13072</td></tr><tr><td>avg_val_MSE</td><td>1.97978</td></tr><tr><td>avg_val_RMSE</td><td>1.40705</td></tr><tr><td>fold_val_MAE</td><td>1.12903</td></tr><tr><td>fold_val_MSE</td><td>1.97757</td></tr><tr><td>fold_val_RMSE</td><td>1.40626</td></tr></table><br/></div></div>"
      ],
      "text/plain": [
       "<IPython.core.display.HTML object>"
      ]
     },
     "metadata": {},
     "output_type": "display_data"
    },
    {
     "data": {
      "text/html": [
       " View run <strong style=\"color:#cdcd00\">SVD_f50_lr0.005_reg0.02_ep100</strong> at: <a href='https://wandb.ai/jackjack170827-uc-san-diego/cse158-project-rating/runs/leqg66f6' target=\"_blank\">https://wandb.ai/jackjack170827-uc-san-diego/cse158-project-rating/runs/leqg66f6</a><br/> View project at: <a href='https://wandb.ai/jackjack170827-uc-san-diego/cse158-project-rating' target=\"_blank\">https://wandb.ai/jackjack170827-uc-san-diego/cse158-project-rating</a><br/>Synced 5 W&B file(s), 0 media file(s), 0 artifact file(s) and 0 other file(s)"
      ],
      "text/plain": [
       "<IPython.core.display.HTML object>"
      ]
     },
     "metadata": {},
     "output_type": "display_data"
    },
    {
     "data": {
      "text/html": [
       "Find logs at: <code>./wandb/run-20241203_000713-leqg66f6/logs</code>"
      ],
      "text/plain": [
       "<IPython.core.display.HTML object>"
      ]
     },
     "metadata": {},
     "output_type": "display_data"
    },
    {
     "data": {
      "text/html": [
       "Tracking run with wandb version 0.18.7"
      ],
      "text/plain": [
       "<IPython.core.display.HTML object>"
      ]
     },
     "metadata": {},
     "output_type": "display_data"
    },
    {
     "data": {
      "text/html": [
       "Run data is saved locally in <code>/Users/julie/cse158-project/wandb/run-20241203_000847-ce5y7z6k</code>"
      ],
      "text/plain": [
       "<IPython.core.display.HTML object>"
      ]
     },
     "metadata": {},
     "output_type": "display_data"
    },
    {
     "data": {
      "text/html": [
       "Syncing run <strong><a href='https://wandb.ai/jackjack170827-uc-san-diego/cse158-project-rating/runs/ce5y7z6k' target=\"_blank\">SVD_f50_lr0.005_reg0.02_ep200</a></strong> to <a href='https://wandb.ai/jackjack170827-uc-san-diego/cse158-project-rating' target=\"_blank\">Weights & Biases</a> (<a href='https://wandb.me/developer-guide' target=\"_blank\">docs</a>)<br/>"
      ],
      "text/plain": [
       "<IPython.core.display.HTML object>"
      ]
     },
     "metadata": {},
     "output_type": "display_data"
    },
    {
     "data": {
      "text/html": [
       " View project at <a href='https://wandb.ai/jackjack170827-uc-san-diego/cse158-project-rating' target=\"_blank\">https://wandb.ai/jackjack170827-uc-san-diego/cse158-project-rating</a>"
      ],
      "text/plain": [
       "<IPython.core.display.HTML object>"
      ]
     },
     "metadata": {},
     "output_type": "display_data"
    },
    {
     "data": {
      "text/html": [
       " View run at <a href='https://wandb.ai/jackjack170827-uc-san-diego/cse158-project-rating/runs/ce5y7z6k' target=\"_blank\">https://wandb.ai/jackjack170827-uc-san-diego/cse158-project-rating/runs/ce5y7z6k</a>"
      ],
      "text/plain": [
       "<IPython.core.display.HTML object>"
      ]
     },
     "metadata": {},
     "output_type": "display_data"
    },
    {
     "data": {
      "text/html": [
       "\n",
       "    <style>\n",
       "        .wandb-row {\n",
       "            display: flex;\n",
       "            flex-direction: row;\n",
       "            flex-wrap: wrap;\n",
       "            justify-content: flex-start;\n",
       "            width: 100%;\n",
       "        }\n",
       "        .wandb-col {\n",
       "            display: flex;\n",
       "            flex-direction: column;\n",
       "            flex-basis: 100%;\n",
       "            flex: 1;\n",
       "            padding: 10px;\n",
       "        }\n",
       "    </style>\n",
       "<div class=\"wandb-row\"><div class=\"wandb-col\"><h3>Run history:</h3><br/><table class=\"wandb\"><tr><td>avg_val_MAE</td><td>▁</td></tr><tr><td>avg_val_MSE</td><td>▁</td></tr><tr><td>avg_val_RMSE</td><td>▁</td></tr><tr><td>fold_val_MAE</td><td>█▇▁▅▃</td></tr><tr><td>fold_val_MSE</td><td>█▇▁▄▂</td></tr><tr><td>fold_val_RMSE</td><td>█▇▁▄▂</td></tr></table><br/></div><div class=\"wandb-col\"><h3>Run summary:</h3><br/><table class=\"wandb\"><tr><td>avg_val_MAE</td><td>1.1299</td></tr><tr><td>avg_val_MSE</td><td>1.98303</td></tr><tr><td>avg_val_RMSE</td><td>1.4082</td></tr><tr><td>fold_val_MAE</td><td>1.12851</td></tr><tr><td>fold_val_MSE</td><td>1.9767</td></tr><tr><td>fold_val_RMSE</td><td>1.40595</td></tr></table><br/></div></div>"
      ],
      "text/plain": [
       "<IPython.core.display.HTML object>"
      ]
     },
     "metadata": {},
     "output_type": "display_data"
    },
    {
     "data": {
      "text/html": [
       " View run <strong style=\"color:#cdcd00\">SVD_f50_lr0.005_reg0.02_ep200</strong> at: <a href='https://wandb.ai/jackjack170827-uc-san-diego/cse158-project-rating/runs/ce5y7z6k' target=\"_blank\">https://wandb.ai/jackjack170827-uc-san-diego/cse158-project-rating/runs/ce5y7z6k</a><br/> View project at: <a href='https://wandb.ai/jackjack170827-uc-san-diego/cse158-project-rating' target=\"_blank\">https://wandb.ai/jackjack170827-uc-san-diego/cse158-project-rating</a><br/>Synced 5 W&B file(s), 0 media file(s), 0 artifact file(s) and 0 other file(s)"
      ],
      "text/plain": [
       "<IPython.core.display.HTML object>"
      ]
     },
     "metadata": {},
     "output_type": "display_data"
    },
    {
     "data": {
      "text/html": [
       "Find logs at: <code>./wandb/run-20241203_000847-ce5y7z6k/logs</code>"
      ],
      "text/plain": [
       "<IPython.core.display.HTML object>"
      ]
     },
     "metadata": {},
     "output_type": "display_data"
    },
    {
     "data": {
      "text/html": [
       "Tracking run with wandb version 0.18.7"
      ],
      "text/plain": [
       "<IPython.core.display.HTML object>"
      ]
     },
     "metadata": {},
     "output_type": "display_data"
    },
    {
     "data": {
      "text/html": [
       "Run data is saved locally in <code>/Users/julie/cse158-project/wandb/run-20241203_001142-kmmumnau</code>"
      ],
      "text/plain": [
       "<IPython.core.display.HTML object>"
      ]
     },
     "metadata": {},
     "output_type": "display_data"
    },
    {
     "data": {
      "text/html": [
       "Syncing run <strong><a href='https://wandb.ai/jackjack170827-uc-san-diego/cse158-project-rating/runs/kmmumnau' target=\"_blank\">SVD_f50_lr0.005_reg0.05_ep20</a></strong> to <a href='https://wandb.ai/jackjack170827-uc-san-diego/cse158-project-rating' target=\"_blank\">Weights & Biases</a> (<a href='https://wandb.me/developer-guide' target=\"_blank\">docs</a>)<br/>"
      ],
      "text/plain": [
       "<IPython.core.display.HTML object>"
      ]
     },
     "metadata": {},
     "output_type": "display_data"
    },
    {
     "data": {
      "text/html": [
       " View project at <a href='https://wandb.ai/jackjack170827-uc-san-diego/cse158-project-rating' target=\"_blank\">https://wandb.ai/jackjack170827-uc-san-diego/cse158-project-rating</a>"
      ],
      "text/plain": [
       "<IPython.core.display.HTML object>"
      ]
     },
     "metadata": {},
     "output_type": "display_data"
    },
    {
     "data": {
      "text/html": [
       " View run at <a href='https://wandb.ai/jackjack170827-uc-san-diego/cse158-project-rating/runs/kmmumnau' target=\"_blank\">https://wandb.ai/jackjack170827-uc-san-diego/cse158-project-rating/runs/kmmumnau</a>"
      ],
      "text/plain": [
       "<IPython.core.display.HTML object>"
      ]
     },
     "metadata": {},
     "output_type": "display_data"
    },
    {
     "data": {
      "text/html": [
       "\n",
       "    <style>\n",
       "        .wandb-row {\n",
       "            display: flex;\n",
       "            flex-direction: row;\n",
       "            flex-wrap: wrap;\n",
       "            justify-content: flex-start;\n",
       "            width: 100%;\n",
       "        }\n",
       "        .wandb-col {\n",
       "            display: flex;\n",
       "            flex-direction: column;\n",
       "            flex-basis: 100%;\n",
       "            flex: 1;\n",
       "            padding: 10px;\n",
       "        }\n",
       "    </style>\n",
       "<div class=\"wandb-row\"><div class=\"wandb-col\"><h3>Run history:</h3><br/><table class=\"wandb\"><tr><td>avg_val_MAE</td><td>▁</td></tr><tr><td>avg_val_MSE</td><td>▁</td></tr><tr><td>avg_val_RMSE</td><td>▁</td></tr><tr><td>fold_val_MAE</td><td>█▅▆▁▅</td></tr><tr><td>fold_val_MSE</td><td>█▇▇▁▇</td></tr><tr><td>fold_val_RMSE</td><td>█▇▇▁▇</td></tr></table><br/></div><div class=\"wandb-col\"><h3>Run summary:</h3><br/><table class=\"wandb\"><tr><td>avg_val_MAE</td><td>1.15729</td></tr><tr><td>avg_val_MSE</td><td>1.99915</td></tr><tr><td>avg_val_RMSE</td><td>1.41391</td></tr><tr><td>fold_val_MAE</td><td>1.15709</td></tr><tr><td>fold_val_MSE</td><td>2.00364</td></tr><tr><td>fold_val_RMSE</td><td>1.4155</td></tr></table><br/></div></div>"
      ],
      "text/plain": [
       "<IPython.core.display.HTML object>"
      ]
     },
     "metadata": {},
     "output_type": "display_data"
    },
    {
     "data": {
      "text/html": [
       " View run <strong style=\"color:#cdcd00\">SVD_f50_lr0.005_reg0.05_ep20</strong> at: <a href='https://wandb.ai/jackjack170827-uc-san-diego/cse158-project-rating/runs/kmmumnau' target=\"_blank\">https://wandb.ai/jackjack170827-uc-san-diego/cse158-project-rating/runs/kmmumnau</a><br/> View project at: <a href='https://wandb.ai/jackjack170827-uc-san-diego/cse158-project-rating' target=\"_blank\">https://wandb.ai/jackjack170827-uc-san-diego/cse158-project-rating</a><br/>Synced 5 W&B file(s), 0 media file(s), 0 artifact file(s) and 0 other file(s)"
      ],
      "text/plain": [
       "<IPython.core.display.HTML object>"
      ]
     },
     "metadata": {},
     "output_type": "display_data"
    },
    {
     "data": {
      "text/html": [
       "Find logs at: <code>./wandb/run-20241203_001142-kmmumnau/logs</code>"
      ],
      "text/plain": [
       "<IPython.core.display.HTML object>"
      ]
     },
     "metadata": {},
     "output_type": "display_data"
    },
    {
     "data": {
      "text/html": [
       "Tracking run with wandb version 0.18.7"
      ],
      "text/plain": [
       "<IPython.core.display.HTML object>"
      ]
     },
     "metadata": {},
     "output_type": "display_data"
    },
    {
     "data": {
      "text/html": [
       "Run data is saved locally in <code>/Users/julie/cse158-project/wandb/run-20241203_001213-o3ql3u09</code>"
      ],
      "text/plain": [
       "<IPython.core.display.HTML object>"
      ]
     },
     "metadata": {},
     "output_type": "display_data"
    },
    {
     "data": {
      "text/html": [
       "Syncing run <strong><a href='https://wandb.ai/jackjack170827-uc-san-diego/cse158-project-rating/runs/o3ql3u09' target=\"_blank\">SVD_f50_lr0.005_reg0.05_ep50</a></strong> to <a href='https://wandb.ai/jackjack170827-uc-san-diego/cse158-project-rating' target=\"_blank\">Weights & Biases</a> (<a href='https://wandb.me/developer-guide' target=\"_blank\">docs</a>)<br/>"
      ],
      "text/plain": [
       "<IPython.core.display.HTML object>"
      ]
     },
     "metadata": {},
     "output_type": "display_data"
    },
    {
     "data": {
      "text/html": [
       " View project at <a href='https://wandb.ai/jackjack170827-uc-san-diego/cse158-project-rating' target=\"_blank\">https://wandb.ai/jackjack170827-uc-san-diego/cse158-project-rating</a>"
      ],
      "text/plain": [
       "<IPython.core.display.HTML object>"
      ]
     },
     "metadata": {},
     "output_type": "display_data"
    },
    {
     "data": {
      "text/html": [
       " View run at <a href='https://wandb.ai/jackjack170827-uc-san-diego/cse158-project-rating/runs/o3ql3u09' target=\"_blank\">https://wandb.ai/jackjack170827-uc-san-diego/cse158-project-rating/runs/o3ql3u09</a>"
      ],
      "text/plain": [
       "<IPython.core.display.HTML object>"
      ]
     },
     "metadata": {},
     "output_type": "display_data"
    },
    {
     "data": {
      "text/html": [
       "\n",
       "    <style>\n",
       "        .wandb-row {\n",
       "            display: flex;\n",
       "            flex-direction: row;\n",
       "            flex-wrap: wrap;\n",
       "            justify-content: flex-start;\n",
       "            width: 100%;\n",
       "        }\n",
       "        .wandb-col {\n",
       "            display: flex;\n",
       "            flex-direction: column;\n",
       "            flex-basis: 100%;\n",
       "            flex: 1;\n",
       "            padding: 10px;\n",
       "        }\n",
       "    </style>\n",
       "<div class=\"wandb-row\"><div class=\"wandb-col\"><h3>Run history:</h3><br/><table class=\"wandb\"><tr><td>avg_val_MAE</td><td>▁</td></tr><tr><td>avg_val_MSE</td><td>▁</td></tr><tr><td>avg_val_RMSE</td><td>▁</td></tr><tr><td>fold_val_MAE</td><td>▁▁█▅▄</td></tr><tr><td>fold_val_MSE</td><td>▁▁█▄▄</td></tr><tr><td>fold_val_RMSE</td><td>▁▁█▄▄</td></tr></table><br/></div><div class=\"wandb-col\"><h3>Run summary:</h3><br/><table class=\"wandb\"><tr><td>avg_val_MAE</td><td>1.14032</td></tr><tr><td>avg_val_MSE</td><td>1.97833</td></tr><tr><td>avg_val_RMSE</td><td>1.40653</td></tr><tr><td>fold_val_MAE</td><td>1.14034</td></tr><tr><td>fold_val_MSE</td><td>1.97811</td></tr><tr><td>fold_val_RMSE</td><td>1.40645</td></tr></table><br/></div></div>"
      ],
      "text/plain": [
       "<IPython.core.display.HTML object>"
      ]
     },
     "metadata": {},
     "output_type": "display_data"
    },
    {
     "data": {
      "text/html": [
       " View run <strong style=\"color:#cdcd00\">SVD_f50_lr0.005_reg0.05_ep50</strong> at: <a href='https://wandb.ai/jackjack170827-uc-san-diego/cse158-project-rating/runs/o3ql3u09' target=\"_blank\">https://wandb.ai/jackjack170827-uc-san-diego/cse158-project-rating/runs/o3ql3u09</a><br/> View project at: <a href='https://wandb.ai/jackjack170827-uc-san-diego/cse158-project-rating' target=\"_blank\">https://wandb.ai/jackjack170827-uc-san-diego/cse158-project-rating</a><br/>Synced 5 W&B file(s), 0 media file(s), 0 artifact file(s) and 0 other file(s)"
      ],
      "text/plain": [
       "<IPython.core.display.HTML object>"
      ]
     },
     "metadata": {},
     "output_type": "display_data"
    },
    {
     "data": {
      "text/html": [
       "Find logs at: <code>./wandb/run-20241203_001213-o3ql3u09/logs</code>"
      ],
      "text/plain": [
       "<IPython.core.display.HTML object>"
      ]
     },
     "metadata": {},
     "output_type": "display_data"
    },
    {
     "data": {
      "text/html": [
       "Tracking run with wandb version 0.18.7"
      ],
      "text/plain": [
       "<IPython.core.display.HTML object>"
      ]
     },
     "metadata": {},
     "output_type": "display_data"
    },
    {
     "data": {
      "text/html": [
       "Run data is saved locally in <code>/Users/julie/cse158-project/wandb/run-20241203_001309-6kr4tbvf</code>"
      ],
      "text/plain": [
       "<IPython.core.display.HTML object>"
      ]
     },
     "metadata": {},
     "output_type": "display_data"
    },
    {
     "data": {
      "text/html": [
       "Syncing run <strong><a href='https://wandb.ai/jackjack170827-uc-san-diego/cse158-project-rating/runs/6kr4tbvf' target=\"_blank\">SVD_f50_lr0.005_reg0.05_ep100</a></strong> to <a href='https://wandb.ai/jackjack170827-uc-san-diego/cse158-project-rating' target=\"_blank\">Weights & Biases</a> (<a href='https://wandb.me/developer-guide' target=\"_blank\">docs</a>)<br/>"
      ],
      "text/plain": [
       "<IPython.core.display.HTML object>"
      ]
     },
     "metadata": {},
     "output_type": "display_data"
    },
    {
     "data": {
      "text/html": [
       " View project at <a href='https://wandb.ai/jackjack170827-uc-san-diego/cse158-project-rating' target=\"_blank\">https://wandb.ai/jackjack170827-uc-san-diego/cse158-project-rating</a>"
      ],
      "text/plain": [
       "<IPython.core.display.HTML object>"
      ]
     },
     "metadata": {},
     "output_type": "display_data"
    },
    {
     "data": {
      "text/html": [
       " View run at <a href='https://wandb.ai/jackjack170827-uc-san-diego/cse158-project-rating/runs/6kr4tbvf' target=\"_blank\">https://wandb.ai/jackjack170827-uc-san-diego/cse158-project-rating/runs/6kr4tbvf</a>"
      ],
      "text/plain": [
       "<IPython.core.display.HTML object>"
      ]
     },
     "metadata": {},
     "output_type": "display_data"
    },
    {
     "data": {
      "text/html": [
       "\n",
       "    <style>\n",
       "        .wandb-row {\n",
       "            display: flex;\n",
       "            flex-direction: row;\n",
       "            flex-wrap: wrap;\n",
       "            justify-content: flex-start;\n",
       "            width: 100%;\n",
       "        }\n",
       "        .wandb-col {\n",
       "            display: flex;\n",
       "            flex-direction: column;\n",
       "            flex-basis: 100%;\n",
       "            flex: 1;\n",
       "            padding: 10px;\n",
       "        }\n",
       "    </style>\n",
       "<div class=\"wandb-row\"><div class=\"wandb-col\"><h3>Run history:</h3><br/><table class=\"wandb\"><tr><td>avg_val_MAE</td><td>▁</td></tr><tr><td>avg_val_MSE</td><td>▁</td></tr><tr><td>avg_val_RMSE</td><td>▁</td></tr><tr><td>fold_val_MAE</td><td>▅▃█▇▁</td></tr><tr><td>fold_val_MSE</td><td>▃▃█▅▁</td></tr><tr><td>fold_val_RMSE</td><td>▃▃█▅▁</td></tr></table><br/></div><div class=\"wandb-col\"><h3>Run summary:</h3><br/><table class=\"wandb\"><tr><td>avg_val_MAE</td><td>1.13414</td></tr><tr><td>avg_val_MSE</td><td>1.97908</td></tr><tr><td>avg_val_RMSE</td><td>1.40679</td></tr><tr><td>fold_val_MAE</td><td>1.13058</td></tr><tr><td>fold_val_MSE</td><td>1.96775</td></tr><tr><td>fold_val_RMSE</td><td>1.40276</td></tr></table><br/></div></div>"
      ],
      "text/plain": [
       "<IPython.core.display.HTML object>"
      ]
     },
     "metadata": {},
     "output_type": "display_data"
    },
    {
     "data": {
      "text/html": [
       " View run <strong style=\"color:#cdcd00\">SVD_f50_lr0.005_reg0.05_ep100</strong> at: <a href='https://wandb.ai/jackjack170827-uc-san-diego/cse158-project-rating/runs/6kr4tbvf' target=\"_blank\">https://wandb.ai/jackjack170827-uc-san-diego/cse158-project-rating/runs/6kr4tbvf</a><br/> View project at: <a href='https://wandb.ai/jackjack170827-uc-san-diego/cse158-project-rating' target=\"_blank\">https://wandb.ai/jackjack170827-uc-san-diego/cse158-project-rating</a><br/>Synced 5 W&B file(s), 0 media file(s), 0 artifact file(s) and 0 other file(s)"
      ],
      "text/plain": [
       "<IPython.core.display.HTML object>"
      ]
     },
     "metadata": {},
     "output_type": "display_data"
    },
    {
     "data": {
      "text/html": [
       "Find logs at: <code>./wandb/run-20241203_001309-6kr4tbvf/logs</code>"
      ],
      "text/plain": [
       "<IPython.core.display.HTML object>"
      ]
     },
     "metadata": {},
     "output_type": "display_data"
    },
    {
     "data": {
      "text/html": [
       "Tracking run with wandb version 0.18.7"
      ],
      "text/plain": [
       "<IPython.core.display.HTML object>"
      ]
     },
     "metadata": {},
     "output_type": "display_data"
    },
    {
     "data": {
      "text/html": [
       "Run data is saved locally in <code>/Users/julie/cse158-project/wandb/run-20241203_001446-gtonks5j</code>"
      ],
      "text/plain": [
       "<IPython.core.display.HTML object>"
      ]
     },
     "metadata": {},
     "output_type": "display_data"
    },
    {
     "data": {
      "text/html": [
       "Syncing run <strong><a href='https://wandb.ai/jackjack170827-uc-san-diego/cse158-project-rating/runs/gtonks5j' target=\"_blank\">SVD_f50_lr0.005_reg0.05_ep200</a></strong> to <a href='https://wandb.ai/jackjack170827-uc-san-diego/cse158-project-rating' target=\"_blank\">Weights & Biases</a> (<a href='https://wandb.me/developer-guide' target=\"_blank\">docs</a>)<br/>"
      ],
      "text/plain": [
       "<IPython.core.display.HTML object>"
      ]
     },
     "metadata": {},
     "output_type": "display_data"
    },
    {
     "data": {
      "text/html": [
       " View project at <a href='https://wandb.ai/jackjack170827-uc-san-diego/cse158-project-rating' target=\"_blank\">https://wandb.ai/jackjack170827-uc-san-diego/cse158-project-rating</a>"
      ],
      "text/plain": [
       "<IPython.core.display.HTML object>"
      ]
     },
     "metadata": {},
     "output_type": "display_data"
    },
    {
     "data": {
      "text/html": [
       " View run at <a href='https://wandb.ai/jackjack170827-uc-san-diego/cse158-project-rating/runs/gtonks5j' target=\"_blank\">https://wandb.ai/jackjack170827-uc-san-diego/cse158-project-rating/runs/gtonks5j</a>"
      ],
      "text/plain": [
       "<IPython.core.display.HTML object>"
      ]
     },
     "metadata": {},
     "output_type": "display_data"
    },
    {
     "data": {
      "text/html": [
       "\n",
       "    <style>\n",
       "        .wandb-row {\n",
       "            display: flex;\n",
       "            flex-direction: row;\n",
       "            flex-wrap: wrap;\n",
       "            justify-content: flex-start;\n",
       "            width: 100%;\n",
       "        }\n",
       "        .wandb-col {\n",
       "            display: flex;\n",
       "            flex-direction: column;\n",
       "            flex-basis: 100%;\n",
       "            flex: 1;\n",
       "            padding: 10px;\n",
       "        }\n",
       "    </style>\n",
       "<div class=\"wandb-row\"><div class=\"wandb-col\"><h3>Run history:</h3><br/><table class=\"wandb\"><tr><td>avg_val_MAE</td><td>▁</td></tr><tr><td>avg_val_MSE</td><td>▁</td></tr><tr><td>avg_val_RMSE</td><td>▁</td></tr><tr><td>fold_val_MAE</td><td>▆▆▁▅█</td></tr><tr><td>fold_val_MSE</td><td>▆▄▁▄█</td></tr><tr><td>fold_val_RMSE</td><td>▆▄▁▄█</td></tr></table><br/></div><div class=\"wandb-col\"><h3>Run summary:</h3><br/><table class=\"wandb\"><tr><td>avg_val_MAE</td><td>1.13401</td></tr><tr><td>avg_val_MSE</td><td>1.98233</td></tr><tr><td>avg_val_RMSE</td><td>1.40795</td></tr><tr><td>fold_val_MAE</td><td>1.13676</td></tr><tr><td>fold_val_MSE</td><td>1.99407</td></tr><tr><td>fold_val_RMSE</td><td>1.41212</td></tr></table><br/></div></div>"
      ],
      "text/plain": [
       "<IPython.core.display.HTML object>"
      ]
     },
     "metadata": {},
     "output_type": "display_data"
    },
    {
     "data": {
      "text/html": [
       " View run <strong style=\"color:#cdcd00\">SVD_f50_lr0.005_reg0.05_ep200</strong> at: <a href='https://wandb.ai/jackjack170827-uc-san-diego/cse158-project-rating/runs/gtonks5j' target=\"_blank\">https://wandb.ai/jackjack170827-uc-san-diego/cse158-project-rating/runs/gtonks5j</a><br/> View project at: <a href='https://wandb.ai/jackjack170827-uc-san-diego/cse158-project-rating' target=\"_blank\">https://wandb.ai/jackjack170827-uc-san-diego/cse158-project-rating</a><br/>Synced 5 W&B file(s), 0 media file(s), 0 artifact file(s) and 0 other file(s)"
      ],
      "text/plain": [
       "<IPython.core.display.HTML object>"
      ]
     },
     "metadata": {},
     "output_type": "display_data"
    },
    {
     "data": {
      "text/html": [
       "Find logs at: <code>./wandb/run-20241203_001446-gtonks5j/logs</code>"
      ],
      "text/plain": [
       "<IPython.core.display.HTML object>"
      ]
     },
     "metadata": {},
     "output_type": "display_data"
    },
    {
     "data": {
      "text/html": [
       "Tracking run with wandb version 0.18.7"
      ],
      "text/plain": [
       "<IPython.core.display.HTML object>"
      ]
     },
     "metadata": {},
     "output_type": "display_data"
    },
    {
     "data": {
      "text/html": [
       "Run data is saved locally in <code>/Users/julie/cse158-project/wandb/run-20241203_001745-gkm6e4dp</code>"
      ],
      "text/plain": [
       "<IPython.core.display.HTML object>"
      ]
     },
     "metadata": {},
     "output_type": "display_data"
    },
    {
     "data": {
      "text/html": [
       "Syncing run <strong><a href='https://wandb.ai/jackjack170827-uc-san-diego/cse158-project-rating/runs/gkm6e4dp' target=\"_blank\">SVD_f50_lr0.005_reg0.1_ep20</a></strong> to <a href='https://wandb.ai/jackjack170827-uc-san-diego/cse158-project-rating' target=\"_blank\">Weights & Biases</a> (<a href='https://wandb.me/developer-guide' target=\"_blank\">docs</a>)<br/>"
      ],
      "text/plain": [
       "<IPython.core.display.HTML object>"
      ]
     },
     "metadata": {},
     "output_type": "display_data"
    },
    {
     "data": {
      "text/html": [
       " View project at <a href='https://wandb.ai/jackjack170827-uc-san-diego/cse158-project-rating' target=\"_blank\">https://wandb.ai/jackjack170827-uc-san-diego/cse158-project-rating</a>"
      ],
      "text/plain": [
       "<IPython.core.display.HTML object>"
      ]
     },
     "metadata": {},
     "output_type": "display_data"
    },
    {
     "data": {
      "text/html": [
       " View run at <a href='https://wandb.ai/jackjack170827-uc-san-diego/cse158-project-rating/runs/gkm6e4dp' target=\"_blank\">https://wandb.ai/jackjack170827-uc-san-diego/cse158-project-rating/runs/gkm6e4dp</a>"
      ],
      "text/plain": [
       "<IPython.core.display.HTML object>"
      ]
     },
     "metadata": {},
     "output_type": "display_data"
    },
    {
     "data": {
      "text/html": [
       "\n",
       "    <style>\n",
       "        .wandb-row {\n",
       "            display: flex;\n",
       "            flex-direction: row;\n",
       "            flex-wrap: wrap;\n",
       "            justify-content: flex-start;\n",
       "            width: 100%;\n",
       "        }\n",
       "        .wandb-col {\n",
       "            display: flex;\n",
       "            flex-direction: column;\n",
       "            flex-basis: 100%;\n",
       "            flex: 1;\n",
       "            padding: 10px;\n",
       "        }\n",
       "    </style>\n",
       "<div class=\"wandb-row\"><div class=\"wandb-col\"><h3>Run history:</h3><br/><table class=\"wandb\"><tr><td>avg_val_MAE</td><td>▁</td></tr><tr><td>avg_val_MSE</td><td>▁</td></tr><tr><td>avg_val_RMSE</td><td>▁</td></tr><tr><td>fold_val_MAE</td><td>▇█▃▃▁</td></tr><tr><td>fold_val_MSE</td><td>▆█▄▃▁</td></tr><tr><td>fold_val_RMSE</td><td>▆█▄▃▁</td></tr></table><br/></div><div class=\"wandb-col\"><h3>Run summary:</h3><br/><table class=\"wandb\"><tr><td>avg_val_MAE</td><td>1.16026</td></tr><tr><td>avg_val_MSE</td><td>1.99944</td></tr><tr><td>avg_val_RMSE</td><td>1.41401</td></tr><tr><td>fold_val_MAE</td><td>1.15725</td></tr><tr><td>fold_val_MSE</td><td>1.98708</td></tr><tr><td>fold_val_RMSE</td><td>1.40964</td></tr></table><br/></div></div>"
      ],
      "text/plain": [
       "<IPython.core.display.HTML object>"
      ]
     },
     "metadata": {},
     "output_type": "display_data"
    },
    {
     "data": {
      "text/html": [
       " View run <strong style=\"color:#cdcd00\">SVD_f50_lr0.005_reg0.1_ep20</strong> at: <a href='https://wandb.ai/jackjack170827-uc-san-diego/cse158-project-rating/runs/gkm6e4dp' target=\"_blank\">https://wandb.ai/jackjack170827-uc-san-diego/cse158-project-rating/runs/gkm6e4dp</a><br/> View project at: <a href='https://wandb.ai/jackjack170827-uc-san-diego/cse158-project-rating' target=\"_blank\">https://wandb.ai/jackjack170827-uc-san-diego/cse158-project-rating</a><br/>Synced 5 W&B file(s), 0 media file(s), 0 artifact file(s) and 0 other file(s)"
      ],
      "text/plain": [
       "<IPython.core.display.HTML object>"
      ]
     },
     "metadata": {},
     "output_type": "display_data"
    },
    {
     "data": {
      "text/html": [
       "Find logs at: <code>./wandb/run-20241203_001745-gkm6e4dp/logs</code>"
      ],
      "text/plain": [
       "<IPython.core.display.HTML object>"
      ]
     },
     "metadata": {},
     "output_type": "display_data"
    },
    {
     "data": {
      "text/html": [
       "Tracking run with wandb version 0.18.7"
      ],
      "text/plain": [
       "<IPython.core.display.HTML object>"
      ]
     },
     "metadata": {},
     "output_type": "display_data"
    },
    {
     "data": {
      "text/html": [
       "Run data is saved locally in <code>/Users/julie/cse158-project/wandb/run-20241203_001817-fy1lu9di</code>"
      ],
      "text/plain": [
       "<IPython.core.display.HTML object>"
      ]
     },
     "metadata": {},
     "output_type": "display_data"
    },
    {
     "data": {
      "text/html": [
       "Syncing run <strong><a href='https://wandb.ai/jackjack170827-uc-san-diego/cse158-project-rating/runs/fy1lu9di' target=\"_blank\">SVD_f50_lr0.005_reg0.1_ep50</a></strong> to <a href='https://wandb.ai/jackjack170827-uc-san-diego/cse158-project-rating' target=\"_blank\">Weights & Biases</a> (<a href='https://wandb.me/developer-guide' target=\"_blank\">docs</a>)<br/>"
      ],
      "text/plain": [
       "<IPython.core.display.HTML object>"
      ]
     },
     "metadata": {},
     "output_type": "display_data"
    },
    {
     "data": {
      "text/html": [
       " View project at <a href='https://wandb.ai/jackjack170827-uc-san-diego/cse158-project-rating' target=\"_blank\">https://wandb.ai/jackjack170827-uc-san-diego/cse158-project-rating</a>"
      ],
      "text/plain": [
       "<IPython.core.display.HTML object>"
      ]
     },
     "metadata": {},
     "output_type": "display_data"
    },
    {
     "data": {
      "text/html": [
       " View run at <a href='https://wandb.ai/jackjack170827-uc-san-diego/cse158-project-rating/runs/fy1lu9di' target=\"_blank\">https://wandb.ai/jackjack170827-uc-san-diego/cse158-project-rating/runs/fy1lu9di</a>"
      ],
      "text/plain": [
       "<IPython.core.display.HTML object>"
      ]
     },
     "metadata": {},
     "output_type": "display_data"
    },
    {
     "data": {
      "text/html": [
       "\n",
       "    <style>\n",
       "        .wandb-row {\n",
       "            display: flex;\n",
       "            flex-direction: row;\n",
       "            flex-wrap: wrap;\n",
       "            justify-content: flex-start;\n",
       "            width: 100%;\n",
       "        }\n",
       "        .wandb-col {\n",
       "            display: flex;\n",
       "            flex-direction: column;\n",
       "            flex-basis: 100%;\n",
       "            flex: 1;\n",
       "            padding: 10px;\n",
       "        }\n",
       "    </style>\n",
       "<div class=\"wandb-row\"><div class=\"wandb-col\"><h3>Run history:</h3><br/><table class=\"wandb\"><tr><td>avg_val_MAE</td><td>▁</td></tr><tr><td>avg_val_MSE</td><td>▁</td></tr><tr><td>avg_val_RMSE</td><td>▁</td></tr><tr><td>fold_val_MAE</td><td>▇▇▁█▅</td></tr><tr><td>fold_val_MSE</td><td>▆█▁█▅</td></tr><tr><td>fold_val_RMSE</td><td>▆█▁█▅</td></tr></table><br/></div><div class=\"wandb-col\"><h3>Run summary:</h3><br/><table class=\"wandb\"><tr><td>avg_val_MAE</td><td>1.14466</td></tr><tr><td>avg_val_MSE</td><td>1.97975</td></tr><tr><td>avg_val_RMSE</td><td>1.40703</td></tr><tr><td>fold_val_MAE</td><td>1.14389</td></tr><tr><td>fold_val_MSE</td><td>1.97824</td></tr><tr><td>fold_val_RMSE</td><td>1.4065</td></tr></table><br/></div></div>"
      ],
      "text/plain": [
       "<IPython.core.display.HTML object>"
      ]
     },
     "metadata": {},
     "output_type": "display_data"
    },
    {
     "data": {
      "text/html": [
       " View run <strong style=\"color:#cdcd00\">SVD_f50_lr0.005_reg0.1_ep50</strong> at: <a href='https://wandb.ai/jackjack170827-uc-san-diego/cse158-project-rating/runs/fy1lu9di' target=\"_blank\">https://wandb.ai/jackjack170827-uc-san-diego/cse158-project-rating/runs/fy1lu9di</a><br/> View project at: <a href='https://wandb.ai/jackjack170827-uc-san-diego/cse158-project-rating' target=\"_blank\">https://wandb.ai/jackjack170827-uc-san-diego/cse158-project-rating</a><br/>Synced 5 W&B file(s), 0 media file(s), 0 artifact file(s) and 0 other file(s)"
      ],
      "text/plain": [
       "<IPython.core.display.HTML object>"
      ]
     },
     "metadata": {},
     "output_type": "display_data"
    },
    {
     "data": {
      "text/html": [
       "Find logs at: <code>./wandb/run-20241203_001817-fy1lu9di/logs</code>"
      ],
      "text/plain": [
       "<IPython.core.display.HTML object>"
      ]
     },
     "metadata": {},
     "output_type": "display_data"
    },
    {
     "data": {
      "text/html": [
       "Tracking run with wandb version 0.18.7"
      ],
      "text/plain": [
       "<IPython.core.display.HTML object>"
      ]
     },
     "metadata": {},
     "output_type": "display_data"
    },
    {
     "data": {
      "text/html": [
       "Run data is saved locally in <code>/Users/julie/cse158-project/wandb/run-20241203_001920-1kmkwe1v</code>"
      ],
      "text/plain": [
       "<IPython.core.display.HTML object>"
      ]
     },
     "metadata": {},
     "output_type": "display_data"
    },
    {
     "data": {
      "text/html": [
       "Syncing run <strong><a href='https://wandb.ai/jackjack170827-uc-san-diego/cse158-project-rating/runs/1kmkwe1v' target=\"_blank\">SVD_f50_lr0.005_reg0.1_ep100</a></strong> to <a href='https://wandb.ai/jackjack170827-uc-san-diego/cse158-project-rating' target=\"_blank\">Weights & Biases</a> (<a href='https://wandb.me/developer-guide' target=\"_blank\">docs</a>)<br/>"
      ],
      "text/plain": [
       "<IPython.core.display.HTML object>"
      ]
     },
     "metadata": {},
     "output_type": "display_data"
    },
    {
     "data": {
      "text/html": [
       " View project at <a href='https://wandb.ai/jackjack170827-uc-san-diego/cse158-project-rating' target=\"_blank\">https://wandb.ai/jackjack170827-uc-san-diego/cse158-project-rating</a>"
      ],
      "text/plain": [
       "<IPython.core.display.HTML object>"
      ]
     },
     "metadata": {},
     "output_type": "display_data"
    },
    {
     "data": {
      "text/html": [
       " View run at <a href='https://wandb.ai/jackjack170827-uc-san-diego/cse158-project-rating/runs/1kmkwe1v' target=\"_blank\">https://wandb.ai/jackjack170827-uc-san-diego/cse158-project-rating/runs/1kmkwe1v</a>"
      ],
      "text/plain": [
       "<IPython.core.display.HTML object>"
      ]
     },
     "metadata": {},
     "output_type": "display_data"
    },
    {
     "data": {
      "text/html": [
       "\n",
       "    <style>\n",
       "        .wandb-row {\n",
       "            display: flex;\n",
       "            flex-direction: row;\n",
       "            flex-wrap: wrap;\n",
       "            justify-content: flex-start;\n",
       "            width: 100%;\n",
       "        }\n",
       "        .wandb-col {\n",
       "            display: flex;\n",
       "            flex-direction: column;\n",
       "            flex-basis: 100%;\n",
       "            flex: 1;\n",
       "            padding: 10px;\n",
       "        }\n",
       "    </style>\n",
       "<div class=\"wandb-row\"><div class=\"wandb-col\"><h3>Run history:</h3><br/><table class=\"wandb\"><tr><td>avg_val_MAE</td><td>▁</td></tr><tr><td>avg_val_MSE</td><td>▁</td></tr><tr><td>avg_val_RMSE</td><td>▁</td></tr><tr><td>fold_val_MAE</td><td>█▇▂▂▁</td></tr><tr><td>fold_val_MSE</td><td>█▇▃▂▁</td></tr><tr><td>fold_val_RMSE</td><td>█▇▃▂▁</td></tr></table><br/></div><div class=\"wandb-col\"><h3>Run summary:</h3><br/><table class=\"wandb\"><tr><td>avg_val_MAE</td><td>1.13882</td></tr><tr><td>avg_val_MSE</td><td>1.98005</td></tr><tr><td>avg_val_RMSE</td><td>1.40714</td></tr><tr><td>fold_val_MAE</td><td>1.13632</td></tr><tr><td>fold_val_MSE</td><td>1.971</td></tr><tr><td>fold_val_RMSE</td><td>1.40392</td></tr></table><br/></div></div>"
      ],
      "text/plain": [
       "<IPython.core.display.HTML object>"
      ]
     },
     "metadata": {},
     "output_type": "display_data"
    },
    {
     "data": {
      "text/html": [
       " View run <strong style=\"color:#cdcd00\">SVD_f50_lr0.005_reg0.1_ep100</strong> at: <a href='https://wandb.ai/jackjack170827-uc-san-diego/cse158-project-rating/runs/1kmkwe1v' target=\"_blank\">https://wandb.ai/jackjack170827-uc-san-diego/cse158-project-rating/runs/1kmkwe1v</a><br/> View project at: <a href='https://wandb.ai/jackjack170827-uc-san-diego/cse158-project-rating' target=\"_blank\">https://wandb.ai/jackjack170827-uc-san-diego/cse158-project-rating</a><br/>Synced 5 W&B file(s), 0 media file(s), 0 artifact file(s) and 0 other file(s)"
      ],
      "text/plain": [
       "<IPython.core.display.HTML object>"
      ]
     },
     "metadata": {},
     "output_type": "display_data"
    },
    {
     "data": {
      "text/html": [
       "Find logs at: <code>./wandb/run-20241203_001920-1kmkwe1v/logs</code>"
      ],
      "text/plain": [
       "<IPython.core.display.HTML object>"
      ]
     },
     "metadata": {},
     "output_type": "display_data"
    },
    {
     "data": {
      "text/html": [
       "Tracking run with wandb version 0.18.7"
      ],
      "text/plain": [
       "<IPython.core.display.HTML object>"
      ]
     },
     "metadata": {},
     "output_type": "display_data"
    },
    {
     "data": {
      "text/html": [
       "Run data is saved locally in <code>/Users/julie/cse158-project/wandb/run-20241203_002109-xjucr6gj</code>"
      ],
      "text/plain": [
       "<IPython.core.display.HTML object>"
      ]
     },
     "metadata": {},
     "output_type": "display_data"
    },
    {
     "data": {
      "text/html": [
       "Syncing run <strong><a href='https://wandb.ai/jackjack170827-uc-san-diego/cse158-project-rating/runs/xjucr6gj' target=\"_blank\">SVD_f50_lr0.005_reg0.1_ep200</a></strong> to <a href='https://wandb.ai/jackjack170827-uc-san-diego/cse158-project-rating' target=\"_blank\">Weights & Biases</a> (<a href='https://wandb.me/developer-guide' target=\"_blank\">docs</a>)<br/>"
      ],
      "text/plain": [
       "<IPython.core.display.HTML object>"
      ]
     },
     "metadata": {},
     "output_type": "display_data"
    },
    {
     "data": {
      "text/html": [
       " View project at <a href='https://wandb.ai/jackjack170827-uc-san-diego/cse158-project-rating' target=\"_blank\">https://wandb.ai/jackjack170827-uc-san-diego/cse158-project-rating</a>"
      ],
      "text/plain": [
       "<IPython.core.display.HTML object>"
      ]
     },
     "metadata": {},
     "output_type": "display_data"
    },
    {
     "data": {
      "text/html": [
       " View run at <a href='https://wandb.ai/jackjack170827-uc-san-diego/cse158-project-rating/runs/xjucr6gj' target=\"_blank\">https://wandb.ai/jackjack170827-uc-san-diego/cse158-project-rating/runs/xjucr6gj</a>"
      ],
      "text/plain": [
       "<IPython.core.display.HTML object>"
      ]
     },
     "metadata": {},
     "output_type": "display_data"
    },
    {
     "data": {
      "text/html": [
       "\n",
       "    <style>\n",
       "        .wandb-row {\n",
       "            display: flex;\n",
       "            flex-direction: row;\n",
       "            flex-wrap: wrap;\n",
       "            justify-content: flex-start;\n",
       "            width: 100%;\n",
       "        }\n",
       "        .wandb-col {\n",
       "            display: flex;\n",
       "            flex-direction: column;\n",
       "            flex-basis: 100%;\n",
       "            flex: 1;\n",
       "            padding: 10px;\n",
       "        }\n",
       "    </style>\n",
       "<div class=\"wandb-row\"><div class=\"wandb-col\"><h3>Run history:</h3><br/><table class=\"wandb\"><tr><td>avg_val_MAE</td><td>▁</td></tr><tr><td>avg_val_MSE</td><td>▁</td></tr><tr><td>avg_val_RMSE</td><td>▁</td></tr><tr><td>fold_val_MAE</td><td>▃▅█▁▁</td></tr><tr><td>fold_val_MSE</td><td>▄▄█▂▁</td></tr><tr><td>fold_val_RMSE</td><td>▄▄█▂▁</td></tr></table><br/></div><div class=\"wandb-col\"><h3>Run summary:</h3><br/><table class=\"wandb\"><tr><td>avg_val_MAE</td><td>1.13973</td></tr><tr><td>avg_val_MSE</td><td>1.98607</td></tr><tr><td>avg_val_RMSE</td><td>1.40927</td></tr><tr><td>fold_val_MAE</td><td>1.13735</td></tr><tr><td>fold_val_MSE</td><td>1.97308</td></tr><tr><td>fold_val_RMSE</td><td>1.40466</td></tr></table><br/></div></div>"
      ],
      "text/plain": [
       "<IPython.core.display.HTML object>"
      ]
     },
     "metadata": {},
     "output_type": "display_data"
    },
    {
     "data": {
      "text/html": [
       " View run <strong style=\"color:#cdcd00\">SVD_f50_lr0.005_reg0.1_ep200</strong> at: <a href='https://wandb.ai/jackjack170827-uc-san-diego/cse158-project-rating/runs/xjucr6gj' target=\"_blank\">https://wandb.ai/jackjack170827-uc-san-diego/cse158-project-rating/runs/xjucr6gj</a><br/> View project at: <a href='https://wandb.ai/jackjack170827-uc-san-diego/cse158-project-rating' target=\"_blank\">https://wandb.ai/jackjack170827-uc-san-diego/cse158-project-rating</a><br/>Synced 5 W&B file(s), 0 media file(s), 0 artifact file(s) and 0 other file(s)"
      ],
      "text/plain": [
       "<IPython.core.display.HTML object>"
      ]
     },
     "metadata": {},
     "output_type": "display_data"
    },
    {
     "data": {
      "text/html": [
       "Find logs at: <code>./wandb/run-20241203_002109-xjucr6gj/logs</code>"
      ],
      "text/plain": [
       "<IPython.core.display.HTML object>"
      ]
     },
     "metadata": {},
     "output_type": "display_data"
    },
    {
     "data": {
      "text/html": [
       "Tracking run with wandb version 0.18.7"
      ],
      "text/plain": [
       "<IPython.core.display.HTML object>"
      ]
     },
     "metadata": {},
     "output_type": "display_data"
    },
    {
     "data": {
      "text/html": [
       "Run data is saved locally in <code>/Users/julie/cse158-project/wandb/run-20241203_002417-b0bny4fo</code>"
      ],
      "text/plain": [
       "<IPython.core.display.HTML object>"
      ]
     },
     "metadata": {},
     "output_type": "display_data"
    },
    {
     "data": {
      "text/html": [
       "Syncing run <strong><a href='https://wandb.ai/jackjack170827-uc-san-diego/cse158-project-rating/runs/b0bny4fo' target=\"_blank\">SVD_f50_lr0.01_reg0.02_ep20</a></strong> to <a href='https://wandb.ai/jackjack170827-uc-san-diego/cse158-project-rating' target=\"_blank\">Weights & Biases</a> (<a href='https://wandb.me/developer-guide' target=\"_blank\">docs</a>)<br/>"
      ],
      "text/plain": [
       "<IPython.core.display.HTML object>"
      ]
     },
     "metadata": {},
     "output_type": "display_data"
    },
    {
     "data": {
      "text/html": [
       " View project at <a href='https://wandb.ai/jackjack170827-uc-san-diego/cse158-project-rating' target=\"_blank\">https://wandb.ai/jackjack170827-uc-san-diego/cse158-project-rating</a>"
      ],
      "text/plain": [
       "<IPython.core.display.HTML object>"
      ]
     },
     "metadata": {},
     "output_type": "display_data"
    },
    {
     "data": {
      "text/html": [
       " View run at <a href='https://wandb.ai/jackjack170827-uc-san-diego/cse158-project-rating/runs/b0bny4fo' target=\"_blank\">https://wandb.ai/jackjack170827-uc-san-diego/cse158-project-rating/runs/b0bny4fo</a>"
      ],
      "text/plain": [
       "<IPython.core.display.HTML object>"
      ]
     },
     "metadata": {},
     "output_type": "display_data"
    },
    {
     "data": {
      "text/html": [
       "\n",
       "    <style>\n",
       "        .wandb-row {\n",
       "            display: flex;\n",
       "            flex-direction: row;\n",
       "            flex-wrap: wrap;\n",
       "            justify-content: flex-start;\n",
       "            width: 100%;\n",
       "        }\n",
       "        .wandb-col {\n",
       "            display: flex;\n",
       "            flex-direction: column;\n",
       "            flex-basis: 100%;\n",
       "            flex: 1;\n",
       "            padding: 10px;\n",
       "        }\n",
       "    </style>\n",
       "<div class=\"wandb-row\"><div class=\"wandb-col\"><h3>Run history:</h3><br/><table class=\"wandb\"><tr><td>avg_val_MAE</td><td>▁</td></tr><tr><td>avg_val_MSE</td><td>▁</td></tr><tr><td>avg_val_RMSE</td><td>▁</td></tr><tr><td>fold_val_MAE</td><td>▇▁▄█▄</td></tr><tr><td>fold_val_MSE</td><td>█▁▆█▅</td></tr><tr><td>fold_val_RMSE</td><td>█▁▆█▅</td></tr></table><br/></div><div class=\"wandb-col\"><h3>Run summary:</h3><br/><table class=\"wandb\"><tr><td>avg_val_MAE</td><td>1.14069</td></tr><tr><td>avg_val_MSE</td><td>1.98132</td></tr><tr><td>avg_val_RMSE</td><td>1.40759</td></tr><tr><td>fold_val_MAE</td><td>1.14015</td></tr><tr><td>fold_val_MSE</td><td>1.97984</td></tr><tr><td>fold_val_RMSE</td><td>1.40707</td></tr></table><br/></div></div>"
      ],
      "text/plain": [
       "<IPython.core.display.HTML object>"
      ]
     },
     "metadata": {},
     "output_type": "display_data"
    },
    {
     "data": {
      "text/html": [
       " View run <strong style=\"color:#cdcd00\">SVD_f50_lr0.01_reg0.02_ep20</strong> at: <a href='https://wandb.ai/jackjack170827-uc-san-diego/cse158-project-rating/runs/b0bny4fo' target=\"_blank\">https://wandb.ai/jackjack170827-uc-san-diego/cse158-project-rating/runs/b0bny4fo</a><br/> View project at: <a href='https://wandb.ai/jackjack170827-uc-san-diego/cse158-project-rating' target=\"_blank\">https://wandb.ai/jackjack170827-uc-san-diego/cse158-project-rating</a><br/>Synced 5 W&B file(s), 0 media file(s), 0 artifact file(s) and 0 other file(s)"
      ],
      "text/plain": [
       "<IPython.core.display.HTML object>"
      ]
     },
     "metadata": {},
     "output_type": "display_data"
    },
    {
     "data": {
      "text/html": [
       "Find logs at: <code>./wandb/run-20241203_002417-b0bny4fo/logs</code>"
      ],
      "text/plain": [
       "<IPython.core.display.HTML object>"
      ]
     },
     "metadata": {},
     "output_type": "display_data"
    },
    {
     "data": {
      "text/html": [
       "Tracking run with wandb version 0.18.7"
      ],
      "text/plain": [
       "<IPython.core.display.HTML object>"
      ]
     },
     "metadata": {},
     "output_type": "display_data"
    },
    {
     "data": {
      "text/html": [
       "Run data is saved locally in <code>/Users/julie/cse158-project/wandb/run-20241203_002452-fl42uwg6</code>"
      ],
      "text/plain": [
       "<IPython.core.display.HTML object>"
      ]
     },
     "metadata": {},
     "output_type": "display_data"
    },
    {
     "data": {
      "text/html": [
       "Syncing run <strong><a href='https://wandb.ai/jackjack170827-uc-san-diego/cse158-project-rating/runs/fl42uwg6' target=\"_blank\">SVD_f50_lr0.01_reg0.02_ep50</a></strong> to <a href='https://wandb.ai/jackjack170827-uc-san-diego/cse158-project-rating' target=\"_blank\">Weights & Biases</a> (<a href='https://wandb.me/developer-guide' target=\"_blank\">docs</a>)<br/>"
      ],
      "text/plain": [
       "<IPython.core.display.HTML object>"
      ]
     },
     "metadata": {},
     "output_type": "display_data"
    },
    {
     "data": {
      "text/html": [
       " View project at <a href='https://wandb.ai/jackjack170827-uc-san-diego/cse158-project-rating' target=\"_blank\">https://wandb.ai/jackjack170827-uc-san-diego/cse158-project-rating</a>"
      ],
      "text/plain": [
       "<IPython.core.display.HTML object>"
      ]
     },
     "metadata": {},
     "output_type": "display_data"
    },
    {
     "data": {
      "text/html": [
       " View run at <a href='https://wandb.ai/jackjack170827-uc-san-diego/cse158-project-rating/runs/fl42uwg6' target=\"_blank\">https://wandb.ai/jackjack170827-uc-san-diego/cse158-project-rating/runs/fl42uwg6</a>"
      ],
      "text/plain": [
       "<IPython.core.display.HTML object>"
      ]
     },
     "metadata": {},
     "output_type": "display_data"
    },
    {
     "data": {
      "text/html": [
       "\n",
       "    <style>\n",
       "        .wandb-row {\n",
       "            display: flex;\n",
       "            flex-direction: row;\n",
       "            flex-wrap: wrap;\n",
       "            justify-content: flex-start;\n",
       "            width: 100%;\n",
       "        }\n",
       "        .wandb-col {\n",
       "            display: flex;\n",
       "            flex-direction: column;\n",
       "            flex-basis: 100%;\n",
       "            flex: 1;\n",
       "            padding: 10px;\n",
       "        }\n",
       "    </style>\n",
       "<div class=\"wandb-row\"><div class=\"wandb-col\"><h3>Run history:</h3><br/><table class=\"wandb\"><tr><td>avg_val_MAE</td><td>▁</td></tr><tr><td>avg_val_MSE</td><td>▁</td></tr><tr><td>avg_val_RMSE</td><td>▁</td></tr><tr><td>fold_val_MAE</td><td>▁█▂▃▃</td></tr><tr><td>fold_val_MSE</td><td>▁█▃▄▃</td></tr><tr><td>fold_val_RMSE</td><td>▁█▃▄▃</td></tr></table><br/></div><div class=\"wandb-col\"><h3>Run summary:</h3><br/><table class=\"wandb\"><tr><td>avg_val_MAE</td><td>1.13074</td></tr><tr><td>avg_val_MSE</td><td>1.97986</td></tr><tr><td>avg_val_RMSE</td><td>1.40707</td></tr><tr><td>fold_val_MAE</td><td>1.13013</td></tr><tr><td>fold_val_MSE</td><td>1.97515</td></tr><tr><td>fold_val_RMSE</td><td>1.4054</td></tr></table><br/></div></div>"
      ],
      "text/plain": [
       "<IPython.core.display.HTML object>"
      ]
     },
     "metadata": {},
     "output_type": "display_data"
    },
    {
     "data": {
      "text/html": [
       " View run <strong style=\"color:#cdcd00\">SVD_f50_lr0.01_reg0.02_ep50</strong> at: <a href='https://wandb.ai/jackjack170827-uc-san-diego/cse158-project-rating/runs/fl42uwg6' target=\"_blank\">https://wandb.ai/jackjack170827-uc-san-diego/cse158-project-rating/runs/fl42uwg6</a><br/> View project at: <a href='https://wandb.ai/jackjack170827-uc-san-diego/cse158-project-rating' target=\"_blank\">https://wandb.ai/jackjack170827-uc-san-diego/cse158-project-rating</a><br/>Synced 5 W&B file(s), 0 media file(s), 0 artifact file(s) and 0 other file(s)"
      ],
      "text/plain": [
       "<IPython.core.display.HTML object>"
      ]
     },
     "metadata": {},
     "output_type": "display_data"
    },
    {
     "data": {
      "text/html": [
       "Find logs at: <code>./wandb/run-20241203_002452-fl42uwg6/logs</code>"
      ],
      "text/plain": [
       "<IPython.core.display.HTML object>"
      ]
     },
     "metadata": {},
     "output_type": "display_data"
    },
    {
     "data": {
      "text/html": [
       "Tracking run with wandb version 0.18.7"
      ],
      "text/plain": [
       "<IPython.core.display.HTML object>"
      ]
     },
     "metadata": {},
     "output_type": "display_data"
    },
    {
     "data": {
      "text/html": [
       "Run data is saved locally in <code>/Users/julie/cse158-project/wandb/run-20241203_002552-0mnsb6lo</code>"
      ],
      "text/plain": [
       "<IPython.core.display.HTML object>"
      ]
     },
     "metadata": {},
     "output_type": "display_data"
    },
    {
     "data": {
      "text/html": [
       "Syncing run <strong><a href='https://wandb.ai/jackjack170827-uc-san-diego/cse158-project-rating/runs/0mnsb6lo' target=\"_blank\">SVD_f50_lr0.01_reg0.02_ep100</a></strong> to <a href='https://wandb.ai/jackjack170827-uc-san-diego/cse158-project-rating' target=\"_blank\">Weights & Biases</a> (<a href='https://wandb.me/developer-guide' target=\"_blank\">docs</a>)<br/>"
      ],
      "text/plain": [
       "<IPython.core.display.HTML object>"
      ]
     },
     "metadata": {},
     "output_type": "display_data"
    },
    {
     "data": {
      "text/html": [
       " View project at <a href='https://wandb.ai/jackjack170827-uc-san-diego/cse158-project-rating' target=\"_blank\">https://wandb.ai/jackjack170827-uc-san-diego/cse158-project-rating</a>"
      ],
      "text/plain": [
       "<IPython.core.display.HTML object>"
      ]
     },
     "metadata": {},
     "output_type": "display_data"
    },
    {
     "data": {
      "text/html": [
       " View run at <a href='https://wandb.ai/jackjack170827-uc-san-diego/cse158-project-rating/runs/0mnsb6lo' target=\"_blank\">https://wandb.ai/jackjack170827-uc-san-diego/cse158-project-rating/runs/0mnsb6lo</a>"
      ],
      "text/plain": [
       "<IPython.core.display.HTML object>"
      ]
     },
     "metadata": {},
     "output_type": "display_data"
    },
    {
     "data": {
      "text/html": [
       "\n",
       "    <style>\n",
       "        .wandb-row {\n",
       "            display: flex;\n",
       "            flex-direction: row;\n",
       "            flex-wrap: wrap;\n",
       "            justify-content: flex-start;\n",
       "            width: 100%;\n",
       "        }\n",
       "        .wandb-col {\n",
       "            display: flex;\n",
       "            flex-direction: column;\n",
       "            flex-basis: 100%;\n",
       "            flex: 1;\n",
       "            padding: 10px;\n",
       "        }\n",
       "    </style>\n",
       "<div class=\"wandb-row\"><div class=\"wandb-col\"><h3>Run history:</h3><br/><table class=\"wandb\"><tr><td>avg_val_MAE</td><td>▁</td></tr><tr><td>avg_val_MSE</td><td>▁</td></tr><tr><td>avg_val_RMSE</td><td>▁</td></tr><tr><td>fold_val_MAE</td><td>█▁▂▆▅</td></tr><tr><td>fold_val_MSE</td><td>█▁▃▇▇</td></tr><tr><td>fold_val_RMSE</td><td>█▁▃▇▇</td></tr></table><br/></div><div class=\"wandb-col\"><h3>Run summary:</h3><br/><table class=\"wandb\"><tr><td>avg_val_MAE</td><td>1.1292</td></tr><tr><td>avg_val_MSE</td><td>1.98121</td></tr><tr><td>avg_val_RMSE</td><td>1.40755</td></tr><tr><td>fold_val_MAE</td><td>1.12971</td></tr><tr><td>fold_val_MSE</td><td>1.98578</td></tr><tr><td>fold_val_RMSE</td><td>1.40918</td></tr></table><br/></div></div>"
      ],
      "text/plain": [
       "<IPython.core.display.HTML object>"
      ]
     },
     "metadata": {},
     "output_type": "display_data"
    },
    {
     "data": {
      "text/html": [
       " View run <strong style=\"color:#cdcd00\">SVD_f50_lr0.01_reg0.02_ep100</strong> at: <a href='https://wandb.ai/jackjack170827-uc-san-diego/cse158-project-rating/runs/0mnsb6lo' target=\"_blank\">https://wandb.ai/jackjack170827-uc-san-diego/cse158-project-rating/runs/0mnsb6lo</a><br/> View project at: <a href='https://wandb.ai/jackjack170827-uc-san-diego/cse158-project-rating' target=\"_blank\">https://wandb.ai/jackjack170827-uc-san-diego/cse158-project-rating</a><br/>Synced 5 W&B file(s), 0 media file(s), 0 artifact file(s) and 0 other file(s)"
      ],
      "text/plain": [
       "<IPython.core.display.HTML object>"
      ]
     },
     "metadata": {},
     "output_type": "display_data"
    },
    {
     "data": {
      "text/html": [
       "Find logs at: <code>./wandb/run-20241203_002552-0mnsb6lo/logs</code>"
      ],
      "text/plain": [
       "<IPython.core.display.HTML object>"
      ]
     },
     "metadata": {},
     "output_type": "display_data"
    },
    {
     "data": {
      "text/html": [
       "Tracking run with wandb version 0.18.7"
      ],
      "text/plain": [
       "<IPython.core.display.HTML object>"
      ]
     },
     "metadata": {},
     "output_type": "display_data"
    },
    {
     "data": {
      "text/html": [
       "Run data is saved locally in <code>/Users/julie/cse158-project/wandb/run-20241203_002733-q6mnicwk</code>"
      ],
      "text/plain": [
       "<IPython.core.display.HTML object>"
      ]
     },
     "metadata": {},
     "output_type": "display_data"
    },
    {
     "data": {
      "text/html": [
       "Syncing run <strong><a href='https://wandb.ai/jackjack170827-uc-san-diego/cse158-project-rating/runs/q6mnicwk' target=\"_blank\">SVD_f50_lr0.01_reg0.02_ep200</a></strong> to <a href='https://wandb.ai/jackjack170827-uc-san-diego/cse158-project-rating' target=\"_blank\">Weights & Biases</a> (<a href='https://wandb.me/developer-guide' target=\"_blank\">docs</a>)<br/>"
      ],
      "text/plain": [
       "<IPython.core.display.HTML object>"
      ]
     },
     "metadata": {},
     "output_type": "display_data"
    },
    {
     "data": {
      "text/html": [
       " View project at <a href='https://wandb.ai/jackjack170827-uc-san-diego/cse158-project-rating' target=\"_blank\">https://wandb.ai/jackjack170827-uc-san-diego/cse158-project-rating</a>"
      ],
      "text/plain": [
       "<IPython.core.display.HTML object>"
      ]
     },
     "metadata": {},
     "output_type": "display_data"
    },
    {
     "data": {
      "text/html": [
       " View run at <a href='https://wandb.ai/jackjack170827-uc-san-diego/cse158-project-rating/runs/q6mnicwk' target=\"_blank\">https://wandb.ai/jackjack170827-uc-san-diego/cse158-project-rating/runs/q6mnicwk</a>"
      ],
      "text/plain": [
       "<IPython.core.display.HTML object>"
      ]
     },
     "metadata": {},
     "output_type": "display_data"
    },
    {
     "data": {
      "text/html": [
       "\n",
       "    <style>\n",
       "        .wandb-row {\n",
       "            display: flex;\n",
       "            flex-direction: row;\n",
       "            flex-wrap: wrap;\n",
       "            justify-content: flex-start;\n",
       "            width: 100%;\n",
       "        }\n",
       "        .wandb-col {\n",
       "            display: flex;\n",
       "            flex-direction: column;\n",
       "            flex-basis: 100%;\n",
       "            flex: 1;\n",
       "            padding: 10px;\n",
       "        }\n",
       "    </style>\n",
       "<div class=\"wandb-row\"><div class=\"wandb-col\"><h3>Run history:</h3><br/><table class=\"wandb\"><tr><td>avg_val_MAE</td><td>▁</td></tr><tr><td>avg_val_MSE</td><td>▁</td></tr><tr><td>avg_val_RMSE</td><td>▁</td></tr><tr><td>fold_val_MAE</td><td>█▁▇▄▁</td></tr><tr><td>fold_val_MSE</td><td>█▁▇▆▆</td></tr><tr><td>fold_val_RMSE</td><td>█▁▇▆▆</td></tr></table><br/></div><div class=\"wandb-col\"><h3>Run summary:</h3><br/><table class=\"wandb\"><tr><td>avg_val_MAE</td><td>1.13121</td></tr><tr><td>avg_val_MSE</td><td>1.98278</td></tr><tr><td>avg_val_RMSE</td><td>1.40811</td></tr><tr><td>fold_val_MAE</td><td>1.12983</td></tr><tr><td>fold_val_MSE</td><td>1.98319</td></tr><tr><td>fold_val_RMSE</td><td>1.40826</td></tr></table><br/></div></div>"
      ],
      "text/plain": [
       "<IPython.core.display.HTML object>"
      ]
     },
     "metadata": {},
     "output_type": "display_data"
    },
    {
     "data": {
      "text/html": [
       " View run <strong style=\"color:#cdcd00\">SVD_f50_lr0.01_reg0.02_ep200</strong> at: <a href='https://wandb.ai/jackjack170827-uc-san-diego/cse158-project-rating/runs/q6mnicwk' target=\"_blank\">https://wandb.ai/jackjack170827-uc-san-diego/cse158-project-rating/runs/q6mnicwk</a><br/> View project at: <a href='https://wandb.ai/jackjack170827-uc-san-diego/cse158-project-rating' target=\"_blank\">https://wandb.ai/jackjack170827-uc-san-diego/cse158-project-rating</a><br/>Synced 5 W&B file(s), 0 media file(s), 0 artifact file(s) and 0 other file(s)"
      ],
      "text/plain": [
       "<IPython.core.display.HTML object>"
      ]
     },
     "metadata": {},
     "output_type": "display_data"
    },
    {
     "data": {
      "text/html": [
       "Find logs at: <code>./wandb/run-20241203_002733-q6mnicwk/logs</code>"
      ],
      "text/plain": [
       "<IPython.core.display.HTML object>"
      ]
     },
     "metadata": {},
     "output_type": "display_data"
    },
    {
     "data": {
      "text/html": [
       "Tracking run with wandb version 0.18.7"
      ],
      "text/plain": [
       "<IPython.core.display.HTML object>"
      ]
     },
     "metadata": {},
     "output_type": "display_data"
    },
    {
     "data": {
      "text/html": [
       "Run data is saved locally in <code>/Users/julie/cse158-project/wandb/run-20241203_003040-6iv1656s</code>"
      ],
      "text/plain": [
       "<IPython.core.display.HTML object>"
      ]
     },
     "metadata": {},
     "output_type": "display_data"
    },
    {
     "data": {
      "text/html": [
       "Syncing run <strong><a href='https://wandb.ai/jackjack170827-uc-san-diego/cse158-project-rating/runs/6iv1656s' target=\"_blank\">SVD_f50_lr0.01_reg0.05_ep20</a></strong> to <a href='https://wandb.ai/jackjack170827-uc-san-diego/cse158-project-rating' target=\"_blank\">Weights & Biases</a> (<a href='https://wandb.me/developer-guide' target=\"_blank\">docs</a>)<br/>"
      ],
      "text/plain": [
       "<IPython.core.display.HTML object>"
      ]
     },
     "metadata": {},
     "output_type": "display_data"
    },
    {
     "data": {
      "text/html": [
       " View project at <a href='https://wandb.ai/jackjack170827-uc-san-diego/cse158-project-rating' target=\"_blank\">https://wandb.ai/jackjack170827-uc-san-diego/cse158-project-rating</a>"
      ],
      "text/plain": [
       "<IPython.core.display.HTML object>"
      ]
     },
     "metadata": {},
     "output_type": "display_data"
    },
    {
     "data": {
      "text/html": [
       " View run at <a href='https://wandb.ai/jackjack170827-uc-san-diego/cse158-project-rating/runs/6iv1656s' target=\"_blank\">https://wandb.ai/jackjack170827-uc-san-diego/cse158-project-rating/runs/6iv1656s</a>"
      ],
      "text/plain": [
       "<IPython.core.display.HTML object>"
      ]
     },
     "metadata": {},
     "output_type": "display_data"
    },
    {
     "data": {
      "text/html": [
       "\n",
       "    <style>\n",
       "        .wandb-row {\n",
       "            display: flex;\n",
       "            flex-direction: row;\n",
       "            flex-wrap: wrap;\n",
       "            justify-content: flex-start;\n",
       "            width: 100%;\n",
       "        }\n",
       "        .wandb-col {\n",
       "            display: flex;\n",
       "            flex-direction: column;\n",
       "            flex-basis: 100%;\n",
       "            flex: 1;\n",
       "            padding: 10px;\n",
       "        }\n",
       "    </style>\n",
       "<div class=\"wandb-row\"><div class=\"wandb-col\"><h3>Run history:</h3><br/><table class=\"wandb\"><tr><td>avg_val_MAE</td><td>▁</td></tr><tr><td>avg_val_MSE</td><td>▁</td></tr><tr><td>avg_val_RMSE</td><td>▁</td></tr><tr><td>fold_val_MAE</td><td>▁▆██▅</td></tr><tr><td>fold_val_MSE</td><td>▁▄▇█▆</td></tr><tr><td>fold_val_RMSE</td><td>▁▄▇█▆</td></tr></table><br/></div><div class=\"wandb-col\"><h3>Run summary:</h3><br/><table class=\"wandb\"><tr><td>avg_val_MAE</td><td>1.14337</td></tr><tr><td>avg_val_MSE</td><td>1.9804</td></tr><tr><td>avg_val_RMSE</td><td>1.40726</td></tr><tr><td>fold_val_MAE</td><td>1.14303</td></tr><tr><td>fold_val_MSE</td><td>1.98098</td></tr><tr><td>fold_val_RMSE</td><td>1.40747</td></tr></table><br/></div></div>"
      ],
      "text/plain": [
       "<IPython.core.display.HTML object>"
      ]
     },
     "metadata": {},
     "output_type": "display_data"
    },
    {
     "data": {
      "text/html": [
       " View run <strong style=\"color:#cdcd00\">SVD_f50_lr0.01_reg0.05_ep20</strong> at: <a href='https://wandb.ai/jackjack170827-uc-san-diego/cse158-project-rating/runs/6iv1656s' target=\"_blank\">https://wandb.ai/jackjack170827-uc-san-diego/cse158-project-rating/runs/6iv1656s</a><br/> View project at: <a href='https://wandb.ai/jackjack170827-uc-san-diego/cse158-project-rating' target=\"_blank\">https://wandb.ai/jackjack170827-uc-san-diego/cse158-project-rating</a><br/>Synced 5 W&B file(s), 0 media file(s), 0 artifact file(s) and 0 other file(s)"
      ],
      "text/plain": [
       "<IPython.core.display.HTML object>"
      ]
     },
     "metadata": {},
     "output_type": "display_data"
    },
    {
     "data": {
      "text/html": [
       "Find logs at: <code>./wandb/run-20241203_003040-6iv1656s/logs</code>"
      ],
      "text/plain": [
       "<IPython.core.display.HTML object>"
      ]
     },
     "metadata": {},
     "output_type": "display_data"
    },
    {
     "data": {
      "text/html": [
       "Tracking run with wandb version 0.18.7"
      ],
      "text/plain": [
       "<IPython.core.display.HTML object>"
      ]
     },
     "metadata": {},
     "output_type": "display_data"
    },
    {
     "data": {
      "text/html": [
       "Run data is saved locally in <code>/Users/julie/cse158-project/wandb/run-20241203_003113-i668nr88</code>"
      ],
      "text/plain": [
       "<IPython.core.display.HTML object>"
      ]
     },
     "metadata": {},
     "output_type": "display_data"
    },
    {
     "data": {
      "text/html": [
       "Syncing run <strong><a href='https://wandb.ai/jackjack170827-uc-san-diego/cse158-project-rating/runs/i668nr88' target=\"_blank\">SVD_f50_lr0.01_reg0.05_ep50</a></strong> to <a href='https://wandb.ai/jackjack170827-uc-san-diego/cse158-project-rating' target=\"_blank\">Weights & Biases</a> (<a href='https://wandb.me/developer-guide' target=\"_blank\">docs</a>)<br/>"
      ],
      "text/plain": [
       "<IPython.core.display.HTML object>"
      ]
     },
     "metadata": {},
     "output_type": "display_data"
    },
    {
     "data": {
      "text/html": [
       " View project at <a href='https://wandb.ai/jackjack170827-uc-san-diego/cse158-project-rating' target=\"_blank\">https://wandb.ai/jackjack170827-uc-san-diego/cse158-project-rating</a>"
      ],
      "text/plain": [
       "<IPython.core.display.HTML object>"
      ]
     },
     "metadata": {},
     "output_type": "display_data"
    },
    {
     "data": {
      "text/html": [
       " View run at <a href='https://wandb.ai/jackjack170827-uc-san-diego/cse158-project-rating/runs/i668nr88' target=\"_blank\">https://wandb.ai/jackjack170827-uc-san-diego/cse158-project-rating/runs/i668nr88</a>"
      ],
      "text/plain": [
       "<IPython.core.display.HTML object>"
      ]
     },
     "metadata": {},
     "output_type": "display_data"
    },
    {
     "data": {
      "text/html": [
       "\n",
       "    <style>\n",
       "        .wandb-row {\n",
       "            display: flex;\n",
       "            flex-direction: row;\n",
       "            flex-wrap: wrap;\n",
       "            justify-content: flex-start;\n",
       "            width: 100%;\n",
       "        }\n",
       "        .wandb-col {\n",
       "            display: flex;\n",
       "            flex-direction: column;\n",
       "            flex-basis: 100%;\n",
       "            flex: 1;\n",
       "            padding: 10px;\n",
       "        }\n",
       "    </style>\n",
       "<div class=\"wandb-row\"><div class=\"wandb-col\"><h3>Run history:</h3><br/><table class=\"wandb\"><tr><td>avg_val_MAE</td><td>▁</td></tr><tr><td>avg_val_MSE</td><td>▁</td></tr><tr><td>avg_val_RMSE</td><td>▁</td></tr><tr><td>fold_val_MAE</td><td>▅█▁▆▄</td></tr><tr><td>fold_val_MSE</td><td>▄▆▃█▁</td></tr><tr><td>fold_val_RMSE</td><td>▄▆▃█▁</td></tr></table><br/></div><div class=\"wandb-col\"><h3>Run summary:</h3><br/><table class=\"wandb\"><tr><td>avg_val_MAE</td><td>1.13397</td></tr><tr><td>avg_val_MSE</td><td>1.97876</td></tr><tr><td>avg_val_RMSE</td><td>1.40669</td></tr><tr><td>fold_val_MAE</td><td>1.13374</td></tr><tr><td>fold_val_MSE</td><td>1.97461</td></tr><tr><td>fold_val_RMSE</td><td>1.40521</td></tr></table><br/></div></div>"
      ],
      "text/plain": [
       "<IPython.core.display.HTML object>"
      ]
     },
     "metadata": {},
     "output_type": "display_data"
    },
    {
     "data": {
      "text/html": [
       " View run <strong style=\"color:#cdcd00\">SVD_f50_lr0.01_reg0.05_ep50</strong> at: <a href='https://wandb.ai/jackjack170827-uc-san-diego/cse158-project-rating/runs/i668nr88' target=\"_blank\">https://wandb.ai/jackjack170827-uc-san-diego/cse158-project-rating/runs/i668nr88</a><br/> View project at: <a href='https://wandb.ai/jackjack170827-uc-san-diego/cse158-project-rating' target=\"_blank\">https://wandb.ai/jackjack170827-uc-san-diego/cse158-project-rating</a><br/>Synced 5 W&B file(s), 0 media file(s), 0 artifact file(s) and 0 other file(s)"
      ],
      "text/plain": [
       "<IPython.core.display.HTML object>"
      ]
     },
     "metadata": {},
     "output_type": "display_data"
    },
    {
     "data": {
      "text/html": [
       "Find logs at: <code>./wandb/run-20241203_003113-i668nr88/logs</code>"
      ],
      "text/plain": [
       "<IPython.core.display.HTML object>"
      ]
     },
     "metadata": {},
     "output_type": "display_data"
    },
    {
     "data": {
      "text/html": [
       "Tracking run with wandb version 0.18.7"
      ],
      "text/plain": [
       "<IPython.core.display.HTML object>"
      ]
     },
     "metadata": {},
     "output_type": "display_data"
    },
    {
     "data": {
      "text/html": [
       "Run data is saved locally in <code>/Users/julie/cse158-project/wandb/run-20241203_003211-2gbyg8w7</code>"
      ],
      "text/plain": [
       "<IPython.core.display.HTML object>"
      ]
     },
     "metadata": {},
     "output_type": "display_data"
    },
    {
     "data": {
      "text/html": [
       "Syncing run <strong><a href='https://wandb.ai/jackjack170827-uc-san-diego/cse158-project-rating/runs/2gbyg8w7' target=\"_blank\">SVD_f50_lr0.01_reg0.05_ep100</a></strong> to <a href='https://wandb.ai/jackjack170827-uc-san-diego/cse158-project-rating' target=\"_blank\">Weights & Biases</a> (<a href='https://wandb.me/developer-guide' target=\"_blank\">docs</a>)<br/>"
      ],
      "text/plain": [
       "<IPython.core.display.HTML object>"
      ]
     },
     "metadata": {},
     "output_type": "display_data"
    },
    {
     "data": {
      "text/html": [
       " View project at <a href='https://wandb.ai/jackjack170827-uc-san-diego/cse158-project-rating' target=\"_blank\">https://wandb.ai/jackjack170827-uc-san-diego/cse158-project-rating</a>"
      ],
      "text/plain": [
       "<IPython.core.display.HTML object>"
      ]
     },
     "metadata": {},
     "output_type": "display_data"
    },
    {
     "data": {
      "text/html": [
       " View run at <a href='https://wandb.ai/jackjack170827-uc-san-diego/cse158-project-rating/runs/2gbyg8w7' target=\"_blank\">https://wandb.ai/jackjack170827-uc-san-diego/cse158-project-rating/runs/2gbyg8w7</a>"
      ],
      "text/plain": [
       "<IPython.core.display.HTML object>"
      ]
     },
     "metadata": {},
     "output_type": "display_data"
    },
    {
     "data": {
      "text/html": [
       "\n",
       "    <style>\n",
       "        .wandb-row {\n",
       "            display: flex;\n",
       "            flex-direction: row;\n",
       "            flex-wrap: wrap;\n",
       "            justify-content: flex-start;\n",
       "            width: 100%;\n",
       "        }\n",
       "        .wandb-col {\n",
       "            display: flex;\n",
       "            flex-direction: column;\n",
       "            flex-basis: 100%;\n",
       "            flex: 1;\n",
       "            padding: 10px;\n",
       "        }\n",
       "    </style>\n",
       "<div class=\"wandb-row\"><div class=\"wandb-col\"><h3>Run history:</h3><br/><table class=\"wandb\"><tr><td>avg_val_MAE</td><td>▁</td></tr><tr><td>avg_val_MSE</td><td>▁</td></tr><tr><td>avg_val_RMSE</td><td>▁</td></tr><tr><td>fold_val_MAE</td><td>▄▁▇▅█</td></tr><tr><td>fold_val_MSE</td><td>▄▁▇▃█</td></tr><tr><td>fold_val_RMSE</td><td>▄▁▇▃█</td></tr></table><br/></div><div class=\"wandb-col\"><h3>Run summary:</h3><br/><table class=\"wandb\"><tr><td>avg_val_MAE</td><td>1.13336</td></tr><tr><td>avg_val_MSE</td><td>1.98119</td></tr><tr><td>avg_val_RMSE</td><td>1.40755</td></tr><tr><td>fold_val_MAE</td><td>1.13635</td></tr><tr><td>fold_val_MSE</td><td>1.99174</td></tr><tr><td>fold_val_RMSE</td><td>1.41129</td></tr></table><br/></div></div>"
      ],
      "text/plain": [
       "<IPython.core.display.HTML object>"
      ]
     },
     "metadata": {},
     "output_type": "display_data"
    },
    {
     "data": {
      "text/html": [
       " View run <strong style=\"color:#cdcd00\">SVD_f50_lr0.01_reg0.05_ep100</strong> at: <a href='https://wandb.ai/jackjack170827-uc-san-diego/cse158-project-rating/runs/2gbyg8w7' target=\"_blank\">https://wandb.ai/jackjack170827-uc-san-diego/cse158-project-rating/runs/2gbyg8w7</a><br/> View project at: <a href='https://wandb.ai/jackjack170827-uc-san-diego/cse158-project-rating' target=\"_blank\">https://wandb.ai/jackjack170827-uc-san-diego/cse158-project-rating</a><br/>Synced 5 W&B file(s), 0 media file(s), 0 artifact file(s) and 0 other file(s)"
      ],
      "text/plain": [
       "<IPython.core.display.HTML object>"
      ]
     },
     "metadata": {},
     "output_type": "display_data"
    },
    {
     "data": {
      "text/html": [
       "Find logs at: <code>./wandb/run-20241203_003211-2gbyg8w7/logs</code>"
      ],
      "text/plain": [
       "<IPython.core.display.HTML object>"
      ]
     },
     "metadata": {},
     "output_type": "display_data"
    },
    {
     "data": {
      "text/html": [
       "Tracking run with wandb version 0.18.7"
      ],
      "text/plain": [
       "<IPython.core.display.HTML object>"
      ]
     },
     "metadata": {},
     "output_type": "display_data"
    },
    {
     "data": {
      "text/html": [
       "Run data is saved locally in <code>/Users/julie/cse158-project/wandb/run-20241203_003404-pf1e8456</code>"
      ],
      "text/plain": [
       "<IPython.core.display.HTML object>"
      ]
     },
     "metadata": {},
     "output_type": "display_data"
    },
    {
     "data": {
      "text/html": [
       "Syncing run <strong><a href='https://wandb.ai/jackjack170827-uc-san-diego/cse158-project-rating/runs/pf1e8456' target=\"_blank\">SVD_f50_lr0.01_reg0.05_ep200</a></strong> to <a href='https://wandb.ai/jackjack170827-uc-san-diego/cse158-project-rating' target=\"_blank\">Weights & Biases</a> (<a href='https://wandb.me/developer-guide' target=\"_blank\">docs</a>)<br/>"
      ],
      "text/plain": [
       "<IPython.core.display.HTML object>"
      ]
     },
     "metadata": {},
     "output_type": "display_data"
    },
    {
     "data": {
      "text/html": [
       " View project at <a href='https://wandb.ai/jackjack170827-uc-san-diego/cse158-project-rating' target=\"_blank\">https://wandb.ai/jackjack170827-uc-san-diego/cse158-project-rating</a>"
      ],
      "text/plain": [
       "<IPython.core.display.HTML object>"
      ]
     },
     "metadata": {},
     "output_type": "display_data"
    },
    {
     "data": {
      "text/html": [
       " View run at <a href='https://wandb.ai/jackjack170827-uc-san-diego/cse158-project-rating/runs/pf1e8456' target=\"_blank\">https://wandb.ai/jackjack170827-uc-san-diego/cse158-project-rating/runs/pf1e8456</a>"
      ],
      "text/plain": [
       "<IPython.core.display.HTML object>"
      ]
     },
     "metadata": {},
     "output_type": "display_data"
    },
    {
     "data": {
      "text/html": [
       "\n",
       "    <style>\n",
       "        .wandb-row {\n",
       "            display: flex;\n",
       "            flex-direction: row;\n",
       "            flex-wrap: wrap;\n",
       "            justify-content: flex-start;\n",
       "            width: 100%;\n",
       "        }\n",
       "        .wandb-col {\n",
       "            display: flex;\n",
       "            flex-direction: column;\n",
       "            flex-basis: 100%;\n",
       "            flex: 1;\n",
       "            padding: 10px;\n",
       "        }\n",
       "    </style>\n",
       "<div class=\"wandb-row\"><div class=\"wandb-col\"><h3>Run history:</h3><br/><table class=\"wandb\"><tr><td>avg_val_MAE</td><td>▁</td></tr><tr><td>avg_val_MSE</td><td>▁</td></tr><tr><td>avg_val_RMSE</td><td>▁</td></tr><tr><td>fold_val_MAE</td><td>▄▁▇▇█</td></tr><tr><td>fold_val_MSE</td><td>▄▁███</td></tr><tr><td>fold_val_RMSE</td><td>▄▁███</td></tr></table><br/></div><div class=\"wandb-col\"><h3>Run summary:</h3><br/><table class=\"wandb\"><tr><td>avg_val_MAE</td><td>1.13663</td></tr><tr><td>avg_val_MSE</td><td>1.98601</td></tr><tr><td>avg_val_RMSE</td><td>1.40926</td></tr><tr><td>fold_val_MAE</td><td>1.13848</td></tr><tr><td>fold_val_MSE</td><td>1.99192</td></tr><tr><td>fold_val_RMSE</td><td>1.41135</td></tr></table><br/></div></div>"
      ],
      "text/plain": [
       "<IPython.core.display.HTML object>"
      ]
     },
     "metadata": {},
     "output_type": "display_data"
    },
    {
     "data": {
      "text/html": [
       " View run <strong style=\"color:#cdcd00\">SVD_f50_lr0.01_reg0.05_ep200</strong> at: <a href='https://wandb.ai/jackjack170827-uc-san-diego/cse158-project-rating/runs/pf1e8456' target=\"_blank\">https://wandb.ai/jackjack170827-uc-san-diego/cse158-project-rating/runs/pf1e8456</a><br/> View project at: <a href='https://wandb.ai/jackjack170827-uc-san-diego/cse158-project-rating' target=\"_blank\">https://wandb.ai/jackjack170827-uc-san-diego/cse158-project-rating</a><br/>Synced 5 W&B file(s), 0 media file(s), 0 artifact file(s) and 0 other file(s)"
      ],
      "text/plain": [
       "<IPython.core.display.HTML object>"
      ]
     },
     "metadata": {},
     "output_type": "display_data"
    },
    {
     "data": {
      "text/html": [
       "Find logs at: <code>./wandb/run-20241203_003404-pf1e8456/logs</code>"
      ],
      "text/plain": [
       "<IPython.core.display.HTML object>"
      ]
     },
     "metadata": {},
     "output_type": "display_data"
    },
    {
     "data": {
      "text/html": [
       "Tracking run with wandb version 0.18.7"
      ],
      "text/plain": [
       "<IPython.core.display.HTML object>"
      ]
     },
     "metadata": {},
     "output_type": "display_data"
    },
    {
     "data": {
      "text/html": [
       "Run data is saved locally in <code>/Users/julie/cse158-project/wandb/run-20241203_003724-5a78bot8</code>"
      ],
      "text/plain": [
       "<IPython.core.display.HTML object>"
      ]
     },
     "metadata": {},
     "output_type": "display_data"
    },
    {
     "data": {
      "text/html": [
       "Syncing run <strong><a href='https://wandb.ai/jackjack170827-uc-san-diego/cse158-project-rating/runs/5a78bot8' target=\"_blank\">SVD_f50_lr0.01_reg0.1_ep20</a></strong> to <a href='https://wandb.ai/jackjack170827-uc-san-diego/cse158-project-rating' target=\"_blank\">Weights & Biases</a> (<a href='https://wandb.me/developer-guide' target=\"_blank\">docs</a>)<br/>"
      ],
      "text/plain": [
       "<IPython.core.display.HTML object>"
      ]
     },
     "metadata": {},
     "output_type": "display_data"
    },
    {
     "data": {
      "text/html": [
       " View project at <a href='https://wandb.ai/jackjack170827-uc-san-diego/cse158-project-rating' target=\"_blank\">https://wandb.ai/jackjack170827-uc-san-diego/cse158-project-rating</a>"
      ],
      "text/plain": [
       "<IPython.core.display.HTML object>"
      ]
     },
     "metadata": {},
     "output_type": "display_data"
    },
    {
     "data": {
      "text/html": [
       " View run at <a href='https://wandb.ai/jackjack170827-uc-san-diego/cse158-project-rating/runs/5a78bot8' target=\"_blank\">https://wandb.ai/jackjack170827-uc-san-diego/cse158-project-rating/runs/5a78bot8</a>"
      ],
      "text/plain": [
       "<IPython.core.display.HTML object>"
      ]
     },
     "metadata": {},
     "output_type": "display_data"
    },
    {
     "data": {
      "text/html": [
       "\n",
       "    <style>\n",
       "        .wandb-row {\n",
       "            display: flex;\n",
       "            flex-direction: row;\n",
       "            flex-wrap: wrap;\n",
       "            justify-content: flex-start;\n",
       "            width: 100%;\n",
       "        }\n",
       "        .wandb-col {\n",
       "            display: flex;\n",
       "            flex-direction: column;\n",
       "            flex-basis: 100%;\n",
       "            flex: 1;\n",
       "            padding: 10px;\n",
       "        }\n",
       "    </style>\n",
       "<div class=\"wandb-row\"><div class=\"wandb-col\"><h3>Run history:</h3><br/><table class=\"wandb\"><tr><td>avg_val_MAE</td><td>▁</td></tr><tr><td>avg_val_MSE</td><td>▁</td></tr><tr><td>avg_val_RMSE</td><td>▁</td></tr><tr><td>fold_val_MAE</td><td>▇▄█▆▁</td></tr><tr><td>fold_val_MSE</td><td>▄▇█▇▁</td></tr><tr><td>fold_val_RMSE</td><td>▄▇█▇▁</td></tr></table><br/></div><div class=\"wandb-col\"><h3>Run summary:</h3><br/><table class=\"wandb\"><tr><td>avg_val_MAE</td><td>1.14769</td></tr><tr><td>avg_val_MSE</td><td>1.98273</td></tr><tr><td>avg_val_RMSE</td><td>1.40809</td></tr><tr><td>fold_val_MAE</td><td>1.14561</td></tr><tr><td>fold_val_MSE</td><td>1.97372</td></tr><tr><td>fold_val_RMSE</td><td>1.40489</td></tr></table><br/></div></div>"
      ],
      "text/plain": [
       "<IPython.core.display.HTML object>"
      ]
     },
     "metadata": {},
     "output_type": "display_data"
    },
    {
     "data": {
      "text/html": [
       " View run <strong style=\"color:#cdcd00\">SVD_f50_lr0.01_reg0.1_ep20</strong> at: <a href='https://wandb.ai/jackjack170827-uc-san-diego/cse158-project-rating/runs/5a78bot8' target=\"_blank\">https://wandb.ai/jackjack170827-uc-san-diego/cse158-project-rating/runs/5a78bot8</a><br/> View project at: <a href='https://wandb.ai/jackjack170827-uc-san-diego/cse158-project-rating' target=\"_blank\">https://wandb.ai/jackjack170827-uc-san-diego/cse158-project-rating</a><br/>Synced 5 W&B file(s), 0 media file(s), 0 artifact file(s) and 0 other file(s)"
      ],
      "text/plain": [
       "<IPython.core.display.HTML object>"
      ]
     },
     "metadata": {},
     "output_type": "display_data"
    },
    {
     "data": {
      "text/html": [
       "Find logs at: <code>./wandb/run-20241203_003724-5a78bot8/logs</code>"
      ],
      "text/plain": [
       "<IPython.core.display.HTML object>"
      ]
     },
     "metadata": {},
     "output_type": "display_data"
    },
    {
     "data": {
      "text/html": [
       "Tracking run with wandb version 0.18.7"
      ],
      "text/plain": [
       "<IPython.core.display.HTML object>"
      ]
     },
     "metadata": {},
     "output_type": "display_data"
    },
    {
     "data": {
      "text/html": [
       "Run data is saved locally in <code>/Users/julie/cse158-project/wandb/run-20241203_003800-obrgatlq</code>"
      ],
      "text/plain": [
       "<IPython.core.display.HTML object>"
      ]
     },
     "metadata": {},
     "output_type": "display_data"
    },
    {
     "data": {
      "text/html": [
       "Syncing run <strong><a href='https://wandb.ai/jackjack170827-uc-san-diego/cse158-project-rating/runs/obrgatlq' target=\"_blank\">SVD_f50_lr0.01_reg0.1_ep50</a></strong> to <a href='https://wandb.ai/jackjack170827-uc-san-diego/cse158-project-rating' target=\"_blank\">Weights & Biases</a> (<a href='https://wandb.me/developer-guide' target=\"_blank\">docs</a>)<br/>"
      ],
      "text/plain": [
       "<IPython.core.display.HTML object>"
      ]
     },
     "metadata": {},
     "output_type": "display_data"
    },
    {
     "data": {
      "text/html": [
       " View project at <a href='https://wandb.ai/jackjack170827-uc-san-diego/cse158-project-rating' target=\"_blank\">https://wandb.ai/jackjack170827-uc-san-diego/cse158-project-rating</a>"
      ],
      "text/plain": [
       "<IPython.core.display.HTML object>"
      ]
     },
     "metadata": {},
     "output_type": "display_data"
    },
    {
     "data": {
      "text/html": [
       " View run at <a href='https://wandb.ai/jackjack170827-uc-san-diego/cse158-project-rating/runs/obrgatlq' target=\"_blank\">https://wandb.ai/jackjack170827-uc-san-diego/cse158-project-rating/runs/obrgatlq</a>"
      ],
      "text/plain": [
       "<IPython.core.display.HTML object>"
      ]
     },
     "metadata": {},
     "output_type": "display_data"
    },
    {
     "data": {
      "text/html": [
       "\n",
       "    <style>\n",
       "        .wandb-row {\n",
       "            display: flex;\n",
       "            flex-direction: row;\n",
       "            flex-wrap: wrap;\n",
       "            justify-content: flex-start;\n",
       "            width: 100%;\n",
       "        }\n",
       "        .wandb-col {\n",
       "            display: flex;\n",
       "            flex-direction: column;\n",
       "            flex-basis: 100%;\n",
       "            flex: 1;\n",
       "            padding: 10px;\n",
       "        }\n",
       "    </style>\n",
       "<div class=\"wandb-row\"><div class=\"wandb-col\"><h3>Run history:</h3><br/><table class=\"wandb\"><tr><td>avg_val_MAE</td><td>▁</td></tr><tr><td>avg_val_MSE</td><td>▁</td></tr><tr><td>avg_val_RMSE</td><td>▁</td></tr><tr><td>fold_val_MAE</td><td>▁▇▇██</td></tr><tr><td>fold_val_MSE</td><td>▁█▅▃▅</td></tr><tr><td>fold_val_RMSE</td><td>▁█▅▃▅</td></tr></table><br/></div><div class=\"wandb-col\"><h3>Run summary:</h3><br/><table class=\"wandb\"><tr><td>avg_val_MAE</td><td>1.13893</td></tr><tr><td>avg_val_MSE</td><td>1.98039</td></tr><tr><td>avg_val_RMSE</td><td>1.40726</td></tr><tr><td>fold_val_MAE</td><td>1.13971</td></tr><tr><td>fold_val_MSE</td><td>1.98067</td></tr><tr><td>fold_val_RMSE</td><td>1.40736</td></tr></table><br/></div></div>"
      ],
      "text/plain": [
       "<IPython.core.display.HTML object>"
      ]
     },
     "metadata": {},
     "output_type": "display_data"
    },
    {
     "data": {
      "text/html": [
       " View run <strong style=\"color:#cdcd00\">SVD_f50_lr0.01_reg0.1_ep50</strong> at: <a href='https://wandb.ai/jackjack170827-uc-san-diego/cse158-project-rating/runs/obrgatlq' target=\"_blank\">https://wandb.ai/jackjack170827-uc-san-diego/cse158-project-rating/runs/obrgatlq</a><br/> View project at: <a href='https://wandb.ai/jackjack170827-uc-san-diego/cse158-project-rating' target=\"_blank\">https://wandb.ai/jackjack170827-uc-san-diego/cse158-project-rating</a><br/>Synced 5 W&B file(s), 0 media file(s), 0 artifact file(s) and 0 other file(s)"
      ],
      "text/plain": [
       "<IPython.core.display.HTML object>"
      ]
     },
     "metadata": {},
     "output_type": "display_data"
    },
    {
     "data": {
      "text/html": [
       "Find logs at: <code>./wandb/run-20241203_003800-obrgatlq/logs</code>"
      ],
      "text/plain": [
       "<IPython.core.display.HTML object>"
      ]
     },
     "metadata": {},
     "output_type": "display_data"
    },
    {
     "data": {
      "text/html": [
       "Tracking run with wandb version 0.18.7"
      ],
      "text/plain": [
       "<IPython.core.display.HTML object>"
      ]
     },
     "metadata": {},
     "output_type": "display_data"
    },
    {
     "data": {
      "text/html": [
       "Run data is saved locally in <code>/Users/julie/cse158-project/wandb/run-20241203_003903-krtvq4da</code>"
      ],
      "text/plain": [
       "<IPython.core.display.HTML object>"
      ]
     },
     "metadata": {},
     "output_type": "display_data"
    },
    {
     "data": {
      "text/html": [
       "Syncing run <strong><a href='https://wandb.ai/jackjack170827-uc-san-diego/cse158-project-rating/runs/krtvq4da' target=\"_blank\">SVD_f50_lr0.01_reg0.1_ep100</a></strong> to <a href='https://wandb.ai/jackjack170827-uc-san-diego/cse158-project-rating' target=\"_blank\">Weights & Biases</a> (<a href='https://wandb.me/developer-guide' target=\"_blank\">docs</a>)<br/>"
      ],
      "text/plain": [
       "<IPython.core.display.HTML object>"
      ]
     },
     "metadata": {},
     "output_type": "display_data"
    },
    {
     "data": {
      "text/html": [
       " View project at <a href='https://wandb.ai/jackjack170827-uc-san-diego/cse158-project-rating' target=\"_blank\">https://wandb.ai/jackjack170827-uc-san-diego/cse158-project-rating</a>"
      ],
      "text/plain": [
       "<IPython.core.display.HTML object>"
      ]
     },
     "metadata": {},
     "output_type": "display_data"
    },
    {
     "data": {
      "text/html": [
       " View run at <a href='https://wandb.ai/jackjack170827-uc-san-diego/cse158-project-rating/runs/krtvq4da' target=\"_blank\">https://wandb.ai/jackjack170827-uc-san-diego/cse158-project-rating/runs/krtvq4da</a>"
      ],
      "text/plain": [
       "<IPython.core.display.HTML object>"
      ]
     },
     "metadata": {},
     "output_type": "display_data"
    },
    {
     "data": {
      "text/html": [
       "\n",
       "    <style>\n",
       "        .wandb-row {\n",
       "            display: flex;\n",
       "            flex-direction: row;\n",
       "            flex-wrap: wrap;\n",
       "            justify-content: flex-start;\n",
       "            width: 100%;\n",
       "        }\n",
       "        .wandb-col {\n",
       "            display: flex;\n",
       "            flex-direction: column;\n",
       "            flex-basis: 100%;\n",
       "            flex: 1;\n",
       "            padding: 10px;\n",
       "        }\n",
       "    </style>\n",
       "<div class=\"wandb-row\"><div class=\"wandb-col\"><h3>Run history:</h3><br/><table class=\"wandb\"><tr><td>avg_val_MAE</td><td>▁</td></tr><tr><td>avg_val_MSE</td><td>▁</td></tr><tr><td>avg_val_RMSE</td><td>▁</td></tr><tr><td>fold_val_MAE</td><td>█▆▅█▁</td></tr><tr><td>fold_val_MSE</td><td>██▅▆▁</td></tr><tr><td>fold_val_RMSE</td><td>██▅▆▁</td></tr></table><br/></div><div class=\"wandb-col\"><h3>Run summary:</h3><br/><table class=\"wandb\"><tr><td>avg_val_MAE</td><td>1.13912</td></tr><tr><td>avg_val_MSE</td><td>1.98491</td></tr><tr><td>avg_val_RMSE</td><td>1.40887</td></tr><tr><td>fold_val_MAE</td><td>1.13727</td></tr><tr><td>fold_val_MSE</td><td>1.97705</td></tr><tr><td>fold_val_RMSE</td><td>1.40607</td></tr></table><br/></div></div>"
      ],
      "text/plain": [
       "<IPython.core.display.HTML object>"
      ]
     },
     "metadata": {},
     "output_type": "display_data"
    },
    {
     "data": {
      "text/html": [
       " View run <strong style=\"color:#cdcd00\">SVD_f50_lr0.01_reg0.1_ep100</strong> at: <a href='https://wandb.ai/jackjack170827-uc-san-diego/cse158-project-rating/runs/krtvq4da' target=\"_blank\">https://wandb.ai/jackjack170827-uc-san-diego/cse158-project-rating/runs/krtvq4da</a><br/> View project at: <a href='https://wandb.ai/jackjack170827-uc-san-diego/cse158-project-rating' target=\"_blank\">https://wandb.ai/jackjack170827-uc-san-diego/cse158-project-rating</a><br/>Synced 5 W&B file(s), 0 media file(s), 0 artifact file(s) and 0 other file(s)"
      ],
      "text/plain": [
       "<IPython.core.display.HTML object>"
      ]
     },
     "metadata": {},
     "output_type": "display_data"
    },
    {
     "data": {
      "text/html": [
       "Find logs at: <code>./wandb/run-20241203_003903-krtvq4da/logs</code>"
      ],
      "text/plain": [
       "<IPython.core.display.HTML object>"
      ]
     },
     "metadata": {},
     "output_type": "display_data"
    },
    {
     "data": {
      "text/html": [
       "Tracking run with wandb version 0.18.7"
      ],
      "text/plain": [
       "<IPython.core.display.HTML object>"
      ]
     },
     "metadata": {},
     "output_type": "display_data"
    },
    {
     "data": {
      "text/html": [
       "Run data is saved locally in <code>/Users/julie/cse158-project/wandb/run-20241203_004047-ltvutnwo</code>"
      ],
      "text/plain": [
       "<IPython.core.display.HTML object>"
      ]
     },
     "metadata": {},
     "output_type": "display_data"
    },
    {
     "data": {
      "text/html": [
       "Syncing run <strong><a href='https://wandb.ai/jackjack170827-uc-san-diego/cse158-project-rating/runs/ltvutnwo' target=\"_blank\">SVD_f50_lr0.01_reg0.1_ep200</a></strong> to <a href='https://wandb.ai/jackjack170827-uc-san-diego/cse158-project-rating' target=\"_blank\">Weights & Biases</a> (<a href='https://wandb.me/developer-guide' target=\"_blank\">docs</a>)<br/>"
      ],
      "text/plain": [
       "<IPython.core.display.HTML object>"
      ]
     },
     "metadata": {},
     "output_type": "display_data"
    },
    {
     "data": {
      "text/html": [
       " View project at <a href='https://wandb.ai/jackjack170827-uc-san-diego/cse158-project-rating' target=\"_blank\">https://wandb.ai/jackjack170827-uc-san-diego/cse158-project-rating</a>"
      ],
      "text/plain": [
       "<IPython.core.display.HTML object>"
      ]
     },
     "metadata": {},
     "output_type": "display_data"
    },
    {
     "data": {
      "text/html": [
       " View run at <a href='https://wandb.ai/jackjack170827-uc-san-diego/cse158-project-rating/runs/ltvutnwo' target=\"_blank\">https://wandb.ai/jackjack170827-uc-san-diego/cse158-project-rating/runs/ltvutnwo</a>"
      ],
      "text/plain": [
       "<IPython.core.display.HTML object>"
      ]
     },
     "metadata": {},
     "output_type": "display_data"
    },
    {
     "data": {
      "text/html": [
       "\n",
       "    <style>\n",
       "        .wandb-row {\n",
       "            display: flex;\n",
       "            flex-direction: row;\n",
       "            flex-wrap: wrap;\n",
       "            justify-content: flex-start;\n",
       "            width: 100%;\n",
       "        }\n",
       "        .wandb-col {\n",
       "            display: flex;\n",
       "            flex-direction: column;\n",
       "            flex-basis: 100%;\n",
       "            flex: 1;\n",
       "            padding: 10px;\n",
       "        }\n",
       "    </style>\n",
       "<div class=\"wandb-row\"><div class=\"wandb-col\"><h3>Run history:</h3><br/><table class=\"wandb\"><tr><td>avg_val_MAE</td><td>▁</td></tr><tr><td>avg_val_MSE</td><td>▁</td></tr><tr><td>avg_val_RMSE</td><td>▁</td></tr><tr><td>fold_val_MAE</td><td>▁█▅▄▁</td></tr><tr><td>fold_val_MSE</td><td>▁█▄▄▁</td></tr><tr><td>fold_val_RMSE</td><td>▁█▄▄▁</td></tr></table><br/></div><div class=\"wandb-col\"><h3>Run summary:</h3><br/><table class=\"wandb\"><tr><td>avg_val_MAE</td><td>1.14371</td></tr><tr><td>avg_val_MSE</td><td>1.99484</td></tr><tr><td>avg_val_RMSE</td><td>1.41238</td></tr><tr><td>fold_val_MAE</td><td>1.13991</td></tr><tr><td>fold_val_MSE</td><td>1.98297</td></tr><tr><td>fold_val_RMSE</td><td>1.40818</td></tr></table><br/></div></div>"
      ],
      "text/plain": [
       "<IPython.core.display.HTML object>"
      ]
     },
     "metadata": {},
     "output_type": "display_data"
    },
    {
     "data": {
      "text/html": [
       " View run <strong style=\"color:#cdcd00\">SVD_f50_lr0.01_reg0.1_ep200</strong> at: <a href='https://wandb.ai/jackjack170827-uc-san-diego/cse158-project-rating/runs/ltvutnwo' target=\"_blank\">https://wandb.ai/jackjack170827-uc-san-diego/cse158-project-rating/runs/ltvutnwo</a><br/> View project at: <a href='https://wandb.ai/jackjack170827-uc-san-diego/cse158-project-rating' target=\"_blank\">https://wandb.ai/jackjack170827-uc-san-diego/cse158-project-rating</a><br/>Synced 5 W&B file(s), 0 media file(s), 0 artifact file(s) and 0 other file(s)"
      ],
      "text/plain": [
       "<IPython.core.display.HTML object>"
      ]
     },
     "metadata": {},
     "output_type": "display_data"
    },
    {
     "data": {
      "text/html": [
       "Find logs at: <code>./wandb/run-20241203_004047-ltvutnwo/logs</code>"
      ],
      "text/plain": [
       "<IPython.core.display.HTML object>"
      ]
     },
     "metadata": {},
     "output_type": "display_data"
    },
    {
     "data": {
      "text/html": [
       "Tracking run with wandb version 0.18.7"
      ],
      "text/plain": [
       "<IPython.core.display.HTML object>"
      ]
     },
     "metadata": {},
     "output_type": "display_data"
    },
    {
     "data": {
      "text/html": [
       "Run data is saved locally in <code>/Users/julie/cse158-project/wandb/run-20241203_004404-583lywzz</code>"
      ],
      "text/plain": [
       "<IPython.core.display.HTML object>"
      ]
     },
     "metadata": {},
     "output_type": "display_data"
    },
    {
     "data": {
      "text/html": [
       "Syncing run <strong><a href='https://wandb.ai/jackjack170827-uc-san-diego/cse158-project-rating/runs/583lywzz' target=\"_blank\">SVD_f100_lr0.001_reg0.02_ep20</a></strong> to <a href='https://wandb.ai/jackjack170827-uc-san-diego/cse158-project-rating' target=\"_blank\">Weights & Biases</a> (<a href='https://wandb.me/developer-guide' target=\"_blank\">docs</a>)<br/>"
      ],
      "text/plain": [
       "<IPython.core.display.HTML object>"
      ]
     },
     "metadata": {},
     "output_type": "display_data"
    },
    {
     "data": {
      "text/html": [
       " View project at <a href='https://wandb.ai/jackjack170827-uc-san-diego/cse158-project-rating' target=\"_blank\">https://wandb.ai/jackjack170827-uc-san-diego/cse158-project-rating</a>"
      ],
      "text/plain": [
       "<IPython.core.display.HTML object>"
      ]
     },
     "metadata": {},
     "output_type": "display_data"
    },
    {
     "data": {
      "text/html": [
       " View run at <a href='https://wandb.ai/jackjack170827-uc-san-diego/cse158-project-rating/runs/583lywzz' target=\"_blank\">https://wandb.ai/jackjack170827-uc-san-diego/cse158-project-rating/runs/583lywzz</a>"
      ],
      "text/plain": [
       "<IPython.core.display.HTML object>"
      ]
     },
     "metadata": {},
     "output_type": "display_data"
    },
    {
     "data": {
      "text/html": [
       "\n",
       "    <style>\n",
       "        .wandb-row {\n",
       "            display: flex;\n",
       "            flex-direction: row;\n",
       "            flex-wrap: wrap;\n",
       "            justify-content: flex-start;\n",
       "            width: 100%;\n",
       "        }\n",
       "        .wandb-col {\n",
       "            display: flex;\n",
       "            flex-direction: column;\n",
       "            flex-basis: 100%;\n",
       "            flex: 1;\n",
       "            padding: 10px;\n",
       "        }\n",
       "    </style>\n",
       "<div class=\"wandb-row\"><div class=\"wandb-col\"><h3>Run history:</h3><br/><table class=\"wandb\"><tr><td>avg_val_MAE</td><td>▁</td></tr><tr><td>avg_val_MSE</td><td>▁</td></tr><tr><td>avg_val_RMSE</td><td>▁</td></tr><tr><td>fold_val_MAE</td><td>▆▃▇█▁</td></tr><tr><td>fold_val_MSE</td><td>▄▃█▆▁</td></tr><tr><td>fold_val_RMSE</td><td>▄▃█▆▁</td></tr></table><br/></div><div class=\"wandb-col\"><h3>Run summary:</h3><br/><table class=\"wandb\"><tr><td>avg_val_MAE</td><td>1.19468</td></tr><tr><td>avg_val_MSE</td><td>2.07857</td></tr><tr><td>avg_val_RMSE</td><td>1.44172</td></tr><tr><td>fold_val_MAE</td><td>1.1927</td></tr><tr><td>fold_val_MSE</td><td>2.07083</td></tr><tr><td>fold_val_RMSE</td><td>1.43904</td></tr></table><br/></div></div>"
      ],
      "text/plain": [
       "<IPython.core.display.HTML object>"
      ]
     },
     "metadata": {},
     "output_type": "display_data"
    },
    {
     "data": {
      "text/html": [
       " View run <strong style=\"color:#cdcd00\">SVD_f100_lr0.001_reg0.02_ep20</strong> at: <a href='https://wandb.ai/jackjack170827-uc-san-diego/cse158-project-rating/runs/583lywzz' target=\"_blank\">https://wandb.ai/jackjack170827-uc-san-diego/cse158-project-rating/runs/583lywzz</a><br/> View project at: <a href='https://wandb.ai/jackjack170827-uc-san-diego/cse158-project-rating' target=\"_blank\">https://wandb.ai/jackjack170827-uc-san-diego/cse158-project-rating</a><br/>Synced 5 W&B file(s), 0 media file(s), 0 artifact file(s) and 0 other file(s)"
      ],
      "text/plain": [
       "<IPython.core.display.HTML object>"
      ]
     },
     "metadata": {},
     "output_type": "display_data"
    },
    {
     "data": {
      "text/html": [
       "Find logs at: <code>./wandb/run-20241203_004404-583lywzz/logs</code>"
      ],
      "text/plain": [
       "<IPython.core.display.HTML object>"
      ]
     },
     "metadata": {},
     "output_type": "display_data"
    },
    {
     "data": {
      "text/html": [
       "Tracking run with wandb version 0.18.7"
      ],
      "text/plain": [
       "<IPython.core.display.HTML object>"
      ]
     },
     "metadata": {},
     "output_type": "display_data"
    },
    {
     "data": {
      "text/html": [
       "Run data is saved locally in <code>/Users/julie/cse158-project/wandb/run-20241203_004446-qsm27adj</code>"
      ],
      "text/plain": [
       "<IPython.core.display.HTML object>"
      ]
     },
     "metadata": {},
     "output_type": "display_data"
    },
    {
     "data": {
      "text/html": [
       "Syncing run <strong><a href='https://wandb.ai/jackjack170827-uc-san-diego/cse158-project-rating/runs/qsm27adj' target=\"_blank\">SVD_f100_lr0.001_reg0.02_ep50</a></strong> to <a href='https://wandb.ai/jackjack170827-uc-san-diego/cse158-project-rating' target=\"_blank\">Weights & Biases</a> (<a href='https://wandb.me/developer-guide' target=\"_blank\">docs</a>)<br/>"
      ],
      "text/plain": [
       "<IPython.core.display.HTML object>"
      ]
     },
     "metadata": {},
     "output_type": "display_data"
    },
    {
     "data": {
      "text/html": [
       " View project at <a href='https://wandb.ai/jackjack170827-uc-san-diego/cse158-project-rating' target=\"_blank\">https://wandb.ai/jackjack170827-uc-san-diego/cse158-project-rating</a>"
      ],
      "text/plain": [
       "<IPython.core.display.HTML object>"
      ]
     },
     "metadata": {},
     "output_type": "display_data"
    },
    {
     "data": {
      "text/html": [
       " View run at <a href='https://wandb.ai/jackjack170827-uc-san-diego/cse158-project-rating/runs/qsm27adj' target=\"_blank\">https://wandb.ai/jackjack170827-uc-san-diego/cse158-project-rating/runs/qsm27adj</a>"
      ],
      "text/plain": [
       "<IPython.core.display.HTML object>"
      ]
     },
     "metadata": {},
     "output_type": "display_data"
    },
    {
     "data": {
      "text/html": [
       "\n",
       "    <style>\n",
       "        .wandb-row {\n",
       "            display: flex;\n",
       "            flex-direction: row;\n",
       "            flex-wrap: wrap;\n",
       "            justify-content: flex-start;\n",
       "            width: 100%;\n",
       "        }\n",
       "        .wandb-col {\n",
       "            display: flex;\n",
       "            flex-direction: column;\n",
       "            flex-basis: 100%;\n",
       "            flex: 1;\n",
       "            padding: 10px;\n",
       "        }\n",
       "    </style>\n",
       "<div class=\"wandb-row\"><div class=\"wandb-col\"><h3>Run history:</h3><br/><table class=\"wandb\"><tr><td>avg_val_MAE</td><td>▁</td></tr><tr><td>avg_val_MSE</td><td>▁</td></tr><tr><td>avg_val_RMSE</td><td>▁</td></tr><tr><td>fold_val_MAE</td><td>█▃▁▁▇</td></tr><tr><td>fold_val_MSE</td><td>█▃▁▂▇</td></tr><tr><td>fold_val_RMSE</td><td>█▃▁▂▇</td></tr></table><br/></div><div class=\"wandb-col\"><h3>Run summary:</h3><br/><table class=\"wandb\"><tr><td>avg_val_MAE</td><td>1.17204</td></tr><tr><td>avg_val_MSE</td><td>2.02733</td></tr><tr><td>avg_val_RMSE</td><td>1.42384</td></tr><tr><td>fold_val_MAE</td><td>1.17469</td></tr><tr><td>fold_val_MSE</td><td>2.03809</td></tr><tr><td>fold_val_RMSE</td><td>1.42762</td></tr></table><br/></div></div>"
      ],
      "text/plain": [
       "<IPython.core.display.HTML object>"
      ]
     },
     "metadata": {},
     "output_type": "display_data"
    },
    {
     "data": {
      "text/html": [
       " View run <strong style=\"color:#cdcd00\">SVD_f100_lr0.001_reg0.02_ep50</strong> at: <a href='https://wandb.ai/jackjack170827-uc-san-diego/cse158-project-rating/runs/qsm27adj' target=\"_blank\">https://wandb.ai/jackjack170827-uc-san-diego/cse158-project-rating/runs/qsm27adj</a><br/> View project at: <a href='https://wandb.ai/jackjack170827-uc-san-diego/cse158-project-rating' target=\"_blank\">https://wandb.ai/jackjack170827-uc-san-diego/cse158-project-rating</a><br/>Synced 5 W&B file(s), 0 media file(s), 0 artifact file(s) and 0 other file(s)"
      ],
      "text/plain": [
       "<IPython.core.display.HTML object>"
      ]
     },
     "metadata": {},
     "output_type": "display_data"
    },
    {
     "data": {
      "text/html": [
       "Find logs at: <code>./wandb/run-20241203_004446-qsm27adj/logs</code>"
      ],
      "text/plain": [
       "<IPython.core.display.HTML object>"
      ]
     },
     "metadata": {},
     "output_type": "display_data"
    },
    {
     "data": {
      "text/html": [
       "Tracking run with wandb version 0.18.7"
      ],
      "text/plain": [
       "<IPython.core.display.HTML object>"
      ]
     },
     "metadata": {},
     "output_type": "display_data"
    },
    {
     "data": {
      "text/html": [
       "Run data is saved locally in <code>/Users/julie/cse158-project/wandb/run-20241203_004600-z2cx1igl</code>"
      ],
      "text/plain": [
       "<IPython.core.display.HTML object>"
      ]
     },
     "metadata": {},
     "output_type": "display_data"
    },
    {
     "data": {
      "text/html": [
       "Syncing run <strong><a href='https://wandb.ai/jackjack170827-uc-san-diego/cse158-project-rating/runs/z2cx1igl' target=\"_blank\">SVD_f100_lr0.001_reg0.02_ep100</a></strong> to <a href='https://wandb.ai/jackjack170827-uc-san-diego/cse158-project-rating' target=\"_blank\">Weights & Biases</a> (<a href='https://wandb.me/developer-guide' target=\"_blank\">docs</a>)<br/>"
      ],
      "text/plain": [
       "<IPython.core.display.HTML object>"
      ]
     },
     "metadata": {},
     "output_type": "display_data"
    },
    {
     "data": {
      "text/html": [
       " View project at <a href='https://wandb.ai/jackjack170827-uc-san-diego/cse158-project-rating' target=\"_blank\">https://wandb.ai/jackjack170827-uc-san-diego/cse158-project-rating</a>"
      ],
      "text/plain": [
       "<IPython.core.display.HTML object>"
      ]
     },
     "metadata": {},
     "output_type": "display_data"
    },
    {
     "data": {
      "text/html": [
       " View run at <a href='https://wandb.ai/jackjack170827-uc-san-diego/cse158-project-rating/runs/z2cx1igl' target=\"_blank\">https://wandb.ai/jackjack170827-uc-san-diego/cse158-project-rating/runs/z2cx1igl</a>"
      ],
      "text/plain": [
       "<IPython.core.display.HTML object>"
      ]
     },
     "metadata": {},
     "output_type": "display_data"
    },
    {
     "data": {
      "text/html": [
       "\n",
       "    <style>\n",
       "        .wandb-row {\n",
       "            display: flex;\n",
       "            flex-direction: row;\n",
       "            flex-wrap: wrap;\n",
       "            justify-content: flex-start;\n",
       "            width: 100%;\n",
       "        }\n",
       "        .wandb-col {\n",
       "            display: flex;\n",
       "            flex-direction: column;\n",
       "            flex-basis: 100%;\n",
       "            flex: 1;\n",
       "            padding: 10px;\n",
       "        }\n",
       "    </style>\n",
       "<div class=\"wandb-row\"><div class=\"wandb-col\"><h3>Run history:</h3><br/><table class=\"wandb\"><tr><td>avg_val_MAE</td><td>▁</td></tr><tr><td>avg_val_MSE</td><td>▁</td></tr><tr><td>avg_val_RMSE</td><td>▁</td></tr><tr><td>fold_val_MAE</td><td>▅▇█▁▄</td></tr><tr><td>fold_val_MSE</td><td>▄▆█▁▅</td></tr><tr><td>fold_val_RMSE</td><td>▄▆█▁▅</td></tr></table><br/></div><div class=\"wandb-col\"><h3>Run summary:</h3><br/><table class=\"wandb\"><tr><td>avg_val_MAE</td><td>1.15572</td></tr><tr><td>avg_val_MSE</td><td>1.99669</td></tr><tr><td>avg_val_RMSE</td><td>1.41304</td></tr><tr><td>fold_val_MAE</td><td>1.15491</td></tr><tr><td>fold_val_MSE</td><td>1.99694</td></tr><tr><td>fold_val_RMSE</td><td>1.41313</td></tr></table><br/></div></div>"
      ],
      "text/plain": [
       "<IPython.core.display.HTML object>"
      ]
     },
     "metadata": {},
     "output_type": "display_data"
    },
    {
     "data": {
      "text/html": [
       " View run <strong style=\"color:#cdcd00\">SVD_f100_lr0.001_reg0.02_ep100</strong> at: <a href='https://wandb.ai/jackjack170827-uc-san-diego/cse158-project-rating/runs/z2cx1igl' target=\"_blank\">https://wandb.ai/jackjack170827-uc-san-diego/cse158-project-rating/runs/z2cx1igl</a><br/> View project at: <a href='https://wandb.ai/jackjack170827-uc-san-diego/cse158-project-rating' target=\"_blank\">https://wandb.ai/jackjack170827-uc-san-diego/cse158-project-rating</a><br/>Synced 5 W&B file(s), 0 media file(s), 0 artifact file(s) and 0 other file(s)"
      ],
      "text/plain": [
       "<IPython.core.display.HTML object>"
      ]
     },
     "metadata": {},
     "output_type": "display_data"
    },
    {
     "data": {
      "text/html": [
       "Find logs at: <code>./wandb/run-20241203_004600-z2cx1igl/logs</code>"
      ],
      "text/plain": [
       "<IPython.core.display.HTML object>"
      ]
     },
     "metadata": {},
     "output_type": "display_data"
    },
    {
     "data": {
      "text/html": [
       "Tracking run with wandb version 0.18.7"
      ],
      "text/plain": [
       "<IPython.core.display.HTML object>"
      ]
     },
     "metadata": {},
     "output_type": "display_data"
    },
    {
     "data": {
      "text/html": [
       "Run data is saved locally in <code>/Users/julie/cse158-project/wandb/run-20241203_004813-9xnpc5z1</code>"
      ],
      "text/plain": [
       "<IPython.core.display.HTML object>"
      ]
     },
     "metadata": {},
     "output_type": "display_data"
    },
    {
     "data": {
      "text/html": [
       "Syncing run <strong><a href='https://wandb.ai/jackjack170827-uc-san-diego/cse158-project-rating/runs/9xnpc5z1' target=\"_blank\">SVD_f100_lr0.001_reg0.02_ep200</a></strong> to <a href='https://wandb.ai/jackjack170827-uc-san-diego/cse158-project-rating' target=\"_blank\">Weights & Biases</a> (<a href='https://wandb.me/developer-guide' target=\"_blank\">docs</a>)<br/>"
      ],
      "text/plain": [
       "<IPython.core.display.HTML object>"
      ]
     },
     "metadata": {},
     "output_type": "display_data"
    },
    {
     "data": {
      "text/html": [
       " View project at <a href='https://wandb.ai/jackjack170827-uc-san-diego/cse158-project-rating' target=\"_blank\">https://wandb.ai/jackjack170827-uc-san-diego/cse158-project-rating</a>"
      ],
      "text/plain": [
       "<IPython.core.display.HTML object>"
      ]
     },
     "metadata": {},
     "output_type": "display_data"
    },
    {
     "data": {
      "text/html": [
       " View run at <a href='https://wandb.ai/jackjack170827-uc-san-diego/cse158-project-rating/runs/9xnpc5z1' target=\"_blank\">https://wandb.ai/jackjack170827-uc-san-diego/cse158-project-rating/runs/9xnpc5z1</a>"
      ],
      "text/plain": [
       "<IPython.core.display.HTML object>"
      ]
     },
     "metadata": {},
     "output_type": "display_data"
    },
    {
     "data": {
      "text/html": [
       "\n",
       "    <style>\n",
       "        .wandb-row {\n",
       "            display: flex;\n",
       "            flex-direction: row;\n",
       "            flex-wrap: wrap;\n",
       "            justify-content: flex-start;\n",
       "            width: 100%;\n",
       "        }\n",
       "        .wandb-col {\n",
       "            display: flex;\n",
       "            flex-direction: column;\n",
       "            flex-basis: 100%;\n",
       "            flex: 1;\n",
       "            padding: 10px;\n",
       "        }\n",
       "    </style>\n",
       "<div class=\"wandb-row\"><div class=\"wandb-col\"><h3>Run history:</h3><br/><table class=\"wandb\"><tr><td>avg_val_MAE</td><td>▁</td></tr><tr><td>avg_val_MSE</td><td>▁</td></tr><tr><td>avg_val_RMSE</td><td>▁</td></tr><tr><td>fold_val_MAE</td><td>▆▄█▃▁</td></tr><tr><td>fold_val_MSE</td><td>█▇█▅▁</td></tr><tr><td>fold_val_RMSE</td><td>█▇█▅▁</td></tr></table><br/></div><div class=\"wandb-col\"><h3>Run summary:</h3><br/><table class=\"wandb\"><tr><td>avg_val_MAE</td><td>1.14299</td></tr><tr><td>avg_val_MSE</td><td>1.98085</td></tr><tr><td>avg_val_RMSE</td><td>1.40743</td></tr><tr><td>fold_val_MAE</td><td>1.14166</td></tr><tr><td>fold_val_MSE</td><td>1.97476</td></tr><tr><td>fold_val_RMSE</td><td>1.40526</td></tr></table><br/></div></div>"
      ],
      "text/plain": [
       "<IPython.core.display.HTML object>"
      ]
     },
     "metadata": {},
     "output_type": "display_data"
    },
    {
     "data": {
      "text/html": [
       " View run <strong style=\"color:#cdcd00\">SVD_f100_lr0.001_reg0.02_ep200</strong> at: <a href='https://wandb.ai/jackjack170827-uc-san-diego/cse158-project-rating/runs/9xnpc5z1' target=\"_blank\">https://wandb.ai/jackjack170827-uc-san-diego/cse158-project-rating/runs/9xnpc5z1</a><br/> View project at: <a href='https://wandb.ai/jackjack170827-uc-san-diego/cse158-project-rating' target=\"_blank\">https://wandb.ai/jackjack170827-uc-san-diego/cse158-project-rating</a><br/>Synced 5 W&B file(s), 0 media file(s), 0 artifact file(s) and 0 other file(s)"
      ],
      "text/plain": [
       "<IPython.core.display.HTML object>"
      ]
     },
     "metadata": {},
     "output_type": "display_data"
    },
    {
     "data": {
      "text/html": [
       "Find logs at: <code>./wandb/run-20241203_004813-9xnpc5z1/logs</code>"
      ],
      "text/plain": [
       "<IPython.core.display.HTML object>"
      ]
     },
     "metadata": {},
     "output_type": "display_data"
    },
    {
     "data": {
      "text/html": [
       "Tracking run with wandb version 0.18.7"
      ],
      "text/plain": [
       "<IPython.core.display.HTML object>"
      ]
     },
     "metadata": {},
     "output_type": "display_data"
    },
    {
     "data": {
      "text/html": [
       "Run data is saved locally in <code>/Users/julie/cse158-project/wandb/run-20241203_005212-r69tpjl1</code>"
      ],
      "text/plain": [
       "<IPython.core.display.HTML object>"
      ]
     },
     "metadata": {},
     "output_type": "display_data"
    },
    {
     "data": {
      "text/html": [
       "Syncing run <strong><a href='https://wandb.ai/jackjack170827-uc-san-diego/cse158-project-rating/runs/r69tpjl1' target=\"_blank\">SVD_f100_lr0.001_reg0.05_ep20</a></strong> to <a href='https://wandb.ai/jackjack170827-uc-san-diego/cse158-project-rating' target=\"_blank\">Weights & Biases</a> (<a href='https://wandb.me/developer-guide' target=\"_blank\">docs</a>)<br/>"
      ],
      "text/plain": [
       "<IPython.core.display.HTML object>"
      ]
     },
     "metadata": {},
     "output_type": "display_data"
    },
    {
     "data": {
      "text/html": [
       " View project at <a href='https://wandb.ai/jackjack170827-uc-san-diego/cse158-project-rating' target=\"_blank\">https://wandb.ai/jackjack170827-uc-san-diego/cse158-project-rating</a>"
      ],
      "text/plain": [
       "<IPython.core.display.HTML object>"
      ]
     },
     "metadata": {},
     "output_type": "display_data"
    },
    {
     "data": {
      "text/html": [
       " View run at <a href='https://wandb.ai/jackjack170827-uc-san-diego/cse158-project-rating/runs/r69tpjl1' target=\"_blank\">https://wandb.ai/jackjack170827-uc-san-diego/cse158-project-rating/runs/r69tpjl1</a>"
      ],
      "text/plain": [
       "<IPython.core.display.HTML object>"
      ]
     },
     "metadata": {},
     "output_type": "display_data"
    },
    {
     "data": {
      "text/html": [
       "\n",
       "    <style>\n",
       "        .wandb-row {\n",
       "            display: flex;\n",
       "            flex-direction: row;\n",
       "            flex-wrap: wrap;\n",
       "            justify-content: flex-start;\n",
       "            width: 100%;\n",
       "        }\n",
       "        .wandb-col {\n",
       "            display: flex;\n",
       "            flex-direction: column;\n",
       "            flex-basis: 100%;\n",
       "            flex: 1;\n",
       "            padding: 10px;\n",
       "        }\n",
       "    </style>\n",
       "<div class=\"wandb-row\"><div class=\"wandb-col\"><h3>Run history:</h3><br/><table class=\"wandb\"><tr><td>avg_val_MAE</td><td>▁</td></tr><tr><td>avg_val_MSE</td><td>▁</td></tr><tr><td>avg_val_RMSE</td><td>▁</td></tr><tr><td>fold_val_MAE</td><td>█▅▁▇▅</td></tr><tr><td>fold_val_MSE</td><td>█▃▁▆▄</td></tr><tr><td>fold_val_RMSE</td><td>█▃▁▆▄</td></tr></table><br/></div><div class=\"wandb-col\"><h3>Run summary:</h3><br/><table class=\"wandb\"><tr><td>avg_val_MAE</td><td>1.19559</td></tr><tr><td>avg_val_MSE</td><td>2.07888</td></tr><tr><td>avg_val_RMSE</td><td>1.44183</td></tr><tr><td>fold_val_MAE</td><td>1.19559</td></tr><tr><td>fold_val_MSE</td><td>2.07804</td></tr><tr><td>fold_val_RMSE</td><td>1.44154</td></tr></table><br/></div></div>"
      ],
      "text/plain": [
       "<IPython.core.display.HTML object>"
      ]
     },
     "metadata": {},
     "output_type": "display_data"
    },
    {
     "data": {
      "text/html": [
       " View run <strong style=\"color:#cdcd00\">SVD_f100_lr0.001_reg0.05_ep20</strong> at: <a href='https://wandb.ai/jackjack170827-uc-san-diego/cse158-project-rating/runs/r69tpjl1' target=\"_blank\">https://wandb.ai/jackjack170827-uc-san-diego/cse158-project-rating/runs/r69tpjl1</a><br/> View project at: <a href='https://wandb.ai/jackjack170827-uc-san-diego/cse158-project-rating' target=\"_blank\">https://wandb.ai/jackjack170827-uc-san-diego/cse158-project-rating</a><br/>Synced 5 W&B file(s), 0 media file(s), 0 artifact file(s) and 0 other file(s)"
      ],
      "text/plain": [
       "<IPython.core.display.HTML object>"
      ]
     },
     "metadata": {},
     "output_type": "display_data"
    },
    {
     "data": {
      "text/html": [
       "Find logs at: <code>./wandb/run-20241203_005212-r69tpjl1/logs</code>"
      ],
      "text/plain": [
       "<IPython.core.display.HTML object>"
      ]
     },
     "metadata": {},
     "output_type": "display_data"
    },
    {
     "data": {
      "text/html": [
       "Tracking run with wandb version 0.18.7"
      ],
      "text/plain": [
       "<IPython.core.display.HTML object>"
      ]
     },
     "metadata": {},
     "output_type": "display_data"
    },
    {
     "data": {
      "text/html": [
       "Run data is saved locally in <code>/Users/julie/cse158-project/wandb/run-20241203_005257-a9luywri</code>"
      ],
      "text/plain": [
       "<IPython.core.display.HTML object>"
      ]
     },
     "metadata": {},
     "output_type": "display_data"
    },
    {
     "data": {
      "text/html": [
       "Syncing run <strong><a href='https://wandb.ai/jackjack170827-uc-san-diego/cse158-project-rating/runs/a9luywri' target=\"_blank\">SVD_f100_lr0.001_reg0.05_ep50</a></strong> to <a href='https://wandb.ai/jackjack170827-uc-san-diego/cse158-project-rating' target=\"_blank\">Weights & Biases</a> (<a href='https://wandb.me/developer-guide' target=\"_blank\">docs</a>)<br/>"
      ],
      "text/plain": [
       "<IPython.core.display.HTML object>"
      ]
     },
     "metadata": {},
     "output_type": "display_data"
    },
    {
     "data": {
      "text/html": [
       " View project at <a href='https://wandb.ai/jackjack170827-uc-san-diego/cse158-project-rating' target=\"_blank\">https://wandb.ai/jackjack170827-uc-san-diego/cse158-project-rating</a>"
      ],
      "text/plain": [
       "<IPython.core.display.HTML object>"
      ]
     },
     "metadata": {},
     "output_type": "display_data"
    },
    {
     "data": {
      "text/html": [
       " View run at <a href='https://wandb.ai/jackjack170827-uc-san-diego/cse158-project-rating/runs/a9luywri' target=\"_blank\">https://wandb.ai/jackjack170827-uc-san-diego/cse158-project-rating/runs/a9luywri</a>"
      ],
      "text/plain": [
       "<IPython.core.display.HTML object>"
      ]
     },
     "metadata": {},
     "output_type": "display_data"
    },
    {
     "data": {
      "text/html": [
       "\n",
       "    <style>\n",
       "        .wandb-row {\n",
       "            display: flex;\n",
       "            flex-direction: row;\n",
       "            flex-wrap: wrap;\n",
       "            justify-content: flex-start;\n",
       "            width: 100%;\n",
       "        }\n",
       "        .wandb-col {\n",
       "            display: flex;\n",
       "            flex-direction: column;\n",
       "            flex-basis: 100%;\n",
       "            flex: 1;\n",
       "            padding: 10px;\n",
       "        }\n",
       "    </style>\n",
       "<div class=\"wandb-row\"><div class=\"wandb-col\"><h3>Run history:</h3><br/><table class=\"wandb\"><tr><td>avg_val_MAE</td><td>▁</td></tr><tr><td>avg_val_MSE</td><td>▁</td></tr><tr><td>avg_val_RMSE</td><td>▁</td></tr><tr><td>fold_val_MAE</td><td>▄▄▇█▁</td></tr><tr><td>fold_val_MSE</td><td>▁▂▅█▃</td></tr><tr><td>fold_val_RMSE</td><td>▁▂▅█▃</td></tr></table><br/></div><div class=\"wandb-col\"><h3>Run summary:</h3><br/><table class=\"wandb\"><tr><td>avg_val_MAE</td><td>1.17356</td></tr><tr><td>avg_val_MSE</td><td>2.02828</td></tr><tr><td>avg_val_RMSE</td><td>1.42418</td></tr><tr><td>fold_val_MAE</td><td>1.17163</td></tr><tr><td>fold_val_MSE</td><td>2.02695</td></tr><tr><td>fold_val_RMSE</td><td>1.42371</td></tr></table><br/></div></div>"
      ],
      "text/plain": [
       "<IPython.core.display.HTML object>"
      ]
     },
     "metadata": {},
     "output_type": "display_data"
    },
    {
     "data": {
      "text/html": [
       " View run <strong style=\"color:#cdcd00\">SVD_f100_lr0.001_reg0.05_ep50</strong> at: <a href='https://wandb.ai/jackjack170827-uc-san-diego/cse158-project-rating/runs/a9luywri' target=\"_blank\">https://wandb.ai/jackjack170827-uc-san-diego/cse158-project-rating/runs/a9luywri</a><br/> View project at: <a href='https://wandb.ai/jackjack170827-uc-san-diego/cse158-project-rating' target=\"_blank\">https://wandb.ai/jackjack170827-uc-san-diego/cse158-project-rating</a><br/>Synced 5 W&B file(s), 0 media file(s), 0 artifact file(s) and 0 other file(s)"
      ],
      "text/plain": [
       "<IPython.core.display.HTML object>"
      ]
     },
     "metadata": {},
     "output_type": "display_data"
    },
    {
     "data": {
      "text/html": [
       "Find logs at: <code>./wandb/run-20241203_005257-a9luywri/logs</code>"
      ],
      "text/plain": [
       "<IPython.core.display.HTML object>"
      ]
     },
     "metadata": {},
     "output_type": "display_data"
    },
    {
     "data": {
      "text/html": [
       "Tracking run with wandb version 0.18.7"
      ],
      "text/plain": [
       "<IPython.core.display.HTML object>"
      ]
     },
     "metadata": {},
     "output_type": "display_data"
    },
    {
     "data": {
      "text/html": [
       "Run data is saved locally in <code>/Users/julie/cse158-project/wandb/run-20241203_005425-mzr8xfu9</code>"
      ],
      "text/plain": [
       "<IPython.core.display.HTML object>"
      ]
     },
     "metadata": {},
     "output_type": "display_data"
    },
    {
     "data": {
      "text/html": [
       "Syncing run <strong><a href='https://wandb.ai/jackjack170827-uc-san-diego/cse158-project-rating/runs/mzr8xfu9' target=\"_blank\">SVD_f100_lr0.001_reg0.05_ep100</a></strong> to <a href='https://wandb.ai/jackjack170827-uc-san-diego/cse158-project-rating' target=\"_blank\">Weights & Biases</a> (<a href='https://wandb.me/developer-guide' target=\"_blank\">docs</a>)<br/>"
      ],
      "text/plain": [
       "<IPython.core.display.HTML object>"
      ]
     },
     "metadata": {},
     "output_type": "display_data"
    },
    {
     "data": {
      "text/html": [
       " View project at <a href='https://wandb.ai/jackjack170827-uc-san-diego/cse158-project-rating' target=\"_blank\">https://wandb.ai/jackjack170827-uc-san-diego/cse158-project-rating</a>"
      ],
      "text/plain": [
       "<IPython.core.display.HTML object>"
      ]
     },
     "metadata": {},
     "output_type": "display_data"
    },
    {
     "data": {
      "text/html": [
       " View run at <a href='https://wandb.ai/jackjack170827-uc-san-diego/cse158-project-rating/runs/mzr8xfu9' target=\"_blank\">https://wandb.ai/jackjack170827-uc-san-diego/cse158-project-rating/runs/mzr8xfu9</a>"
      ],
      "text/plain": [
       "<IPython.core.display.HTML object>"
      ]
     },
     "metadata": {},
     "output_type": "display_data"
    },
    {
     "data": {
      "text/html": [
       "\n",
       "    <style>\n",
       "        .wandb-row {\n",
       "            display: flex;\n",
       "            flex-direction: row;\n",
       "            flex-wrap: wrap;\n",
       "            justify-content: flex-start;\n",
       "            width: 100%;\n",
       "        }\n",
       "        .wandb-col {\n",
       "            display: flex;\n",
       "            flex-direction: column;\n",
       "            flex-basis: 100%;\n",
       "            flex: 1;\n",
       "            padding: 10px;\n",
       "        }\n",
       "    </style>\n",
       "<div class=\"wandb-row\"><div class=\"wandb-col\"><h3>Run history:</h3><br/><table class=\"wandb\"><tr><td>avg_val_MAE</td><td>▁</td></tr><tr><td>avg_val_MSE</td><td>▁</td></tr><tr><td>avg_val_RMSE</td><td>▁</td></tr><tr><td>fold_val_MAE</td><td>▅▅██▁</td></tr><tr><td>fold_val_MSE</td><td>▂▁▆█▁</td></tr><tr><td>fold_val_RMSE</td><td>▂▁▆█▁</td></tr></table><br/></div><div class=\"wandb-col\"><h3>Run summary:</h3><br/><table class=\"wandb\"><tr><td>avg_val_MAE</td><td>1.15811</td></tr><tr><td>avg_val_MSE</td><td>1.99792</td></tr><tr><td>avg_val_RMSE</td><td>1.41348</td></tr><tr><td>fold_val_MAE</td><td>1.15612</td></tr><tr><td>fold_val_MSE</td><td>1.99412</td></tr><tr><td>fold_val_RMSE</td><td>1.41213</td></tr></table><br/></div></div>"
      ],
      "text/plain": [
       "<IPython.core.display.HTML object>"
      ]
     },
     "metadata": {},
     "output_type": "display_data"
    },
    {
     "data": {
      "text/html": [
       " View run <strong style=\"color:#cdcd00\">SVD_f100_lr0.001_reg0.05_ep100</strong> at: <a href='https://wandb.ai/jackjack170827-uc-san-diego/cse158-project-rating/runs/mzr8xfu9' target=\"_blank\">https://wandb.ai/jackjack170827-uc-san-diego/cse158-project-rating/runs/mzr8xfu9</a><br/> View project at: <a href='https://wandb.ai/jackjack170827-uc-san-diego/cse158-project-rating' target=\"_blank\">https://wandb.ai/jackjack170827-uc-san-diego/cse158-project-rating</a><br/>Synced 5 W&B file(s), 0 media file(s), 0 artifact file(s) and 0 other file(s)"
      ],
      "text/plain": [
       "<IPython.core.display.HTML object>"
      ]
     },
     "metadata": {},
     "output_type": "display_data"
    },
    {
     "data": {
      "text/html": [
       "Find logs at: <code>./wandb/run-20241203_005425-mzr8xfu9/logs</code>"
      ],
      "text/plain": [
       "<IPython.core.display.HTML object>"
      ]
     },
     "metadata": {},
     "output_type": "display_data"
    },
    {
     "data": {
      "text/html": [
       "Tracking run with wandb version 0.18.7"
      ],
      "text/plain": [
       "<IPython.core.display.HTML object>"
      ]
     },
     "metadata": {},
     "output_type": "display_data"
    },
    {
     "data": {
      "text/html": [
       "Run data is saved locally in <code>/Users/julie/cse158-project/wandb/run-20241203_005652-o7kymhdx</code>"
      ],
      "text/plain": [
       "<IPython.core.display.HTML object>"
      ]
     },
     "metadata": {},
     "output_type": "display_data"
    },
    {
     "data": {
      "text/html": [
       "Syncing run <strong><a href='https://wandb.ai/jackjack170827-uc-san-diego/cse158-project-rating/runs/o7kymhdx' target=\"_blank\">SVD_f100_lr0.001_reg0.05_ep200</a></strong> to <a href='https://wandb.ai/jackjack170827-uc-san-diego/cse158-project-rating' target=\"_blank\">Weights & Biases</a> (<a href='https://wandb.me/developer-guide' target=\"_blank\">docs</a>)<br/>"
      ],
      "text/plain": [
       "<IPython.core.display.HTML object>"
      ]
     },
     "metadata": {},
     "output_type": "display_data"
    },
    {
     "data": {
      "text/html": [
       " View project at <a href='https://wandb.ai/jackjack170827-uc-san-diego/cse158-project-rating' target=\"_blank\">https://wandb.ai/jackjack170827-uc-san-diego/cse158-project-rating</a>"
      ],
      "text/plain": [
       "<IPython.core.display.HTML object>"
      ]
     },
     "metadata": {},
     "output_type": "display_data"
    },
    {
     "data": {
      "text/html": [
       " View run at <a href='https://wandb.ai/jackjack170827-uc-san-diego/cse158-project-rating/runs/o7kymhdx' target=\"_blank\">https://wandb.ai/jackjack170827-uc-san-diego/cse158-project-rating/runs/o7kymhdx</a>"
      ],
      "text/plain": [
       "<IPython.core.display.HTML object>"
      ]
     },
     "metadata": {},
     "output_type": "display_data"
    },
    {
     "data": {
      "text/html": [
       "\n",
       "    <style>\n",
       "        .wandb-row {\n",
       "            display: flex;\n",
       "            flex-direction: row;\n",
       "            flex-wrap: wrap;\n",
       "            justify-content: flex-start;\n",
       "            width: 100%;\n",
       "        }\n",
       "        .wandb-col {\n",
       "            display: flex;\n",
       "            flex-direction: column;\n",
       "            flex-basis: 100%;\n",
       "            flex: 1;\n",
       "            padding: 10px;\n",
       "        }\n",
       "    </style>\n",
       "<div class=\"wandb-row\"><div class=\"wandb-col\"><h3>Run history:</h3><br/><table class=\"wandb\"><tr><td>avg_val_MAE</td><td>▁</td></tr><tr><td>avg_val_MSE</td><td>▁</td></tr><tr><td>avg_val_RMSE</td><td>▁</td></tr><tr><td>fold_val_MAE</td><td>▇█▁▄▁</td></tr><tr><td>fold_val_MSE</td><td>▇█▁▄▁</td></tr><tr><td>fold_val_RMSE</td><td>▇█▁▄▁</td></tr></table><br/></div><div class=\"wandb-col\"><h3>Run summary:</h3><br/><table class=\"wandb\"><tr><td>avg_val_MAE</td><td>1.14553</td></tr><tr><td>avg_val_MSE</td><td>1.98068</td></tr><tr><td>avg_val_RMSE</td><td>1.40736</td></tr><tr><td>fold_val_MAE</td><td>1.14266</td></tr><tr><td>fold_val_MSE</td><td>1.97027</td></tr><tr><td>fold_val_RMSE</td><td>1.40366</td></tr></table><br/></div></div>"
      ],
      "text/plain": [
       "<IPython.core.display.HTML object>"
      ]
     },
     "metadata": {},
     "output_type": "display_data"
    },
    {
     "data": {
      "text/html": [
       " View run <strong style=\"color:#cdcd00\">SVD_f100_lr0.001_reg0.05_ep200</strong> at: <a href='https://wandb.ai/jackjack170827-uc-san-diego/cse158-project-rating/runs/o7kymhdx' target=\"_blank\">https://wandb.ai/jackjack170827-uc-san-diego/cse158-project-rating/runs/o7kymhdx</a><br/> View project at: <a href='https://wandb.ai/jackjack170827-uc-san-diego/cse158-project-rating' target=\"_blank\">https://wandb.ai/jackjack170827-uc-san-diego/cse158-project-rating</a><br/>Synced 5 W&B file(s), 0 media file(s), 0 artifact file(s) and 0 other file(s)"
      ],
      "text/plain": [
       "<IPython.core.display.HTML object>"
      ]
     },
     "metadata": {},
     "output_type": "display_data"
    },
    {
     "data": {
      "text/html": [
       "Find logs at: <code>./wandb/run-20241203_005652-o7kymhdx/logs</code>"
      ],
      "text/plain": [
       "<IPython.core.display.HTML object>"
      ]
     },
     "metadata": {},
     "output_type": "display_data"
    },
    {
     "data": {
      "text/html": [
       "Tracking run with wandb version 0.18.7"
      ],
      "text/plain": [
       "<IPython.core.display.HTML object>"
      ]
     },
     "metadata": {},
     "output_type": "display_data"
    },
    {
     "data": {
      "text/html": [
       "Run data is saved locally in <code>/Users/julie/cse158-project/wandb/run-20241203_010117-065cpgsp</code>"
      ],
      "text/plain": [
       "<IPython.core.display.HTML object>"
      ]
     },
     "metadata": {},
     "output_type": "display_data"
    },
    {
     "data": {
      "text/html": [
       "Syncing run <strong><a href='https://wandb.ai/jackjack170827-uc-san-diego/cse158-project-rating/runs/065cpgsp' target=\"_blank\">SVD_f100_lr0.001_reg0.1_ep20</a></strong> to <a href='https://wandb.ai/jackjack170827-uc-san-diego/cse158-project-rating' target=\"_blank\">Weights & Biases</a> (<a href='https://wandb.me/developer-guide' target=\"_blank\">docs</a>)<br/>"
      ],
      "text/plain": [
       "<IPython.core.display.HTML object>"
      ]
     },
     "metadata": {},
     "output_type": "display_data"
    },
    {
     "data": {
      "text/html": [
       " View project at <a href='https://wandb.ai/jackjack170827-uc-san-diego/cse158-project-rating' target=\"_blank\">https://wandb.ai/jackjack170827-uc-san-diego/cse158-project-rating</a>"
      ],
      "text/plain": [
       "<IPython.core.display.HTML object>"
      ]
     },
     "metadata": {},
     "output_type": "display_data"
    },
    {
     "data": {
      "text/html": [
       " View run at <a href='https://wandb.ai/jackjack170827-uc-san-diego/cse158-project-rating/runs/065cpgsp' target=\"_blank\">https://wandb.ai/jackjack170827-uc-san-diego/cse158-project-rating/runs/065cpgsp</a>"
      ],
      "text/plain": [
       "<IPython.core.display.HTML object>"
      ]
     },
     "metadata": {},
     "output_type": "display_data"
    },
    {
     "data": {
      "text/html": [
       "\n",
       "    <style>\n",
       "        .wandb-row {\n",
       "            display: flex;\n",
       "            flex-direction: row;\n",
       "            flex-wrap: wrap;\n",
       "            justify-content: flex-start;\n",
       "            width: 100%;\n",
       "        }\n",
       "        .wandb-col {\n",
       "            display: flex;\n",
       "            flex-direction: column;\n",
       "            flex-basis: 100%;\n",
       "            flex: 1;\n",
       "            padding: 10px;\n",
       "        }\n",
       "    </style>\n",
       "<div class=\"wandb-row\"><div class=\"wandb-col\"><h3>Run history:</h3><br/><table class=\"wandb\"><tr><td>avg_val_MAE</td><td>▁</td></tr><tr><td>avg_val_MSE</td><td>▁</td></tr><tr><td>avg_val_RMSE</td><td>▁</td></tr><tr><td>fold_val_MAE</td><td>▅▁█▆▇</td></tr><tr><td>fold_val_MSE</td><td>▃▁█▆▅</td></tr><tr><td>fold_val_RMSE</td><td>▃▁█▆▅</td></tr></table><br/></div><div class=\"wandb-col\"><h3>Run summary:</h3><br/><table class=\"wandb\"><tr><td>avg_val_MAE</td><td>1.19706</td></tr><tr><td>avg_val_MSE</td><td>2.07995</td></tr><tr><td>avg_val_RMSE</td><td>1.4422</td></tr><tr><td>fold_val_MAE</td><td>1.19767</td></tr><tr><td>fold_val_MSE</td><td>2.08079</td></tr><tr><td>fold_val_RMSE</td><td>1.44249</td></tr></table><br/></div></div>"
      ],
      "text/plain": [
       "<IPython.core.display.HTML object>"
      ]
     },
     "metadata": {},
     "output_type": "display_data"
    },
    {
     "data": {
      "text/html": [
       " View run <strong style=\"color:#cdcd00\">SVD_f100_lr0.001_reg0.1_ep20</strong> at: <a href='https://wandb.ai/jackjack170827-uc-san-diego/cse158-project-rating/runs/065cpgsp' target=\"_blank\">https://wandb.ai/jackjack170827-uc-san-diego/cse158-project-rating/runs/065cpgsp</a><br/> View project at: <a href='https://wandb.ai/jackjack170827-uc-san-diego/cse158-project-rating' target=\"_blank\">https://wandb.ai/jackjack170827-uc-san-diego/cse158-project-rating</a><br/>Synced 5 W&B file(s), 0 media file(s), 0 artifact file(s) and 0 other file(s)"
      ],
      "text/plain": [
       "<IPython.core.display.HTML object>"
      ]
     },
     "metadata": {},
     "output_type": "display_data"
    },
    {
     "data": {
      "text/html": [
       "Find logs at: <code>./wandb/run-20241203_010117-065cpgsp/logs</code>"
      ],
      "text/plain": [
       "<IPython.core.display.HTML object>"
      ]
     },
     "metadata": {},
     "output_type": "display_data"
    },
    {
     "data": {
      "text/html": [
       "Tracking run with wandb version 0.18.7"
      ],
      "text/plain": [
       "<IPython.core.display.HTML object>"
      ]
     },
     "metadata": {},
     "output_type": "display_data"
    },
    {
     "data": {
      "text/html": [
       "Run data is saved locally in <code>/Users/julie/cse158-project/wandb/run-20241203_010201-9zz77w7b</code>"
      ],
      "text/plain": [
       "<IPython.core.display.HTML object>"
      ]
     },
     "metadata": {},
     "output_type": "display_data"
    },
    {
     "data": {
      "text/html": [
       "Syncing run <strong><a href='https://wandb.ai/jackjack170827-uc-san-diego/cse158-project-rating/runs/9zz77w7b' target=\"_blank\">SVD_f100_lr0.001_reg0.1_ep50</a></strong> to <a href='https://wandb.ai/jackjack170827-uc-san-diego/cse158-project-rating' target=\"_blank\">Weights & Biases</a> (<a href='https://wandb.me/developer-guide' target=\"_blank\">docs</a>)<br/>"
      ],
      "text/plain": [
       "<IPython.core.display.HTML object>"
      ]
     },
     "metadata": {},
     "output_type": "display_data"
    },
    {
     "data": {
      "text/html": [
       " View project at <a href='https://wandb.ai/jackjack170827-uc-san-diego/cse158-project-rating' target=\"_blank\">https://wandb.ai/jackjack170827-uc-san-diego/cse158-project-rating</a>"
      ],
      "text/plain": [
       "<IPython.core.display.HTML object>"
      ]
     },
     "metadata": {},
     "output_type": "display_data"
    },
    {
     "data": {
      "text/html": [
       " View run at <a href='https://wandb.ai/jackjack170827-uc-san-diego/cse158-project-rating/runs/9zz77w7b' target=\"_blank\">https://wandb.ai/jackjack170827-uc-san-diego/cse158-project-rating/runs/9zz77w7b</a>"
      ],
      "text/plain": [
       "<IPython.core.display.HTML object>"
      ]
     },
     "metadata": {},
     "output_type": "display_data"
    },
    {
     "data": {
      "text/html": [
       "\n",
       "    <style>\n",
       "        .wandb-row {\n",
       "            display: flex;\n",
       "            flex-direction: row;\n",
       "            flex-wrap: wrap;\n",
       "            justify-content: flex-start;\n",
       "            width: 100%;\n",
       "        }\n",
       "        .wandb-col {\n",
       "            display: flex;\n",
       "            flex-direction: column;\n",
       "            flex-basis: 100%;\n",
       "            flex: 1;\n",
       "            padding: 10px;\n",
       "        }\n",
       "    </style>\n",
       "<div class=\"wandb-row\"><div class=\"wandb-col\"><h3>Run history:</h3><br/><table class=\"wandb\"><tr><td>avg_val_MAE</td><td>▁</td></tr><tr><td>avg_val_MSE</td><td>▁</td></tr><tr><td>avg_val_RMSE</td><td>▁</td></tr><tr><td>fold_val_MAE</td><td>▃▁▁▇█</td></tr><tr><td>fold_val_MSE</td><td>▃▂▁█▄</td></tr><tr><td>fold_val_RMSE</td><td>▃▂▁█▄</td></tr></table><br/></div><div class=\"wandb-col\"><h3>Run summary:</h3><br/><table class=\"wandb\"><tr><td>avg_val_MAE</td><td>1.17614</td></tr><tr><td>avg_val_MSE</td><td>2.02995</td></tr><tr><td>avg_val_RMSE</td><td>1.42476</td></tr><tr><td>fold_val_MAE</td><td>1.17791</td></tr><tr><td>fold_val_MSE</td><td>2.03118</td></tr><tr><td>fold_val_RMSE</td><td>1.42519</td></tr></table><br/></div></div>"
      ],
      "text/plain": [
       "<IPython.core.display.HTML object>"
      ]
     },
     "metadata": {},
     "output_type": "display_data"
    },
    {
     "data": {
      "text/html": [
       " View run <strong style=\"color:#cdcd00\">SVD_f100_lr0.001_reg0.1_ep50</strong> at: <a href='https://wandb.ai/jackjack170827-uc-san-diego/cse158-project-rating/runs/9zz77w7b' target=\"_blank\">https://wandb.ai/jackjack170827-uc-san-diego/cse158-project-rating/runs/9zz77w7b</a><br/> View project at: <a href='https://wandb.ai/jackjack170827-uc-san-diego/cse158-project-rating' target=\"_blank\">https://wandb.ai/jackjack170827-uc-san-diego/cse158-project-rating</a><br/>Synced 5 W&B file(s), 0 media file(s), 0 artifact file(s) and 0 other file(s)"
      ],
      "text/plain": [
       "<IPython.core.display.HTML object>"
      ]
     },
     "metadata": {},
     "output_type": "display_data"
    },
    {
     "data": {
      "text/html": [
       "Find logs at: <code>./wandb/run-20241203_010201-9zz77w7b/logs</code>"
      ],
      "text/plain": [
       "<IPython.core.display.HTML object>"
      ]
     },
     "metadata": {},
     "output_type": "display_data"
    },
    {
     "data": {
      "text/html": [
       "Tracking run with wandb version 0.18.7"
      ],
      "text/plain": [
       "<IPython.core.display.HTML object>"
      ]
     },
     "metadata": {},
     "output_type": "display_data"
    },
    {
     "data": {
      "text/html": [
       "Run data is saved locally in <code>/Users/julie/cse158-project/wandb/run-20241203_010322-773chub9</code>"
      ],
      "text/plain": [
       "<IPython.core.display.HTML object>"
      ]
     },
     "metadata": {},
     "output_type": "display_data"
    },
    {
     "data": {
      "text/html": [
       "Syncing run <strong><a href='https://wandb.ai/jackjack170827-uc-san-diego/cse158-project-rating/runs/773chub9' target=\"_blank\">SVD_f100_lr0.001_reg0.1_ep100</a></strong> to <a href='https://wandb.ai/jackjack170827-uc-san-diego/cse158-project-rating' target=\"_blank\">Weights & Biases</a> (<a href='https://wandb.me/developer-guide' target=\"_blank\">docs</a>)<br/>"
      ],
      "text/plain": [
       "<IPython.core.display.HTML object>"
      ]
     },
     "metadata": {},
     "output_type": "display_data"
    },
    {
     "data": {
      "text/html": [
       " View project at <a href='https://wandb.ai/jackjack170827-uc-san-diego/cse158-project-rating' target=\"_blank\">https://wandb.ai/jackjack170827-uc-san-diego/cse158-project-rating</a>"
      ],
      "text/plain": [
       "<IPython.core.display.HTML object>"
      ]
     },
     "metadata": {},
     "output_type": "display_data"
    },
    {
     "data": {
      "text/html": [
       " View run at <a href='https://wandb.ai/jackjack170827-uc-san-diego/cse158-project-rating/runs/773chub9' target=\"_blank\">https://wandb.ai/jackjack170827-uc-san-diego/cse158-project-rating/runs/773chub9</a>"
      ],
      "text/plain": [
       "<IPython.core.display.HTML object>"
      ]
     },
     "metadata": {},
     "output_type": "display_data"
    },
    {
     "data": {
      "application/vnd.jupyter.widget-view+json": {
       "model_id": "a1f093105a744470a7875606e8728bf5",
       "version_major": 2,
       "version_minor": 0
      },
      "text/plain": [
       "VBox(children=(Label(value='0.005 MB of 0.005 MB uploaded\\r'), FloatProgress(value=1.0, max=1.0)))"
      ]
     },
     "metadata": {},
     "output_type": "display_data"
    },
    {
     "data": {
      "text/html": [
       "\n",
       "    <style>\n",
       "        .wandb-row {\n",
       "            display: flex;\n",
       "            flex-direction: row;\n",
       "            flex-wrap: wrap;\n",
       "            justify-content: flex-start;\n",
       "            width: 100%;\n",
       "        }\n",
       "        .wandb-col {\n",
       "            display: flex;\n",
       "            flex-direction: column;\n",
       "            flex-basis: 100%;\n",
       "            flex: 1;\n",
       "            padding: 10px;\n",
       "        }\n",
       "    </style>\n",
       "<div class=\"wandb-row\"><div class=\"wandb-col\"><h3>Run history:</h3><br/><table class=\"wandb\"><tr><td>avg_val_MAE</td><td>▁</td></tr><tr><td>avg_val_MSE</td><td>▁</td></tr><tr><td>avg_val_RMSE</td><td>▁</td></tr><tr><td>fold_val_MAE</td><td>▃▄█▁▅</td></tr><tr><td>fold_val_MSE</td><td>▂▄█▁▄</td></tr><tr><td>fold_val_RMSE</td><td>▂▄█▁▄</td></tr></table><br/></div><div class=\"wandb-col\"><h3>Run summary:</h3><br/><table class=\"wandb\"><tr><td>avg_val_MAE</td><td>1.161</td></tr><tr><td>avg_val_MSE</td><td>1.99885</td></tr><tr><td>avg_val_RMSE</td><td>1.4138</td></tr><tr><td>fold_val_MAE</td><td>1.16171</td></tr><tr><td>fold_val_MSE</td><td>1.99989</td></tr><tr><td>fold_val_RMSE</td><td>1.41418</td></tr></table><br/></div></div>"
      ],
      "text/plain": [
       "<IPython.core.display.HTML object>"
      ]
     },
     "metadata": {},
     "output_type": "display_data"
    },
    {
     "data": {
      "text/html": [
       " View run <strong style=\"color:#cdcd00\">SVD_f100_lr0.001_reg0.1_ep100</strong> at: <a href='https://wandb.ai/jackjack170827-uc-san-diego/cse158-project-rating/runs/773chub9' target=\"_blank\">https://wandb.ai/jackjack170827-uc-san-diego/cse158-project-rating/runs/773chub9</a><br/> View project at: <a href='https://wandb.ai/jackjack170827-uc-san-diego/cse158-project-rating' target=\"_blank\">https://wandb.ai/jackjack170827-uc-san-diego/cse158-project-rating</a><br/>Synced 5 W&B file(s), 0 media file(s), 0 artifact file(s) and 0 other file(s)"
      ],
      "text/plain": [
       "<IPython.core.display.HTML object>"
      ]
     },
     "metadata": {},
     "output_type": "display_data"
    },
    {
     "data": {
      "text/html": [
       "Find logs at: <code>./wandb/run-20241203_010322-773chub9/logs</code>"
      ],
      "text/plain": [
       "<IPython.core.display.HTML object>"
      ]
     },
     "metadata": {},
     "output_type": "display_data"
    },
    {
     "data": {
      "text/html": [
       "Tracking run with wandb version 0.18.7"
      ],
      "text/plain": [
       "<IPython.core.display.HTML object>"
      ]
     },
     "metadata": {},
     "output_type": "display_data"
    },
    {
     "data": {
      "text/html": [
       "Run data is saved locally in <code>/Users/julie/cse158-project/wandb/run-20241203_010536-mfe4cma4</code>"
      ],
      "text/plain": [
       "<IPython.core.display.HTML object>"
      ]
     },
     "metadata": {},
     "output_type": "display_data"
    },
    {
     "data": {
      "text/html": [
       "Syncing run <strong><a href='https://wandb.ai/jackjack170827-uc-san-diego/cse158-project-rating/runs/mfe4cma4' target=\"_blank\">SVD_f100_lr0.001_reg0.1_ep200</a></strong> to <a href='https://wandb.ai/jackjack170827-uc-san-diego/cse158-project-rating' target=\"_blank\">Weights & Biases</a> (<a href='https://wandb.me/developer-guide' target=\"_blank\">docs</a>)<br/>"
      ],
      "text/plain": [
       "<IPython.core.display.HTML object>"
      ]
     },
     "metadata": {},
     "output_type": "display_data"
    },
    {
     "data": {
      "text/html": [
       " View project at <a href='https://wandb.ai/jackjack170827-uc-san-diego/cse158-project-rating' target=\"_blank\">https://wandb.ai/jackjack170827-uc-san-diego/cse158-project-rating</a>"
      ],
      "text/plain": [
       "<IPython.core.display.HTML object>"
      ]
     },
     "metadata": {},
     "output_type": "display_data"
    },
    {
     "data": {
      "text/html": [
       " View run at <a href='https://wandb.ai/jackjack170827-uc-san-diego/cse158-project-rating/runs/mfe4cma4' target=\"_blank\">https://wandb.ai/jackjack170827-uc-san-diego/cse158-project-rating/runs/mfe4cma4</a>"
      ],
      "text/plain": [
       "<IPython.core.display.HTML object>"
      ]
     },
     "metadata": {},
     "output_type": "display_data"
    },
    {
     "data": {
      "text/html": [
       "\n",
       "    <style>\n",
       "        .wandb-row {\n",
       "            display: flex;\n",
       "            flex-direction: row;\n",
       "            flex-wrap: wrap;\n",
       "            justify-content: flex-start;\n",
       "            width: 100%;\n",
       "        }\n",
       "        .wandb-col {\n",
       "            display: flex;\n",
       "            flex-direction: column;\n",
       "            flex-basis: 100%;\n",
       "            flex: 1;\n",
       "            padding: 10px;\n",
       "        }\n",
       "    </style>\n",
       "<div class=\"wandb-row\"><div class=\"wandb-col\"><h3>Run history:</h3><br/><table class=\"wandb\"><tr><td>avg_val_MAE</td><td>▁</td></tr><tr><td>avg_val_MSE</td><td>▁</td></tr><tr><td>avg_val_RMSE</td><td>▁</td></tr><tr><td>fold_val_MAE</td><td>▄█▇▁█</td></tr><tr><td>fold_val_MSE</td><td>▄▆▆▁█</td></tr><tr><td>fold_val_RMSE</td><td>▄▆▆▁█</td></tr></table><br/></div><div class=\"wandb-col\"><h3>Run summary:</h3><br/><table class=\"wandb\"><tr><td>avg_val_MAE</td><td>1.14951</td></tr><tr><td>avg_val_MSE</td><td>1.98125</td></tr><tr><td>avg_val_RMSE</td><td>1.40757</td></tr><tr><td>fold_val_MAE</td><td>1.15105</td></tr><tr><td>fold_val_MSE</td><td>1.98924</td></tr><tr><td>fold_val_RMSE</td><td>1.41041</td></tr></table><br/></div></div>"
      ],
      "text/plain": [
       "<IPython.core.display.HTML object>"
      ]
     },
     "metadata": {},
     "output_type": "display_data"
    },
    {
     "data": {
      "text/html": [
       " View run <strong style=\"color:#cdcd00\">SVD_f100_lr0.001_reg0.1_ep200</strong> at: <a href='https://wandb.ai/jackjack170827-uc-san-diego/cse158-project-rating/runs/mfe4cma4' target=\"_blank\">https://wandb.ai/jackjack170827-uc-san-diego/cse158-project-rating/runs/mfe4cma4</a><br/> View project at: <a href='https://wandb.ai/jackjack170827-uc-san-diego/cse158-project-rating' target=\"_blank\">https://wandb.ai/jackjack170827-uc-san-diego/cse158-project-rating</a><br/>Synced 5 W&B file(s), 0 media file(s), 0 artifact file(s) and 0 other file(s)"
      ],
      "text/plain": [
       "<IPython.core.display.HTML object>"
      ]
     },
     "metadata": {},
     "output_type": "display_data"
    },
    {
     "data": {
      "text/html": [
       "Find logs at: <code>./wandb/run-20241203_010536-mfe4cma4/logs</code>"
      ],
      "text/plain": [
       "<IPython.core.display.HTML object>"
      ]
     },
     "metadata": {},
     "output_type": "display_data"
    },
    {
     "data": {
      "text/html": [
       "Tracking run with wandb version 0.18.7"
      ],
      "text/plain": [
       "<IPython.core.display.HTML object>"
      ]
     },
     "metadata": {},
     "output_type": "display_data"
    },
    {
     "data": {
      "text/html": [
       "Run data is saved locally in <code>/Users/julie/cse158-project/wandb/run-20241203_010956-s8cha5bk</code>"
      ],
      "text/plain": [
       "<IPython.core.display.HTML object>"
      ]
     },
     "metadata": {},
     "output_type": "display_data"
    },
    {
     "data": {
      "text/html": [
       "Syncing run <strong><a href='https://wandb.ai/jackjack170827-uc-san-diego/cse158-project-rating/runs/s8cha5bk' target=\"_blank\">SVD_f100_lr0.005_reg0.02_ep20</a></strong> to <a href='https://wandb.ai/jackjack170827-uc-san-diego/cse158-project-rating' target=\"_blank\">Weights & Biases</a> (<a href='https://wandb.me/developer-guide' target=\"_blank\">docs</a>)<br/>"
      ],
      "text/plain": [
       "<IPython.core.display.HTML object>"
      ]
     },
     "metadata": {},
     "output_type": "display_data"
    },
    {
     "data": {
      "text/html": [
       " View project at <a href='https://wandb.ai/jackjack170827-uc-san-diego/cse158-project-rating' target=\"_blank\">https://wandb.ai/jackjack170827-uc-san-diego/cse158-project-rating</a>"
      ],
      "text/plain": [
       "<IPython.core.display.HTML object>"
      ]
     },
     "metadata": {},
     "output_type": "display_data"
    },
    {
     "data": {
      "text/html": [
       " View run at <a href='https://wandb.ai/jackjack170827-uc-san-diego/cse158-project-rating/runs/s8cha5bk' target=\"_blank\">https://wandb.ai/jackjack170827-uc-san-diego/cse158-project-rating/runs/s8cha5bk</a>"
      ],
      "text/plain": [
       "<IPython.core.display.HTML object>"
      ]
     },
     "metadata": {},
     "output_type": "display_data"
    },
    {
     "data": {
      "text/html": [
       "\n",
       "    <style>\n",
       "        .wandb-row {\n",
       "            display: flex;\n",
       "            flex-direction: row;\n",
       "            flex-wrap: wrap;\n",
       "            justify-content: flex-start;\n",
       "            width: 100%;\n",
       "        }\n",
       "        .wandb-col {\n",
       "            display: flex;\n",
       "            flex-direction: column;\n",
       "            flex-basis: 100%;\n",
       "            flex: 1;\n",
       "            padding: 10px;\n",
       "        }\n",
       "    </style>\n",
       "<div class=\"wandb-row\"><div class=\"wandb-col\"><h3>Run history:</h3><br/><table class=\"wandb\"><tr><td>avg_val_MAE</td><td>▁</td></tr><tr><td>avg_val_MSE</td><td>▁</td></tr><tr><td>avg_val_RMSE</td><td>▁</td></tr><tr><td>fold_val_MAE</td><td>▂▆█▁█</td></tr><tr><td>fold_val_MSE</td><td>▃▅▆▁█</td></tr><tr><td>fold_val_RMSE</td><td>▃▅▆▁█</td></tr></table><br/></div><div class=\"wandb-col\"><h3>Run summary:</h3><br/><table class=\"wandb\"><tr><td>avg_val_MAE</td><td>1.15545</td></tr><tr><td>avg_val_MSE</td><td>1.99621</td></tr><tr><td>avg_val_RMSE</td><td>1.41287</td></tr><tr><td>fold_val_MAE</td><td>1.15786</td></tr><tr><td>fold_val_MSE</td><td>2.00554</td></tr><tr><td>fold_val_RMSE</td><td>1.41617</td></tr></table><br/></div></div>"
      ],
      "text/plain": [
       "<IPython.core.display.HTML object>"
      ]
     },
     "metadata": {},
     "output_type": "display_data"
    },
    {
     "data": {
      "text/html": [
       " View run <strong style=\"color:#cdcd00\">SVD_f100_lr0.005_reg0.02_ep20</strong> at: <a href='https://wandb.ai/jackjack170827-uc-san-diego/cse158-project-rating/runs/s8cha5bk' target=\"_blank\">https://wandb.ai/jackjack170827-uc-san-diego/cse158-project-rating/runs/s8cha5bk</a><br/> View project at: <a href='https://wandb.ai/jackjack170827-uc-san-diego/cse158-project-rating' target=\"_blank\">https://wandb.ai/jackjack170827-uc-san-diego/cse158-project-rating</a><br/>Synced 5 W&B file(s), 0 media file(s), 0 artifact file(s) and 0 other file(s)"
      ],
      "text/plain": [
       "<IPython.core.display.HTML object>"
      ]
     },
     "metadata": {},
     "output_type": "display_data"
    },
    {
     "data": {
      "text/html": [
       "Find logs at: <code>./wandb/run-20241203_010956-s8cha5bk/logs</code>"
      ],
      "text/plain": [
       "<IPython.core.display.HTML object>"
      ]
     },
     "metadata": {},
     "output_type": "display_data"
    },
    {
     "data": {
      "text/html": [
       "Tracking run with wandb version 0.18.7"
      ],
      "text/plain": [
       "<IPython.core.display.HTML object>"
      ]
     },
     "metadata": {},
     "output_type": "display_data"
    },
    {
     "data": {
      "text/html": [
       "Run data is saved locally in <code>/Users/julie/cse158-project/wandb/run-20241203_011038-senv98bc</code>"
      ],
      "text/plain": [
       "<IPython.core.display.HTML object>"
      ]
     },
     "metadata": {},
     "output_type": "display_data"
    },
    {
     "data": {
      "text/html": [
       "Syncing run <strong><a href='https://wandb.ai/jackjack170827-uc-san-diego/cse158-project-rating/runs/senv98bc' target=\"_blank\">SVD_f100_lr0.005_reg0.02_ep50</a></strong> to <a href='https://wandb.ai/jackjack170827-uc-san-diego/cse158-project-rating' target=\"_blank\">Weights & Biases</a> (<a href='https://wandb.me/developer-guide' target=\"_blank\">docs</a>)<br/>"
      ],
      "text/plain": [
       "<IPython.core.display.HTML object>"
      ]
     },
     "metadata": {},
     "output_type": "display_data"
    },
    {
     "data": {
      "text/html": [
       " View project at <a href='https://wandb.ai/jackjack170827-uc-san-diego/cse158-project-rating' target=\"_blank\">https://wandb.ai/jackjack170827-uc-san-diego/cse158-project-rating</a>"
      ],
      "text/plain": [
       "<IPython.core.display.HTML object>"
      ]
     },
     "metadata": {},
     "output_type": "display_data"
    },
    {
     "data": {
      "text/html": [
       " View run at <a href='https://wandb.ai/jackjack170827-uc-san-diego/cse158-project-rating/runs/senv98bc' target=\"_blank\">https://wandb.ai/jackjack170827-uc-san-diego/cse158-project-rating/runs/senv98bc</a>"
      ],
      "text/plain": [
       "<IPython.core.display.HTML object>"
      ]
     },
     "metadata": {},
     "output_type": "display_data"
    },
    {
     "data": {
      "text/html": [
       "\n",
       "    <style>\n",
       "        .wandb-row {\n",
       "            display: flex;\n",
       "            flex-direction: row;\n",
       "            flex-wrap: wrap;\n",
       "            justify-content: flex-start;\n",
       "            width: 100%;\n",
       "        }\n",
       "        .wandb-col {\n",
       "            display: flex;\n",
       "            flex-direction: column;\n",
       "            flex-basis: 100%;\n",
       "            flex: 1;\n",
       "            padding: 10px;\n",
       "        }\n",
       "    </style>\n",
       "<div class=\"wandb-row\"><div class=\"wandb-col\"><h3>Run history:</h3><br/><table class=\"wandb\"><tr><td>avg_val_MAE</td><td>▁</td></tr><tr><td>avg_val_MSE</td><td>▁</td></tr><tr><td>avg_val_RMSE</td><td>▁</td></tr><tr><td>fold_val_MAE</td><td>▄▂▁█▄</td></tr><tr><td>fold_val_MSE</td><td>▁▃▁█▃</td></tr><tr><td>fold_val_RMSE</td><td>▁▃▁█▃</td></tr></table><br/></div><div class=\"wandb-col\"><h3>Run summary:</h3><br/><table class=\"wandb\"><tr><td>avg_val_MAE</td><td>1.13978</td></tr><tr><td>avg_val_MSE</td><td>1.97768</td></tr><tr><td>avg_val_RMSE</td><td>1.4063</td></tr><tr><td>fold_val_MAE</td><td>1.13956</td></tr><tr><td>fold_val_MSE</td><td>1.97727</td></tr><tr><td>fold_val_RMSE</td><td>1.40616</td></tr></table><br/></div></div>"
      ],
      "text/plain": [
       "<IPython.core.display.HTML object>"
      ]
     },
     "metadata": {},
     "output_type": "display_data"
    },
    {
     "data": {
      "text/html": [
       " View run <strong style=\"color:#cdcd00\">SVD_f100_lr0.005_reg0.02_ep50</strong> at: <a href='https://wandb.ai/jackjack170827-uc-san-diego/cse158-project-rating/runs/senv98bc' target=\"_blank\">https://wandb.ai/jackjack170827-uc-san-diego/cse158-project-rating/runs/senv98bc</a><br/> View project at: <a href='https://wandb.ai/jackjack170827-uc-san-diego/cse158-project-rating' target=\"_blank\">https://wandb.ai/jackjack170827-uc-san-diego/cse158-project-rating</a><br/>Synced 5 W&B file(s), 0 media file(s), 0 artifact file(s) and 0 other file(s)"
      ],
      "text/plain": [
       "<IPython.core.display.HTML object>"
      ]
     },
     "metadata": {},
     "output_type": "display_data"
    },
    {
     "data": {
      "text/html": [
       "Find logs at: <code>./wandb/run-20241203_011038-senv98bc/logs</code>"
      ],
      "text/plain": [
       "<IPython.core.display.HTML object>"
      ]
     },
     "metadata": {},
     "output_type": "display_data"
    },
    {
     "data": {
      "text/html": [
       "Tracking run with wandb version 0.18.7"
      ],
      "text/plain": [
       "<IPython.core.display.HTML object>"
      ]
     },
     "metadata": {},
     "output_type": "display_data"
    },
    {
     "data": {
      "text/html": [
       "Run data is saved locally in <code>/Users/julie/cse158-project/wandb/run-20241203_011152-z1smgntz</code>"
      ],
      "text/plain": [
       "<IPython.core.display.HTML object>"
      ]
     },
     "metadata": {},
     "output_type": "display_data"
    },
    {
     "data": {
      "text/html": [
       "Syncing run <strong><a href='https://wandb.ai/jackjack170827-uc-san-diego/cse158-project-rating/runs/z1smgntz' target=\"_blank\">SVD_f100_lr0.005_reg0.02_ep100</a></strong> to <a href='https://wandb.ai/jackjack170827-uc-san-diego/cse158-project-rating' target=\"_blank\">Weights & Biases</a> (<a href='https://wandb.me/developer-guide' target=\"_blank\">docs</a>)<br/>"
      ],
      "text/plain": [
       "<IPython.core.display.HTML object>"
      ]
     },
     "metadata": {},
     "output_type": "display_data"
    },
    {
     "data": {
      "text/html": [
       " View project at <a href='https://wandb.ai/jackjack170827-uc-san-diego/cse158-project-rating' target=\"_blank\">https://wandb.ai/jackjack170827-uc-san-diego/cse158-project-rating</a>"
      ],
      "text/plain": [
       "<IPython.core.display.HTML object>"
      ]
     },
     "metadata": {},
     "output_type": "display_data"
    },
    {
     "data": {
      "text/html": [
       " View run at <a href='https://wandb.ai/jackjack170827-uc-san-diego/cse158-project-rating/runs/z1smgntz' target=\"_blank\">https://wandb.ai/jackjack170827-uc-san-diego/cse158-project-rating/runs/z1smgntz</a>"
      ],
      "text/plain": [
       "<IPython.core.display.HTML object>"
      ]
     },
     "metadata": {},
     "output_type": "display_data"
    },
    {
     "data": {
      "text/html": [
       "\n",
       "    <style>\n",
       "        .wandb-row {\n",
       "            display: flex;\n",
       "            flex-direction: row;\n",
       "            flex-wrap: wrap;\n",
       "            justify-content: flex-start;\n",
       "            width: 100%;\n",
       "        }\n",
       "        .wandb-col {\n",
       "            display: flex;\n",
       "            flex-direction: column;\n",
       "            flex-basis: 100%;\n",
       "            flex: 1;\n",
       "            padding: 10px;\n",
       "        }\n",
       "    </style>\n",
       "<div class=\"wandb-row\"><div class=\"wandb-col\"><h3>Run history:</h3><br/><table class=\"wandb\"><tr><td>avg_val_MAE</td><td>▁</td></tr><tr><td>avg_val_MSE</td><td>▁</td></tr><tr><td>avg_val_RMSE</td><td>▁</td></tr><tr><td>fold_val_MAE</td><td>▂▁██▄</td></tr><tr><td>fold_val_MSE</td><td>▃▁█▆▄</td></tr><tr><td>fold_val_RMSE</td><td>▃▁█▆▄</td></tr></table><br/></div><div class=\"wandb-col\"><h3>Run summary:</h3><br/><table class=\"wandb\"><tr><td>avg_val_MAE</td><td>1.13549</td></tr><tr><td>avg_val_MSE</td><td>1.97663</td></tr><tr><td>avg_val_RMSE</td><td>1.40593</td></tr><tr><td>fold_val_MAE</td><td>1.13535</td></tr><tr><td>fold_val_MSE</td><td>1.9744</td></tr><tr><td>fold_val_RMSE</td><td>1.40513</td></tr></table><br/></div></div>"
      ],
      "text/plain": [
       "<IPython.core.display.HTML object>"
      ]
     },
     "metadata": {},
     "output_type": "display_data"
    },
    {
     "data": {
      "text/html": [
       " View run <strong style=\"color:#cdcd00\">SVD_f100_lr0.005_reg0.02_ep100</strong> at: <a href='https://wandb.ai/jackjack170827-uc-san-diego/cse158-project-rating/runs/z1smgntz' target=\"_blank\">https://wandb.ai/jackjack170827-uc-san-diego/cse158-project-rating/runs/z1smgntz</a><br/> View project at: <a href='https://wandb.ai/jackjack170827-uc-san-diego/cse158-project-rating' target=\"_blank\">https://wandb.ai/jackjack170827-uc-san-diego/cse158-project-rating</a><br/>Synced 5 W&B file(s), 0 media file(s), 0 artifact file(s) and 0 other file(s)"
      ],
      "text/plain": [
       "<IPython.core.display.HTML object>"
      ]
     },
     "metadata": {},
     "output_type": "display_data"
    },
    {
     "data": {
      "text/html": [
       "Find logs at: <code>./wandb/run-20241203_011152-z1smgntz/logs</code>"
      ],
      "text/plain": [
       "<IPython.core.display.HTML object>"
      ]
     },
     "metadata": {},
     "output_type": "display_data"
    },
    {
     "data": {
      "text/html": [
       "Tracking run with wandb version 0.18.7"
      ],
      "text/plain": [
       "<IPython.core.display.HTML object>"
      ]
     },
     "metadata": {},
     "output_type": "display_data"
    },
    {
     "data": {
      "text/html": [
       "Run data is saved locally in <code>/Users/julie/cse158-project/wandb/run-20241203_011420-9iz3qkxp</code>"
      ],
      "text/plain": [
       "<IPython.core.display.HTML object>"
      ]
     },
     "metadata": {},
     "output_type": "display_data"
    },
    {
     "data": {
      "text/html": [
       "Syncing run <strong><a href='https://wandb.ai/jackjack170827-uc-san-diego/cse158-project-rating/runs/9iz3qkxp' target=\"_blank\">SVD_f100_lr0.005_reg0.02_ep200</a></strong> to <a href='https://wandb.ai/jackjack170827-uc-san-diego/cse158-project-rating' target=\"_blank\">Weights & Biases</a> (<a href='https://wandb.me/developer-guide' target=\"_blank\">docs</a>)<br/>"
      ],
      "text/plain": [
       "<IPython.core.display.HTML object>"
      ]
     },
     "metadata": {},
     "output_type": "display_data"
    },
    {
     "data": {
      "text/html": [
       " View project at <a href='https://wandb.ai/jackjack170827-uc-san-diego/cse158-project-rating' target=\"_blank\">https://wandb.ai/jackjack170827-uc-san-diego/cse158-project-rating</a>"
      ],
      "text/plain": [
       "<IPython.core.display.HTML object>"
      ]
     },
     "metadata": {},
     "output_type": "display_data"
    },
    {
     "data": {
      "text/html": [
       " View run at <a href='https://wandb.ai/jackjack170827-uc-san-diego/cse158-project-rating/runs/9iz3qkxp' target=\"_blank\">https://wandb.ai/jackjack170827-uc-san-diego/cse158-project-rating/runs/9iz3qkxp</a>"
      ],
      "text/plain": [
       "<IPython.core.display.HTML object>"
      ]
     },
     "metadata": {},
     "output_type": "display_data"
    },
    {
     "data": {
      "text/html": [
       "\n",
       "    <style>\n",
       "        .wandb-row {\n",
       "            display: flex;\n",
       "            flex-direction: row;\n",
       "            flex-wrap: wrap;\n",
       "            justify-content: flex-start;\n",
       "            width: 100%;\n",
       "        }\n",
       "        .wandb-col {\n",
       "            display: flex;\n",
       "            flex-direction: column;\n",
       "            flex-basis: 100%;\n",
       "            flex: 1;\n",
       "            padding: 10px;\n",
       "        }\n",
       "    </style>\n",
       "<div class=\"wandb-row\"><div class=\"wandb-col\"><h3>Run history:</h3><br/><table class=\"wandb\"><tr><td>avg_val_MAE</td><td>▁</td></tr><tr><td>avg_val_MSE</td><td>▁</td></tr><tr><td>avg_val_RMSE</td><td>▁</td></tr><tr><td>fold_val_MAE</td><td>▁▃█▂▁</td></tr><tr><td>fold_val_MSE</td><td>▁▄█▃▃</td></tr><tr><td>fold_val_RMSE</td><td>▁▄█▃▃</td></tr></table><br/></div><div class=\"wandb-col\"><h3>Run summary:</h3><br/><table class=\"wandb\"><tr><td>avg_val_MAE</td><td>1.13496</td></tr><tr><td>avg_val_MSE</td><td>1.97627</td></tr><tr><td>avg_val_RMSE</td><td>1.4058</td></tr><tr><td>fold_val_MAE</td><td>1.13346</td></tr><tr><td>fold_val_MSE</td><td>1.97392</td></tr><tr><td>fold_val_RMSE</td><td>1.40496</td></tr></table><br/></div></div>"
      ],
      "text/plain": [
       "<IPython.core.display.HTML object>"
      ]
     },
     "metadata": {},
     "output_type": "display_data"
    },
    {
     "data": {
      "text/html": [
       " View run <strong style=\"color:#cdcd00\">SVD_f100_lr0.005_reg0.02_ep200</strong> at: <a href='https://wandb.ai/jackjack170827-uc-san-diego/cse158-project-rating/runs/9iz3qkxp' target=\"_blank\">https://wandb.ai/jackjack170827-uc-san-diego/cse158-project-rating/runs/9iz3qkxp</a><br/> View project at: <a href='https://wandb.ai/jackjack170827-uc-san-diego/cse158-project-rating' target=\"_blank\">https://wandb.ai/jackjack170827-uc-san-diego/cse158-project-rating</a><br/>Synced 5 W&B file(s), 0 media file(s), 0 artifact file(s) and 0 other file(s)"
      ],
      "text/plain": [
       "<IPython.core.display.HTML object>"
      ]
     },
     "metadata": {},
     "output_type": "display_data"
    },
    {
     "data": {
      "text/html": [
       "Find logs at: <code>./wandb/run-20241203_011420-9iz3qkxp/logs</code>"
      ],
      "text/plain": [
       "<IPython.core.display.HTML object>"
      ]
     },
     "metadata": {},
     "output_type": "display_data"
    },
    {
     "data": {
      "text/html": [
       "Tracking run with wandb version 0.18.7"
      ],
      "text/plain": [
       "<IPython.core.display.HTML object>"
      ]
     },
     "metadata": {},
     "output_type": "display_data"
    },
    {
     "data": {
      "text/html": [
       "Run data is saved locally in <code>/Users/julie/cse158-project/wandb/run-20241203_011835-nihqw6x5</code>"
      ],
      "text/plain": [
       "<IPython.core.display.HTML object>"
      ]
     },
     "metadata": {},
     "output_type": "display_data"
    },
    {
     "data": {
      "text/html": [
       "Syncing run <strong><a href='https://wandb.ai/jackjack170827-uc-san-diego/cse158-project-rating/runs/nihqw6x5' target=\"_blank\">SVD_f100_lr0.005_reg0.05_ep20</a></strong> to <a href='https://wandb.ai/jackjack170827-uc-san-diego/cse158-project-rating' target=\"_blank\">Weights & Biases</a> (<a href='https://wandb.me/developer-guide' target=\"_blank\">docs</a>)<br/>"
      ],
      "text/plain": [
       "<IPython.core.display.HTML object>"
      ]
     },
     "metadata": {},
     "output_type": "display_data"
    },
    {
     "data": {
      "text/html": [
       " View project at <a href='https://wandb.ai/jackjack170827-uc-san-diego/cse158-project-rating' target=\"_blank\">https://wandb.ai/jackjack170827-uc-san-diego/cse158-project-rating</a>"
      ],
      "text/plain": [
       "<IPython.core.display.HTML object>"
      ]
     },
     "metadata": {},
     "output_type": "display_data"
    },
    {
     "data": {
      "text/html": [
       " View run at <a href='https://wandb.ai/jackjack170827-uc-san-diego/cse158-project-rating/runs/nihqw6x5' target=\"_blank\">https://wandb.ai/jackjack170827-uc-san-diego/cse158-project-rating/runs/nihqw6x5</a>"
      ],
      "text/plain": [
       "<IPython.core.display.HTML object>"
      ]
     },
     "metadata": {},
     "output_type": "display_data"
    },
    {
     "data": {
      "text/html": [
       "\n",
       "    <style>\n",
       "        .wandb-row {\n",
       "            display: flex;\n",
       "            flex-direction: row;\n",
       "            flex-wrap: wrap;\n",
       "            justify-content: flex-start;\n",
       "            width: 100%;\n",
       "        }\n",
       "        .wandb-col {\n",
       "            display: flex;\n",
       "            flex-direction: column;\n",
       "            flex-basis: 100%;\n",
       "            flex: 1;\n",
       "            padding: 10px;\n",
       "        }\n",
       "    </style>\n",
       "<div class=\"wandb-row\"><div class=\"wandb-col\"><h3>Run history:</h3><br/><table class=\"wandb\"><tr><td>avg_val_MAE</td><td>▁</td></tr><tr><td>avg_val_MSE</td><td>▁</td></tr><tr><td>avg_val_RMSE</td><td>▁</td></tr><tr><td>fold_val_MAE</td><td>▅▃█▁▆</td></tr><tr><td>fold_val_MSE</td><td>▁▂▁▄█</td></tr><tr><td>fold_val_RMSE</td><td>▁▂▁▄█</td></tr></table><br/></div><div class=\"wandb-col\"><h3>Run summary:</h3><br/><table class=\"wandb\"><tr><td>avg_val_MAE</td><td>1.15801</td></tr><tr><td>avg_val_MSE</td><td>1.99784</td></tr><tr><td>avg_val_RMSE</td><td>1.41345</td></tr><tr><td>fold_val_MAE</td><td>1.15829</td></tr><tr><td>fold_val_MSE</td><td>2.00422</td></tr><tr><td>fold_val_RMSE</td><td>1.41571</td></tr></table><br/></div></div>"
      ],
      "text/plain": [
       "<IPython.core.display.HTML object>"
      ]
     },
     "metadata": {},
     "output_type": "display_data"
    },
    {
     "data": {
      "text/html": [
       " View run <strong style=\"color:#cdcd00\">SVD_f100_lr0.005_reg0.05_ep20</strong> at: <a href='https://wandb.ai/jackjack170827-uc-san-diego/cse158-project-rating/runs/nihqw6x5' target=\"_blank\">https://wandb.ai/jackjack170827-uc-san-diego/cse158-project-rating/runs/nihqw6x5</a><br/> View project at: <a href='https://wandb.ai/jackjack170827-uc-san-diego/cse158-project-rating' target=\"_blank\">https://wandb.ai/jackjack170827-uc-san-diego/cse158-project-rating</a><br/>Synced 5 W&B file(s), 0 media file(s), 0 artifact file(s) and 0 other file(s)"
      ],
      "text/plain": [
       "<IPython.core.display.HTML object>"
      ]
     },
     "metadata": {},
     "output_type": "display_data"
    },
    {
     "data": {
      "text/html": [
       "Find logs at: <code>./wandb/run-20241203_011835-nihqw6x5/logs</code>"
      ],
      "text/plain": [
       "<IPython.core.display.HTML object>"
      ]
     },
     "metadata": {},
     "output_type": "display_data"
    },
    {
     "data": {
      "text/html": [
       "Tracking run with wandb version 0.18.7"
      ],
      "text/plain": [
       "<IPython.core.display.HTML object>"
      ]
     },
     "metadata": {},
     "output_type": "display_data"
    },
    {
     "data": {
      "text/html": [
       "Run data is saved locally in <code>/Users/julie/cse158-project/wandb/run-20241203_011920-65zivc37</code>"
      ],
      "text/plain": [
       "<IPython.core.display.HTML object>"
      ]
     },
     "metadata": {},
     "output_type": "display_data"
    },
    {
     "data": {
      "text/html": [
       "Syncing run <strong><a href='https://wandb.ai/jackjack170827-uc-san-diego/cse158-project-rating/runs/65zivc37' target=\"_blank\">SVD_f100_lr0.005_reg0.05_ep50</a></strong> to <a href='https://wandb.ai/jackjack170827-uc-san-diego/cse158-project-rating' target=\"_blank\">Weights & Biases</a> (<a href='https://wandb.me/developer-guide' target=\"_blank\">docs</a>)<br/>"
      ],
      "text/plain": [
       "<IPython.core.display.HTML object>"
      ]
     },
     "metadata": {},
     "output_type": "display_data"
    },
    {
     "data": {
      "text/html": [
       " View project at <a href='https://wandb.ai/jackjack170827-uc-san-diego/cse158-project-rating' target=\"_blank\">https://wandb.ai/jackjack170827-uc-san-diego/cse158-project-rating</a>"
      ],
      "text/plain": [
       "<IPython.core.display.HTML object>"
      ]
     },
     "metadata": {},
     "output_type": "display_data"
    },
    {
     "data": {
      "text/html": [
       " View run at <a href='https://wandb.ai/jackjack170827-uc-san-diego/cse158-project-rating/runs/65zivc37' target=\"_blank\">https://wandb.ai/jackjack170827-uc-san-diego/cse158-project-rating/runs/65zivc37</a>"
      ],
      "text/plain": [
       "<IPython.core.display.HTML object>"
      ]
     },
     "metadata": {},
     "output_type": "display_data"
    },
    {
     "data": {
      "text/html": [
       "\n",
       "    <style>\n",
       "        .wandb-row {\n",
       "            display: flex;\n",
       "            flex-direction: row;\n",
       "            flex-wrap: wrap;\n",
       "            justify-content: flex-start;\n",
       "            width: 100%;\n",
       "        }\n",
       "        .wandb-col {\n",
       "            display: flex;\n",
       "            flex-direction: column;\n",
       "            flex-basis: 100%;\n",
       "            flex: 1;\n",
       "            padding: 10px;\n",
       "        }\n",
       "    </style>\n",
       "<div class=\"wandb-row\"><div class=\"wandb-col\"><h3>Run history:</h3><br/><table class=\"wandb\"><tr><td>avg_val_MAE</td><td>▁</td></tr><tr><td>avg_val_MSE</td><td>▁</td></tr><tr><td>avg_val_RMSE</td><td>▁</td></tr><tr><td>fold_val_MAE</td><td>▁▁▃▄█</td></tr><tr><td>fold_val_MSE</td><td>▁▂▅█▇</td></tr><tr><td>fold_val_RMSE</td><td>▁▂▅█▇</td></tr></table><br/></div><div class=\"wandb-col\"><h3>Run summary:</h3><br/><table class=\"wandb\"><tr><td>avg_val_MAE</td><td>1.14249</td></tr><tr><td>avg_val_MSE</td><td>1.97769</td></tr><tr><td>avg_val_RMSE</td><td>1.4063</td></tr><tr><td>fold_val_MAE</td><td>1.14425</td></tr><tr><td>fold_val_MSE</td><td>1.98176</td></tr><tr><td>fold_val_RMSE</td><td>1.40775</td></tr></table><br/></div></div>"
      ],
      "text/plain": [
       "<IPython.core.display.HTML object>"
      ]
     },
     "metadata": {},
     "output_type": "display_data"
    },
    {
     "data": {
      "text/html": [
       " View run <strong style=\"color:#cdcd00\">SVD_f100_lr0.005_reg0.05_ep50</strong> at: <a href='https://wandb.ai/jackjack170827-uc-san-diego/cse158-project-rating/runs/65zivc37' target=\"_blank\">https://wandb.ai/jackjack170827-uc-san-diego/cse158-project-rating/runs/65zivc37</a><br/> View project at: <a href='https://wandb.ai/jackjack170827-uc-san-diego/cse158-project-rating' target=\"_blank\">https://wandb.ai/jackjack170827-uc-san-diego/cse158-project-rating</a><br/>Synced 5 W&B file(s), 0 media file(s), 0 artifact file(s) and 0 other file(s)"
      ],
      "text/plain": [
       "<IPython.core.display.HTML object>"
      ]
     },
     "metadata": {},
     "output_type": "display_data"
    },
    {
     "data": {
      "text/html": [
       "Find logs at: <code>./wandb/run-20241203_011920-65zivc37/logs</code>"
      ],
      "text/plain": [
       "<IPython.core.display.HTML object>"
      ]
     },
     "metadata": {},
     "output_type": "display_data"
    },
    {
     "data": {
      "text/html": [
       "Tracking run with wandb version 0.18.7"
      ],
      "text/plain": [
       "<IPython.core.display.HTML object>"
      ]
     },
     "metadata": {},
     "output_type": "display_data"
    },
    {
     "data": {
      "text/html": [
       "Run data is saved locally in <code>/Users/julie/cse158-project/wandb/run-20241203_012037-rqrxi5ha</code>"
      ],
      "text/plain": [
       "<IPython.core.display.HTML object>"
      ]
     },
     "metadata": {},
     "output_type": "display_data"
    },
    {
     "data": {
      "text/html": [
       "Syncing run <strong><a href='https://wandb.ai/jackjack170827-uc-san-diego/cse158-project-rating/runs/rqrxi5ha' target=\"_blank\">SVD_f100_lr0.005_reg0.05_ep100</a></strong> to <a href='https://wandb.ai/jackjack170827-uc-san-diego/cse158-project-rating' target=\"_blank\">Weights & Biases</a> (<a href='https://wandb.me/developer-guide' target=\"_blank\">docs</a>)<br/>"
      ],
      "text/plain": [
       "<IPython.core.display.HTML object>"
      ]
     },
     "metadata": {},
     "output_type": "display_data"
    },
    {
     "data": {
      "text/html": [
       " View project at <a href='https://wandb.ai/jackjack170827-uc-san-diego/cse158-project-rating' target=\"_blank\">https://wandb.ai/jackjack170827-uc-san-diego/cse158-project-rating</a>"
      ],
      "text/plain": [
       "<IPython.core.display.HTML object>"
      ]
     },
     "metadata": {},
     "output_type": "display_data"
    },
    {
     "data": {
      "text/html": [
       " View run at <a href='https://wandb.ai/jackjack170827-uc-san-diego/cse158-project-rating/runs/rqrxi5ha' target=\"_blank\">https://wandb.ai/jackjack170827-uc-san-diego/cse158-project-rating/runs/rqrxi5ha</a>"
      ],
      "text/plain": [
       "<IPython.core.display.HTML object>"
      ]
     },
     "metadata": {},
     "output_type": "display_data"
    },
    {
     "data": {
      "text/html": [
       "\n",
       "    <style>\n",
       "        .wandb-row {\n",
       "            display: flex;\n",
       "            flex-direction: row;\n",
       "            flex-wrap: wrap;\n",
       "            justify-content: flex-start;\n",
       "            width: 100%;\n",
       "        }\n",
       "        .wandb-col {\n",
       "            display: flex;\n",
       "            flex-direction: column;\n",
       "            flex-basis: 100%;\n",
       "            flex: 1;\n",
       "            padding: 10px;\n",
       "        }\n",
       "    </style>\n",
       "<div class=\"wandb-row\"><div class=\"wandb-col\"><h3>Run history:</h3><br/><table class=\"wandb\"><tr><td>avg_val_MAE</td><td>▁</td></tr><tr><td>avg_val_MSE</td><td>▁</td></tr><tr><td>avg_val_RMSE</td><td>▁</td></tr><tr><td>fold_val_MAE</td><td>█▆▃▃▁</td></tr><tr><td>fold_val_MSE</td><td>█▆▂▂▁</td></tr><tr><td>fold_val_RMSE</td><td>█▆▂▂▁</td></tr></table><br/></div><div class=\"wandb-col\"><h3>Run summary:</h3><br/><table class=\"wandb\"><tr><td>avg_val_MAE</td><td>1.13877</td></tr><tr><td>avg_val_MSE</td><td>1.9768</td></tr><tr><td>avg_val_RMSE</td><td>1.40598</td></tr><tr><td>fold_val_MAE</td><td>1.13685</td></tr><tr><td>fold_val_MSE</td><td>1.96985</td></tr><tr><td>fold_val_RMSE</td><td>1.40351</td></tr></table><br/></div></div>"
      ],
      "text/plain": [
       "<IPython.core.display.HTML object>"
      ]
     },
     "metadata": {},
     "output_type": "display_data"
    },
    {
     "data": {
      "text/html": [
       " View run <strong style=\"color:#cdcd00\">SVD_f100_lr0.005_reg0.05_ep100</strong> at: <a href='https://wandb.ai/jackjack170827-uc-san-diego/cse158-project-rating/runs/rqrxi5ha' target=\"_blank\">https://wandb.ai/jackjack170827-uc-san-diego/cse158-project-rating/runs/rqrxi5ha</a><br/> View project at: <a href='https://wandb.ai/jackjack170827-uc-san-diego/cse158-project-rating' target=\"_blank\">https://wandb.ai/jackjack170827-uc-san-diego/cse158-project-rating</a><br/>Synced 5 W&B file(s), 0 media file(s), 0 artifact file(s) and 0 other file(s)"
      ],
      "text/plain": [
       "<IPython.core.display.HTML object>"
      ]
     },
     "metadata": {},
     "output_type": "display_data"
    },
    {
     "data": {
      "text/html": [
       "Find logs at: <code>./wandb/run-20241203_012037-rqrxi5ha/logs</code>"
      ],
      "text/plain": [
       "<IPython.core.display.HTML object>"
      ]
     },
     "metadata": {},
     "output_type": "display_data"
    },
    {
     "data": {
      "text/html": [
       "Tracking run with wandb version 0.18.7"
      ],
      "text/plain": [
       "<IPython.core.display.HTML object>"
      ]
     },
     "metadata": {},
     "output_type": "display_data"
    },
    {
     "data": {
      "text/html": [
       "Run data is saved locally in <code>/Users/julie/cse158-project/wandb/run-20241203_012305-loisiz1k</code>"
      ],
      "text/plain": [
       "<IPython.core.display.HTML object>"
      ]
     },
     "metadata": {},
     "output_type": "display_data"
    },
    {
     "data": {
      "text/html": [
       "Syncing run <strong><a href='https://wandb.ai/jackjack170827-uc-san-diego/cse158-project-rating/runs/loisiz1k' target=\"_blank\">SVD_f100_lr0.005_reg0.05_ep200</a></strong> to <a href='https://wandb.ai/jackjack170827-uc-san-diego/cse158-project-rating' target=\"_blank\">Weights & Biases</a> (<a href='https://wandb.me/developer-guide' target=\"_blank\">docs</a>)<br/>"
      ],
      "text/plain": [
       "<IPython.core.display.HTML object>"
      ]
     },
     "metadata": {},
     "output_type": "display_data"
    },
    {
     "data": {
      "text/html": [
       " View project at <a href='https://wandb.ai/jackjack170827-uc-san-diego/cse158-project-rating' target=\"_blank\">https://wandb.ai/jackjack170827-uc-san-diego/cse158-project-rating</a>"
      ],
      "text/plain": [
       "<IPython.core.display.HTML object>"
      ]
     },
     "metadata": {},
     "output_type": "display_data"
    },
    {
     "data": {
      "text/html": [
       " View run at <a href='https://wandb.ai/jackjack170827-uc-san-diego/cse158-project-rating/runs/loisiz1k' target=\"_blank\">https://wandb.ai/jackjack170827-uc-san-diego/cse158-project-rating/runs/loisiz1k</a>"
      ],
      "text/plain": [
       "<IPython.core.display.HTML object>"
      ]
     },
     "metadata": {},
     "output_type": "display_data"
    },
    {
     "data": {
      "text/html": [
       "\n",
       "    <style>\n",
       "        .wandb-row {\n",
       "            display: flex;\n",
       "            flex-direction: row;\n",
       "            flex-wrap: wrap;\n",
       "            justify-content: flex-start;\n",
       "            width: 100%;\n",
       "        }\n",
       "        .wandb-col {\n",
       "            display: flex;\n",
       "            flex-direction: column;\n",
       "            flex-basis: 100%;\n",
       "            flex: 1;\n",
       "            padding: 10px;\n",
       "        }\n",
       "    </style>\n",
       "<div class=\"wandb-row\"><div class=\"wandb-col\"><h3>Run history:</h3><br/><table class=\"wandb\"><tr><td>avg_val_MAE</td><td>▁</td></tr><tr><td>avg_val_MSE</td><td>▁</td></tr><tr><td>avg_val_RMSE</td><td>▁</td></tr><tr><td>fold_val_MAE</td><td>▂▁█▁▅</td></tr><tr><td>fold_val_MSE</td><td>▃▂█▁▆</td></tr><tr><td>fold_val_RMSE</td><td>▃▂█▁▆</td></tr></table><br/></div><div class=\"wandb-col\"><h3>Run summary:</h3><br/><table class=\"wandb\"><tr><td>avg_val_MAE</td><td>1.13948</td></tr><tr><td>avg_val_MSE</td><td>1.97892</td></tr><tr><td>avg_val_RMSE</td><td>1.40674</td></tr><tr><td>fold_val_MAE</td><td>1.14045</td></tr><tr><td>fold_val_MSE</td><td>1.98351</td></tr><tr><td>fold_val_RMSE</td><td>1.40837</td></tr></table><br/></div></div>"
      ],
      "text/plain": [
       "<IPython.core.display.HTML object>"
      ]
     },
     "metadata": {},
     "output_type": "display_data"
    },
    {
     "data": {
      "text/html": [
       " View run <strong style=\"color:#cdcd00\">SVD_f100_lr0.005_reg0.05_ep200</strong> at: <a href='https://wandb.ai/jackjack170827-uc-san-diego/cse158-project-rating/runs/loisiz1k' target=\"_blank\">https://wandb.ai/jackjack170827-uc-san-diego/cse158-project-rating/runs/loisiz1k</a><br/> View project at: <a href='https://wandb.ai/jackjack170827-uc-san-diego/cse158-project-rating' target=\"_blank\">https://wandb.ai/jackjack170827-uc-san-diego/cse158-project-rating</a><br/>Synced 5 W&B file(s), 0 media file(s), 0 artifact file(s) and 0 other file(s)"
      ],
      "text/plain": [
       "<IPython.core.display.HTML object>"
      ]
     },
     "metadata": {},
     "output_type": "display_data"
    },
    {
     "data": {
      "text/html": [
       "Find logs at: <code>./wandb/run-20241203_012305-loisiz1k/logs</code>"
      ],
      "text/plain": [
       "<IPython.core.display.HTML object>"
      ]
     },
     "metadata": {},
     "output_type": "display_data"
    },
    {
     "data": {
      "text/html": [
       "Tracking run with wandb version 0.18.7"
      ],
      "text/plain": [
       "<IPython.core.display.HTML object>"
      ]
     },
     "metadata": {},
     "output_type": "display_data"
    },
    {
     "data": {
      "text/html": [
       "Run data is saved locally in <code>/Users/julie/cse158-project/wandb/run-20241203_012739-rqt131qi</code>"
      ],
      "text/plain": [
       "<IPython.core.display.HTML object>"
      ]
     },
     "metadata": {},
     "output_type": "display_data"
    },
    {
     "data": {
      "text/html": [
       "Syncing run <strong><a href='https://wandb.ai/jackjack170827-uc-san-diego/cse158-project-rating/runs/rqt131qi' target=\"_blank\">SVD_f100_lr0.005_reg0.1_ep20</a></strong> to <a href='https://wandb.ai/jackjack170827-uc-san-diego/cse158-project-rating' target=\"_blank\">Weights & Biases</a> (<a href='https://wandb.me/developer-guide' target=\"_blank\">docs</a>)<br/>"
      ],
      "text/plain": [
       "<IPython.core.display.HTML object>"
      ]
     },
     "metadata": {},
     "output_type": "display_data"
    },
    {
     "data": {
      "text/html": [
       " View project at <a href='https://wandb.ai/jackjack170827-uc-san-diego/cse158-project-rating' target=\"_blank\">https://wandb.ai/jackjack170827-uc-san-diego/cse158-project-rating</a>"
      ],
      "text/plain": [
       "<IPython.core.display.HTML object>"
      ]
     },
     "metadata": {},
     "output_type": "display_data"
    },
    {
     "data": {
      "text/html": [
       " View run at <a href='https://wandb.ai/jackjack170827-uc-san-diego/cse158-project-rating/runs/rqt131qi' target=\"_blank\">https://wandb.ai/jackjack170827-uc-san-diego/cse158-project-rating/runs/rqt131qi</a>"
      ],
      "text/plain": [
       "<IPython.core.display.HTML object>"
      ]
     },
     "metadata": {},
     "output_type": "display_data"
    },
    {
     "data": {
      "text/html": [
       "\n",
       "    <style>\n",
       "        .wandb-row {\n",
       "            display: flex;\n",
       "            flex-direction: row;\n",
       "            flex-wrap: wrap;\n",
       "            justify-content: flex-start;\n",
       "            width: 100%;\n",
       "        }\n",
       "        .wandb-col {\n",
       "            display: flex;\n",
       "            flex-direction: column;\n",
       "            flex-basis: 100%;\n",
       "            flex: 1;\n",
       "            padding: 10px;\n",
       "        }\n",
       "    </style>\n",
       "<div class=\"wandb-row\"><div class=\"wandb-col\"><h3>Run history:</h3><br/><table class=\"wandb\"><tr><td>avg_val_MAE</td><td>▁</td></tr><tr><td>avg_val_MSE</td><td>▁</td></tr><tr><td>avg_val_RMSE</td><td>▁</td></tr><tr><td>fold_val_MAE</td><td>▆▁█▃▄</td></tr><tr><td>fold_val_MSE</td><td>█▁█▂▄</td></tr><tr><td>fold_val_RMSE</td><td>█▁█▂▄</td></tr></table><br/></div><div class=\"wandb-col\"><h3>Run summary:</h3><br/><table class=\"wandb\"><tr><td>avg_val_MAE</td><td>1.16098</td></tr><tr><td>avg_val_MSE</td><td>1.99923</td></tr><tr><td>avg_val_RMSE</td><td>1.41394</td></tr><tr><td>fold_val_MAE</td><td>1.16074</td></tr><tr><td>fold_val_MSE</td><td>1.99909</td></tr><tr><td>fold_val_RMSE</td><td>1.41389</td></tr></table><br/></div></div>"
      ],
      "text/plain": [
       "<IPython.core.display.HTML object>"
      ]
     },
     "metadata": {},
     "output_type": "display_data"
    },
    {
     "data": {
      "text/html": [
       " View run <strong style=\"color:#cdcd00\">SVD_f100_lr0.005_reg0.1_ep20</strong> at: <a href='https://wandb.ai/jackjack170827-uc-san-diego/cse158-project-rating/runs/rqt131qi' target=\"_blank\">https://wandb.ai/jackjack170827-uc-san-diego/cse158-project-rating/runs/rqt131qi</a><br/> View project at: <a href='https://wandb.ai/jackjack170827-uc-san-diego/cse158-project-rating' target=\"_blank\">https://wandb.ai/jackjack170827-uc-san-diego/cse158-project-rating</a><br/>Synced 5 W&B file(s), 0 media file(s), 0 artifact file(s) and 0 other file(s)"
      ],
      "text/plain": [
       "<IPython.core.display.HTML object>"
      ]
     },
     "metadata": {},
     "output_type": "display_data"
    },
    {
     "data": {
      "text/html": [
       "Find logs at: <code>./wandb/run-20241203_012739-rqt131qi/logs</code>"
      ],
      "text/plain": [
       "<IPython.core.display.HTML object>"
      ]
     },
     "metadata": {},
     "output_type": "display_data"
    },
    {
     "data": {
      "text/html": [
       "Tracking run with wandb version 0.18.7"
      ],
      "text/plain": [
       "<IPython.core.display.HTML object>"
      ]
     },
     "metadata": {},
     "output_type": "display_data"
    },
    {
     "data": {
      "text/html": [
       "Run data is saved locally in <code>/Users/julie/cse158-project/wandb/run-20241203_012824-ig5wdlem</code>"
      ],
      "text/plain": [
       "<IPython.core.display.HTML object>"
      ]
     },
     "metadata": {},
     "output_type": "display_data"
    },
    {
     "data": {
      "text/html": [
       "Syncing run <strong><a href='https://wandb.ai/jackjack170827-uc-san-diego/cse158-project-rating/runs/ig5wdlem' target=\"_blank\">SVD_f100_lr0.005_reg0.1_ep50</a></strong> to <a href='https://wandb.ai/jackjack170827-uc-san-diego/cse158-project-rating' target=\"_blank\">Weights & Biases</a> (<a href='https://wandb.me/developer-guide' target=\"_blank\">docs</a>)<br/>"
      ],
      "text/plain": [
       "<IPython.core.display.HTML object>"
      ]
     },
     "metadata": {},
     "output_type": "display_data"
    },
    {
     "data": {
      "text/html": [
       " View project at <a href='https://wandb.ai/jackjack170827-uc-san-diego/cse158-project-rating' target=\"_blank\">https://wandb.ai/jackjack170827-uc-san-diego/cse158-project-rating</a>"
      ],
      "text/plain": [
       "<IPython.core.display.HTML object>"
      ]
     },
     "metadata": {},
     "output_type": "display_data"
    },
    {
     "data": {
      "text/html": [
       " View run at <a href='https://wandb.ai/jackjack170827-uc-san-diego/cse158-project-rating/runs/ig5wdlem' target=\"_blank\">https://wandb.ai/jackjack170827-uc-san-diego/cse158-project-rating/runs/ig5wdlem</a>"
      ],
      "text/plain": [
       "<IPython.core.display.HTML object>"
      ]
     },
     "metadata": {},
     "output_type": "display_data"
    },
    {
     "data": {
      "text/html": [
       "\n",
       "    <style>\n",
       "        .wandb-row {\n",
       "            display: flex;\n",
       "            flex-direction: row;\n",
       "            flex-wrap: wrap;\n",
       "            justify-content: flex-start;\n",
       "            width: 100%;\n",
       "        }\n",
       "        .wandb-col {\n",
       "            display: flex;\n",
       "            flex-direction: column;\n",
       "            flex-basis: 100%;\n",
       "            flex: 1;\n",
       "            padding: 10px;\n",
       "        }\n",
       "    </style>\n",
       "<div class=\"wandb-row\"><div class=\"wandb-col\"><h3>Run history:</h3><br/><table class=\"wandb\"><tr><td>avg_val_MAE</td><td>▁</td></tr><tr><td>avg_val_MSE</td><td>▁</td></tr><tr><td>avg_val_RMSE</td><td>▁</td></tr><tr><td>fold_val_MAE</td><td>▆██▄▁</td></tr><tr><td>fold_val_MSE</td><td>▅█▆▃▁</td></tr><tr><td>fold_val_RMSE</td><td>▅█▆▃▁</td></tr></table><br/></div><div class=\"wandb-col\"><h3>Run summary:</h3><br/><table class=\"wandb\"><tr><td>avg_val_MAE</td><td>1.1468</td></tr><tr><td>avg_val_MSE</td><td>1.97947</td></tr><tr><td>avg_val_RMSE</td><td>1.40694</td></tr><tr><td>fold_val_MAE</td><td>1.14542</td></tr><tr><td>fold_val_MSE</td><td>1.97296</td></tr><tr><td>fold_val_RMSE</td><td>1.40462</td></tr></table><br/></div></div>"
      ],
      "text/plain": [
       "<IPython.core.display.HTML object>"
      ]
     },
     "metadata": {},
     "output_type": "display_data"
    },
    {
     "data": {
      "text/html": [
       " View run <strong style=\"color:#cdcd00\">SVD_f100_lr0.005_reg0.1_ep50</strong> at: <a href='https://wandb.ai/jackjack170827-uc-san-diego/cse158-project-rating/runs/ig5wdlem' target=\"_blank\">https://wandb.ai/jackjack170827-uc-san-diego/cse158-project-rating/runs/ig5wdlem</a><br/> View project at: <a href='https://wandb.ai/jackjack170827-uc-san-diego/cse158-project-rating' target=\"_blank\">https://wandb.ai/jackjack170827-uc-san-diego/cse158-project-rating</a><br/>Synced 5 W&B file(s), 0 media file(s), 0 artifact file(s) and 0 other file(s)"
      ],
      "text/plain": [
       "<IPython.core.display.HTML object>"
      ]
     },
     "metadata": {},
     "output_type": "display_data"
    },
    {
     "data": {
      "text/html": [
       "Find logs at: <code>./wandb/run-20241203_012824-ig5wdlem/logs</code>"
      ],
      "text/plain": [
       "<IPython.core.display.HTML object>"
      ]
     },
     "metadata": {},
     "output_type": "display_data"
    },
    {
     "data": {
      "text/html": [
       "Tracking run with wandb version 0.18.7"
      ],
      "text/plain": [
       "<IPython.core.display.HTML object>"
      ]
     },
     "metadata": {},
     "output_type": "display_data"
    },
    {
     "data": {
      "text/html": [
       "Run data is saved locally in <code>/Users/julie/cse158-project/wandb/run-20241203_012948-ytn2o8xt</code>"
      ],
      "text/plain": [
       "<IPython.core.display.HTML object>"
      ]
     },
     "metadata": {},
     "output_type": "display_data"
    },
    {
     "data": {
      "text/html": [
       "Syncing run <strong><a href='https://wandb.ai/jackjack170827-uc-san-diego/cse158-project-rating/runs/ytn2o8xt' target=\"_blank\">SVD_f100_lr0.005_reg0.1_ep100</a></strong> to <a href='https://wandb.ai/jackjack170827-uc-san-diego/cse158-project-rating' target=\"_blank\">Weights & Biases</a> (<a href='https://wandb.me/developer-guide' target=\"_blank\">docs</a>)<br/>"
      ],
      "text/plain": [
       "<IPython.core.display.HTML object>"
      ]
     },
     "metadata": {},
     "output_type": "display_data"
    },
    {
     "data": {
      "text/html": [
       " View project at <a href='https://wandb.ai/jackjack170827-uc-san-diego/cse158-project-rating' target=\"_blank\">https://wandb.ai/jackjack170827-uc-san-diego/cse158-project-rating</a>"
      ],
      "text/plain": [
       "<IPython.core.display.HTML object>"
      ]
     },
     "metadata": {},
     "output_type": "display_data"
    },
    {
     "data": {
      "text/html": [
       " View run at <a href='https://wandb.ai/jackjack170827-uc-san-diego/cse158-project-rating/runs/ytn2o8xt' target=\"_blank\">https://wandb.ai/jackjack170827-uc-san-diego/cse158-project-rating/runs/ytn2o8xt</a>"
      ],
      "text/plain": [
       "<IPython.core.display.HTML object>"
      ]
     },
     "metadata": {},
     "output_type": "display_data"
    },
    {
     "data": {
      "text/html": [
       "\n",
       "    <style>\n",
       "        .wandb-row {\n",
       "            display: flex;\n",
       "            flex-direction: row;\n",
       "            flex-wrap: wrap;\n",
       "            justify-content: flex-start;\n",
       "            width: 100%;\n",
       "        }\n",
       "        .wandb-col {\n",
       "            display: flex;\n",
       "            flex-direction: column;\n",
       "            flex-basis: 100%;\n",
       "            flex: 1;\n",
       "            padding: 10px;\n",
       "        }\n",
       "    </style>\n",
       "<div class=\"wandb-row\"><div class=\"wandb-col\"><h3>Run history:</h3><br/><table class=\"wandb\"><tr><td>avg_val_MAE</td><td>▁</td></tr><tr><td>avg_val_MSE</td><td>▁</td></tr><tr><td>avg_val_RMSE</td><td>▁</td></tr><tr><td>fold_val_MAE</td><td>█▄▁▅▇</td></tr><tr><td>fold_val_MSE</td><td>█▆▁▄█</td></tr><tr><td>fold_val_RMSE</td><td>█▆▁▄█</td></tr></table><br/></div><div class=\"wandb-col\"><h3>Run summary:</h3><br/><table class=\"wandb\"><tr><td>avg_val_MAE</td><td>1.14299</td></tr><tr><td>avg_val_MSE</td><td>1.97776</td></tr><tr><td>avg_val_RMSE</td><td>1.40633</td></tr><tr><td>fold_val_MAE</td><td>1.14472</td></tr><tr><td>fold_val_MSE</td><td>1.98526</td></tr><tr><td>fold_val_RMSE</td><td>1.40899</td></tr></table><br/></div></div>"
      ],
      "text/plain": [
       "<IPython.core.display.HTML object>"
      ]
     },
     "metadata": {},
     "output_type": "display_data"
    },
    {
     "data": {
      "text/html": [
       " View run <strong style=\"color:#cdcd00\">SVD_f100_lr0.005_reg0.1_ep100</strong> at: <a href='https://wandb.ai/jackjack170827-uc-san-diego/cse158-project-rating/runs/ytn2o8xt' target=\"_blank\">https://wandb.ai/jackjack170827-uc-san-diego/cse158-project-rating/runs/ytn2o8xt</a><br/> View project at: <a href='https://wandb.ai/jackjack170827-uc-san-diego/cse158-project-rating' target=\"_blank\">https://wandb.ai/jackjack170827-uc-san-diego/cse158-project-rating</a><br/>Synced 5 W&B file(s), 0 media file(s), 0 artifact file(s) and 0 other file(s)"
      ],
      "text/plain": [
       "<IPython.core.display.HTML object>"
      ]
     },
     "metadata": {},
     "output_type": "display_data"
    },
    {
     "data": {
      "text/html": [
       "Find logs at: <code>./wandb/run-20241203_012948-ytn2o8xt/logs</code>"
      ],
      "text/plain": [
       "<IPython.core.display.HTML object>"
      ]
     },
     "metadata": {},
     "output_type": "display_data"
    },
    {
     "data": {
      "text/html": [
       "Tracking run with wandb version 0.18.7"
      ],
      "text/plain": [
       "<IPython.core.display.HTML object>"
      ]
     },
     "metadata": {},
     "output_type": "display_data"
    },
    {
     "data": {
      "text/html": [
       "Run data is saved locally in <code>/Users/julie/cse158-project/wandb/run-20241203_013212-hp66kqff</code>"
      ],
      "text/plain": [
       "<IPython.core.display.HTML object>"
      ]
     },
     "metadata": {},
     "output_type": "display_data"
    },
    {
     "data": {
      "text/html": [
       "Syncing run <strong><a href='https://wandb.ai/jackjack170827-uc-san-diego/cse158-project-rating/runs/hp66kqff' target=\"_blank\">SVD_f100_lr0.005_reg0.1_ep200</a></strong> to <a href='https://wandb.ai/jackjack170827-uc-san-diego/cse158-project-rating' target=\"_blank\">Weights & Biases</a> (<a href='https://wandb.me/developer-guide' target=\"_blank\">docs</a>)<br/>"
      ],
      "text/plain": [
       "<IPython.core.display.HTML object>"
      ]
     },
     "metadata": {},
     "output_type": "display_data"
    },
    {
     "data": {
      "text/html": [
       " View project at <a href='https://wandb.ai/jackjack170827-uc-san-diego/cse158-project-rating' target=\"_blank\">https://wandb.ai/jackjack170827-uc-san-diego/cse158-project-rating</a>"
      ],
      "text/plain": [
       "<IPython.core.display.HTML object>"
      ]
     },
     "metadata": {},
     "output_type": "display_data"
    },
    {
     "data": {
      "text/html": [
       " View run at <a href='https://wandb.ai/jackjack170827-uc-san-diego/cse158-project-rating/runs/hp66kqff' target=\"_blank\">https://wandb.ai/jackjack170827-uc-san-diego/cse158-project-rating/runs/hp66kqff</a>"
      ],
      "text/plain": [
       "<IPython.core.display.HTML object>"
      ]
     },
     "metadata": {},
     "output_type": "display_data"
    },
    {
     "data": {
      "text/html": [
       "\n",
       "    <style>\n",
       "        .wandb-row {\n",
       "            display: flex;\n",
       "            flex-direction: row;\n",
       "            flex-wrap: wrap;\n",
       "            justify-content: flex-start;\n",
       "            width: 100%;\n",
       "        }\n",
       "        .wandb-col {\n",
       "            display: flex;\n",
       "            flex-direction: column;\n",
       "            flex-basis: 100%;\n",
       "            flex: 1;\n",
       "            padding: 10px;\n",
       "        }\n",
       "    </style>\n",
       "<div class=\"wandb-row\"><div class=\"wandb-col\"><h3>Run history:</h3><br/><table class=\"wandb\"><tr><td>avg_val_MAE</td><td>▁</td></tr><tr><td>avg_val_MSE</td><td>▁</td></tr><tr><td>avg_val_RMSE</td><td>▁</td></tr><tr><td>fold_val_MAE</td><td>█▁▆▂▃</td></tr><tr><td>fold_val_MSE</td><td>█▁▆▂▃</td></tr><tr><td>fold_val_RMSE</td><td>█▁▆▂▃</td></tr></table><br/></div><div class=\"wandb-col\"><h3>Run summary:</h3><br/><table class=\"wandb\"><tr><td>avg_val_MAE</td><td>1.14442</td></tr><tr><td>avg_val_MSE</td><td>1.98245</td></tr><tr><td>avg_val_RMSE</td><td>1.40799</td></tr><tr><td>fold_val_MAE</td><td>1.14323</td></tr><tr><td>fold_val_MSE</td><td>1.97867</td></tr><tr><td>fold_val_RMSE</td><td>1.40665</td></tr></table><br/></div></div>"
      ],
      "text/plain": [
       "<IPython.core.display.HTML object>"
      ]
     },
     "metadata": {},
     "output_type": "display_data"
    },
    {
     "data": {
      "text/html": [
       " View run <strong style=\"color:#cdcd00\">SVD_f100_lr0.005_reg0.1_ep200</strong> at: <a href='https://wandb.ai/jackjack170827-uc-san-diego/cse158-project-rating/runs/hp66kqff' target=\"_blank\">https://wandb.ai/jackjack170827-uc-san-diego/cse158-project-rating/runs/hp66kqff</a><br/> View project at: <a href='https://wandb.ai/jackjack170827-uc-san-diego/cse158-project-rating' target=\"_blank\">https://wandb.ai/jackjack170827-uc-san-diego/cse158-project-rating</a><br/>Synced 5 W&B file(s), 0 media file(s), 0 artifact file(s) and 0 other file(s)"
      ],
      "text/plain": [
       "<IPython.core.display.HTML object>"
      ]
     },
     "metadata": {},
     "output_type": "display_data"
    },
    {
     "data": {
      "text/html": [
       "Find logs at: <code>./wandb/run-20241203_013212-hp66kqff/logs</code>"
      ],
      "text/plain": [
       "<IPython.core.display.HTML object>"
      ]
     },
     "metadata": {},
     "output_type": "display_data"
    },
    {
     "data": {
      "text/html": [
       "Tracking run with wandb version 0.18.7"
      ],
      "text/plain": [
       "<IPython.core.display.HTML object>"
      ]
     },
     "metadata": {},
     "output_type": "display_data"
    },
    {
     "data": {
      "text/html": [
       "Run data is saved locally in <code>/Users/julie/cse158-project/wandb/run-20241203_013643-a5feqkdw</code>"
      ],
      "text/plain": [
       "<IPython.core.display.HTML object>"
      ]
     },
     "metadata": {},
     "output_type": "display_data"
    },
    {
     "data": {
      "text/html": [
       "Syncing run <strong><a href='https://wandb.ai/jackjack170827-uc-san-diego/cse158-project-rating/runs/a5feqkdw' target=\"_blank\">SVD_f100_lr0.01_reg0.02_ep20</a></strong> to <a href='https://wandb.ai/jackjack170827-uc-san-diego/cse158-project-rating' target=\"_blank\">Weights & Biases</a> (<a href='https://wandb.me/developer-guide' target=\"_blank\">docs</a>)<br/>"
      ],
      "text/plain": [
       "<IPython.core.display.HTML object>"
      ]
     },
     "metadata": {},
     "output_type": "display_data"
    },
    {
     "data": {
      "text/html": [
       " View project at <a href='https://wandb.ai/jackjack170827-uc-san-diego/cse158-project-rating' target=\"_blank\">https://wandb.ai/jackjack170827-uc-san-diego/cse158-project-rating</a>"
      ],
      "text/plain": [
       "<IPython.core.display.HTML object>"
      ]
     },
     "metadata": {},
     "output_type": "display_data"
    },
    {
     "data": {
      "text/html": [
       " View run at <a href='https://wandb.ai/jackjack170827-uc-san-diego/cse158-project-rating/runs/a5feqkdw' target=\"_blank\">https://wandb.ai/jackjack170827-uc-san-diego/cse158-project-rating/runs/a5feqkdw</a>"
      ],
      "text/plain": [
       "<IPython.core.display.HTML object>"
      ]
     },
     "metadata": {},
     "output_type": "display_data"
    },
    {
     "data": {
      "text/html": [
       "\n",
       "    <style>\n",
       "        .wandb-row {\n",
       "            display: flex;\n",
       "            flex-direction: row;\n",
       "            flex-wrap: wrap;\n",
       "            justify-content: flex-start;\n",
       "            width: 100%;\n",
       "        }\n",
       "        .wandb-col {\n",
       "            display: flex;\n",
       "            flex-direction: column;\n",
       "            flex-basis: 100%;\n",
       "            flex: 1;\n",
       "            padding: 10px;\n",
       "        }\n",
       "    </style>\n",
       "<div class=\"wandb-row\"><div class=\"wandb-col\"><h3>Run history:</h3><br/><table class=\"wandb\"><tr><td>avg_val_MAE</td><td>▁</td></tr><tr><td>avg_val_MSE</td><td>▁</td></tr><tr><td>avg_val_RMSE</td><td>▁</td></tr><tr><td>fold_val_MAE</td><td>▂▁▆█▄</td></tr><tr><td>fold_val_MSE</td><td>▂▁██▄</td></tr><tr><td>fold_val_RMSE</td><td>▂▁██▄</td></tr></table><br/></div><div class=\"wandb-col\"><h3>Run summary:</h3><br/><table class=\"wandb\"><tr><td>avg_val_MAE</td><td>1.14257</td></tr><tr><td>avg_val_MSE</td><td>1.97977</td></tr><tr><td>avg_val_RMSE</td><td>1.40704</td></tr><tr><td>fold_val_MAE</td><td>1.14225</td></tr><tr><td>fold_val_MSE</td><td>1.97819</td></tr><tr><td>fold_val_RMSE</td><td>1.40648</td></tr></table><br/></div></div>"
      ],
      "text/plain": [
       "<IPython.core.display.HTML object>"
      ]
     },
     "metadata": {},
     "output_type": "display_data"
    },
    {
     "data": {
      "text/html": [
       " View run <strong style=\"color:#cdcd00\">SVD_f100_lr0.01_reg0.02_ep20</strong> at: <a href='https://wandb.ai/jackjack170827-uc-san-diego/cse158-project-rating/runs/a5feqkdw' target=\"_blank\">https://wandb.ai/jackjack170827-uc-san-diego/cse158-project-rating/runs/a5feqkdw</a><br/> View project at: <a href='https://wandb.ai/jackjack170827-uc-san-diego/cse158-project-rating' target=\"_blank\">https://wandb.ai/jackjack170827-uc-san-diego/cse158-project-rating</a><br/>Synced 5 W&B file(s), 0 media file(s), 0 artifact file(s) and 0 other file(s)"
      ],
      "text/plain": [
       "<IPython.core.display.HTML object>"
      ]
     },
     "metadata": {},
     "output_type": "display_data"
    },
    {
     "data": {
      "text/html": [
       "Find logs at: <code>./wandb/run-20241203_013643-a5feqkdw/logs</code>"
      ],
      "text/plain": [
       "<IPython.core.display.HTML object>"
      ]
     },
     "metadata": {},
     "output_type": "display_data"
    },
    {
     "data": {
      "text/html": [
       "Tracking run with wandb version 0.18.7"
      ],
      "text/plain": [
       "<IPython.core.display.HTML object>"
      ]
     },
     "metadata": {},
     "output_type": "display_data"
    },
    {
     "data": {
      "text/html": [
       "Run data is saved locally in <code>/Users/julie/cse158-project/wandb/run-20241203_013726-erdj1vhi</code>"
      ],
      "text/plain": [
       "<IPython.core.display.HTML object>"
      ]
     },
     "metadata": {},
     "output_type": "display_data"
    },
    {
     "data": {
      "text/html": [
       "Syncing run <strong><a href='https://wandb.ai/jackjack170827-uc-san-diego/cse158-project-rating/runs/erdj1vhi' target=\"_blank\">SVD_f100_lr0.01_reg0.02_ep50</a></strong> to <a href='https://wandb.ai/jackjack170827-uc-san-diego/cse158-project-rating' target=\"_blank\">Weights & Biases</a> (<a href='https://wandb.me/developer-guide' target=\"_blank\">docs</a>)<br/>"
      ],
      "text/plain": [
       "<IPython.core.display.HTML object>"
      ]
     },
     "metadata": {},
     "output_type": "display_data"
    },
    {
     "data": {
      "text/html": [
       " View project at <a href='https://wandb.ai/jackjack170827-uc-san-diego/cse158-project-rating' target=\"_blank\">https://wandb.ai/jackjack170827-uc-san-diego/cse158-project-rating</a>"
      ],
      "text/plain": [
       "<IPython.core.display.HTML object>"
      ]
     },
     "metadata": {},
     "output_type": "display_data"
    },
    {
     "data": {
      "text/html": [
       " View run at <a href='https://wandb.ai/jackjack170827-uc-san-diego/cse158-project-rating/runs/erdj1vhi' target=\"_blank\">https://wandb.ai/jackjack170827-uc-san-diego/cse158-project-rating/runs/erdj1vhi</a>"
      ],
      "text/plain": [
       "<IPython.core.display.HTML object>"
      ]
     },
     "metadata": {},
     "output_type": "display_data"
    },
    {
     "data": {
      "text/html": [
       "\n",
       "    <style>\n",
       "        .wandb-row {\n",
       "            display: flex;\n",
       "            flex-direction: row;\n",
       "            flex-wrap: wrap;\n",
       "            justify-content: flex-start;\n",
       "            width: 100%;\n",
       "        }\n",
       "        .wandb-col {\n",
       "            display: flex;\n",
       "            flex-direction: column;\n",
       "            flex-basis: 100%;\n",
       "            flex: 1;\n",
       "            padding: 10px;\n",
       "        }\n",
       "    </style>\n",
       "<div class=\"wandb-row\"><div class=\"wandb-col\"><h3>Run history:</h3><br/><table class=\"wandb\"><tr><td>avg_val_MAE</td><td>▁</td></tr><tr><td>avg_val_MSE</td><td>▁</td></tr><tr><td>avg_val_RMSE</td><td>▁</td></tr><tr><td>fold_val_MAE</td><td>█▁█▆▃</td></tr><tr><td>fold_val_MSE</td><td>▅▁█▇▇</td></tr><tr><td>fold_val_RMSE</td><td>▅▁█▇▇</td></tr></table><br/></div><div class=\"wandb-col\"><h3>Run summary:</h3><br/><table class=\"wandb\"><tr><td>avg_val_MAE</td><td>1.13557</td></tr><tr><td>avg_val_MSE</td><td>1.97658</td></tr><tr><td>avg_val_RMSE</td><td>1.40591</td></tr><tr><td>fold_val_MAE</td><td>1.13488</td></tr><tr><td>fold_val_MSE</td><td>1.97936</td></tr><tr><td>fold_val_RMSE</td><td>1.4069</td></tr></table><br/></div></div>"
      ],
      "text/plain": [
       "<IPython.core.display.HTML object>"
      ]
     },
     "metadata": {},
     "output_type": "display_data"
    },
    {
     "data": {
      "text/html": [
       " View run <strong style=\"color:#cdcd00\">SVD_f100_lr0.01_reg0.02_ep50</strong> at: <a href='https://wandb.ai/jackjack170827-uc-san-diego/cse158-project-rating/runs/erdj1vhi' target=\"_blank\">https://wandb.ai/jackjack170827-uc-san-diego/cse158-project-rating/runs/erdj1vhi</a><br/> View project at: <a href='https://wandb.ai/jackjack170827-uc-san-diego/cse158-project-rating' target=\"_blank\">https://wandb.ai/jackjack170827-uc-san-diego/cse158-project-rating</a><br/>Synced 5 W&B file(s), 0 media file(s), 0 artifact file(s) and 0 other file(s)"
      ],
      "text/plain": [
       "<IPython.core.display.HTML object>"
      ]
     },
     "metadata": {},
     "output_type": "display_data"
    },
    {
     "data": {
      "text/html": [
       "Find logs at: <code>./wandb/run-20241203_013726-erdj1vhi/logs</code>"
      ],
      "text/plain": [
       "<IPython.core.display.HTML object>"
      ]
     },
     "metadata": {},
     "output_type": "display_data"
    },
    {
     "data": {
      "text/html": [
       "Tracking run with wandb version 0.18.7"
      ],
      "text/plain": [
       "<IPython.core.display.HTML object>"
      ]
     },
     "metadata": {},
     "output_type": "display_data"
    },
    {
     "data": {
      "text/html": [
       "Run data is saved locally in <code>/Users/julie/cse158-project/wandb/run-20241203_013843-q6gox92v</code>"
      ],
      "text/plain": [
       "<IPython.core.display.HTML object>"
      ]
     },
     "metadata": {},
     "output_type": "display_data"
    },
    {
     "data": {
      "text/html": [
       "Syncing run <strong><a href='https://wandb.ai/jackjack170827-uc-san-diego/cse158-project-rating/runs/q6gox92v' target=\"_blank\">SVD_f100_lr0.01_reg0.02_ep100</a></strong> to <a href='https://wandb.ai/jackjack170827-uc-san-diego/cse158-project-rating' target=\"_blank\">Weights & Biases</a> (<a href='https://wandb.me/developer-guide' target=\"_blank\">docs</a>)<br/>"
      ],
      "text/plain": [
       "<IPython.core.display.HTML object>"
      ]
     },
     "metadata": {},
     "output_type": "display_data"
    },
    {
     "data": {
      "text/html": [
       " View project at <a href='https://wandb.ai/jackjack170827-uc-san-diego/cse158-project-rating' target=\"_blank\">https://wandb.ai/jackjack170827-uc-san-diego/cse158-project-rating</a>"
      ],
      "text/plain": [
       "<IPython.core.display.HTML object>"
      ]
     },
     "metadata": {},
     "output_type": "display_data"
    },
    {
     "data": {
      "text/html": [
       " View run at <a href='https://wandb.ai/jackjack170827-uc-san-diego/cse158-project-rating/runs/q6gox92v' target=\"_blank\">https://wandb.ai/jackjack170827-uc-san-diego/cse158-project-rating/runs/q6gox92v</a>"
      ],
      "text/plain": [
       "<IPython.core.display.HTML object>"
      ]
     },
     "metadata": {},
     "output_type": "display_data"
    },
    {
     "data": {
      "text/html": [
       "\n",
       "    <style>\n",
       "        .wandb-row {\n",
       "            display: flex;\n",
       "            flex-direction: row;\n",
       "            flex-wrap: wrap;\n",
       "            justify-content: flex-start;\n",
       "            width: 100%;\n",
       "        }\n",
       "        .wandb-col {\n",
       "            display: flex;\n",
       "            flex-direction: column;\n",
       "            flex-basis: 100%;\n",
       "            flex: 1;\n",
       "            padding: 10px;\n",
       "        }\n",
       "    </style>\n",
       "<div class=\"wandb-row\"><div class=\"wandb-col\"><h3>Run history:</h3><br/><table class=\"wandb\"><tr><td>avg_val_MAE</td><td>▁</td></tr><tr><td>avg_val_MSE</td><td>▁</td></tr><tr><td>avg_val_RMSE</td><td>▁</td></tr><tr><td>fold_val_MAE</td><td>██▁▄▃</td></tr><tr><td>fold_val_MSE</td><td>█▇▁▇▃</td></tr><tr><td>fold_val_RMSE</td><td>█▇▁▇▃</td></tr></table><br/></div><div class=\"wandb-col\"><h3>Run summary:</h3><br/><table class=\"wandb\"><tr><td>avg_val_MAE</td><td>1.13556</td></tr><tr><td>avg_val_MSE</td><td>1.9777</td></tr><tr><td>avg_val_RMSE</td><td>1.4063</td></tr><tr><td>fold_val_MAE</td><td>1.13452</td></tr><tr><td>fold_val_MSE</td><td>1.97039</td></tr><tr><td>fold_val_RMSE</td><td>1.40371</td></tr></table><br/></div></div>"
      ],
      "text/plain": [
       "<IPython.core.display.HTML object>"
      ]
     },
     "metadata": {},
     "output_type": "display_data"
    },
    {
     "data": {
      "text/html": [
       " View run <strong style=\"color:#cdcd00\">SVD_f100_lr0.01_reg0.02_ep100</strong> at: <a href='https://wandb.ai/jackjack170827-uc-san-diego/cse158-project-rating/runs/q6gox92v' target=\"_blank\">https://wandb.ai/jackjack170827-uc-san-diego/cse158-project-rating/runs/q6gox92v</a><br/> View project at: <a href='https://wandb.ai/jackjack170827-uc-san-diego/cse158-project-rating' target=\"_blank\">https://wandb.ai/jackjack170827-uc-san-diego/cse158-project-rating</a><br/>Synced 5 W&B file(s), 0 media file(s), 0 artifact file(s) and 0 other file(s)"
      ],
      "text/plain": [
       "<IPython.core.display.HTML object>"
      ]
     },
     "metadata": {},
     "output_type": "display_data"
    },
    {
     "data": {
      "text/html": [
       "Find logs at: <code>./wandb/run-20241203_013843-q6gox92v/logs</code>"
      ],
      "text/plain": [
       "<IPython.core.display.HTML object>"
      ]
     },
     "metadata": {},
     "output_type": "display_data"
    },
    {
     "data": {
      "text/html": [
       "Tracking run with wandb version 0.18.7"
      ],
      "text/plain": [
       "<IPython.core.display.HTML object>"
      ]
     },
     "metadata": {},
     "output_type": "display_data"
    },
    {
     "data": {
      "text/html": [
       "Run data is saved locally in <code>/Users/julie/cse158-project/wandb/run-20241203_014111-3uuz0bli</code>"
      ],
      "text/plain": [
       "<IPython.core.display.HTML object>"
      ]
     },
     "metadata": {},
     "output_type": "display_data"
    },
    {
     "data": {
      "text/html": [
       "Syncing run <strong><a href='https://wandb.ai/jackjack170827-uc-san-diego/cse158-project-rating/runs/3uuz0bli' target=\"_blank\">SVD_f100_lr0.01_reg0.02_ep200</a></strong> to <a href='https://wandb.ai/jackjack170827-uc-san-diego/cse158-project-rating' target=\"_blank\">Weights & Biases</a> (<a href='https://wandb.me/developer-guide' target=\"_blank\">docs</a>)<br/>"
      ],
      "text/plain": [
       "<IPython.core.display.HTML object>"
      ]
     },
     "metadata": {},
     "output_type": "display_data"
    },
    {
     "data": {
      "text/html": [
       " View project at <a href='https://wandb.ai/jackjack170827-uc-san-diego/cse158-project-rating' target=\"_blank\">https://wandb.ai/jackjack170827-uc-san-diego/cse158-project-rating</a>"
      ],
      "text/plain": [
       "<IPython.core.display.HTML object>"
      ]
     },
     "metadata": {},
     "output_type": "display_data"
    },
    {
     "data": {
      "text/html": [
       " View run at <a href='https://wandb.ai/jackjack170827-uc-san-diego/cse158-project-rating/runs/3uuz0bli' target=\"_blank\">https://wandb.ai/jackjack170827-uc-san-diego/cse158-project-rating/runs/3uuz0bli</a>"
      ],
      "text/plain": [
       "<IPython.core.display.HTML object>"
      ]
     },
     "metadata": {},
     "output_type": "display_data"
    },
    {
     "data": {
      "application/vnd.jupyter.widget-view+json": {
       "model_id": "a08dc22b360e466183dc73fe9442553a",
       "version_major": 2,
       "version_minor": 0
      },
      "text/plain": [
       "VBox(children=(Label(value='0.005 MB of 0.005 MB uploaded\\r'), FloatProgress(value=1.0, max=1.0)))"
      ]
     },
     "metadata": {},
     "output_type": "display_data"
    },
    {
     "data": {
      "text/html": [
       "\n",
       "    <style>\n",
       "        .wandb-row {\n",
       "            display: flex;\n",
       "            flex-direction: row;\n",
       "            flex-wrap: wrap;\n",
       "            justify-content: flex-start;\n",
       "            width: 100%;\n",
       "        }\n",
       "        .wandb-col {\n",
       "            display: flex;\n",
       "            flex-direction: column;\n",
       "            flex-basis: 100%;\n",
       "            flex: 1;\n",
       "            padding: 10px;\n",
       "        }\n",
       "    </style>\n",
       "<div class=\"wandb-row\"><div class=\"wandb-col\"><h3>Run history:</h3><br/><table class=\"wandb\"><tr><td>avg_val_MAE</td><td>▁</td></tr><tr><td>avg_val_MSE</td><td>▁</td></tr><tr><td>avg_val_RMSE</td><td>▁</td></tr><tr><td>fold_val_MAE</td><td>▄▂█▁█</td></tr><tr><td>fold_val_MSE</td><td>▅▁▅▅█</td></tr><tr><td>fold_val_RMSE</td><td>▅▁▅▅█</td></tr></table><br/></div><div class=\"wandb-col\"><h3>Run summary:</h3><br/><table class=\"wandb\"><tr><td>avg_val_MAE</td><td>1.137</td></tr><tr><td>avg_val_MSE</td><td>1.97807</td></tr><tr><td>avg_val_RMSE</td><td>1.40644</td></tr><tr><td>fold_val_MAE</td><td>1.13903</td></tr><tr><td>fold_val_MSE</td><td>1.98833</td></tr><tr><td>fold_val_RMSE</td><td>1.41008</td></tr></table><br/></div></div>"
      ],
      "text/plain": [
       "<IPython.core.display.HTML object>"
      ]
     },
     "metadata": {},
     "output_type": "display_data"
    },
    {
     "data": {
      "text/html": [
       " View run <strong style=\"color:#cdcd00\">SVD_f100_lr0.01_reg0.02_ep200</strong> at: <a href='https://wandb.ai/jackjack170827-uc-san-diego/cse158-project-rating/runs/3uuz0bli' target=\"_blank\">https://wandb.ai/jackjack170827-uc-san-diego/cse158-project-rating/runs/3uuz0bli</a><br/> View project at: <a href='https://wandb.ai/jackjack170827-uc-san-diego/cse158-project-rating' target=\"_blank\">https://wandb.ai/jackjack170827-uc-san-diego/cse158-project-rating</a><br/>Synced 5 W&B file(s), 0 media file(s), 0 artifact file(s) and 0 other file(s)"
      ],
      "text/plain": [
       "<IPython.core.display.HTML object>"
      ]
     },
     "metadata": {},
     "output_type": "display_data"
    },
    {
     "data": {
      "text/html": [
       "Find logs at: <code>./wandb/run-20241203_014111-3uuz0bli/logs</code>"
      ],
      "text/plain": [
       "<IPython.core.display.HTML object>"
      ]
     },
     "metadata": {},
     "output_type": "display_data"
    },
    {
     "data": {
      "text/html": [
       "Tracking run with wandb version 0.18.7"
      ],
      "text/plain": [
       "<IPython.core.display.HTML object>"
      ]
     },
     "metadata": {},
     "output_type": "display_data"
    },
    {
     "data": {
      "text/html": [
       "Run data is saved locally in <code>/Users/julie/cse158-project/wandb/run-20241203_014553-rav56cd2</code>"
      ],
      "text/plain": [
       "<IPython.core.display.HTML object>"
      ]
     },
     "metadata": {},
     "output_type": "display_data"
    },
    {
     "data": {
      "text/html": [
       "Syncing run <strong><a href='https://wandb.ai/jackjack170827-uc-san-diego/cse158-project-rating/runs/rav56cd2' target=\"_blank\">SVD_f100_lr0.01_reg0.05_ep20</a></strong> to <a href='https://wandb.ai/jackjack170827-uc-san-diego/cse158-project-rating' target=\"_blank\">Weights & Biases</a> (<a href='https://wandb.me/developer-guide' target=\"_blank\">docs</a>)<br/>"
      ],
      "text/plain": [
       "<IPython.core.display.HTML object>"
      ]
     },
     "metadata": {},
     "output_type": "display_data"
    },
    {
     "data": {
      "text/html": [
       " View project at <a href='https://wandb.ai/jackjack170827-uc-san-diego/cse158-project-rating' target=\"_blank\">https://wandb.ai/jackjack170827-uc-san-diego/cse158-project-rating</a>"
      ],
      "text/plain": [
       "<IPython.core.display.HTML object>"
      ]
     },
     "metadata": {},
     "output_type": "display_data"
    },
    {
     "data": {
      "text/html": [
       " View run at <a href='https://wandb.ai/jackjack170827-uc-san-diego/cse158-project-rating/runs/rav56cd2' target=\"_blank\">https://wandb.ai/jackjack170827-uc-san-diego/cse158-project-rating/runs/rav56cd2</a>"
      ],
      "text/plain": [
       "<IPython.core.display.HTML object>"
      ]
     },
     "metadata": {},
     "output_type": "display_data"
    },
    {
     "data": {
      "text/html": [
       "\n",
       "    <style>\n",
       "        .wandb-row {\n",
       "            display: flex;\n",
       "            flex-direction: row;\n",
       "            flex-wrap: wrap;\n",
       "            justify-content: flex-start;\n",
       "            width: 100%;\n",
       "        }\n",
       "        .wandb-col {\n",
       "            display: flex;\n",
       "            flex-direction: column;\n",
       "            flex-basis: 100%;\n",
       "            flex: 1;\n",
       "            padding: 10px;\n",
       "        }\n",
       "    </style>\n",
       "<div class=\"wandb-row\"><div class=\"wandb-col\"><h3>Run history:</h3><br/><table class=\"wandb\"><tr><td>avg_val_MAE</td><td>▁</td></tr><tr><td>avg_val_MSE</td><td>▁</td></tr><tr><td>avg_val_RMSE</td><td>▁</td></tr><tr><td>fold_val_MAE</td><td>▆▆▁█▂</td></tr><tr><td>fold_val_MSE</td><td>▅▆▁█▂</td></tr><tr><td>fold_val_RMSE</td><td>▅▆▁█▂</td></tr></table><br/></div><div class=\"wandb-col\"><h3>Run summary:</h3><br/><table class=\"wandb\"><tr><td>avg_val_MAE</td><td>1.14495</td></tr><tr><td>avg_val_MSE</td><td>1.97932</td></tr><tr><td>avg_val_RMSE</td><td>1.40688</td></tr><tr><td>fold_val_MAE</td><td>1.14284</td></tr><tr><td>fold_val_MSE</td><td>1.97163</td></tr><tr><td>fold_val_RMSE</td><td>1.40415</td></tr></table><br/></div></div>"
      ],
      "text/plain": [
       "<IPython.core.display.HTML object>"
      ]
     },
     "metadata": {},
     "output_type": "display_data"
    },
    {
     "data": {
      "text/html": [
       " View run <strong style=\"color:#cdcd00\">SVD_f100_lr0.01_reg0.05_ep20</strong> at: <a href='https://wandb.ai/jackjack170827-uc-san-diego/cse158-project-rating/runs/rav56cd2' target=\"_blank\">https://wandb.ai/jackjack170827-uc-san-diego/cse158-project-rating/runs/rav56cd2</a><br/> View project at: <a href='https://wandb.ai/jackjack170827-uc-san-diego/cse158-project-rating' target=\"_blank\">https://wandb.ai/jackjack170827-uc-san-diego/cse158-project-rating</a><br/>Synced 5 W&B file(s), 0 media file(s), 0 artifact file(s) and 0 other file(s)"
      ],
      "text/plain": [
       "<IPython.core.display.HTML object>"
      ]
     },
     "metadata": {},
     "output_type": "display_data"
    },
    {
     "data": {
      "text/html": [
       "Find logs at: <code>./wandb/run-20241203_014553-rav56cd2/logs</code>"
      ],
      "text/plain": [
       "<IPython.core.display.HTML object>"
      ]
     },
     "metadata": {},
     "output_type": "display_data"
    },
    {
     "data": {
      "text/html": [
       "Tracking run with wandb version 0.18.7"
      ],
      "text/plain": [
       "<IPython.core.display.HTML object>"
      ]
     },
     "metadata": {},
     "output_type": "display_data"
    },
    {
     "data": {
      "text/html": [
       "Run data is saved locally in <code>/Users/julie/cse158-project/wandb/run-20241203_014641-xa7dgi60</code>"
      ],
      "text/plain": [
       "<IPython.core.display.HTML object>"
      ]
     },
     "metadata": {},
     "output_type": "display_data"
    },
    {
     "data": {
      "text/html": [
       "Syncing run <strong><a href='https://wandb.ai/jackjack170827-uc-san-diego/cse158-project-rating/runs/xa7dgi60' target=\"_blank\">SVD_f100_lr0.01_reg0.05_ep50</a></strong> to <a href='https://wandb.ai/jackjack170827-uc-san-diego/cse158-project-rating' target=\"_blank\">Weights & Biases</a> (<a href='https://wandb.me/developer-guide' target=\"_blank\">docs</a>)<br/>"
      ],
      "text/plain": [
       "<IPython.core.display.HTML object>"
      ]
     },
     "metadata": {},
     "output_type": "display_data"
    },
    {
     "data": {
      "text/html": [
       " View project at <a href='https://wandb.ai/jackjack170827-uc-san-diego/cse158-project-rating' target=\"_blank\">https://wandb.ai/jackjack170827-uc-san-diego/cse158-project-rating</a>"
      ],
      "text/plain": [
       "<IPython.core.display.HTML object>"
      ]
     },
     "metadata": {},
     "output_type": "display_data"
    },
    {
     "data": {
      "text/html": [
       " View run at <a href='https://wandb.ai/jackjack170827-uc-san-diego/cse158-project-rating/runs/xa7dgi60' target=\"_blank\">https://wandb.ai/jackjack170827-uc-san-diego/cse158-project-rating/runs/xa7dgi60</a>"
      ],
      "text/plain": [
       "<IPython.core.display.HTML object>"
      ]
     },
     "metadata": {},
     "output_type": "display_data"
    },
    {
     "data": {
      "text/html": [
       "\n",
       "    <style>\n",
       "        .wandb-row {\n",
       "            display: flex;\n",
       "            flex-direction: row;\n",
       "            flex-wrap: wrap;\n",
       "            justify-content: flex-start;\n",
       "            width: 100%;\n",
       "        }\n",
       "        .wandb-col {\n",
       "            display: flex;\n",
       "            flex-direction: column;\n",
       "            flex-basis: 100%;\n",
       "            flex: 1;\n",
       "            padding: 10px;\n",
       "        }\n",
       "    </style>\n",
       "<div class=\"wandb-row\"><div class=\"wandb-col\"><h3>Run history:</h3><br/><table class=\"wandb\"><tr><td>avg_val_MAE</td><td>▁</td></tr><tr><td>avg_val_MSE</td><td>▁</td></tr><tr><td>avg_val_RMSE</td><td>▁</td></tr><tr><td>fold_val_MAE</td><td>▅▅██▁</td></tr><tr><td>fold_val_MSE</td><td>▅▄█▇▁</td></tr><tr><td>fold_val_RMSE</td><td>▅▄█▇▁</td></tr></table><br/></div><div class=\"wandb-col\"><h3>Run summary:</h3><br/><table class=\"wandb\"><tr><td>avg_val_MAE</td><td>1.1384</td></tr><tr><td>avg_val_MSE</td><td>1.97617</td></tr><tr><td>avg_val_RMSE</td><td>1.40576</td></tr><tr><td>fold_val_MAE</td><td>1.13504</td></tr><tr><td>fold_val_MSE</td><td>1.96563</td></tr><tr><td>fold_val_RMSE</td><td>1.40201</td></tr></table><br/></div></div>"
      ],
      "text/plain": [
       "<IPython.core.display.HTML object>"
      ]
     },
     "metadata": {},
     "output_type": "display_data"
    },
    {
     "data": {
      "text/html": [
       " View run <strong style=\"color:#cdcd00\">SVD_f100_lr0.01_reg0.05_ep50</strong> at: <a href='https://wandb.ai/jackjack170827-uc-san-diego/cse158-project-rating/runs/xa7dgi60' target=\"_blank\">https://wandb.ai/jackjack170827-uc-san-diego/cse158-project-rating/runs/xa7dgi60</a><br/> View project at: <a href='https://wandb.ai/jackjack170827-uc-san-diego/cse158-project-rating' target=\"_blank\">https://wandb.ai/jackjack170827-uc-san-diego/cse158-project-rating</a><br/>Synced 5 W&B file(s), 0 media file(s), 0 artifact file(s) and 0 other file(s)"
      ],
      "text/plain": [
       "<IPython.core.display.HTML object>"
      ]
     },
     "metadata": {},
     "output_type": "display_data"
    },
    {
     "data": {
      "text/html": [
       "Find logs at: <code>./wandb/run-20241203_014641-xa7dgi60/logs</code>"
      ],
      "text/plain": [
       "<IPython.core.display.HTML object>"
      ]
     },
     "metadata": {},
     "output_type": "display_data"
    },
    {
     "data": {
      "text/html": [
       "Tracking run with wandb version 0.18.7"
      ],
      "text/plain": [
       "<IPython.core.display.HTML object>"
      ]
     },
     "metadata": {},
     "output_type": "display_data"
    },
    {
     "data": {
      "text/html": [
       "Run data is saved locally in <code>/Users/julie/cse158-project/wandb/run-20241203_014806-b28nrdik</code>"
      ],
      "text/plain": [
       "<IPython.core.display.HTML object>"
      ]
     },
     "metadata": {},
     "output_type": "display_data"
    },
    {
     "data": {
      "text/html": [
       "Syncing run <strong><a href='https://wandb.ai/jackjack170827-uc-san-diego/cse158-project-rating/runs/b28nrdik' target=\"_blank\">SVD_f100_lr0.01_reg0.05_ep100</a></strong> to <a href='https://wandb.ai/jackjack170827-uc-san-diego/cse158-project-rating' target=\"_blank\">Weights & Biases</a> (<a href='https://wandb.me/developer-guide' target=\"_blank\">docs</a>)<br/>"
      ],
      "text/plain": [
       "<IPython.core.display.HTML object>"
      ]
     },
     "metadata": {},
     "output_type": "display_data"
    },
    {
     "data": {
      "text/html": [
       " View project at <a href='https://wandb.ai/jackjack170827-uc-san-diego/cse158-project-rating' target=\"_blank\">https://wandb.ai/jackjack170827-uc-san-diego/cse158-project-rating</a>"
      ],
      "text/plain": [
       "<IPython.core.display.HTML object>"
      ]
     },
     "metadata": {},
     "output_type": "display_data"
    },
    {
     "data": {
      "text/html": [
       " View run at <a href='https://wandb.ai/jackjack170827-uc-san-diego/cse158-project-rating/runs/b28nrdik' target=\"_blank\">https://wandb.ai/jackjack170827-uc-san-diego/cse158-project-rating/runs/b28nrdik</a>"
      ],
      "text/plain": [
       "<IPython.core.display.HTML object>"
      ]
     },
     "metadata": {},
     "output_type": "display_data"
    },
    {
     "data": {
      "text/html": [
       "\n",
       "    <style>\n",
       "        .wandb-row {\n",
       "            display: flex;\n",
       "            flex-direction: row;\n",
       "            flex-wrap: wrap;\n",
       "            justify-content: flex-start;\n",
       "            width: 100%;\n",
       "        }\n",
       "        .wandb-col {\n",
       "            display: flex;\n",
       "            flex-direction: column;\n",
       "            flex-basis: 100%;\n",
       "            flex: 1;\n",
       "            padding: 10px;\n",
       "        }\n",
       "    </style>\n",
       "<div class=\"wandb-row\"><div class=\"wandb-col\"><h3>Run history:</h3><br/><table class=\"wandb\"><tr><td>avg_val_MAE</td><td>▁</td></tr><tr><td>avg_val_MSE</td><td>▁</td></tr><tr><td>avg_val_RMSE</td><td>▁</td></tr><tr><td>fold_val_MAE</td><td>▄▁█▄▃</td></tr><tr><td>fold_val_MSE</td><td>▁▂█▆▄</td></tr><tr><td>fold_val_RMSE</td><td>▁▂█▆▄</td></tr></table><br/></div><div class=\"wandb-col\"><h3>Run summary:</h3><br/><table class=\"wandb\"><tr><td>avg_val_MAE</td><td>1.13924</td></tr><tr><td>avg_val_MSE</td><td>1.97812</td></tr><tr><td>avg_val_RMSE</td><td>1.40646</td></tr><tr><td>fold_val_MAE</td><td>1.13853</td></tr><tr><td>fold_val_MSE</td><td>1.97798</td></tr><tr><td>fold_val_RMSE</td><td>1.40641</td></tr></table><br/></div></div>"
      ],
      "text/plain": [
       "<IPython.core.display.HTML object>"
      ]
     },
     "metadata": {},
     "output_type": "display_data"
    },
    {
     "data": {
      "text/html": [
       " View run <strong style=\"color:#cdcd00\">SVD_f100_lr0.01_reg0.05_ep100</strong> at: <a href='https://wandb.ai/jackjack170827-uc-san-diego/cse158-project-rating/runs/b28nrdik' target=\"_blank\">https://wandb.ai/jackjack170827-uc-san-diego/cse158-project-rating/runs/b28nrdik</a><br/> View project at: <a href='https://wandb.ai/jackjack170827-uc-san-diego/cse158-project-rating' target=\"_blank\">https://wandb.ai/jackjack170827-uc-san-diego/cse158-project-rating</a><br/>Synced 5 W&B file(s), 0 media file(s), 0 artifact file(s) and 0 other file(s)"
      ],
      "text/plain": [
       "<IPython.core.display.HTML object>"
      ]
     },
     "metadata": {},
     "output_type": "display_data"
    },
    {
     "data": {
      "text/html": [
       "Find logs at: <code>./wandb/run-20241203_014806-b28nrdik/logs</code>"
      ],
      "text/plain": [
       "<IPython.core.display.HTML object>"
      ]
     },
     "metadata": {},
     "output_type": "display_data"
    },
    {
     "data": {
      "text/html": [
       "Tracking run with wandb version 0.18.7"
      ],
      "text/plain": [
       "<IPython.core.display.HTML object>"
      ]
     },
     "metadata": {},
     "output_type": "display_data"
    },
    {
     "data": {
      "text/html": [
       "Run data is saved locally in <code>/Users/julie/cse158-project/wandb/run-20241203_015047-uq5yjnjn</code>"
      ],
      "text/plain": [
       "<IPython.core.display.HTML object>"
      ]
     },
     "metadata": {},
     "output_type": "display_data"
    },
    {
     "data": {
      "text/html": [
       "Syncing run <strong><a href='https://wandb.ai/jackjack170827-uc-san-diego/cse158-project-rating/runs/uq5yjnjn' target=\"_blank\">SVD_f100_lr0.01_reg0.05_ep200</a></strong> to <a href='https://wandb.ai/jackjack170827-uc-san-diego/cse158-project-rating' target=\"_blank\">Weights & Biases</a> (<a href='https://wandb.me/developer-guide' target=\"_blank\">docs</a>)<br/>"
      ],
      "text/plain": [
       "<IPython.core.display.HTML object>"
      ]
     },
     "metadata": {},
     "output_type": "display_data"
    },
    {
     "data": {
      "text/html": [
       " View project at <a href='https://wandb.ai/jackjack170827-uc-san-diego/cse158-project-rating' target=\"_blank\">https://wandb.ai/jackjack170827-uc-san-diego/cse158-project-rating</a>"
      ],
      "text/plain": [
       "<IPython.core.display.HTML object>"
      ]
     },
     "metadata": {},
     "output_type": "display_data"
    },
    {
     "data": {
      "text/html": [
       " View run at <a href='https://wandb.ai/jackjack170827-uc-san-diego/cse158-project-rating/runs/uq5yjnjn' target=\"_blank\">https://wandb.ai/jackjack170827-uc-san-diego/cse158-project-rating/runs/uq5yjnjn</a>"
      ],
      "text/plain": [
       "<IPython.core.display.HTML object>"
      ]
     },
     "metadata": {},
     "output_type": "display_data"
    },
    {
     "data": {
      "text/html": [
       "\n",
       "    <style>\n",
       "        .wandb-row {\n",
       "            display: flex;\n",
       "            flex-direction: row;\n",
       "            flex-wrap: wrap;\n",
       "            justify-content: flex-start;\n",
       "            width: 100%;\n",
       "        }\n",
       "        .wandb-col {\n",
       "            display: flex;\n",
       "            flex-direction: column;\n",
       "            flex-basis: 100%;\n",
       "            flex: 1;\n",
       "            padding: 10px;\n",
       "        }\n",
       "    </style>\n",
       "<div class=\"wandb-row\"><div class=\"wandb-col\"><h3>Run history:</h3><br/><table class=\"wandb\"><tr><td>avg_val_MAE</td><td>▁</td></tr><tr><td>avg_val_MSE</td><td>▁</td></tr><tr><td>avg_val_RMSE</td><td>▁</td></tr><tr><td>fold_val_MAE</td><td>▄█▁▇▇</td></tr><tr><td>fold_val_MSE</td><td>▃█▁▅▅</td></tr><tr><td>fold_val_RMSE</td><td>▃█▁▅▅</td></tr></table><br/></div><div class=\"wandb-col\"><h3>Run summary:</h3><br/><table class=\"wandb\"><tr><td>avg_val_MAE</td><td>1.14164</td></tr><tr><td>avg_val_MSE</td><td>1.98137</td></tr><tr><td>avg_val_RMSE</td><td>1.40761</td></tr><tr><td>fold_val_MAE</td><td>1.14302</td></tr><tr><td>fold_val_MSE</td><td>1.98448</td></tr><tr><td>fold_val_RMSE</td><td>1.40872</td></tr></table><br/></div></div>"
      ],
      "text/plain": [
       "<IPython.core.display.HTML object>"
      ]
     },
     "metadata": {},
     "output_type": "display_data"
    },
    {
     "data": {
      "text/html": [
       " View run <strong style=\"color:#cdcd00\">SVD_f100_lr0.01_reg0.05_ep200</strong> at: <a href='https://wandb.ai/jackjack170827-uc-san-diego/cse158-project-rating/runs/uq5yjnjn' target=\"_blank\">https://wandb.ai/jackjack170827-uc-san-diego/cse158-project-rating/runs/uq5yjnjn</a><br/> View project at: <a href='https://wandb.ai/jackjack170827-uc-san-diego/cse158-project-rating' target=\"_blank\">https://wandb.ai/jackjack170827-uc-san-diego/cse158-project-rating</a><br/>Synced 5 W&B file(s), 0 media file(s), 0 artifact file(s) and 0 other file(s)"
      ],
      "text/plain": [
       "<IPython.core.display.HTML object>"
      ]
     },
     "metadata": {},
     "output_type": "display_data"
    },
    {
     "data": {
      "text/html": [
       "Find logs at: <code>./wandb/run-20241203_015047-uq5yjnjn/logs</code>"
      ],
      "text/plain": [
       "<IPython.core.display.HTML object>"
      ]
     },
     "metadata": {},
     "output_type": "display_data"
    },
    {
     "data": {
      "text/html": [
       "Tracking run with wandb version 0.18.7"
      ],
      "text/plain": [
       "<IPython.core.display.HTML object>"
      ]
     },
     "metadata": {},
     "output_type": "display_data"
    },
    {
     "data": {
      "text/html": [
       "Run data is saved locally in <code>/Users/julie/cse158-project/wandb/run-20241203_015522-tgl3dgqk</code>"
      ],
      "text/plain": [
       "<IPython.core.display.HTML object>"
      ]
     },
     "metadata": {},
     "output_type": "display_data"
    },
    {
     "data": {
      "text/html": [
       "Syncing run <strong><a href='https://wandb.ai/jackjack170827-uc-san-diego/cse158-project-rating/runs/tgl3dgqk' target=\"_blank\">SVD_f100_lr0.01_reg0.1_ep20</a></strong> to <a href='https://wandb.ai/jackjack170827-uc-san-diego/cse158-project-rating' target=\"_blank\">Weights & Biases</a> (<a href='https://wandb.me/developer-guide' target=\"_blank\">docs</a>)<br/>"
      ],
      "text/plain": [
       "<IPython.core.display.HTML object>"
      ]
     },
     "metadata": {},
     "output_type": "display_data"
    },
    {
     "data": {
      "text/html": [
       " View project at <a href='https://wandb.ai/jackjack170827-uc-san-diego/cse158-project-rating' target=\"_blank\">https://wandb.ai/jackjack170827-uc-san-diego/cse158-project-rating</a>"
      ],
      "text/plain": [
       "<IPython.core.display.HTML object>"
      ]
     },
     "metadata": {},
     "output_type": "display_data"
    },
    {
     "data": {
      "text/html": [
       " View run at <a href='https://wandb.ai/jackjack170827-uc-san-diego/cse158-project-rating/runs/tgl3dgqk' target=\"_blank\">https://wandb.ai/jackjack170827-uc-san-diego/cse158-project-rating/runs/tgl3dgqk</a>"
      ],
      "text/plain": [
       "<IPython.core.display.HTML object>"
      ]
     },
     "metadata": {},
     "output_type": "display_data"
    },
    {
     "data": {
      "text/html": [
       "\n",
       "    <style>\n",
       "        .wandb-row {\n",
       "            display: flex;\n",
       "            flex-direction: row;\n",
       "            flex-wrap: wrap;\n",
       "            justify-content: flex-start;\n",
       "            width: 100%;\n",
       "        }\n",
       "        .wandb-col {\n",
       "            display: flex;\n",
       "            flex-direction: column;\n",
       "            flex-basis: 100%;\n",
       "            flex: 1;\n",
       "            padding: 10px;\n",
       "        }\n",
       "    </style>\n",
       "<div class=\"wandb-row\"><div class=\"wandb-col\"><h3>Run history:</h3><br/><table class=\"wandb\"><tr><td>avg_val_MAE</td><td>▁</td></tr><tr><td>avg_val_MSE</td><td>▁</td></tr><tr><td>avg_val_RMSE</td><td>▁</td></tr><tr><td>fold_val_MAE</td><td>▁▅▆▄█</td></tr><tr><td>fold_val_MSE</td><td>▂▂█▁▅</td></tr><tr><td>fold_val_RMSE</td><td>▂▂█▁▅</td></tr></table><br/></div><div class=\"wandb-col\"><h3>Run summary:</h3><br/><table class=\"wandb\"><tr><td>avg_val_MAE</td><td>1.14875</td></tr><tr><td>avg_val_MSE</td><td>1.98091</td></tr><tr><td>avg_val_RMSE</td><td>1.40745</td></tr><tr><td>fold_val_MAE</td><td>1.14936</td></tr><tr><td>fold_val_MSE</td><td>1.98201</td></tr><tr><td>fold_val_RMSE</td><td>1.40784</td></tr></table><br/></div></div>"
      ],
      "text/plain": [
       "<IPython.core.display.HTML object>"
      ]
     },
     "metadata": {},
     "output_type": "display_data"
    },
    {
     "data": {
      "text/html": [
       " View run <strong style=\"color:#cdcd00\">SVD_f100_lr0.01_reg0.1_ep20</strong> at: <a href='https://wandb.ai/jackjack170827-uc-san-diego/cse158-project-rating/runs/tgl3dgqk' target=\"_blank\">https://wandb.ai/jackjack170827-uc-san-diego/cse158-project-rating/runs/tgl3dgqk</a><br/> View project at: <a href='https://wandb.ai/jackjack170827-uc-san-diego/cse158-project-rating' target=\"_blank\">https://wandb.ai/jackjack170827-uc-san-diego/cse158-project-rating</a><br/>Synced 5 W&B file(s), 0 media file(s), 0 artifact file(s) and 0 other file(s)"
      ],
      "text/plain": [
       "<IPython.core.display.HTML object>"
      ]
     },
     "metadata": {},
     "output_type": "display_data"
    },
    {
     "data": {
      "text/html": [
       "Find logs at: <code>./wandb/run-20241203_015522-tgl3dgqk/logs</code>"
      ],
      "text/plain": [
       "<IPython.core.display.HTML object>"
      ]
     },
     "metadata": {},
     "output_type": "display_data"
    },
    {
     "data": {
      "text/html": [
       "Tracking run with wandb version 0.18.7"
      ],
      "text/plain": [
       "<IPython.core.display.HTML object>"
      ]
     },
     "metadata": {},
     "output_type": "display_data"
    },
    {
     "data": {
      "text/html": [
       "Run data is saved locally in <code>/Users/julie/cse158-project/wandb/run-20241203_015607-ad1w95wp</code>"
      ],
      "text/plain": [
       "<IPython.core.display.HTML object>"
      ]
     },
     "metadata": {},
     "output_type": "display_data"
    },
    {
     "data": {
      "text/html": [
       "Syncing run <strong><a href='https://wandb.ai/jackjack170827-uc-san-diego/cse158-project-rating/runs/ad1w95wp' target=\"_blank\">SVD_f100_lr0.01_reg0.1_ep50</a></strong> to <a href='https://wandb.ai/jackjack170827-uc-san-diego/cse158-project-rating' target=\"_blank\">Weights & Biases</a> (<a href='https://wandb.me/developer-guide' target=\"_blank\">docs</a>)<br/>"
      ],
      "text/plain": [
       "<IPython.core.display.HTML object>"
      ]
     },
     "metadata": {},
     "output_type": "display_data"
    },
    {
     "data": {
      "text/html": [
       " View project at <a href='https://wandb.ai/jackjack170827-uc-san-diego/cse158-project-rating' target=\"_blank\">https://wandb.ai/jackjack170827-uc-san-diego/cse158-project-rating</a>"
      ],
      "text/plain": [
       "<IPython.core.display.HTML object>"
      ]
     },
     "metadata": {},
     "output_type": "display_data"
    },
    {
     "data": {
      "text/html": [
       " View run at <a href='https://wandb.ai/jackjack170827-uc-san-diego/cse158-project-rating/runs/ad1w95wp' target=\"_blank\">https://wandb.ai/jackjack170827-uc-san-diego/cse158-project-rating/runs/ad1w95wp</a>"
      ],
      "text/plain": [
       "<IPython.core.display.HTML object>"
      ]
     },
     "metadata": {},
     "output_type": "display_data"
    },
    {
     "data": {
      "text/html": [
       "\n",
       "    <style>\n",
       "        .wandb-row {\n",
       "            display: flex;\n",
       "            flex-direction: row;\n",
       "            flex-wrap: wrap;\n",
       "            justify-content: flex-start;\n",
       "            width: 100%;\n",
       "        }\n",
       "        .wandb-col {\n",
       "            display: flex;\n",
       "            flex-direction: column;\n",
       "            flex-basis: 100%;\n",
       "            flex: 1;\n",
       "            padding: 10px;\n",
       "        }\n",
       "    </style>\n",
       "<div class=\"wandb-row\"><div class=\"wandb-col\"><h3>Run history:</h3><br/><table class=\"wandb\"><tr><td>avg_val_MAE</td><td>▁</td></tr><tr><td>avg_val_MSE</td><td>▁</td></tr><tr><td>avg_val_RMSE</td><td>▁</td></tr><tr><td>fold_val_MAE</td><td>▄▇▁▃█</td></tr><tr><td>fold_val_MSE</td><td>▃▇▁▃█</td></tr><tr><td>fold_val_RMSE</td><td>▃▇▁▃█</td></tr></table><br/></div><div class=\"wandb-col\"><h3>Run summary:</h3><br/><table class=\"wandb\"><tr><td>avg_val_MAE</td><td>1.14316</td></tr><tr><td>avg_val_MSE</td><td>1.97842</td></tr><tr><td>avg_val_RMSE</td><td>1.40656</td></tr><tr><td>fold_val_MAE</td><td>1.14657</td></tr><tr><td>fold_val_MSE</td><td>1.99148</td></tr><tr><td>fold_val_RMSE</td><td>1.4112</td></tr></table><br/></div></div>"
      ],
      "text/plain": [
       "<IPython.core.display.HTML object>"
      ]
     },
     "metadata": {},
     "output_type": "display_data"
    },
    {
     "data": {
      "text/html": [
       " View run <strong style=\"color:#cdcd00\">SVD_f100_lr0.01_reg0.1_ep50</strong> at: <a href='https://wandb.ai/jackjack170827-uc-san-diego/cse158-project-rating/runs/ad1w95wp' target=\"_blank\">https://wandb.ai/jackjack170827-uc-san-diego/cse158-project-rating/runs/ad1w95wp</a><br/> View project at: <a href='https://wandb.ai/jackjack170827-uc-san-diego/cse158-project-rating' target=\"_blank\">https://wandb.ai/jackjack170827-uc-san-diego/cse158-project-rating</a><br/>Synced 5 W&B file(s), 0 media file(s), 0 artifact file(s) and 0 other file(s)"
      ],
      "text/plain": [
       "<IPython.core.display.HTML object>"
      ]
     },
     "metadata": {},
     "output_type": "display_data"
    },
    {
     "data": {
      "text/html": [
       "Find logs at: <code>./wandb/run-20241203_015607-ad1w95wp/logs</code>"
      ],
      "text/plain": [
       "<IPython.core.display.HTML object>"
      ]
     },
     "metadata": {},
     "output_type": "display_data"
    },
    {
     "data": {
      "text/html": [
       "Tracking run with wandb version 0.18.7"
      ],
      "text/plain": [
       "<IPython.core.display.HTML object>"
      ]
     },
     "metadata": {},
     "output_type": "display_data"
    },
    {
     "data": {
      "text/html": [
       "Run data is saved locally in <code>/Users/julie/cse158-project/wandb/run-20241203_015729-acyaswx8</code>"
      ],
      "text/plain": [
       "<IPython.core.display.HTML object>"
      ]
     },
     "metadata": {},
     "output_type": "display_data"
    },
    {
     "data": {
      "text/html": [
       "Syncing run <strong><a href='https://wandb.ai/jackjack170827-uc-san-diego/cse158-project-rating/runs/acyaswx8' target=\"_blank\">SVD_f100_lr0.01_reg0.1_ep100</a></strong> to <a href='https://wandb.ai/jackjack170827-uc-san-diego/cse158-project-rating' target=\"_blank\">Weights & Biases</a> (<a href='https://wandb.me/developer-guide' target=\"_blank\">docs</a>)<br/>"
      ],
      "text/plain": [
       "<IPython.core.display.HTML object>"
      ]
     },
     "metadata": {},
     "output_type": "display_data"
    },
    {
     "data": {
      "text/html": [
       " View project at <a href='https://wandb.ai/jackjack170827-uc-san-diego/cse158-project-rating' target=\"_blank\">https://wandb.ai/jackjack170827-uc-san-diego/cse158-project-rating</a>"
      ],
      "text/plain": [
       "<IPython.core.display.HTML object>"
      ]
     },
     "metadata": {},
     "output_type": "display_data"
    },
    {
     "data": {
      "text/html": [
       " View run at <a href='https://wandb.ai/jackjack170827-uc-san-diego/cse158-project-rating/runs/acyaswx8' target=\"_blank\">https://wandb.ai/jackjack170827-uc-san-diego/cse158-project-rating/runs/acyaswx8</a>"
      ],
      "text/plain": [
       "<IPython.core.display.HTML object>"
      ]
     },
     "metadata": {},
     "output_type": "display_data"
    },
    {
     "data": {
      "text/html": [
       "\n",
       "    <style>\n",
       "        .wandb-row {\n",
       "            display: flex;\n",
       "            flex-direction: row;\n",
       "            flex-wrap: wrap;\n",
       "            justify-content: flex-start;\n",
       "            width: 100%;\n",
       "        }\n",
       "        .wandb-col {\n",
       "            display: flex;\n",
       "            flex-direction: column;\n",
       "            flex-basis: 100%;\n",
       "            flex: 1;\n",
       "            padding: 10px;\n",
       "        }\n",
       "    </style>\n",
       "<div class=\"wandb-row\"><div class=\"wandb-col\"><h3>Run history:</h3><br/><table class=\"wandb\"><tr><td>avg_val_MAE</td><td>▁</td></tr><tr><td>avg_val_MSE</td><td>▁</td></tr><tr><td>avg_val_RMSE</td><td>▁</td></tr><tr><td>fold_val_MAE</td><td>▆▁▁█▄</td></tr><tr><td>fold_val_MSE</td><td>▆▂▁█▃</td></tr><tr><td>fold_val_RMSE</td><td>▆▂▁█▃</td></tr></table><br/></div><div class=\"wandb-col\"><h3>Run summary:</h3><br/><table class=\"wandb\"><tr><td>avg_val_MAE</td><td>1.14362</td></tr><tr><td>avg_val_MSE</td><td>1.98064</td></tr><tr><td>avg_val_RMSE</td><td>1.40735</td></tr><tr><td>fold_val_MAE</td><td>1.14338</td></tr><tr><td>fold_val_MSE</td><td>1.97803</td></tr><tr><td>fold_val_RMSE</td><td>1.40643</td></tr></table><br/></div></div>"
      ],
      "text/plain": [
       "<IPython.core.display.HTML object>"
      ]
     },
     "metadata": {},
     "output_type": "display_data"
    },
    {
     "data": {
      "text/html": [
       " View run <strong style=\"color:#cdcd00\">SVD_f100_lr0.01_reg0.1_ep100</strong> at: <a href='https://wandb.ai/jackjack170827-uc-san-diego/cse158-project-rating/runs/acyaswx8' target=\"_blank\">https://wandb.ai/jackjack170827-uc-san-diego/cse158-project-rating/runs/acyaswx8</a><br/> View project at: <a href='https://wandb.ai/jackjack170827-uc-san-diego/cse158-project-rating' target=\"_blank\">https://wandb.ai/jackjack170827-uc-san-diego/cse158-project-rating</a><br/>Synced 5 W&B file(s), 0 media file(s), 0 artifact file(s) and 0 other file(s)"
      ],
      "text/plain": [
       "<IPython.core.display.HTML object>"
      ]
     },
     "metadata": {},
     "output_type": "display_data"
    },
    {
     "data": {
      "text/html": [
       "Find logs at: <code>./wandb/run-20241203_015729-acyaswx8/logs</code>"
      ],
      "text/plain": [
       "<IPython.core.display.HTML object>"
      ]
     },
     "metadata": {},
     "output_type": "display_data"
    },
    {
     "data": {
      "text/html": [
       "Tracking run with wandb version 0.18.7"
      ],
      "text/plain": [
       "<IPython.core.display.HTML object>"
      ]
     },
     "metadata": {},
     "output_type": "display_data"
    },
    {
     "data": {
      "text/html": [
       "Run data is saved locally in <code>/Users/julie/cse158-project/wandb/run-20241203_020001-qvogo46p</code>"
      ],
      "text/plain": [
       "<IPython.core.display.HTML object>"
      ]
     },
     "metadata": {},
     "output_type": "display_data"
    },
    {
     "data": {
      "text/html": [
       "Syncing run <strong><a href='https://wandb.ai/jackjack170827-uc-san-diego/cse158-project-rating/runs/qvogo46p' target=\"_blank\">SVD_f100_lr0.01_reg0.1_ep200</a></strong> to <a href='https://wandb.ai/jackjack170827-uc-san-diego/cse158-project-rating' target=\"_blank\">Weights & Biases</a> (<a href='https://wandb.me/developer-guide' target=\"_blank\">docs</a>)<br/>"
      ],
      "text/plain": [
       "<IPython.core.display.HTML object>"
      ]
     },
     "metadata": {},
     "output_type": "display_data"
    },
    {
     "data": {
      "text/html": [
       " View project at <a href='https://wandb.ai/jackjack170827-uc-san-diego/cse158-project-rating' target=\"_blank\">https://wandb.ai/jackjack170827-uc-san-diego/cse158-project-rating</a>"
      ],
      "text/plain": [
       "<IPython.core.display.HTML object>"
      ]
     },
     "metadata": {},
     "output_type": "display_data"
    },
    {
     "data": {
      "text/html": [
       " View run at <a href='https://wandb.ai/jackjack170827-uc-san-diego/cse158-project-rating/runs/qvogo46p' target=\"_blank\">https://wandb.ai/jackjack170827-uc-san-diego/cse158-project-rating/runs/qvogo46p</a>"
      ],
      "text/plain": [
       "<IPython.core.display.HTML object>"
      ]
     },
     "metadata": {},
     "output_type": "display_data"
    },
    {
     "data": {
      "text/html": [
       "\n",
       "    <style>\n",
       "        .wandb-row {\n",
       "            display: flex;\n",
       "            flex-direction: row;\n",
       "            flex-wrap: wrap;\n",
       "            justify-content: flex-start;\n",
       "            width: 100%;\n",
       "        }\n",
       "        .wandb-col {\n",
       "            display: flex;\n",
       "            flex-direction: column;\n",
       "            flex-basis: 100%;\n",
       "            flex: 1;\n",
       "            padding: 10px;\n",
       "        }\n",
       "    </style>\n",
       "<div class=\"wandb-row\"><div class=\"wandb-col\"><h3>Run history:</h3><br/><table class=\"wandb\"><tr><td>avg_val_MAE</td><td>▁</td></tr><tr><td>avg_val_MSE</td><td>▁</td></tr><tr><td>avg_val_RMSE</td><td>▁</td></tr><tr><td>fold_val_MAE</td><td>▃▁███</td></tr><tr><td>fold_val_MSE</td><td>▂▁█▄█</td></tr><tr><td>fold_val_RMSE</td><td>▂▁█▄█</td></tr></table><br/></div><div class=\"wandb-col\"><h3>Run summary:</h3><br/><table class=\"wandb\"><tr><td>avg_val_MAE</td><td>1.14796</td></tr><tr><td>avg_val_MSE</td><td>1.99067</td></tr><tr><td>avg_val_RMSE</td><td>1.41091</td></tr><tr><td>fold_val_MAE</td><td>1.14954</td></tr><tr><td>fold_val_MSE</td><td>1.99679</td></tr><tr><td>fold_val_RMSE</td><td>1.41308</td></tr></table><br/></div></div>"
      ],
      "text/plain": [
       "<IPython.core.display.HTML object>"
      ]
     },
     "metadata": {},
     "output_type": "display_data"
    },
    {
     "data": {
      "text/html": [
       " View run <strong style=\"color:#cdcd00\">SVD_f100_lr0.01_reg0.1_ep200</strong> at: <a href='https://wandb.ai/jackjack170827-uc-san-diego/cse158-project-rating/runs/qvogo46p' target=\"_blank\">https://wandb.ai/jackjack170827-uc-san-diego/cse158-project-rating/runs/qvogo46p</a><br/> View project at: <a href='https://wandb.ai/jackjack170827-uc-san-diego/cse158-project-rating' target=\"_blank\">https://wandb.ai/jackjack170827-uc-san-diego/cse158-project-rating</a><br/>Synced 5 W&B file(s), 0 media file(s), 0 artifact file(s) and 0 other file(s)"
      ],
      "text/plain": [
       "<IPython.core.display.HTML object>"
      ]
     },
     "metadata": {},
     "output_type": "display_data"
    },
    {
     "data": {
      "text/html": [
       "Find logs at: <code>./wandb/run-20241203_020001-qvogo46p/logs</code>"
      ],
      "text/plain": [
       "<IPython.core.display.HTML object>"
      ]
     },
     "metadata": {},
     "output_type": "display_data"
    },
    {
     "data": {
      "text/html": [
       "Tracking run with wandb version 0.18.7"
      ],
      "text/plain": [
       "<IPython.core.display.HTML object>"
      ]
     },
     "metadata": {},
     "output_type": "display_data"
    },
    {
     "data": {
      "text/html": [
       "Run data is saved locally in <code>/Users/julie/cse158-project/wandb/run-20241203_020457-xlrnrk1x</code>"
      ],
      "text/plain": [
       "<IPython.core.display.HTML object>"
      ]
     },
     "metadata": {},
     "output_type": "display_data"
    },
    {
     "data": {
      "text/html": [
       "Syncing run <strong><a href='https://wandb.ai/jackjack170827-uc-san-diego/cse158-project-rating/runs/xlrnrk1x' target=\"_blank\">SVD_f200_lr0.001_reg0.02_ep20</a></strong> to <a href='https://wandb.ai/jackjack170827-uc-san-diego/cse158-project-rating' target=\"_blank\">Weights & Biases</a> (<a href='https://wandb.me/developer-guide' target=\"_blank\">docs</a>)<br/>"
      ],
      "text/plain": [
       "<IPython.core.display.HTML object>"
      ]
     },
     "metadata": {},
     "output_type": "display_data"
    },
    {
     "data": {
      "text/html": [
       " View project at <a href='https://wandb.ai/jackjack170827-uc-san-diego/cse158-project-rating' target=\"_blank\">https://wandb.ai/jackjack170827-uc-san-diego/cse158-project-rating</a>"
      ],
      "text/plain": [
       "<IPython.core.display.HTML object>"
      ]
     },
     "metadata": {},
     "output_type": "display_data"
    },
    {
     "data": {
      "text/html": [
       " View run at <a href='https://wandb.ai/jackjack170827-uc-san-diego/cse158-project-rating/runs/xlrnrk1x' target=\"_blank\">https://wandb.ai/jackjack170827-uc-san-diego/cse158-project-rating/runs/xlrnrk1x</a>"
      ],
      "text/plain": [
       "<IPython.core.display.HTML object>"
      ]
     },
     "metadata": {},
     "output_type": "display_data"
    },
    {
     "data": {
      "text/html": [
       "\n",
       "    <style>\n",
       "        .wandb-row {\n",
       "            display: flex;\n",
       "            flex-direction: row;\n",
       "            flex-wrap: wrap;\n",
       "            justify-content: flex-start;\n",
       "            width: 100%;\n",
       "        }\n",
       "        .wandb-col {\n",
       "            display: flex;\n",
       "            flex-direction: column;\n",
       "            flex-basis: 100%;\n",
       "            flex: 1;\n",
       "            padding: 10px;\n",
       "        }\n",
       "    </style>\n",
       "<div class=\"wandb-row\"><div class=\"wandb-col\"><h3>Run history:</h3><br/><table class=\"wandb\"><tr><td>avg_val_MAE</td><td>▁</td></tr><tr><td>avg_val_MSE</td><td>▁</td></tr><tr><td>avg_val_RMSE</td><td>▁</td></tr><tr><td>fold_val_MAE</td><td>▇▁▃▄█</td></tr><tr><td>fold_val_MSE</td><td>▆▁▃▃█</td></tr><tr><td>fold_val_RMSE</td><td>▆▁▃▃█</td></tr></table><br/></div><div class=\"wandb-col\"><h3>Run summary:</h3><br/><table class=\"wandb\"><tr><td>avg_val_MAE</td><td>1.19484</td></tr><tr><td>avg_val_MSE</td><td>2.07793</td></tr><tr><td>avg_val_RMSE</td><td>1.4415</td></tr><tr><td>fold_val_MAE</td><td>1.19784</td></tr><tr><td>fold_val_MSE</td><td>2.09157</td></tr><tr><td>fold_val_RMSE</td><td>1.44623</td></tr></table><br/></div></div>"
      ],
      "text/plain": [
       "<IPython.core.display.HTML object>"
      ]
     },
     "metadata": {},
     "output_type": "display_data"
    },
    {
     "data": {
      "text/html": [
       " View run <strong style=\"color:#cdcd00\">SVD_f200_lr0.001_reg0.02_ep20</strong> at: <a href='https://wandb.ai/jackjack170827-uc-san-diego/cse158-project-rating/runs/xlrnrk1x' target=\"_blank\">https://wandb.ai/jackjack170827-uc-san-diego/cse158-project-rating/runs/xlrnrk1x</a><br/> View project at: <a href='https://wandb.ai/jackjack170827-uc-san-diego/cse158-project-rating' target=\"_blank\">https://wandb.ai/jackjack170827-uc-san-diego/cse158-project-rating</a><br/>Synced 5 W&B file(s), 0 media file(s), 0 artifact file(s) and 0 other file(s)"
      ],
      "text/plain": [
       "<IPython.core.display.HTML object>"
      ]
     },
     "metadata": {},
     "output_type": "display_data"
    },
    {
     "data": {
      "text/html": [
       "Find logs at: <code>./wandb/run-20241203_020457-xlrnrk1x/logs</code>"
      ],
      "text/plain": [
       "<IPython.core.display.HTML object>"
      ]
     },
     "metadata": {},
     "output_type": "display_data"
    },
    {
     "data": {
      "text/html": [
       "Tracking run with wandb version 0.18.7"
      ],
      "text/plain": [
       "<IPython.core.display.HTML object>"
      ]
     },
     "metadata": {},
     "output_type": "display_data"
    },
    {
     "data": {
      "text/html": [
       "Run data is saved locally in <code>/Users/julie/cse158-project/wandb/run-20241203_020602-417tg85j</code>"
      ],
      "text/plain": [
       "<IPython.core.display.HTML object>"
      ]
     },
     "metadata": {},
     "output_type": "display_data"
    },
    {
     "data": {
      "text/html": [
       "Syncing run <strong><a href='https://wandb.ai/jackjack170827-uc-san-diego/cse158-project-rating/runs/417tg85j' target=\"_blank\">SVD_f200_lr0.001_reg0.02_ep50</a></strong> to <a href='https://wandb.ai/jackjack170827-uc-san-diego/cse158-project-rating' target=\"_blank\">Weights & Biases</a> (<a href='https://wandb.me/developer-guide' target=\"_blank\">docs</a>)<br/>"
      ],
      "text/plain": [
       "<IPython.core.display.HTML object>"
      ]
     },
     "metadata": {},
     "output_type": "display_data"
    },
    {
     "data": {
      "text/html": [
       " View project at <a href='https://wandb.ai/jackjack170827-uc-san-diego/cse158-project-rating' target=\"_blank\">https://wandb.ai/jackjack170827-uc-san-diego/cse158-project-rating</a>"
      ],
      "text/plain": [
       "<IPython.core.display.HTML object>"
      ]
     },
     "metadata": {},
     "output_type": "display_data"
    },
    {
     "data": {
      "text/html": [
       " View run at <a href='https://wandb.ai/jackjack170827-uc-san-diego/cse158-project-rating/runs/417tg85j' target=\"_blank\">https://wandb.ai/jackjack170827-uc-san-diego/cse158-project-rating/runs/417tg85j</a>"
      ],
      "text/plain": [
       "<IPython.core.display.HTML object>"
      ]
     },
     "metadata": {},
     "output_type": "display_data"
    },
    {
     "data": {
      "text/html": [
       "\n",
       "    <style>\n",
       "        .wandb-row {\n",
       "            display: flex;\n",
       "            flex-direction: row;\n",
       "            flex-wrap: wrap;\n",
       "            justify-content: flex-start;\n",
       "            width: 100%;\n",
       "        }\n",
       "        .wandb-col {\n",
       "            display: flex;\n",
       "            flex-direction: column;\n",
       "            flex-basis: 100%;\n",
       "            flex: 1;\n",
       "            padding: 10px;\n",
       "        }\n",
       "    </style>\n",
       "<div class=\"wandb-row\"><div class=\"wandb-col\"><h3>Run history:</h3><br/><table class=\"wandb\"><tr><td>avg_val_MAE</td><td>▁</td></tr><tr><td>avg_val_MSE</td><td>▁</td></tr><tr><td>avg_val_RMSE</td><td>▁</td></tr><tr><td>fold_val_MAE</td><td>█▆▄▆▁</td></tr><tr><td>fold_val_MSE</td><td>█▇▂▆▁</td></tr><tr><td>fold_val_RMSE</td><td>█▇▂▆▁</td></tr></table><br/></div><div class=\"wandb-col\"><h3>Run summary:</h3><br/><table class=\"wandb\"><tr><td>avg_val_MAE</td><td>1.17276</td></tr><tr><td>avg_val_MSE</td><td>2.02771</td></tr><tr><td>avg_val_RMSE</td><td>1.42397</td></tr><tr><td>fold_val_MAE</td><td>1.16978</td></tr><tr><td>fold_val_MSE</td><td>2.01867</td></tr><tr><td>fold_val_RMSE</td><td>1.4208</td></tr></table><br/></div></div>"
      ],
      "text/plain": [
       "<IPython.core.display.HTML object>"
      ]
     },
     "metadata": {},
     "output_type": "display_data"
    },
    {
     "data": {
      "text/html": [
       " View run <strong style=\"color:#cdcd00\">SVD_f200_lr0.001_reg0.02_ep50</strong> at: <a href='https://wandb.ai/jackjack170827-uc-san-diego/cse158-project-rating/runs/417tg85j' target=\"_blank\">https://wandb.ai/jackjack170827-uc-san-diego/cse158-project-rating/runs/417tg85j</a><br/> View project at: <a href='https://wandb.ai/jackjack170827-uc-san-diego/cse158-project-rating' target=\"_blank\">https://wandb.ai/jackjack170827-uc-san-diego/cse158-project-rating</a><br/>Synced 5 W&B file(s), 0 media file(s), 0 artifact file(s) and 0 other file(s)"
      ],
      "text/plain": [
       "<IPython.core.display.HTML object>"
      ]
     },
     "metadata": {},
     "output_type": "display_data"
    },
    {
     "data": {
      "text/html": [
       "Find logs at: <code>./wandb/run-20241203_020602-417tg85j/logs</code>"
      ],
      "text/plain": [
       "<IPython.core.display.HTML object>"
      ]
     },
     "metadata": {},
     "output_type": "display_data"
    },
    {
     "data": {
      "text/html": [
       "Tracking run with wandb version 0.18.7"
      ],
      "text/plain": [
       "<IPython.core.display.HTML object>"
      ]
     },
     "metadata": {},
     "output_type": "display_data"
    },
    {
     "data": {
      "text/html": [
       "Run data is saved locally in <code>/Users/julie/cse158-project/wandb/run-20241203_020808-4634czvn</code>"
      ],
      "text/plain": [
       "<IPython.core.display.HTML object>"
      ]
     },
     "metadata": {},
     "output_type": "display_data"
    },
    {
     "data": {
      "text/html": [
       "Syncing run <strong><a href='https://wandb.ai/jackjack170827-uc-san-diego/cse158-project-rating/runs/4634czvn' target=\"_blank\">SVD_f200_lr0.001_reg0.02_ep100</a></strong> to <a href='https://wandb.ai/jackjack170827-uc-san-diego/cse158-project-rating' target=\"_blank\">Weights & Biases</a> (<a href='https://wandb.me/developer-guide' target=\"_blank\">docs</a>)<br/>"
      ],
      "text/plain": [
       "<IPython.core.display.HTML object>"
      ]
     },
     "metadata": {},
     "output_type": "display_data"
    },
    {
     "data": {
      "text/html": [
       " View project at <a href='https://wandb.ai/jackjack170827-uc-san-diego/cse158-project-rating' target=\"_blank\">https://wandb.ai/jackjack170827-uc-san-diego/cse158-project-rating</a>"
      ],
      "text/plain": [
       "<IPython.core.display.HTML object>"
      ]
     },
     "metadata": {},
     "output_type": "display_data"
    },
    {
     "data": {
      "text/html": [
       " View run at <a href='https://wandb.ai/jackjack170827-uc-san-diego/cse158-project-rating/runs/4634czvn' target=\"_blank\">https://wandb.ai/jackjack170827-uc-san-diego/cse158-project-rating/runs/4634czvn</a>"
      ],
      "text/plain": [
       "<IPython.core.display.HTML object>"
      ]
     },
     "metadata": {},
     "output_type": "display_data"
    },
    {
     "data": {
      "text/html": [
       "\n",
       "    <style>\n",
       "        .wandb-row {\n",
       "            display: flex;\n",
       "            flex-direction: row;\n",
       "            flex-wrap: wrap;\n",
       "            justify-content: flex-start;\n",
       "            width: 100%;\n",
       "        }\n",
       "        .wandb-col {\n",
       "            display: flex;\n",
       "            flex-direction: column;\n",
       "            flex-basis: 100%;\n",
       "            flex: 1;\n",
       "            padding: 10px;\n",
       "        }\n",
       "    </style>\n",
       "<div class=\"wandb-row\"><div class=\"wandb-col\"><h3>Run history:</h3><br/><table class=\"wandb\"><tr><td>avg_val_MAE</td><td>▁</td></tr><tr><td>avg_val_MSE</td><td>▁</td></tr><tr><td>avg_val_RMSE</td><td>▁</td></tr><tr><td>fold_val_MAE</td><td>▇█▆▁█</td></tr><tr><td>fold_val_MSE</td><td>▆▇▅▁█</td></tr><tr><td>fold_val_RMSE</td><td>▆▇▅▁█</td></tr></table><br/></div><div class=\"wandb-col\"><h3>Run summary:</h3><br/><table class=\"wandb\"><tr><td>avg_val_MAE</td><td>1.15755</td></tr><tr><td>avg_val_MSE</td><td>1.99769</td></tr><tr><td>avg_val_RMSE</td><td>1.41339</td></tr><tr><td>fold_val_MAE</td><td>1.15953</td></tr><tr><td>fold_val_MSE</td><td>2.00807</td></tr><tr><td>fold_val_RMSE</td><td>1.41706</td></tr></table><br/></div></div>"
      ],
      "text/plain": [
       "<IPython.core.display.HTML object>"
      ]
     },
     "metadata": {},
     "output_type": "display_data"
    },
    {
     "data": {
      "text/html": [
       " View run <strong style=\"color:#cdcd00\">SVD_f200_lr0.001_reg0.02_ep100</strong> at: <a href='https://wandb.ai/jackjack170827-uc-san-diego/cse158-project-rating/runs/4634czvn' target=\"_blank\">https://wandb.ai/jackjack170827-uc-san-diego/cse158-project-rating/runs/4634czvn</a><br/> View project at: <a href='https://wandb.ai/jackjack170827-uc-san-diego/cse158-project-rating' target=\"_blank\">https://wandb.ai/jackjack170827-uc-san-diego/cse158-project-rating</a><br/>Synced 5 W&B file(s), 0 media file(s), 0 artifact file(s) and 0 other file(s)"
      ],
      "text/plain": [
       "<IPython.core.display.HTML object>"
      ]
     },
     "metadata": {},
     "output_type": "display_data"
    },
    {
     "data": {
      "text/html": [
       "Find logs at: <code>./wandb/run-20241203_020808-4634czvn/logs</code>"
      ],
      "text/plain": [
       "<IPython.core.display.HTML object>"
      ]
     },
     "metadata": {},
     "output_type": "display_data"
    },
    {
     "data": {
      "text/html": [
       "Tracking run with wandb version 0.18.7"
      ],
      "text/plain": [
       "<IPython.core.display.HTML object>"
      ]
     },
     "metadata": {},
     "output_type": "display_data"
    },
    {
     "data": {
      "text/html": [
       "Run data is saved locally in <code>/Users/julie/cse158-project/wandb/run-20241203_021315-tjcaa5lo</code>"
      ],
      "text/plain": [
       "<IPython.core.display.HTML object>"
      ]
     },
     "metadata": {},
     "output_type": "display_data"
    },
    {
     "data": {
      "text/html": [
       "Syncing run <strong><a href='https://wandb.ai/jackjack170827-uc-san-diego/cse158-project-rating/runs/tjcaa5lo' target=\"_blank\">SVD_f200_lr0.001_reg0.02_ep200</a></strong> to <a href='https://wandb.ai/jackjack170827-uc-san-diego/cse158-project-rating' target=\"_blank\">Weights & Biases</a> (<a href='https://wandb.me/developer-guide' target=\"_blank\">docs</a>)<br/>"
      ],
      "text/plain": [
       "<IPython.core.display.HTML object>"
      ]
     },
     "metadata": {},
     "output_type": "display_data"
    },
    {
     "data": {
      "text/html": [
       " View project at <a href='https://wandb.ai/jackjack170827-uc-san-diego/cse158-project-rating' target=\"_blank\">https://wandb.ai/jackjack170827-uc-san-diego/cse158-project-rating</a>"
      ],
      "text/plain": [
       "<IPython.core.display.HTML object>"
      ]
     },
     "metadata": {},
     "output_type": "display_data"
    },
    {
     "data": {
      "text/html": [
       " View run at <a href='https://wandb.ai/jackjack170827-uc-san-diego/cse158-project-rating/runs/tjcaa5lo' target=\"_blank\">https://wandb.ai/jackjack170827-uc-san-diego/cse158-project-rating/runs/tjcaa5lo</a>"
      ],
      "text/plain": [
       "<IPython.core.display.HTML object>"
      ]
     },
     "metadata": {},
     "output_type": "display_data"
    },
    {
     "data": {
      "text/html": [
       "\n",
       "    <style>\n",
       "        .wandb-row {\n",
       "            display: flex;\n",
       "            flex-direction: row;\n",
       "            flex-wrap: wrap;\n",
       "            justify-content: flex-start;\n",
       "            width: 100%;\n",
       "        }\n",
       "        .wandb-col {\n",
       "            display: flex;\n",
       "            flex-direction: column;\n",
       "            flex-basis: 100%;\n",
       "            flex: 1;\n",
       "            padding: 10px;\n",
       "        }\n",
       "    </style>\n",
       "<div class=\"wandb-row\"><div class=\"wandb-col\"><h3>Run history:</h3><br/><table class=\"wandb\"><tr><td>avg_val_MAE</td><td>▁</td></tr><tr><td>avg_val_MSE</td><td>▁</td></tr><tr><td>avg_val_RMSE</td><td>▁</td></tr><tr><td>fold_val_MAE</td><td>▆▃█▄▁</td></tr><tr><td>fold_val_MSE</td><td>▅▁█▃▁</td></tr><tr><td>fold_val_RMSE</td><td>▅▁█▃▁</td></tr></table><br/></div><div class=\"wandb-col\"><h3>Run summary:</h3><br/><table class=\"wandb\"><tr><td>avg_val_MAE</td><td>1.14708</td></tr><tr><td>avg_val_MSE</td><td>1.9832</td></tr><tr><td>avg_val_RMSE</td><td>1.40826</td></tr><tr><td>fold_val_MAE</td><td>1.14405</td></tr><tr><td>fold_val_MSE</td><td>1.97512</td></tr><tr><td>fold_val_RMSE</td><td>1.40539</td></tr></table><br/></div></div>"
      ],
      "text/plain": [
       "<IPython.core.display.HTML object>"
      ]
     },
     "metadata": {},
     "output_type": "display_data"
    },
    {
     "data": {
      "text/html": [
       " View run <strong style=\"color:#cdcd00\">SVD_f200_lr0.001_reg0.02_ep200</strong> at: <a href='https://wandb.ai/jackjack170827-uc-san-diego/cse158-project-rating/runs/tjcaa5lo' target=\"_blank\">https://wandb.ai/jackjack170827-uc-san-diego/cse158-project-rating/runs/tjcaa5lo</a><br/> View project at: <a href='https://wandb.ai/jackjack170827-uc-san-diego/cse158-project-rating' target=\"_blank\">https://wandb.ai/jackjack170827-uc-san-diego/cse158-project-rating</a><br/>Synced 5 W&B file(s), 0 media file(s), 0 artifact file(s) and 0 other file(s)"
      ],
      "text/plain": [
       "<IPython.core.display.HTML object>"
      ]
     },
     "metadata": {},
     "output_type": "display_data"
    },
    {
     "data": {
      "text/html": [
       "Find logs at: <code>./wandb/run-20241203_021315-tjcaa5lo/logs</code>"
      ],
      "text/plain": [
       "<IPython.core.display.HTML object>"
      ]
     },
     "metadata": {},
     "output_type": "display_data"
    },
    {
     "data": {
      "text/html": [
       "Tracking run with wandb version 0.18.7"
      ],
      "text/plain": [
       "<IPython.core.display.HTML object>"
      ]
     },
     "metadata": {},
     "output_type": "display_data"
    },
    {
     "data": {
      "text/html": [
       "Run data is saved locally in <code>/Users/julie/cse158-project/wandb/run-20241203_022040-41n8ccrc</code>"
      ],
      "text/plain": [
       "<IPython.core.display.HTML object>"
      ]
     },
     "metadata": {},
     "output_type": "display_data"
    },
    {
     "data": {
      "text/html": [
       "Syncing run <strong><a href='https://wandb.ai/jackjack170827-uc-san-diego/cse158-project-rating/runs/41n8ccrc' target=\"_blank\">SVD_f200_lr0.001_reg0.05_ep20</a></strong> to <a href='https://wandb.ai/jackjack170827-uc-san-diego/cse158-project-rating' target=\"_blank\">Weights & Biases</a> (<a href='https://wandb.me/developer-guide' target=\"_blank\">docs</a>)<br/>"
      ],
      "text/plain": [
       "<IPython.core.display.HTML object>"
      ]
     },
     "metadata": {},
     "output_type": "display_data"
    },
    {
     "data": {
      "text/html": [
       " View project at <a href='https://wandb.ai/jackjack170827-uc-san-diego/cse158-project-rating' target=\"_blank\">https://wandb.ai/jackjack170827-uc-san-diego/cse158-project-rating</a>"
      ],
      "text/plain": [
       "<IPython.core.display.HTML object>"
      ]
     },
     "metadata": {},
     "output_type": "display_data"
    },
    {
     "data": {
      "text/html": [
       " View run at <a href='https://wandb.ai/jackjack170827-uc-san-diego/cse158-project-rating/runs/41n8ccrc' target=\"_blank\">https://wandb.ai/jackjack170827-uc-san-diego/cse158-project-rating/runs/41n8ccrc</a>"
      ],
      "text/plain": [
       "<IPython.core.display.HTML object>"
      ]
     },
     "metadata": {},
     "output_type": "display_data"
    },
    {
     "data": {
      "text/html": [
       "\n",
       "    <style>\n",
       "        .wandb-row {\n",
       "            display: flex;\n",
       "            flex-direction: row;\n",
       "            flex-wrap: wrap;\n",
       "            justify-content: flex-start;\n",
       "            width: 100%;\n",
       "        }\n",
       "        .wandb-col {\n",
       "            display: flex;\n",
       "            flex-direction: column;\n",
       "            flex-basis: 100%;\n",
       "            flex: 1;\n",
       "            padding: 10px;\n",
       "        }\n",
       "    </style>\n",
       "<div class=\"wandb-row\"><div class=\"wandb-col\"><h3>Run history:</h3><br/><table class=\"wandb\"><tr><td>avg_val_MAE</td><td>▁</td></tr><tr><td>avg_val_MSE</td><td>▁</td></tr><tr><td>avg_val_RMSE</td><td>▁</td></tr><tr><td>fold_val_MAE</td><td>▆▆▁▅█</td></tr><tr><td>fold_val_MSE</td><td>▆▆▁▆█</td></tr><tr><td>fold_val_RMSE</td><td>▆▆▁▆█</td></tr></table><br/></div><div class=\"wandb-col\"><h3>Run summary:</h3><br/><table class=\"wandb\"><tr><td>avg_val_MAE</td><td>1.19589</td></tr><tr><td>avg_val_MSE</td><td>2.07889</td></tr><tr><td>avg_val_RMSE</td><td>1.44183</td></tr><tr><td>fold_val_MAE</td><td>1.19874</td></tr><tr><td>fold_val_MSE</td><td>2.08626</td></tr><tr><td>fold_val_RMSE</td><td>1.44439</td></tr></table><br/></div></div>"
      ],
      "text/plain": [
       "<IPython.core.display.HTML object>"
      ]
     },
     "metadata": {},
     "output_type": "display_data"
    },
    {
     "data": {
      "text/html": [
       " View run <strong style=\"color:#cdcd00\">SVD_f200_lr0.001_reg0.05_ep20</strong> at: <a href='https://wandb.ai/jackjack170827-uc-san-diego/cse158-project-rating/runs/41n8ccrc' target=\"_blank\">https://wandb.ai/jackjack170827-uc-san-diego/cse158-project-rating/runs/41n8ccrc</a><br/> View project at: <a href='https://wandb.ai/jackjack170827-uc-san-diego/cse158-project-rating' target=\"_blank\">https://wandb.ai/jackjack170827-uc-san-diego/cse158-project-rating</a><br/>Synced 5 W&B file(s), 0 media file(s), 0 artifact file(s) and 0 other file(s)"
      ],
      "text/plain": [
       "<IPython.core.display.HTML object>"
      ]
     },
     "metadata": {},
     "output_type": "display_data"
    },
    {
     "data": {
      "text/html": [
       "Find logs at: <code>./wandb/run-20241203_022040-41n8ccrc/logs</code>"
      ],
      "text/plain": [
       "<IPython.core.display.HTML object>"
      ]
     },
     "metadata": {},
     "output_type": "display_data"
    },
    {
     "data": {
      "text/html": [
       "Tracking run with wandb version 0.18.7"
      ],
      "text/plain": [
       "<IPython.core.display.HTML object>"
      ]
     },
     "metadata": {},
     "output_type": "display_data"
    },
    {
     "data": {
      "text/html": [
       "Run data is saved locally in <code>/Users/julie/cse158-project/wandb/run-20241203_022144-fr9xkqkl</code>"
      ],
      "text/plain": [
       "<IPython.core.display.HTML object>"
      ]
     },
     "metadata": {},
     "output_type": "display_data"
    },
    {
     "data": {
      "text/html": [
       "Syncing run <strong><a href='https://wandb.ai/jackjack170827-uc-san-diego/cse158-project-rating/runs/fr9xkqkl' target=\"_blank\">SVD_f200_lr0.001_reg0.05_ep50</a></strong> to <a href='https://wandb.ai/jackjack170827-uc-san-diego/cse158-project-rating' target=\"_blank\">Weights & Biases</a> (<a href='https://wandb.me/developer-guide' target=\"_blank\">docs</a>)<br/>"
      ],
      "text/plain": [
       "<IPython.core.display.HTML object>"
      ]
     },
     "metadata": {},
     "output_type": "display_data"
    },
    {
     "data": {
      "text/html": [
       " View project at <a href='https://wandb.ai/jackjack170827-uc-san-diego/cse158-project-rating' target=\"_blank\">https://wandb.ai/jackjack170827-uc-san-diego/cse158-project-rating</a>"
      ],
      "text/plain": [
       "<IPython.core.display.HTML object>"
      ]
     },
     "metadata": {},
     "output_type": "display_data"
    },
    {
     "data": {
      "text/html": [
       " View run at <a href='https://wandb.ai/jackjack170827-uc-san-diego/cse158-project-rating/runs/fr9xkqkl' target=\"_blank\">https://wandb.ai/jackjack170827-uc-san-diego/cse158-project-rating/runs/fr9xkqkl</a>"
      ],
      "text/plain": [
       "<IPython.core.display.HTML object>"
      ]
     },
     "metadata": {},
     "output_type": "display_data"
    },
    {
     "data": {
      "text/html": [
       "\n",
       "    <style>\n",
       "        .wandb-row {\n",
       "            display: flex;\n",
       "            flex-direction: row;\n",
       "            flex-wrap: wrap;\n",
       "            justify-content: flex-start;\n",
       "            width: 100%;\n",
       "        }\n",
       "        .wandb-col {\n",
       "            display: flex;\n",
       "            flex-direction: column;\n",
       "            flex-basis: 100%;\n",
       "            flex: 1;\n",
       "            padding: 10px;\n",
       "        }\n",
       "    </style>\n",
       "<div class=\"wandb-row\"><div class=\"wandb-col\"><h3>Run history:</h3><br/><table class=\"wandb\"><tr><td>avg_val_MAE</td><td>▁</td></tr><tr><td>avg_val_MSE</td><td>▁</td></tr><tr><td>avg_val_RMSE</td><td>▁</td></tr><tr><td>fold_val_MAE</td><td>▆█▆▅▁</td></tr><tr><td>fold_val_MSE</td><td>██▆▆▁</td></tr><tr><td>fold_val_RMSE</td><td>██▆▆▁</td></tr></table><br/></div><div class=\"wandb-col\"><h3>Run summary:</h3><br/><table class=\"wandb\"><tr><td>avg_val_MAE</td><td>1.17411</td></tr><tr><td>avg_val_MSE</td><td>2.02821</td></tr><tr><td>avg_val_RMSE</td><td>1.42415</td></tr><tr><td>fold_val_MAE</td><td>1.17022</td></tr><tr><td>fold_val_MSE</td><td>2.01114</td></tr><tr><td>fold_val_RMSE</td><td>1.41815</td></tr></table><br/></div></div>"
      ],
      "text/plain": [
       "<IPython.core.display.HTML object>"
      ]
     },
     "metadata": {},
     "output_type": "display_data"
    },
    {
     "data": {
      "text/html": [
       " View run <strong style=\"color:#cdcd00\">SVD_f200_lr0.001_reg0.05_ep50</strong> at: <a href='https://wandb.ai/jackjack170827-uc-san-diego/cse158-project-rating/runs/fr9xkqkl' target=\"_blank\">https://wandb.ai/jackjack170827-uc-san-diego/cse158-project-rating/runs/fr9xkqkl</a><br/> View project at: <a href='https://wandb.ai/jackjack170827-uc-san-diego/cse158-project-rating' target=\"_blank\">https://wandb.ai/jackjack170827-uc-san-diego/cse158-project-rating</a><br/>Synced 5 W&B file(s), 0 media file(s), 0 artifact file(s) and 0 other file(s)"
      ],
      "text/plain": [
       "<IPython.core.display.HTML object>"
      ]
     },
     "metadata": {},
     "output_type": "display_data"
    },
    {
     "data": {
      "text/html": [
       "Find logs at: <code>./wandb/run-20241203_022144-fr9xkqkl/logs</code>"
      ],
      "text/plain": [
       "<IPython.core.display.HTML object>"
      ]
     },
     "metadata": {},
     "output_type": "display_data"
    },
    {
     "data": {
      "text/html": [
       "Tracking run with wandb version 0.18.7"
      ],
      "text/plain": [
       "<IPython.core.display.HTML object>"
      ]
     },
     "metadata": {},
     "output_type": "display_data"
    },
    {
     "data": {
      "text/html": [
       "Run data is saved locally in <code>/Users/julie/cse158-project/wandb/run-20241203_022343-m57ztfzf</code>"
      ],
      "text/plain": [
       "<IPython.core.display.HTML object>"
      ]
     },
     "metadata": {},
     "output_type": "display_data"
    },
    {
     "data": {
      "text/html": [
       "Syncing run <strong><a href='https://wandb.ai/jackjack170827-uc-san-diego/cse158-project-rating/runs/m57ztfzf' target=\"_blank\">SVD_f200_lr0.001_reg0.05_ep100</a></strong> to <a href='https://wandb.ai/jackjack170827-uc-san-diego/cse158-project-rating' target=\"_blank\">Weights & Biases</a> (<a href='https://wandb.me/developer-guide' target=\"_blank\">docs</a>)<br/>"
      ],
      "text/plain": [
       "<IPython.core.display.HTML object>"
      ]
     },
     "metadata": {},
     "output_type": "display_data"
    },
    {
     "data": {
      "text/html": [
       " View project at <a href='https://wandb.ai/jackjack170827-uc-san-diego/cse158-project-rating' target=\"_blank\">https://wandb.ai/jackjack170827-uc-san-diego/cse158-project-rating</a>"
      ],
      "text/plain": [
       "<IPython.core.display.HTML object>"
      ]
     },
     "metadata": {},
     "output_type": "display_data"
    },
    {
     "data": {
      "text/html": [
       " View run at <a href='https://wandb.ai/jackjack170827-uc-san-diego/cse158-project-rating/runs/m57ztfzf' target=\"_blank\">https://wandb.ai/jackjack170827-uc-san-diego/cse158-project-rating/runs/m57ztfzf</a>"
      ],
      "text/plain": [
       "<IPython.core.display.HTML object>"
      ]
     },
     "metadata": {},
     "output_type": "display_data"
    },
    {
     "data": {
      "text/html": [
       "\n",
       "    <style>\n",
       "        .wandb-row {\n",
       "            display: flex;\n",
       "            flex-direction: row;\n",
       "            flex-wrap: wrap;\n",
       "            justify-content: flex-start;\n",
       "            width: 100%;\n",
       "        }\n",
       "        .wandb-col {\n",
       "            display: flex;\n",
       "            flex-direction: column;\n",
       "            flex-basis: 100%;\n",
       "            flex: 1;\n",
       "            padding: 10px;\n",
       "        }\n",
       "    </style>\n",
       "<div class=\"wandb-row\"><div class=\"wandb-col\"><h3>Run history:</h3><br/><table class=\"wandb\"><tr><td>avg_val_MAE</td><td>▁</td></tr><tr><td>avg_val_MSE</td><td>▁</td></tr><tr><td>avg_val_RMSE</td><td>▁</td></tr><tr><td>fold_val_MAE</td><td>█▂▅▁▇</td></tr><tr><td>fold_val_MSE</td><td>█▃▆▁█</td></tr><tr><td>fold_val_RMSE</td><td>█▃▆▁█</td></tr></table><br/></div><div class=\"wandb-col\"><h3>Run summary:</h3><br/><table class=\"wandb\"><tr><td>avg_val_MAE</td><td>1.1597</td></tr><tr><td>avg_val_MSE</td><td>1.99934</td></tr><tr><td>avg_val_RMSE</td><td>1.41398</td></tr><tr><td>fold_val_MAE</td><td>1.16117</td></tr><tr><td>fold_val_MSE</td><td>2.00478</td></tr><tr><td>fold_val_RMSE</td><td>1.4159</td></tr></table><br/></div></div>"
      ],
      "text/plain": [
       "<IPython.core.display.HTML object>"
      ]
     },
     "metadata": {},
     "output_type": "display_data"
    },
    {
     "data": {
      "text/html": [
       " View run <strong style=\"color:#cdcd00\">SVD_f200_lr0.001_reg0.05_ep100</strong> at: <a href='https://wandb.ai/jackjack170827-uc-san-diego/cse158-project-rating/runs/m57ztfzf' target=\"_blank\">https://wandb.ai/jackjack170827-uc-san-diego/cse158-project-rating/runs/m57ztfzf</a><br/> View project at: <a href='https://wandb.ai/jackjack170827-uc-san-diego/cse158-project-rating' target=\"_blank\">https://wandb.ai/jackjack170827-uc-san-diego/cse158-project-rating</a><br/>Synced 5 W&B file(s), 0 media file(s), 0 artifact file(s) and 0 other file(s)"
      ],
      "text/plain": [
       "<IPython.core.display.HTML object>"
      ]
     },
     "metadata": {},
     "output_type": "display_data"
    },
    {
     "data": {
      "text/html": [
       "Find logs at: <code>./wandb/run-20241203_022343-m57ztfzf/logs</code>"
      ],
      "text/plain": [
       "<IPython.core.display.HTML object>"
      ]
     },
     "metadata": {},
     "output_type": "display_data"
    },
    {
     "data": {
      "text/html": [
       "Tracking run with wandb version 0.18.7"
      ],
      "text/plain": [
       "<IPython.core.display.HTML object>"
      ]
     },
     "metadata": {},
     "output_type": "display_data"
    },
    {
     "data": {
      "text/html": [
       "Run data is saved locally in <code>/Users/julie/cse158-project/wandb/run-20241203_022710-bv0vcdqs</code>"
      ],
      "text/plain": [
       "<IPython.core.display.HTML object>"
      ]
     },
     "metadata": {},
     "output_type": "display_data"
    },
    {
     "data": {
      "text/html": [
       "Syncing run <strong><a href='https://wandb.ai/jackjack170827-uc-san-diego/cse158-project-rating/runs/bv0vcdqs' target=\"_blank\">SVD_f200_lr0.001_reg0.05_ep200</a></strong> to <a href='https://wandb.ai/jackjack170827-uc-san-diego/cse158-project-rating' target=\"_blank\">Weights & Biases</a> (<a href='https://wandb.me/developer-guide' target=\"_blank\">docs</a>)<br/>"
      ],
      "text/plain": [
       "<IPython.core.display.HTML object>"
      ]
     },
     "metadata": {},
     "output_type": "display_data"
    },
    {
     "data": {
      "text/html": [
       " View project at <a href='https://wandb.ai/jackjack170827-uc-san-diego/cse158-project-rating' target=\"_blank\">https://wandb.ai/jackjack170827-uc-san-diego/cse158-project-rating</a>"
      ],
      "text/plain": [
       "<IPython.core.display.HTML object>"
      ]
     },
     "metadata": {},
     "output_type": "display_data"
    },
    {
     "data": {
      "text/html": [
       " View run at <a href='https://wandb.ai/jackjack170827-uc-san-diego/cse158-project-rating/runs/bv0vcdqs' target=\"_blank\">https://wandb.ai/jackjack170827-uc-san-diego/cse158-project-rating/runs/bv0vcdqs</a>"
      ],
      "text/plain": [
       "<IPython.core.display.HTML object>"
      ]
     },
     "metadata": {},
     "output_type": "display_data"
    },
    {
     "data": {
      "text/html": [
       "\n",
       "    <style>\n",
       "        .wandb-row {\n",
       "            display: flex;\n",
       "            flex-direction: row;\n",
       "            flex-wrap: wrap;\n",
       "            justify-content: flex-start;\n",
       "            width: 100%;\n",
       "        }\n",
       "        .wandb-col {\n",
       "            display: flex;\n",
       "            flex-direction: column;\n",
       "            flex-basis: 100%;\n",
       "            flex: 1;\n",
       "            padding: 10px;\n",
       "        }\n",
       "    </style>\n",
       "<div class=\"wandb-row\"><div class=\"wandb-col\"><h3>Run history:</h3><br/><table class=\"wandb\"><tr><td>avg_val_MAE</td><td>▁</td></tr><tr><td>avg_val_MSE</td><td>▁</td></tr><tr><td>avg_val_RMSE</td><td>▁</td></tr><tr><td>fold_val_MAE</td><td>▄▁▁█▁</td></tr><tr><td>fold_val_MSE</td><td>▄▁▂█▁</td></tr><tr><td>fold_val_RMSE</td><td>▄▁▂█▁</td></tr></table><br/></div><div class=\"wandb-col\"><h3>Run summary:</h3><br/><table class=\"wandb\"><tr><td>avg_val_MAE</td><td>1.14933</td></tr><tr><td>avg_val_MSE</td><td>1.98263</td></tr><tr><td>avg_val_RMSE</td><td>1.40806</td></tr><tr><td>fold_val_MAE</td><td>1.14737</td></tr><tr><td>fold_val_MSE</td><td>1.97598</td></tr><tr><td>fold_val_RMSE</td><td>1.4057</td></tr></table><br/></div></div>"
      ],
      "text/plain": [
       "<IPython.core.display.HTML object>"
      ]
     },
     "metadata": {},
     "output_type": "display_data"
    },
    {
     "data": {
      "text/html": [
       " View run <strong style=\"color:#cdcd00\">SVD_f200_lr0.001_reg0.05_ep200</strong> at: <a href='https://wandb.ai/jackjack170827-uc-san-diego/cse158-project-rating/runs/bv0vcdqs' target=\"_blank\">https://wandb.ai/jackjack170827-uc-san-diego/cse158-project-rating/runs/bv0vcdqs</a><br/> View project at: <a href='https://wandb.ai/jackjack170827-uc-san-diego/cse158-project-rating' target=\"_blank\">https://wandb.ai/jackjack170827-uc-san-diego/cse158-project-rating</a><br/>Synced 5 W&B file(s), 0 media file(s), 0 artifact file(s) and 0 other file(s)"
      ],
      "text/plain": [
       "<IPython.core.display.HTML object>"
      ]
     },
     "metadata": {},
     "output_type": "display_data"
    },
    {
     "data": {
      "text/html": [
       "Find logs at: <code>./wandb/run-20241203_022710-bv0vcdqs/logs</code>"
      ],
      "text/plain": [
       "<IPython.core.display.HTML object>"
      ]
     },
     "metadata": {},
     "output_type": "display_data"
    },
    {
     "data": {
      "text/html": [
       "Tracking run with wandb version 0.18.7"
      ],
      "text/plain": [
       "<IPython.core.display.HTML object>"
      ]
     },
     "metadata": {},
     "output_type": "display_data"
    },
    {
     "data": {
      "text/html": [
       "Run data is saved locally in <code>/Users/julie/cse158-project/wandb/run-20241203_023326-5mdeqic1</code>"
      ],
      "text/plain": [
       "<IPython.core.display.HTML object>"
      ]
     },
     "metadata": {},
     "output_type": "display_data"
    },
    {
     "data": {
      "text/html": [
       "Syncing run <strong><a href='https://wandb.ai/jackjack170827-uc-san-diego/cse158-project-rating/runs/5mdeqic1' target=\"_blank\">SVD_f200_lr0.001_reg0.1_ep20</a></strong> to <a href='https://wandb.ai/jackjack170827-uc-san-diego/cse158-project-rating' target=\"_blank\">Weights & Biases</a> (<a href='https://wandb.me/developer-guide' target=\"_blank\">docs</a>)<br/>"
      ],
      "text/plain": [
       "<IPython.core.display.HTML object>"
      ]
     },
     "metadata": {},
     "output_type": "display_data"
    },
    {
     "data": {
      "text/html": [
       " View project at <a href='https://wandb.ai/jackjack170827-uc-san-diego/cse158-project-rating' target=\"_blank\">https://wandb.ai/jackjack170827-uc-san-diego/cse158-project-rating</a>"
      ],
      "text/plain": [
       "<IPython.core.display.HTML object>"
      ]
     },
     "metadata": {},
     "output_type": "display_data"
    },
    {
     "data": {
      "text/html": [
       " View run at <a href='https://wandb.ai/jackjack170827-uc-san-diego/cse158-project-rating/runs/5mdeqic1' target=\"_blank\">https://wandb.ai/jackjack170827-uc-san-diego/cse158-project-rating/runs/5mdeqic1</a>"
      ],
      "text/plain": [
       "<IPython.core.display.HTML object>"
      ]
     },
     "metadata": {},
     "output_type": "display_data"
    },
    {
     "data": {
      "text/html": [
       "\n",
       "    <style>\n",
       "        .wandb-row {\n",
       "            display: flex;\n",
       "            flex-direction: row;\n",
       "            flex-wrap: wrap;\n",
       "            justify-content: flex-start;\n",
       "            width: 100%;\n",
       "        }\n",
       "        .wandb-col {\n",
       "            display: flex;\n",
       "            flex-direction: column;\n",
       "            flex-basis: 100%;\n",
       "            flex: 1;\n",
       "            padding: 10px;\n",
       "        }\n",
       "    </style>\n",
       "<div class=\"wandb-row\"><div class=\"wandb-col\"><h3>Run history:</h3><br/><table class=\"wandb\"><tr><td>avg_val_MAE</td><td>▁</td></tr><tr><td>avg_val_MSE</td><td>▁</td></tr><tr><td>avg_val_RMSE</td><td>▁</td></tr><tr><td>fold_val_MAE</td><td>█▁▆▃▁</td></tr><tr><td>fold_val_MSE</td><td>█▁▆▄▁</td></tr><tr><td>fold_val_RMSE</td><td>█▁▆▄▁</td></tr></table><br/></div><div class=\"wandb-col\"><h3>Run summary:</h3><br/><table class=\"wandb\"><tr><td>avg_val_MAE</td><td>1.19714</td></tr><tr><td>avg_val_MSE</td><td>2.07979</td></tr><tr><td>avg_val_RMSE</td><td>1.44214</td></tr><tr><td>fold_val_MAE</td><td>1.19438</td></tr><tr><td>fold_val_MSE</td><td>2.06867</td></tr><tr><td>fold_val_RMSE</td><td>1.43829</td></tr></table><br/></div></div>"
      ],
      "text/plain": [
       "<IPython.core.display.HTML object>"
      ]
     },
     "metadata": {},
     "output_type": "display_data"
    },
    {
     "data": {
      "text/html": [
       " View run <strong style=\"color:#cdcd00\">SVD_f200_lr0.001_reg0.1_ep20</strong> at: <a href='https://wandb.ai/jackjack170827-uc-san-diego/cse158-project-rating/runs/5mdeqic1' target=\"_blank\">https://wandb.ai/jackjack170827-uc-san-diego/cse158-project-rating/runs/5mdeqic1</a><br/> View project at: <a href='https://wandb.ai/jackjack170827-uc-san-diego/cse158-project-rating' target=\"_blank\">https://wandb.ai/jackjack170827-uc-san-diego/cse158-project-rating</a><br/>Synced 5 W&B file(s), 0 media file(s), 0 artifact file(s) and 0 other file(s)"
      ],
      "text/plain": [
       "<IPython.core.display.HTML object>"
      ]
     },
     "metadata": {},
     "output_type": "display_data"
    },
    {
     "data": {
      "text/html": [
       "Find logs at: <code>./wandb/run-20241203_023326-5mdeqic1/logs</code>"
      ],
      "text/plain": [
       "<IPython.core.display.HTML object>"
      ]
     },
     "metadata": {},
     "output_type": "display_data"
    },
    {
     "data": {
      "text/html": [
       "Tracking run with wandb version 0.18.7"
      ],
      "text/plain": [
       "<IPython.core.display.HTML object>"
      ]
     },
     "metadata": {},
     "output_type": "display_data"
    },
    {
     "data": {
      "text/html": [
       "Run data is saved locally in <code>/Users/julie/cse158-project/wandb/run-20241203_023430-fp4hj5aq</code>"
      ],
      "text/plain": [
       "<IPython.core.display.HTML object>"
      ]
     },
     "metadata": {},
     "output_type": "display_data"
    },
    {
     "data": {
      "text/html": [
       "Syncing run <strong><a href='https://wandb.ai/jackjack170827-uc-san-diego/cse158-project-rating/runs/fp4hj5aq' target=\"_blank\">SVD_f200_lr0.001_reg0.1_ep50</a></strong> to <a href='https://wandb.ai/jackjack170827-uc-san-diego/cse158-project-rating' target=\"_blank\">Weights & Biases</a> (<a href='https://wandb.me/developer-guide' target=\"_blank\">docs</a>)<br/>"
      ],
      "text/plain": [
       "<IPython.core.display.HTML object>"
      ]
     },
     "metadata": {},
     "output_type": "display_data"
    },
    {
     "data": {
      "text/html": [
       " View project at <a href='https://wandb.ai/jackjack170827-uc-san-diego/cse158-project-rating' target=\"_blank\">https://wandb.ai/jackjack170827-uc-san-diego/cse158-project-rating</a>"
      ],
      "text/plain": [
       "<IPython.core.display.HTML object>"
      ]
     },
     "metadata": {},
     "output_type": "display_data"
    },
    {
     "data": {
      "text/html": [
       " View run at <a href='https://wandb.ai/jackjack170827-uc-san-diego/cse158-project-rating/runs/fp4hj5aq' target=\"_blank\">https://wandb.ai/jackjack170827-uc-san-diego/cse158-project-rating/runs/fp4hj5aq</a>"
      ],
      "text/plain": [
       "<IPython.core.display.HTML object>"
      ]
     },
     "metadata": {},
     "output_type": "display_data"
    },
    {
     "data": {
      "text/html": [
       "\n",
       "    <style>\n",
       "        .wandb-row {\n",
       "            display: flex;\n",
       "            flex-direction: row;\n",
       "            flex-wrap: wrap;\n",
       "            justify-content: flex-start;\n",
       "            width: 100%;\n",
       "        }\n",
       "        .wandb-col {\n",
       "            display: flex;\n",
       "            flex-direction: column;\n",
       "            flex-basis: 100%;\n",
       "            flex: 1;\n",
       "            padding: 10px;\n",
       "        }\n",
       "    </style>\n",
       "<div class=\"wandb-row\"><div class=\"wandb-col\"><h3>Run history:</h3><br/><table class=\"wandb\"><tr><td>avg_val_MAE</td><td>▁</td></tr><tr><td>avg_val_MSE</td><td>▁</td></tr><tr><td>avg_val_RMSE</td><td>▁</td></tr><tr><td>fold_val_MAE</td><td>▄▁█▅▅</td></tr><tr><td>fold_val_MSE</td><td>▆▁█▄▄</td></tr><tr><td>fold_val_RMSE</td><td>▆▁█▄▄</td></tr></table><br/></div><div class=\"wandb-col\"><h3>Run summary:</h3><br/><table class=\"wandb\"><tr><td>avg_val_MAE</td><td>1.17663</td></tr><tr><td>avg_val_MSE</td><td>2.03046</td></tr><tr><td>avg_val_RMSE</td><td>1.42494</td></tr><tr><td>fold_val_MAE</td><td>1.1768</td></tr><tr><td>fold_val_MSE</td><td>2.03012</td></tr><tr><td>fold_val_RMSE</td><td>1.42482</td></tr></table><br/></div></div>"
      ],
      "text/plain": [
       "<IPython.core.display.HTML object>"
      ]
     },
     "metadata": {},
     "output_type": "display_data"
    },
    {
     "data": {
      "text/html": [
       " View run <strong style=\"color:#cdcd00\">SVD_f200_lr0.001_reg0.1_ep50</strong> at: <a href='https://wandb.ai/jackjack170827-uc-san-diego/cse158-project-rating/runs/fp4hj5aq' target=\"_blank\">https://wandb.ai/jackjack170827-uc-san-diego/cse158-project-rating/runs/fp4hj5aq</a><br/> View project at: <a href='https://wandb.ai/jackjack170827-uc-san-diego/cse158-project-rating' target=\"_blank\">https://wandb.ai/jackjack170827-uc-san-diego/cse158-project-rating</a><br/>Synced 5 W&B file(s), 0 media file(s), 0 artifact file(s) and 0 other file(s)"
      ],
      "text/plain": [
       "<IPython.core.display.HTML object>"
      ]
     },
     "metadata": {},
     "output_type": "display_data"
    },
    {
     "data": {
      "text/html": [
       "Find logs at: <code>./wandb/run-20241203_023430-fp4hj5aq/logs</code>"
      ],
      "text/plain": [
       "<IPython.core.display.HTML object>"
      ]
     },
     "metadata": {},
     "output_type": "display_data"
    },
    {
     "data": {
      "text/html": [
       "Tracking run with wandb version 0.18.7"
      ],
      "text/plain": [
       "<IPython.core.display.HTML object>"
      ]
     },
     "metadata": {},
     "output_type": "display_data"
    },
    {
     "data": {
      "text/html": [
       "Run data is saved locally in <code>/Users/julie/cse158-project/wandb/run-20241203_023627-w6o2sxb8</code>"
      ],
      "text/plain": [
       "<IPython.core.display.HTML object>"
      ]
     },
     "metadata": {},
     "output_type": "display_data"
    },
    {
     "data": {
      "text/html": [
       "Syncing run <strong><a href='https://wandb.ai/jackjack170827-uc-san-diego/cse158-project-rating/runs/w6o2sxb8' target=\"_blank\">SVD_f200_lr0.001_reg0.1_ep100</a></strong> to <a href='https://wandb.ai/jackjack170827-uc-san-diego/cse158-project-rating' target=\"_blank\">Weights & Biases</a> (<a href='https://wandb.me/developer-guide' target=\"_blank\">docs</a>)<br/>"
      ],
      "text/plain": [
       "<IPython.core.display.HTML object>"
      ]
     },
     "metadata": {},
     "output_type": "display_data"
    },
    {
     "data": {
      "text/html": [
       " View project at <a href='https://wandb.ai/jackjack170827-uc-san-diego/cse158-project-rating' target=\"_blank\">https://wandb.ai/jackjack170827-uc-san-diego/cse158-project-rating</a>"
      ],
      "text/plain": [
       "<IPython.core.display.HTML object>"
      ]
     },
     "metadata": {},
     "output_type": "display_data"
    },
    {
     "data": {
      "text/html": [
       " View run at <a href='https://wandb.ai/jackjack170827-uc-san-diego/cse158-project-rating/runs/w6o2sxb8' target=\"_blank\">https://wandb.ai/jackjack170827-uc-san-diego/cse158-project-rating/runs/w6o2sxb8</a>"
      ],
      "text/plain": [
       "<IPython.core.display.HTML object>"
      ]
     },
     "metadata": {},
     "output_type": "display_data"
    },
    {
     "data": {
      "text/html": [
       "\n",
       "    <style>\n",
       "        .wandb-row {\n",
       "            display: flex;\n",
       "            flex-direction: row;\n",
       "            flex-wrap: wrap;\n",
       "            justify-content: flex-start;\n",
       "            width: 100%;\n",
       "        }\n",
       "        .wandb-col {\n",
       "            display: flex;\n",
       "            flex-direction: column;\n",
       "            flex-basis: 100%;\n",
       "            flex: 1;\n",
       "            padding: 10px;\n",
       "        }\n",
       "    </style>\n",
       "<div class=\"wandb-row\"><div class=\"wandb-col\"><h3>Run history:</h3><br/><table class=\"wandb\"><tr><td>avg_val_MAE</td><td>▁</td></tr><tr><td>avg_val_MSE</td><td>▁</td></tr><tr><td>avg_val_RMSE</td><td>▁</td></tr><tr><td>fold_val_MAE</td><td>▁▆▅█▇</td></tr><tr><td>fold_val_MSE</td><td>▁▆▆█▇</td></tr><tr><td>fold_val_RMSE</td><td>▁▆▆█▇</td></tr></table><br/></div><div class=\"wandb-col\"><h3>Run summary:</h3><br/><table class=\"wandb\"><tr><td>avg_val_MAE</td><td>1.16303</td></tr><tr><td>avg_val_MSE</td><td>2.00099</td></tr><tr><td>avg_val_RMSE</td><td>1.41456</td></tr><tr><td>fold_val_MAE</td><td>1.16418</td></tr><tr><td>fold_val_MSE</td><td>2.00715</td></tr><tr><td>fold_val_RMSE</td><td>1.41674</td></tr></table><br/></div></div>"
      ],
      "text/plain": [
       "<IPython.core.display.HTML object>"
      ]
     },
     "metadata": {},
     "output_type": "display_data"
    },
    {
     "data": {
      "text/html": [
       " View run <strong style=\"color:#cdcd00\">SVD_f200_lr0.001_reg0.1_ep100</strong> at: <a href='https://wandb.ai/jackjack170827-uc-san-diego/cse158-project-rating/runs/w6o2sxb8' target=\"_blank\">https://wandb.ai/jackjack170827-uc-san-diego/cse158-project-rating/runs/w6o2sxb8</a><br/> View project at: <a href='https://wandb.ai/jackjack170827-uc-san-diego/cse158-project-rating' target=\"_blank\">https://wandb.ai/jackjack170827-uc-san-diego/cse158-project-rating</a><br/>Synced 5 W&B file(s), 0 media file(s), 0 artifact file(s) and 0 other file(s)"
      ],
      "text/plain": [
       "<IPython.core.display.HTML object>"
      ]
     },
     "metadata": {},
     "output_type": "display_data"
    },
    {
     "data": {
      "text/html": [
       "Find logs at: <code>./wandb/run-20241203_023627-w6o2sxb8/logs</code>"
      ],
      "text/plain": [
       "<IPython.core.display.HTML object>"
      ]
     },
     "metadata": {},
     "output_type": "display_data"
    },
    {
     "data": {
      "text/html": [
       "Tracking run with wandb version 0.18.7"
      ],
      "text/plain": [
       "<IPython.core.display.HTML object>"
      ]
     },
     "metadata": {},
     "output_type": "display_data"
    },
    {
     "data": {
      "text/html": [
       "Run data is saved locally in <code>/Users/julie/cse158-project/wandb/run-20241203_023944-b98gwvr9</code>"
      ],
      "text/plain": [
       "<IPython.core.display.HTML object>"
      ]
     },
     "metadata": {},
     "output_type": "display_data"
    },
    {
     "data": {
      "text/html": [
       "Syncing run <strong><a href='https://wandb.ai/jackjack170827-uc-san-diego/cse158-project-rating/runs/b98gwvr9' target=\"_blank\">SVD_f200_lr0.001_reg0.1_ep200</a></strong> to <a href='https://wandb.ai/jackjack170827-uc-san-diego/cse158-project-rating' target=\"_blank\">Weights & Biases</a> (<a href='https://wandb.me/developer-guide' target=\"_blank\">docs</a>)<br/>"
      ],
      "text/plain": [
       "<IPython.core.display.HTML object>"
      ]
     },
     "metadata": {},
     "output_type": "display_data"
    },
    {
     "data": {
      "text/html": [
       " View project at <a href='https://wandb.ai/jackjack170827-uc-san-diego/cse158-project-rating' target=\"_blank\">https://wandb.ai/jackjack170827-uc-san-diego/cse158-project-rating</a>"
      ],
      "text/plain": [
       "<IPython.core.display.HTML object>"
      ]
     },
     "metadata": {},
     "output_type": "display_data"
    },
    {
     "data": {
      "text/html": [
       " View run at <a href='https://wandb.ai/jackjack170827-uc-san-diego/cse158-project-rating/runs/b98gwvr9' target=\"_blank\">https://wandb.ai/jackjack170827-uc-san-diego/cse158-project-rating/runs/b98gwvr9</a>"
      ],
      "text/plain": [
       "<IPython.core.display.HTML object>"
      ]
     },
     "metadata": {},
     "output_type": "display_data"
    },
    {
     "data": {
      "text/html": [
       "\n",
       "    <style>\n",
       "        .wandb-row {\n",
       "            display: flex;\n",
       "            flex-direction: row;\n",
       "            flex-wrap: wrap;\n",
       "            justify-content: flex-start;\n",
       "            width: 100%;\n",
       "        }\n",
       "        .wandb-col {\n",
       "            display: flex;\n",
       "            flex-direction: column;\n",
       "            flex-basis: 100%;\n",
       "            flex: 1;\n",
       "            padding: 10px;\n",
       "        }\n",
       "    </style>\n",
       "<div class=\"wandb-row\"><div class=\"wandb-col\"><h3>Run history:</h3><br/><table class=\"wandb\"><tr><td>avg_val_MAE</td><td>▁</td></tr><tr><td>avg_val_MSE</td><td>▁</td></tr><tr><td>avg_val_RMSE</td><td>▁</td></tr><tr><td>fold_val_MAE</td><td>▁▂█▃▅</td></tr><tr><td>fold_val_MSE</td><td>▁▃█▁█</td></tr><tr><td>fold_val_RMSE</td><td>▁▃█▁█</td></tr></table><br/></div><div class=\"wandb-col\"><h3>Run summary:</h3><br/><table class=\"wandb\"><tr><td>avg_val_MAE</td><td>1.15313</td></tr><tr><td>avg_val_MSE</td><td>1.98409</td></tr><tr><td>avg_val_RMSE</td><td>1.40857</td></tr><tr><td>fold_val_MAE</td><td>1.15374</td></tr><tr><td>fold_val_MSE</td><td>1.99284</td></tr><tr><td>fold_val_RMSE</td><td>1.41168</td></tr></table><br/></div></div>"
      ],
      "text/plain": [
       "<IPython.core.display.HTML object>"
      ]
     },
     "metadata": {},
     "output_type": "display_data"
    },
    {
     "data": {
      "text/html": [
       " View run <strong style=\"color:#cdcd00\">SVD_f200_lr0.001_reg0.1_ep200</strong> at: <a href='https://wandb.ai/jackjack170827-uc-san-diego/cse158-project-rating/runs/b98gwvr9' target=\"_blank\">https://wandb.ai/jackjack170827-uc-san-diego/cse158-project-rating/runs/b98gwvr9</a><br/> View project at: <a href='https://wandb.ai/jackjack170827-uc-san-diego/cse158-project-rating' target=\"_blank\">https://wandb.ai/jackjack170827-uc-san-diego/cse158-project-rating</a><br/>Synced 5 W&B file(s), 0 media file(s), 0 artifact file(s) and 0 other file(s)"
      ],
      "text/plain": [
       "<IPython.core.display.HTML object>"
      ]
     },
     "metadata": {},
     "output_type": "display_data"
    },
    {
     "data": {
      "text/html": [
       "Find logs at: <code>./wandb/run-20241203_023944-b98gwvr9/logs</code>"
      ],
      "text/plain": [
       "<IPython.core.display.HTML object>"
      ]
     },
     "metadata": {},
     "output_type": "display_data"
    },
    {
     "data": {
      "text/html": [
       "Tracking run with wandb version 0.18.7"
      ],
      "text/plain": [
       "<IPython.core.display.HTML object>"
      ]
     },
     "metadata": {},
     "output_type": "display_data"
    },
    {
     "data": {
      "text/html": [
       "Run data is saved locally in <code>/Users/julie/cse158-project/wandb/run-20241203_024558-wbos2cv8</code>"
      ],
      "text/plain": [
       "<IPython.core.display.HTML object>"
      ]
     },
     "metadata": {},
     "output_type": "display_data"
    },
    {
     "data": {
      "text/html": [
       "Syncing run <strong><a href='https://wandb.ai/jackjack170827-uc-san-diego/cse158-project-rating/runs/wbos2cv8' target=\"_blank\">SVD_f200_lr0.005_reg0.02_ep20</a></strong> to <a href='https://wandb.ai/jackjack170827-uc-san-diego/cse158-project-rating' target=\"_blank\">Weights & Biases</a> (<a href='https://wandb.me/developer-guide' target=\"_blank\">docs</a>)<br/>"
      ],
      "text/plain": [
       "<IPython.core.display.HTML object>"
      ]
     },
     "metadata": {},
     "output_type": "display_data"
    },
    {
     "data": {
      "text/html": [
       " View project at <a href='https://wandb.ai/jackjack170827-uc-san-diego/cse158-project-rating' target=\"_blank\">https://wandb.ai/jackjack170827-uc-san-diego/cse158-project-rating</a>"
      ],
      "text/plain": [
       "<IPython.core.display.HTML object>"
      ]
     },
     "metadata": {},
     "output_type": "display_data"
    },
    {
     "data": {
      "text/html": [
       " View run at <a href='https://wandb.ai/jackjack170827-uc-san-diego/cse158-project-rating/runs/wbos2cv8' target=\"_blank\">https://wandb.ai/jackjack170827-uc-san-diego/cse158-project-rating/runs/wbos2cv8</a>"
      ],
      "text/plain": [
       "<IPython.core.display.HTML object>"
      ]
     },
     "metadata": {},
     "output_type": "display_data"
    },
    {
     "data": {
      "text/html": [
       "\n",
       "    <style>\n",
       "        .wandb-row {\n",
       "            display: flex;\n",
       "            flex-direction: row;\n",
       "            flex-wrap: wrap;\n",
       "            justify-content: flex-start;\n",
       "            width: 100%;\n",
       "        }\n",
       "        .wandb-col {\n",
       "            display: flex;\n",
       "            flex-direction: column;\n",
       "            flex-basis: 100%;\n",
       "            flex: 1;\n",
       "            padding: 10px;\n",
       "        }\n",
       "    </style>\n",
       "<div class=\"wandb-row\"><div class=\"wandb-col\"><h3>Run history:</h3><br/><table class=\"wandb\"><tr><td>avg_val_MAE</td><td>▁</td></tr><tr><td>avg_val_MSE</td><td>▁</td></tr><tr><td>avg_val_RMSE</td><td>▁</td></tr><tr><td>fold_val_MAE</td><td>▅▆█▁▄</td></tr><tr><td>fold_val_MSE</td><td>▅▇█▁▄</td></tr><tr><td>fold_val_RMSE</td><td>▅▇█▁▄</td></tr></table><br/></div><div class=\"wandb-col\"><h3>Run summary:</h3><br/><table class=\"wandb\"><tr><td>avg_val_MAE</td><td>1.15749</td></tr><tr><td>avg_val_MSE</td><td>1.99806</td></tr><tr><td>avg_val_RMSE</td><td>1.41352</td></tr><tr><td>fold_val_MAE</td><td>1.15662</td></tr><tr><td>fold_val_MSE</td><td>1.99512</td></tr><tr><td>fold_val_RMSE</td><td>1.41249</td></tr></table><br/></div></div>"
      ],
      "text/plain": [
       "<IPython.core.display.HTML object>"
      ]
     },
     "metadata": {},
     "output_type": "display_data"
    },
    {
     "data": {
      "text/html": [
       " View run <strong style=\"color:#cdcd00\">SVD_f200_lr0.005_reg0.02_ep20</strong> at: <a href='https://wandb.ai/jackjack170827-uc-san-diego/cse158-project-rating/runs/wbos2cv8' target=\"_blank\">https://wandb.ai/jackjack170827-uc-san-diego/cse158-project-rating/runs/wbos2cv8</a><br/> View project at: <a href='https://wandb.ai/jackjack170827-uc-san-diego/cse158-project-rating' target=\"_blank\">https://wandb.ai/jackjack170827-uc-san-diego/cse158-project-rating</a><br/>Synced 5 W&B file(s), 0 media file(s), 0 artifact file(s) and 0 other file(s)"
      ],
      "text/plain": [
       "<IPython.core.display.HTML object>"
      ]
     },
     "metadata": {},
     "output_type": "display_data"
    },
    {
     "data": {
      "text/html": [
       "Find logs at: <code>./wandb/run-20241203_024558-wbos2cv8/logs</code>"
      ],
      "text/plain": [
       "<IPython.core.display.HTML object>"
      ]
     },
     "metadata": {},
     "output_type": "display_data"
    },
    {
     "data": {
      "text/html": [
       "Tracking run with wandb version 0.18.7"
      ],
      "text/plain": [
       "<IPython.core.display.HTML object>"
      ]
     },
     "metadata": {},
     "output_type": "display_data"
    },
    {
     "data": {
      "text/html": [
       "Run data is saved locally in <code>/Users/julie/cse158-project/wandb/run-20241203_024658-r90xvtn7</code>"
      ],
      "text/plain": [
       "<IPython.core.display.HTML object>"
      ]
     },
     "metadata": {},
     "output_type": "display_data"
    },
    {
     "data": {
      "text/html": [
       "Syncing run <strong><a href='https://wandb.ai/jackjack170827-uc-san-diego/cse158-project-rating/runs/r90xvtn7' target=\"_blank\">SVD_f200_lr0.005_reg0.02_ep50</a></strong> to <a href='https://wandb.ai/jackjack170827-uc-san-diego/cse158-project-rating' target=\"_blank\">Weights & Biases</a> (<a href='https://wandb.me/developer-guide' target=\"_blank\">docs</a>)<br/>"
      ],
      "text/plain": [
       "<IPython.core.display.HTML object>"
      ]
     },
     "metadata": {},
     "output_type": "display_data"
    },
    {
     "data": {
      "text/html": [
       " View project at <a href='https://wandb.ai/jackjack170827-uc-san-diego/cse158-project-rating' target=\"_blank\">https://wandb.ai/jackjack170827-uc-san-diego/cse158-project-rating</a>"
      ],
      "text/plain": [
       "<IPython.core.display.HTML object>"
      ]
     },
     "metadata": {},
     "output_type": "display_data"
    },
    {
     "data": {
      "text/html": [
       " View run at <a href='https://wandb.ai/jackjack170827-uc-san-diego/cse158-project-rating/runs/r90xvtn7' target=\"_blank\">https://wandb.ai/jackjack170827-uc-san-diego/cse158-project-rating/runs/r90xvtn7</a>"
      ],
      "text/plain": [
       "<IPython.core.display.HTML object>"
      ]
     },
     "metadata": {},
     "output_type": "display_data"
    },
    {
     "data": {
      "text/html": [
       "\n",
       "    <style>\n",
       "        .wandb-row {\n",
       "            display: flex;\n",
       "            flex-direction: row;\n",
       "            flex-wrap: wrap;\n",
       "            justify-content: flex-start;\n",
       "            width: 100%;\n",
       "        }\n",
       "        .wandb-col {\n",
       "            display: flex;\n",
       "            flex-direction: column;\n",
       "            flex-basis: 100%;\n",
       "            flex: 1;\n",
       "            padding: 10px;\n",
       "        }\n",
       "    </style>\n",
       "<div class=\"wandb-row\"><div class=\"wandb-col\"><h3>Run history:</h3><br/><table class=\"wandb\"><tr><td>avg_val_MAE</td><td>▁</td></tr><tr><td>avg_val_MSE</td><td>▁</td></tr><tr><td>avg_val_RMSE</td><td>▁</td></tr><tr><td>fold_val_MAE</td><td>▁▄█▂▁</td></tr><tr><td>fold_val_MSE</td><td>▃▄█▄▁</td></tr><tr><td>fold_val_RMSE</td><td>▃▄█▄▁</td></tr></table><br/></div><div class=\"wandb-col\"><h3>Run summary:</h3><br/><table class=\"wandb\"><tr><td>avg_val_MAE</td><td>1.14542</td></tr><tr><td>avg_val_MSE</td><td>1.98153</td></tr><tr><td>avg_val_RMSE</td><td>1.40767</td></tr><tr><td>fold_val_MAE</td><td>1.14384</td></tr><tr><td>fold_val_MSE</td><td>1.97272</td></tr><tr><td>fold_val_RMSE</td><td>1.40454</td></tr></table><br/></div></div>"
      ],
      "text/plain": [
       "<IPython.core.display.HTML object>"
      ]
     },
     "metadata": {},
     "output_type": "display_data"
    },
    {
     "data": {
      "text/html": [
       " View run <strong style=\"color:#cdcd00\">SVD_f200_lr0.005_reg0.02_ep50</strong> at: <a href='https://wandb.ai/jackjack170827-uc-san-diego/cse158-project-rating/runs/r90xvtn7' target=\"_blank\">https://wandb.ai/jackjack170827-uc-san-diego/cse158-project-rating/runs/r90xvtn7</a><br/> View project at: <a href='https://wandb.ai/jackjack170827-uc-san-diego/cse158-project-rating' target=\"_blank\">https://wandb.ai/jackjack170827-uc-san-diego/cse158-project-rating</a><br/>Synced 5 W&B file(s), 0 media file(s), 0 artifact file(s) and 0 other file(s)"
      ],
      "text/plain": [
       "<IPython.core.display.HTML object>"
      ]
     },
     "metadata": {},
     "output_type": "display_data"
    },
    {
     "data": {
      "text/html": [
       "Find logs at: <code>./wandb/run-20241203_024658-r90xvtn7/logs</code>"
      ],
      "text/plain": [
       "<IPython.core.display.HTML object>"
      ]
     },
     "metadata": {},
     "output_type": "display_data"
    },
    {
     "data": {
      "text/html": [
       "Tracking run with wandb version 0.18.7"
      ],
      "text/plain": [
       "<IPython.core.display.HTML object>"
      ]
     },
     "metadata": {},
     "output_type": "display_data"
    },
    {
     "data": {
      "text/html": [
       "Run data is saved locally in <code>/Users/julie/cse158-project/wandb/run-20241203_024852-3a3q64wo</code>"
      ],
      "text/plain": [
       "<IPython.core.display.HTML object>"
      ]
     },
     "metadata": {},
     "output_type": "display_data"
    },
    {
     "data": {
      "text/html": [
       "Syncing run <strong><a href='https://wandb.ai/jackjack170827-uc-san-diego/cse158-project-rating/runs/3a3q64wo' target=\"_blank\">SVD_f200_lr0.005_reg0.02_ep100</a></strong> to <a href='https://wandb.ai/jackjack170827-uc-san-diego/cse158-project-rating' target=\"_blank\">Weights & Biases</a> (<a href='https://wandb.me/developer-guide' target=\"_blank\">docs</a>)<br/>"
      ],
      "text/plain": [
       "<IPython.core.display.HTML object>"
      ]
     },
     "metadata": {},
     "output_type": "display_data"
    },
    {
     "data": {
      "text/html": [
       " View project at <a href='https://wandb.ai/jackjack170827-uc-san-diego/cse158-project-rating' target=\"_blank\">https://wandb.ai/jackjack170827-uc-san-diego/cse158-project-rating</a>"
      ],
      "text/plain": [
       "<IPython.core.display.HTML object>"
      ]
     },
     "metadata": {},
     "output_type": "display_data"
    },
    {
     "data": {
      "text/html": [
       " View run at <a href='https://wandb.ai/jackjack170827-uc-san-diego/cse158-project-rating/runs/3a3q64wo' target=\"_blank\">https://wandb.ai/jackjack170827-uc-san-diego/cse158-project-rating/runs/3a3q64wo</a>"
      ],
      "text/plain": [
       "<IPython.core.display.HTML object>"
      ]
     },
     "metadata": {},
     "output_type": "display_data"
    },
    {
     "data": {
      "text/html": [
       "\n",
       "    <style>\n",
       "        .wandb-row {\n",
       "            display: flex;\n",
       "            flex-direction: row;\n",
       "            flex-wrap: wrap;\n",
       "            justify-content: flex-start;\n",
       "            width: 100%;\n",
       "        }\n",
       "        .wandb-col {\n",
       "            display: flex;\n",
       "            flex-direction: column;\n",
       "            flex-basis: 100%;\n",
       "            flex: 1;\n",
       "            padding: 10px;\n",
       "        }\n",
       "    </style>\n",
       "<div class=\"wandb-row\"><div class=\"wandb-col\"><h3>Run history:</h3><br/><table class=\"wandb\"><tr><td>avg_val_MAE</td><td>▁</td></tr><tr><td>avg_val_MSE</td><td>▁</td></tr><tr><td>avg_val_RMSE</td><td>▁</td></tr><tr><td>fold_val_MAE</td><td>▃▄▂▁█</td></tr><tr><td>fold_val_MSE</td><td>▃▃▁▁█</td></tr><tr><td>fold_val_RMSE</td><td>▃▃▁▁█</td></tr></table><br/></div><div class=\"wandb-col\"><h3>Run summary:</h3><br/><table class=\"wandb\"><tr><td>avg_val_MAE</td><td>1.14302</td></tr><tr><td>avg_val_MSE</td><td>1.97873</td></tr><tr><td>avg_val_RMSE</td><td>1.40667</td></tr><tr><td>fold_val_MAE</td><td>1.14758</td></tr><tr><td>fold_val_MSE</td><td>1.99875</td></tr><tr><td>fold_val_RMSE</td><td>1.41377</td></tr></table><br/></div></div>"
      ],
      "text/plain": [
       "<IPython.core.display.HTML object>"
      ]
     },
     "metadata": {},
     "output_type": "display_data"
    },
    {
     "data": {
      "text/html": [
       " View run <strong style=\"color:#cdcd00\">SVD_f200_lr0.005_reg0.02_ep100</strong> at: <a href='https://wandb.ai/jackjack170827-uc-san-diego/cse158-project-rating/runs/3a3q64wo' target=\"_blank\">https://wandb.ai/jackjack170827-uc-san-diego/cse158-project-rating/runs/3a3q64wo</a><br/> View project at: <a href='https://wandb.ai/jackjack170827-uc-san-diego/cse158-project-rating' target=\"_blank\">https://wandb.ai/jackjack170827-uc-san-diego/cse158-project-rating</a><br/>Synced 5 W&B file(s), 0 media file(s), 0 artifact file(s) and 0 other file(s)"
      ],
      "text/plain": [
       "<IPython.core.display.HTML object>"
      ]
     },
     "metadata": {},
     "output_type": "display_data"
    },
    {
     "data": {
      "text/html": [
       "Find logs at: <code>./wandb/run-20241203_024852-3a3q64wo/logs</code>"
      ],
      "text/plain": [
       "<IPython.core.display.HTML object>"
      ]
     },
     "metadata": {},
     "output_type": "display_data"
    },
    {
     "data": {
      "text/html": [
       "Tracking run with wandb version 0.18.7"
      ],
      "text/plain": [
       "<IPython.core.display.HTML object>"
      ]
     },
     "metadata": {},
     "output_type": "display_data"
    },
    {
     "data": {
      "text/html": [
       "Run data is saved locally in <code>/Users/julie/cse158-project/wandb/run-20241203_025219-ggk7u8jg</code>"
      ],
      "text/plain": [
       "<IPython.core.display.HTML object>"
      ]
     },
     "metadata": {},
     "output_type": "display_data"
    },
    {
     "data": {
      "text/html": [
       "Syncing run <strong><a href='https://wandb.ai/jackjack170827-uc-san-diego/cse158-project-rating/runs/ggk7u8jg' target=\"_blank\">SVD_f200_lr0.005_reg0.02_ep200</a></strong> to <a href='https://wandb.ai/jackjack170827-uc-san-diego/cse158-project-rating' target=\"_blank\">Weights & Biases</a> (<a href='https://wandb.me/developer-guide' target=\"_blank\">docs</a>)<br/>"
      ],
      "text/plain": [
       "<IPython.core.display.HTML object>"
      ]
     },
     "metadata": {},
     "output_type": "display_data"
    },
    {
     "data": {
      "text/html": [
       " View project at <a href='https://wandb.ai/jackjack170827-uc-san-diego/cse158-project-rating' target=\"_blank\">https://wandb.ai/jackjack170827-uc-san-diego/cse158-project-rating</a>"
      ],
      "text/plain": [
       "<IPython.core.display.HTML object>"
      ]
     },
     "metadata": {},
     "output_type": "display_data"
    },
    {
     "data": {
      "text/html": [
       " View run at <a href='https://wandb.ai/jackjack170827-uc-san-diego/cse158-project-rating/runs/ggk7u8jg' target=\"_blank\">https://wandb.ai/jackjack170827-uc-san-diego/cse158-project-rating/runs/ggk7u8jg</a>"
      ],
      "text/plain": [
       "<IPython.core.display.HTML object>"
      ]
     },
     "metadata": {},
     "output_type": "display_data"
    },
    {
     "data": {
      "text/html": [
       "\n",
       "    <style>\n",
       "        .wandb-row {\n",
       "            display: flex;\n",
       "            flex-direction: row;\n",
       "            flex-wrap: wrap;\n",
       "            justify-content: flex-start;\n",
       "            width: 100%;\n",
       "        }\n",
       "        .wandb-col {\n",
       "            display: flex;\n",
       "            flex-direction: column;\n",
       "            flex-basis: 100%;\n",
       "            flex: 1;\n",
       "            padding: 10px;\n",
       "        }\n",
       "    </style>\n",
       "<div class=\"wandb-row\"><div class=\"wandb-col\"><h3>Run history:</h3><br/><table class=\"wandb\"><tr><td>avg_val_MAE</td><td>▁</td></tr><tr><td>avg_val_MSE</td><td>▁</td></tr><tr><td>avg_val_RMSE</td><td>▁</td></tr><tr><td>fold_val_MAE</td><td>▁▅█▄▅</td></tr><tr><td>fold_val_MSE</td><td>▂▁█▅▁</td></tr><tr><td>fold_val_RMSE</td><td>▂▁█▅▁</td></tr></table><br/></div><div class=\"wandb-col\"><h3>Run summary:</h3><br/><table class=\"wandb\"><tr><td>avg_val_MAE</td><td>1.14358</td></tr><tr><td>avg_val_MSE</td><td>1.97958</td></tr><tr><td>avg_val_RMSE</td><td>1.40697</td></tr><tr><td>fold_val_MAE</td><td>1.14355</td></tr><tr><td>fold_val_MSE</td><td>1.97607</td></tr><tr><td>fold_val_RMSE</td><td>1.40573</td></tr></table><br/></div></div>"
      ],
      "text/plain": [
       "<IPython.core.display.HTML object>"
      ]
     },
     "metadata": {},
     "output_type": "display_data"
    },
    {
     "data": {
      "text/html": [
       " View run <strong style=\"color:#cdcd00\">SVD_f200_lr0.005_reg0.02_ep200</strong> at: <a href='https://wandb.ai/jackjack170827-uc-san-diego/cse158-project-rating/runs/ggk7u8jg' target=\"_blank\">https://wandb.ai/jackjack170827-uc-san-diego/cse158-project-rating/runs/ggk7u8jg</a><br/> View project at: <a href='https://wandb.ai/jackjack170827-uc-san-diego/cse158-project-rating' target=\"_blank\">https://wandb.ai/jackjack170827-uc-san-diego/cse158-project-rating</a><br/>Synced 5 W&B file(s), 0 media file(s), 0 artifact file(s) and 0 other file(s)"
      ],
      "text/plain": [
       "<IPython.core.display.HTML object>"
      ]
     },
     "metadata": {},
     "output_type": "display_data"
    },
    {
     "data": {
      "text/html": [
       "Find logs at: <code>./wandb/run-20241203_025219-ggk7u8jg/logs</code>"
      ],
      "text/plain": [
       "<IPython.core.display.HTML object>"
      ]
     },
     "metadata": {},
     "output_type": "display_data"
    },
    {
     "data": {
      "text/html": [
       "Tracking run with wandb version 0.18.7"
      ],
      "text/plain": [
       "<IPython.core.display.HTML object>"
      ]
     },
     "metadata": {},
     "output_type": "display_data"
    },
    {
     "data": {
      "text/html": [
       "Run data is saved locally in <code>/Users/julie/cse158-project/wandb/run-20241203_025848-et1vz2aa</code>"
      ],
      "text/plain": [
       "<IPython.core.display.HTML object>"
      ]
     },
     "metadata": {},
     "output_type": "display_data"
    },
    {
     "data": {
      "text/html": [
       "Syncing run <strong><a href='https://wandb.ai/jackjack170827-uc-san-diego/cse158-project-rating/runs/et1vz2aa' target=\"_blank\">SVD_f200_lr0.005_reg0.05_ep20</a></strong> to <a href='https://wandb.ai/jackjack170827-uc-san-diego/cse158-project-rating' target=\"_blank\">Weights & Biases</a> (<a href='https://wandb.me/developer-guide' target=\"_blank\">docs</a>)<br/>"
      ],
      "text/plain": [
       "<IPython.core.display.HTML object>"
      ]
     },
     "metadata": {},
     "output_type": "display_data"
    },
    {
     "data": {
      "text/html": [
       " View project at <a href='https://wandb.ai/jackjack170827-uc-san-diego/cse158-project-rating' target=\"_blank\">https://wandb.ai/jackjack170827-uc-san-diego/cse158-project-rating</a>"
      ],
      "text/plain": [
       "<IPython.core.display.HTML object>"
      ]
     },
     "metadata": {},
     "output_type": "display_data"
    },
    {
     "data": {
      "text/html": [
       " View run at <a href='https://wandb.ai/jackjack170827-uc-san-diego/cse158-project-rating/runs/et1vz2aa' target=\"_blank\">https://wandb.ai/jackjack170827-uc-san-diego/cse158-project-rating/runs/et1vz2aa</a>"
      ],
      "text/plain": [
       "<IPython.core.display.HTML object>"
      ]
     },
     "metadata": {},
     "output_type": "display_data"
    },
    {
     "data": {
      "text/html": [
       "\n",
       "    <style>\n",
       "        .wandb-row {\n",
       "            display: flex;\n",
       "            flex-direction: row;\n",
       "            flex-wrap: wrap;\n",
       "            justify-content: flex-start;\n",
       "            width: 100%;\n",
       "        }\n",
       "        .wandb-col {\n",
       "            display: flex;\n",
       "            flex-direction: column;\n",
       "            flex-basis: 100%;\n",
       "            flex: 1;\n",
       "            padding: 10px;\n",
       "        }\n",
       "    </style>\n",
       "<div class=\"wandb-row\"><div class=\"wandb-col\"><h3>Run history:</h3><br/><table class=\"wandb\"><tr><td>avg_val_MAE</td><td>▁</td></tr><tr><td>avg_val_MSE</td><td>▁</td></tr><tr><td>avg_val_RMSE</td><td>▁</td></tr><tr><td>fold_val_MAE</td><td>▂█▅▁▇</td></tr><tr><td>fold_val_MSE</td><td>▂█▄▁▆</td></tr><tr><td>fold_val_RMSE</td><td>▂█▄▁▆</td></tr></table><br/></div><div class=\"wandb-col\"><h3>Run summary:</h3><br/><table class=\"wandb\"><tr><td>avg_val_MAE</td><td>1.15925</td></tr><tr><td>avg_val_MSE</td><td>1.99811</td></tr><tr><td>avg_val_RMSE</td><td>1.41354</td></tr><tr><td>fold_val_MAE</td><td>1.16142</td></tr><tr><td>fold_val_MSE</td><td>2.00331</td></tr><tr><td>fold_val_RMSE</td><td>1.41538</td></tr></table><br/></div></div>"
      ],
      "text/plain": [
       "<IPython.core.display.HTML object>"
      ]
     },
     "metadata": {},
     "output_type": "display_data"
    },
    {
     "data": {
      "text/html": [
       " View run <strong style=\"color:#cdcd00\">SVD_f200_lr0.005_reg0.05_ep20</strong> at: <a href='https://wandb.ai/jackjack170827-uc-san-diego/cse158-project-rating/runs/et1vz2aa' target=\"_blank\">https://wandb.ai/jackjack170827-uc-san-diego/cse158-project-rating/runs/et1vz2aa</a><br/> View project at: <a href='https://wandb.ai/jackjack170827-uc-san-diego/cse158-project-rating' target=\"_blank\">https://wandb.ai/jackjack170827-uc-san-diego/cse158-project-rating</a><br/>Synced 5 W&B file(s), 0 media file(s), 0 artifact file(s) and 0 other file(s)"
      ],
      "text/plain": [
       "<IPython.core.display.HTML object>"
      ]
     },
     "metadata": {},
     "output_type": "display_data"
    },
    {
     "data": {
      "text/html": [
       "Find logs at: <code>./wandb/run-20241203_025848-et1vz2aa/logs</code>"
      ],
      "text/plain": [
       "<IPython.core.display.HTML object>"
      ]
     },
     "metadata": {},
     "output_type": "display_data"
    },
    {
     "data": {
      "text/html": [
       "Tracking run with wandb version 0.18.7"
      ],
      "text/plain": [
       "<IPython.core.display.HTML object>"
      ]
     },
     "metadata": {},
     "output_type": "display_data"
    },
    {
     "data": {
      "text/html": [
       "Run data is saved locally in <code>/Users/julie/cse158-project/wandb/run-20241203_025951-wwmu9jm7</code>"
      ],
      "text/plain": [
       "<IPython.core.display.HTML object>"
      ]
     },
     "metadata": {},
     "output_type": "display_data"
    },
    {
     "data": {
      "text/html": [
       "Syncing run <strong><a href='https://wandb.ai/jackjack170827-uc-san-diego/cse158-project-rating/runs/wwmu9jm7' target=\"_blank\">SVD_f200_lr0.005_reg0.05_ep50</a></strong> to <a href='https://wandb.ai/jackjack170827-uc-san-diego/cse158-project-rating' target=\"_blank\">Weights & Biases</a> (<a href='https://wandb.me/developer-guide' target=\"_blank\">docs</a>)<br/>"
      ],
      "text/plain": [
       "<IPython.core.display.HTML object>"
      ]
     },
     "metadata": {},
     "output_type": "display_data"
    },
    {
     "data": {
      "text/html": [
       " View project at <a href='https://wandb.ai/jackjack170827-uc-san-diego/cse158-project-rating' target=\"_blank\">https://wandb.ai/jackjack170827-uc-san-diego/cse158-project-rating</a>"
      ],
      "text/plain": [
       "<IPython.core.display.HTML object>"
      ]
     },
     "metadata": {},
     "output_type": "display_data"
    },
    {
     "data": {
      "text/html": [
       " View run at <a href='https://wandb.ai/jackjack170827-uc-san-diego/cse158-project-rating/runs/wwmu9jm7' target=\"_blank\">https://wandb.ai/jackjack170827-uc-san-diego/cse158-project-rating/runs/wwmu9jm7</a>"
      ],
      "text/plain": [
       "<IPython.core.display.HTML object>"
      ]
     },
     "metadata": {},
     "output_type": "display_data"
    },
    {
     "data": {
      "text/html": [
       "\n",
       "    <style>\n",
       "        .wandb-row {\n",
       "            display: flex;\n",
       "            flex-direction: row;\n",
       "            flex-wrap: wrap;\n",
       "            justify-content: flex-start;\n",
       "            width: 100%;\n",
       "        }\n",
       "        .wandb-col {\n",
       "            display: flex;\n",
       "            flex-direction: column;\n",
       "            flex-basis: 100%;\n",
       "            flex: 1;\n",
       "            padding: 10px;\n",
       "        }\n",
       "    </style>\n",
       "<div class=\"wandb-row\"><div class=\"wandb-col\"><h3>Run history:</h3><br/><table class=\"wandb\"><tr><td>avg_val_MAE</td><td>▁</td></tr><tr><td>avg_val_MSE</td><td>▁</td></tr><tr><td>avg_val_RMSE</td><td>▁</td></tr><tr><td>fold_val_MAE</td><td>▇▅▁▅█</td></tr><tr><td>fold_val_MSE</td><td>▇▄▁▅█</td></tr><tr><td>fold_val_RMSE</td><td>▇▄▁▅█</td></tr></table><br/></div><div class=\"wandb-col\"><h3>Run summary:</h3><br/><table class=\"wandb\"><tr><td>avg_val_MAE</td><td>1.14783</td></tr><tr><td>avg_val_MSE</td><td>1.98096</td></tr><tr><td>avg_val_RMSE</td><td>1.40746</td></tr><tr><td>fold_val_MAE</td><td>1.15112</td></tr><tr><td>fold_val_MSE</td><td>1.99242</td></tr><tr><td>fold_val_RMSE</td><td>1.41153</td></tr></table><br/></div></div>"
      ],
      "text/plain": [
       "<IPython.core.display.HTML object>"
      ]
     },
     "metadata": {},
     "output_type": "display_data"
    },
    {
     "data": {
      "text/html": [
       " View run <strong style=\"color:#cdcd00\">SVD_f200_lr0.005_reg0.05_ep50</strong> at: <a href='https://wandb.ai/jackjack170827-uc-san-diego/cse158-project-rating/runs/wwmu9jm7' target=\"_blank\">https://wandb.ai/jackjack170827-uc-san-diego/cse158-project-rating/runs/wwmu9jm7</a><br/> View project at: <a href='https://wandb.ai/jackjack170827-uc-san-diego/cse158-project-rating' target=\"_blank\">https://wandb.ai/jackjack170827-uc-san-diego/cse158-project-rating</a><br/>Synced 5 W&B file(s), 0 media file(s), 0 artifact file(s) and 0 other file(s)"
      ],
      "text/plain": [
       "<IPython.core.display.HTML object>"
      ]
     },
     "metadata": {},
     "output_type": "display_data"
    },
    {
     "data": {
      "text/html": [
       "Find logs at: <code>./wandb/run-20241203_025951-wwmu9jm7/logs</code>"
      ],
      "text/plain": [
       "<IPython.core.display.HTML object>"
      ]
     },
     "metadata": {},
     "output_type": "display_data"
    },
    {
     "data": {
      "text/html": [
       "Tracking run with wandb version 0.18.7"
      ],
      "text/plain": [
       "<IPython.core.display.HTML object>"
      ]
     },
     "metadata": {},
     "output_type": "display_data"
    },
    {
     "data": {
      "text/html": [
       "Run data is saved locally in <code>/Users/julie/cse158-project/wandb/run-20241203_030144-2fp1wex4</code>"
      ],
      "text/plain": [
       "<IPython.core.display.HTML object>"
      ]
     },
     "metadata": {},
     "output_type": "display_data"
    },
    {
     "data": {
      "text/html": [
       "Syncing run <strong><a href='https://wandb.ai/jackjack170827-uc-san-diego/cse158-project-rating/runs/2fp1wex4' target=\"_blank\">SVD_f200_lr0.005_reg0.05_ep100</a></strong> to <a href='https://wandb.ai/jackjack170827-uc-san-diego/cse158-project-rating' target=\"_blank\">Weights & Biases</a> (<a href='https://wandb.me/developer-guide' target=\"_blank\">docs</a>)<br/>"
      ],
      "text/plain": [
       "<IPython.core.display.HTML object>"
      ]
     },
     "metadata": {},
     "output_type": "display_data"
    },
    {
     "data": {
      "text/html": [
       " View project at <a href='https://wandb.ai/jackjack170827-uc-san-diego/cse158-project-rating' target=\"_blank\">https://wandb.ai/jackjack170827-uc-san-diego/cse158-project-rating</a>"
      ],
      "text/plain": [
       "<IPython.core.display.HTML object>"
      ]
     },
     "metadata": {},
     "output_type": "display_data"
    },
    {
     "data": {
      "text/html": [
       " View run at <a href='https://wandb.ai/jackjack170827-uc-san-diego/cse158-project-rating/runs/2fp1wex4' target=\"_blank\">https://wandb.ai/jackjack170827-uc-san-diego/cse158-project-rating/runs/2fp1wex4</a>"
      ],
      "text/plain": [
       "<IPython.core.display.HTML object>"
      ]
     },
     "metadata": {},
     "output_type": "display_data"
    },
    {
     "data": {
      "text/html": [
       "\n",
       "    <style>\n",
       "        .wandb-row {\n",
       "            display: flex;\n",
       "            flex-direction: row;\n",
       "            flex-wrap: wrap;\n",
       "            justify-content: flex-start;\n",
       "            width: 100%;\n",
       "        }\n",
       "        .wandb-col {\n",
       "            display: flex;\n",
       "            flex-direction: column;\n",
       "            flex-basis: 100%;\n",
       "            flex: 1;\n",
       "            padding: 10px;\n",
       "        }\n",
       "    </style>\n",
       "<div class=\"wandb-row\"><div class=\"wandb-col\"><h3>Run history:</h3><br/><table class=\"wandb\"><tr><td>avg_val_MAE</td><td>▁</td></tr><tr><td>avg_val_MSE</td><td>▁</td></tr><tr><td>avg_val_RMSE</td><td>▁</td></tr><tr><td>fold_val_MAE</td><td>▇▃██▁</td></tr><tr><td>fold_val_MSE</td><td>▆▄██▁</td></tr><tr><td>fold_val_RMSE</td><td>▆▄██▁</td></tr></table><br/></div><div class=\"wandb-col\"><h3>Run summary:</h3><br/><table class=\"wandb\"><tr><td>avg_val_MAE</td><td>1.14566</td></tr><tr><td>avg_val_MSE</td><td>1.97877</td></tr><tr><td>avg_val_RMSE</td><td>1.40668</td></tr><tr><td>fold_val_MAE</td><td>1.14069</td></tr><tr><td>fold_val_MSE</td><td>1.96164</td></tr><tr><td>fold_val_RMSE</td><td>1.40059</td></tr></table><br/></div></div>"
      ],
      "text/plain": [
       "<IPython.core.display.HTML object>"
      ]
     },
     "metadata": {},
     "output_type": "display_data"
    },
    {
     "data": {
      "text/html": [
       " View run <strong style=\"color:#cdcd00\">SVD_f200_lr0.005_reg0.05_ep100</strong> at: <a href='https://wandb.ai/jackjack170827-uc-san-diego/cse158-project-rating/runs/2fp1wex4' target=\"_blank\">https://wandb.ai/jackjack170827-uc-san-diego/cse158-project-rating/runs/2fp1wex4</a><br/> View project at: <a href='https://wandb.ai/jackjack170827-uc-san-diego/cse158-project-rating' target=\"_blank\">https://wandb.ai/jackjack170827-uc-san-diego/cse158-project-rating</a><br/>Synced 5 W&B file(s), 0 media file(s), 0 artifact file(s) and 0 other file(s)"
      ],
      "text/plain": [
       "<IPython.core.display.HTML object>"
      ]
     },
     "metadata": {},
     "output_type": "display_data"
    },
    {
     "data": {
      "text/html": [
       "Find logs at: <code>./wandb/run-20241203_030144-2fp1wex4/logs</code>"
      ],
      "text/plain": [
       "<IPython.core.display.HTML object>"
      ]
     },
     "metadata": {},
     "output_type": "display_data"
    },
    {
     "data": {
      "text/html": [
       "Tracking run with wandb version 0.18.7"
      ],
      "text/plain": [
       "<IPython.core.display.HTML object>"
      ]
     },
     "metadata": {},
     "output_type": "display_data"
    },
    {
     "data": {
      "text/html": [
       "Run data is saved locally in <code>/Users/julie/cse158-project/wandb/run-20241203_030511-mn8gsq62</code>"
      ],
      "text/plain": [
       "<IPython.core.display.HTML object>"
      ]
     },
     "metadata": {},
     "output_type": "display_data"
    },
    {
     "data": {
      "text/html": [
       "Syncing run <strong><a href='https://wandb.ai/jackjack170827-uc-san-diego/cse158-project-rating/runs/mn8gsq62' target=\"_blank\">SVD_f200_lr0.005_reg0.05_ep200</a></strong> to <a href='https://wandb.ai/jackjack170827-uc-san-diego/cse158-project-rating' target=\"_blank\">Weights & Biases</a> (<a href='https://wandb.me/developer-guide' target=\"_blank\">docs</a>)<br/>"
      ],
      "text/plain": [
       "<IPython.core.display.HTML object>"
      ]
     },
     "metadata": {},
     "output_type": "display_data"
    },
    {
     "data": {
      "text/html": [
       " View project at <a href='https://wandb.ai/jackjack170827-uc-san-diego/cse158-project-rating' target=\"_blank\">https://wandb.ai/jackjack170827-uc-san-diego/cse158-project-rating</a>"
      ],
      "text/plain": [
       "<IPython.core.display.HTML object>"
      ]
     },
     "metadata": {},
     "output_type": "display_data"
    },
    {
     "data": {
      "text/html": [
       " View run at <a href='https://wandb.ai/jackjack170827-uc-san-diego/cse158-project-rating/runs/mn8gsq62' target=\"_blank\">https://wandb.ai/jackjack170827-uc-san-diego/cse158-project-rating/runs/mn8gsq62</a>"
      ],
      "text/plain": [
       "<IPython.core.display.HTML object>"
      ]
     },
     "metadata": {},
     "output_type": "display_data"
    },
    {
     "data": {
      "text/html": [
       "\n",
       "    <style>\n",
       "        .wandb-row {\n",
       "            display: flex;\n",
       "            flex-direction: row;\n",
       "            flex-wrap: wrap;\n",
       "            justify-content: flex-start;\n",
       "            width: 100%;\n",
       "        }\n",
       "        .wandb-col {\n",
       "            display: flex;\n",
       "            flex-direction: column;\n",
       "            flex-basis: 100%;\n",
       "            flex: 1;\n",
       "            padding: 10px;\n",
       "        }\n",
       "    </style>\n",
       "<div class=\"wandb-row\"><div class=\"wandb-col\"><h3>Run history:</h3><br/><table class=\"wandb\"><tr><td>avg_val_MAE</td><td>▁</td></tr><tr><td>avg_val_MSE</td><td>▁</td></tr><tr><td>avg_val_RMSE</td><td>▁</td></tr><tr><td>fold_val_MAE</td><td>▃█▃▁▄</td></tr><tr><td>fold_val_MSE</td><td>▁█▃▁▄</td></tr><tr><td>fold_val_RMSE</td><td>▁█▃▁▄</td></tr></table><br/></div><div class=\"wandb-col\"><h3>Run summary:</h3><br/><table class=\"wandb\"><tr><td>avg_val_MAE</td><td>1.1461</td></tr><tr><td>avg_val_MSE</td><td>1.97859</td></tr><tr><td>avg_val_RMSE</td><td>1.40662</td></tr><tr><td>fold_val_MAE</td><td>1.14636</td></tr><tr><td>fold_val_MSE</td><td>1.97974</td></tr><tr><td>fold_val_RMSE</td><td>1.40703</td></tr></table><br/></div></div>"
      ],
      "text/plain": [
       "<IPython.core.display.HTML object>"
      ]
     },
     "metadata": {},
     "output_type": "display_data"
    },
    {
     "data": {
      "text/html": [
       " View run <strong style=\"color:#cdcd00\">SVD_f200_lr0.005_reg0.05_ep200</strong> at: <a href='https://wandb.ai/jackjack170827-uc-san-diego/cse158-project-rating/runs/mn8gsq62' target=\"_blank\">https://wandb.ai/jackjack170827-uc-san-diego/cse158-project-rating/runs/mn8gsq62</a><br/> View project at: <a href='https://wandb.ai/jackjack170827-uc-san-diego/cse158-project-rating' target=\"_blank\">https://wandb.ai/jackjack170827-uc-san-diego/cse158-project-rating</a><br/>Synced 5 W&B file(s), 0 media file(s), 0 artifact file(s) and 0 other file(s)"
      ],
      "text/plain": [
       "<IPython.core.display.HTML object>"
      ]
     },
     "metadata": {},
     "output_type": "display_data"
    },
    {
     "data": {
      "text/html": [
       "Find logs at: <code>./wandb/run-20241203_030511-mn8gsq62/logs</code>"
      ],
      "text/plain": [
       "<IPython.core.display.HTML object>"
      ]
     },
     "metadata": {},
     "output_type": "display_data"
    },
    {
     "data": {
      "text/html": [
       "Tracking run with wandb version 0.18.7"
      ],
      "text/plain": [
       "<IPython.core.display.HTML object>"
      ]
     },
     "metadata": {},
     "output_type": "display_data"
    },
    {
     "data": {
      "text/html": [
       "Run data is saved locally in <code>/Users/julie/cse158-project/wandb/run-20241203_031135-mld9gy28</code>"
      ],
      "text/plain": [
       "<IPython.core.display.HTML object>"
      ]
     },
     "metadata": {},
     "output_type": "display_data"
    },
    {
     "data": {
      "text/html": [
       "Syncing run <strong><a href='https://wandb.ai/jackjack170827-uc-san-diego/cse158-project-rating/runs/mld9gy28' target=\"_blank\">SVD_f200_lr0.005_reg0.1_ep20</a></strong> to <a href='https://wandb.ai/jackjack170827-uc-san-diego/cse158-project-rating' target=\"_blank\">Weights & Biases</a> (<a href='https://wandb.me/developer-guide' target=\"_blank\">docs</a>)<br/>"
      ],
      "text/plain": [
       "<IPython.core.display.HTML object>"
      ]
     },
     "metadata": {},
     "output_type": "display_data"
    },
    {
     "data": {
      "text/html": [
       " View project at <a href='https://wandb.ai/jackjack170827-uc-san-diego/cse158-project-rating' target=\"_blank\">https://wandb.ai/jackjack170827-uc-san-diego/cse158-project-rating</a>"
      ],
      "text/plain": [
       "<IPython.core.display.HTML object>"
      ]
     },
     "metadata": {},
     "output_type": "display_data"
    },
    {
     "data": {
      "text/html": [
       " View run at <a href='https://wandb.ai/jackjack170827-uc-san-diego/cse158-project-rating/runs/mld9gy28' target=\"_blank\">https://wandb.ai/jackjack170827-uc-san-diego/cse158-project-rating/runs/mld9gy28</a>"
      ],
      "text/plain": [
       "<IPython.core.display.HTML object>"
      ]
     },
     "metadata": {},
     "output_type": "display_data"
    },
    {
     "data": {
      "text/html": [
       "\n",
       "    <style>\n",
       "        .wandb-row {\n",
       "            display: flex;\n",
       "            flex-direction: row;\n",
       "            flex-wrap: wrap;\n",
       "            justify-content: flex-start;\n",
       "            width: 100%;\n",
       "        }\n",
       "        .wandb-col {\n",
       "            display: flex;\n",
       "            flex-direction: column;\n",
       "            flex-basis: 100%;\n",
       "            flex: 1;\n",
       "            padding: 10px;\n",
       "        }\n",
       "    </style>\n",
       "<div class=\"wandb-row\"><div class=\"wandb-col\"><h3>Run history:</h3><br/><table class=\"wandb\"><tr><td>avg_val_MAE</td><td>▁</td></tr><tr><td>avg_val_MSE</td><td>▁</td></tr><tr><td>avg_val_RMSE</td><td>▁</td></tr><tr><td>fold_val_MAE</td><td>█▅▁▄▂</td></tr><tr><td>fold_val_MSE</td><td>█▅▁▃▂</td></tr><tr><td>fold_val_RMSE</td><td>█▅▁▃▂</td></tr></table><br/></div><div class=\"wandb-col\"><h3>Run summary:</h3><br/><table class=\"wandb\"><tr><td>avg_val_MAE</td><td>1.16236</td></tr><tr><td>avg_val_MSE</td><td>1.99998</td></tr><tr><td>avg_val_RMSE</td><td>1.4142</td></tr><tr><td>fold_val_MAE</td><td>1.16094</td></tr><tr><td>fold_val_MSE</td><td>1.99523</td></tr><tr><td>fold_val_RMSE</td><td>1.41253</td></tr></table><br/></div></div>"
      ],
      "text/plain": [
       "<IPython.core.display.HTML object>"
      ]
     },
     "metadata": {},
     "output_type": "display_data"
    },
    {
     "data": {
      "text/html": [
       " View run <strong style=\"color:#cdcd00\">SVD_f200_lr0.005_reg0.1_ep20</strong> at: <a href='https://wandb.ai/jackjack170827-uc-san-diego/cse158-project-rating/runs/mld9gy28' target=\"_blank\">https://wandb.ai/jackjack170827-uc-san-diego/cse158-project-rating/runs/mld9gy28</a><br/> View project at: <a href='https://wandb.ai/jackjack170827-uc-san-diego/cse158-project-rating' target=\"_blank\">https://wandb.ai/jackjack170827-uc-san-diego/cse158-project-rating</a><br/>Synced 5 W&B file(s), 0 media file(s), 0 artifact file(s) and 0 other file(s)"
      ],
      "text/plain": [
       "<IPython.core.display.HTML object>"
      ]
     },
     "metadata": {},
     "output_type": "display_data"
    },
    {
     "data": {
      "text/html": [
       "Find logs at: <code>./wandb/run-20241203_031135-mld9gy28/logs</code>"
      ],
      "text/plain": [
       "<IPython.core.display.HTML object>"
      ]
     },
     "metadata": {},
     "output_type": "display_data"
    },
    {
     "data": {
      "text/html": [
       "Tracking run with wandb version 0.18.7"
      ],
      "text/plain": [
       "<IPython.core.display.HTML object>"
      ]
     },
     "metadata": {},
     "output_type": "display_data"
    },
    {
     "data": {
      "text/html": [
       "Run data is saved locally in <code>/Users/julie/cse158-project/wandb/run-20241203_031237-kcts09l9</code>"
      ],
      "text/plain": [
       "<IPython.core.display.HTML object>"
      ]
     },
     "metadata": {},
     "output_type": "display_data"
    },
    {
     "data": {
      "text/html": [
       "Syncing run <strong><a href='https://wandb.ai/jackjack170827-uc-san-diego/cse158-project-rating/runs/kcts09l9' target=\"_blank\">SVD_f200_lr0.005_reg0.1_ep50</a></strong> to <a href='https://wandb.ai/jackjack170827-uc-san-diego/cse158-project-rating' target=\"_blank\">Weights & Biases</a> (<a href='https://wandb.me/developer-guide' target=\"_blank\">docs</a>)<br/>"
      ],
      "text/plain": [
       "<IPython.core.display.HTML object>"
      ]
     },
     "metadata": {},
     "output_type": "display_data"
    },
    {
     "data": {
      "text/html": [
       " View project at <a href='https://wandb.ai/jackjack170827-uc-san-diego/cse158-project-rating' target=\"_blank\">https://wandb.ai/jackjack170827-uc-san-diego/cse158-project-rating</a>"
      ],
      "text/plain": [
       "<IPython.core.display.HTML object>"
      ]
     },
     "metadata": {},
     "output_type": "display_data"
    },
    {
     "data": {
      "text/html": [
       " View run at <a href='https://wandb.ai/jackjack170827-uc-san-diego/cse158-project-rating/runs/kcts09l9' target=\"_blank\">https://wandb.ai/jackjack170827-uc-san-diego/cse158-project-rating/runs/kcts09l9</a>"
      ],
      "text/plain": [
       "<IPython.core.display.HTML object>"
      ]
     },
     "metadata": {},
     "output_type": "display_data"
    },
    {
     "data": {
      "text/html": [
       "\n",
       "    <style>\n",
       "        .wandb-row {\n",
       "            display: flex;\n",
       "            flex-direction: row;\n",
       "            flex-wrap: wrap;\n",
       "            justify-content: flex-start;\n",
       "            width: 100%;\n",
       "        }\n",
       "        .wandb-col {\n",
       "            display: flex;\n",
       "            flex-direction: column;\n",
       "            flex-basis: 100%;\n",
       "            flex: 1;\n",
       "            padding: 10px;\n",
       "        }\n",
       "    </style>\n",
       "<div class=\"wandb-row\"><div class=\"wandb-col\"><h3>Run history:</h3><br/><table class=\"wandb\"><tr><td>avg_val_MAE</td><td>▁</td></tr><tr><td>avg_val_MSE</td><td>▁</td></tr><tr><td>avg_val_RMSE</td><td>▁</td></tr><tr><td>fold_val_MAE</td><td>▆▁▁█▇</td></tr><tr><td>fold_val_MSE</td><td>▆▁▃▇█</td></tr><tr><td>fold_val_RMSE</td><td>▆▁▃▇█</td></tr></table><br/></div><div class=\"wandb-col\"><h3>Run summary:</h3><br/><table class=\"wandb\"><tr><td>avg_val_MAE</td><td>1.15103</td></tr><tr><td>avg_val_MSE</td><td>1.98186</td></tr><tr><td>avg_val_RMSE</td><td>1.40778</td></tr><tr><td>fold_val_MAE</td><td>1.15233</td></tr><tr><td>fold_val_MSE</td><td>1.98867</td></tr><tr><td>fold_val_RMSE</td><td>1.4102</td></tr></table><br/></div></div>"
      ],
      "text/plain": [
       "<IPython.core.display.HTML object>"
      ]
     },
     "metadata": {},
     "output_type": "display_data"
    },
    {
     "data": {
      "text/html": [
       " View run <strong style=\"color:#cdcd00\">SVD_f200_lr0.005_reg0.1_ep50</strong> at: <a href='https://wandb.ai/jackjack170827-uc-san-diego/cse158-project-rating/runs/kcts09l9' target=\"_blank\">https://wandb.ai/jackjack170827-uc-san-diego/cse158-project-rating/runs/kcts09l9</a><br/> View project at: <a href='https://wandb.ai/jackjack170827-uc-san-diego/cse158-project-rating' target=\"_blank\">https://wandb.ai/jackjack170827-uc-san-diego/cse158-project-rating</a><br/>Synced 5 W&B file(s), 0 media file(s), 0 artifact file(s) and 0 other file(s)"
      ],
      "text/plain": [
       "<IPython.core.display.HTML object>"
      ]
     },
     "metadata": {},
     "output_type": "display_data"
    },
    {
     "data": {
      "text/html": [
       "Find logs at: <code>./wandb/run-20241203_031237-kcts09l9/logs</code>"
      ],
      "text/plain": [
       "<IPython.core.display.HTML object>"
      ]
     },
     "metadata": {},
     "output_type": "display_data"
    },
    {
     "data": {
      "text/html": [
       "Tracking run with wandb version 0.18.7"
      ],
      "text/plain": [
       "<IPython.core.display.HTML object>"
      ]
     },
     "metadata": {},
     "output_type": "display_data"
    },
    {
     "data": {
      "text/html": [
       "Run data is saved locally in <code>/Users/julie/cse158-project/wandb/run-20241203_031436-ev4blt1t</code>"
      ],
      "text/plain": [
       "<IPython.core.display.HTML object>"
      ]
     },
     "metadata": {},
     "output_type": "display_data"
    },
    {
     "data": {
      "text/html": [
       "Syncing run <strong><a href='https://wandb.ai/jackjack170827-uc-san-diego/cse158-project-rating/runs/ev4blt1t' target=\"_blank\">SVD_f200_lr0.005_reg0.1_ep100</a></strong> to <a href='https://wandb.ai/jackjack170827-uc-san-diego/cse158-project-rating' target=\"_blank\">Weights & Biases</a> (<a href='https://wandb.me/developer-guide' target=\"_blank\">docs</a>)<br/>"
      ],
      "text/plain": [
       "<IPython.core.display.HTML object>"
      ]
     },
     "metadata": {},
     "output_type": "display_data"
    },
    {
     "data": {
      "text/html": [
       " View project at <a href='https://wandb.ai/jackjack170827-uc-san-diego/cse158-project-rating' target=\"_blank\">https://wandb.ai/jackjack170827-uc-san-diego/cse158-project-rating</a>"
      ],
      "text/plain": [
       "<IPython.core.display.HTML object>"
      ]
     },
     "metadata": {},
     "output_type": "display_data"
    },
    {
     "data": {
      "text/html": [
       " View run at <a href='https://wandb.ai/jackjack170827-uc-san-diego/cse158-project-rating/runs/ev4blt1t' target=\"_blank\">https://wandb.ai/jackjack170827-uc-san-diego/cse158-project-rating/runs/ev4blt1t</a>"
      ],
      "text/plain": [
       "<IPython.core.display.HTML object>"
      ]
     },
     "metadata": {},
     "output_type": "display_data"
    },
    {
     "data": {
      "text/html": [
       "\n",
       "    <style>\n",
       "        .wandb-row {\n",
       "            display: flex;\n",
       "            flex-direction: row;\n",
       "            flex-wrap: wrap;\n",
       "            justify-content: flex-start;\n",
       "            width: 100%;\n",
       "        }\n",
       "        .wandb-col {\n",
       "            display: flex;\n",
       "            flex-direction: column;\n",
       "            flex-basis: 100%;\n",
       "            flex: 1;\n",
       "            padding: 10px;\n",
       "        }\n",
       "    </style>\n",
       "<div class=\"wandb-row\"><div class=\"wandb-col\"><h3>Run history:</h3><br/><table class=\"wandb\"><tr><td>avg_val_MAE</td><td>▁</td></tr><tr><td>avg_val_MSE</td><td>▁</td></tr><tr><td>avg_val_RMSE</td><td>▁</td></tr><tr><td>fold_val_MAE</td><td>▁▅▅█▁</td></tr><tr><td>fold_val_MSE</td><td>▂▆▆█▁</td></tr><tr><td>fold_val_RMSE</td><td>▂▆▆█▁</td></tr></table><br/></div><div class=\"wandb-col\"><h3>Run summary:</h3><br/><table class=\"wandb\"><tr><td>avg_val_MAE</td><td>1.1492</td></tr><tr><td>avg_val_MSE</td><td>1.98091</td></tr><tr><td>avg_val_RMSE</td><td>1.40744</td></tr><tr><td>fold_val_MAE</td><td>1.14618</td></tr><tr><td>fold_val_MSE</td><td>1.96728</td></tr><tr><td>fold_val_RMSE</td><td>1.4026</td></tr></table><br/></div></div>"
      ],
      "text/plain": [
       "<IPython.core.display.HTML object>"
      ]
     },
     "metadata": {},
     "output_type": "display_data"
    },
    {
     "data": {
      "text/html": [
       " View run <strong style=\"color:#cdcd00\">SVD_f200_lr0.005_reg0.1_ep100</strong> at: <a href='https://wandb.ai/jackjack170827-uc-san-diego/cse158-project-rating/runs/ev4blt1t' target=\"_blank\">https://wandb.ai/jackjack170827-uc-san-diego/cse158-project-rating/runs/ev4blt1t</a><br/> View project at: <a href='https://wandb.ai/jackjack170827-uc-san-diego/cse158-project-rating' target=\"_blank\">https://wandb.ai/jackjack170827-uc-san-diego/cse158-project-rating</a><br/>Synced 5 W&B file(s), 0 media file(s), 0 artifact file(s) and 0 other file(s)"
      ],
      "text/plain": [
       "<IPython.core.display.HTML object>"
      ]
     },
     "metadata": {},
     "output_type": "display_data"
    },
    {
     "data": {
      "text/html": [
       "Find logs at: <code>./wandb/run-20241203_031436-ev4blt1t/logs</code>"
      ],
      "text/plain": [
       "<IPython.core.display.HTML object>"
      ]
     },
     "metadata": {},
     "output_type": "display_data"
    },
    {
     "data": {
      "text/html": [
       "Tracking run with wandb version 0.18.7"
      ],
      "text/plain": [
       "<IPython.core.display.HTML object>"
      ]
     },
     "metadata": {},
     "output_type": "display_data"
    },
    {
     "data": {
      "text/html": [
       "Run data is saved locally in <code>/Users/julie/cse158-project/wandb/run-20241203_031757-civ1oxbp</code>"
      ],
      "text/plain": [
       "<IPython.core.display.HTML object>"
      ]
     },
     "metadata": {},
     "output_type": "display_data"
    },
    {
     "data": {
      "text/html": [
       "Syncing run <strong><a href='https://wandb.ai/jackjack170827-uc-san-diego/cse158-project-rating/runs/civ1oxbp' target=\"_blank\">SVD_f200_lr0.005_reg0.1_ep200</a></strong> to <a href='https://wandb.ai/jackjack170827-uc-san-diego/cse158-project-rating' target=\"_blank\">Weights & Biases</a> (<a href='https://wandb.me/developer-guide' target=\"_blank\">docs</a>)<br/>"
      ],
      "text/plain": [
       "<IPython.core.display.HTML object>"
      ]
     },
     "metadata": {},
     "output_type": "display_data"
    },
    {
     "data": {
      "text/html": [
       " View project at <a href='https://wandb.ai/jackjack170827-uc-san-diego/cse158-project-rating' target=\"_blank\">https://wandb.ai/jackjack170827-uc-san-diego/cse158-project-rating</a>"
      ],
      "text/plain": [
       "<IPython.core.display.HTML object>"
      ]
     },
     "metadata": {},
     "output_type": "display_data"
    },
    {
     "data": {
      "text/html": [
       " View run at <a href='https://wandb.ai/jackjack170827-uc-san-diego/cse158-project-rating/runs/civ1oxbp' target=\"_blank\">https://wandb.ai/jackjack170827-uc-san-diego/cse158-project-rating/runs/civ1oxbp</a>"
      ],
      "text/plain": [
       "<IPython.core.display.HTML object>"
      ]
     },
     "metadata": {},
     "output_type": "display_data"
    },
    {
     "data": {
      "text/html": [
       "\n",
       "    <style>\n",
       "        .wandb-row {\n",
       "            display: flex;\n",
       "            flex-direction: row;\n",
       "            flex-wrap: wrap;\n",
       "            justify-content: flex-start;\n",
       "            width: 100%;\n",
       "        }\n",
       "        .wandb-col {\n",
       "            display: flex;\n",
       "            flex-direction: column;\n",
       "            flex-basis: 100%;\n",
       "            flex: 1;\n",
       "            padding: 10px;\n",
       "        }\n",
       "    </style>\n",
       "<div class=\"wandb-row\"><div class=\"wandb-col\"><h3>Run history:</h3><br/><table class=\"wandb\"><tr><td>avg_val_MAE</td><td>▁</td></tr><tr><td>avg_val_MSE</td><td>▁</td></tr><tr><td>avg_val_RMSE</td><td>▁</td></tr><tr><td>fold_val_MAE</td><td>▁▆▅██</td></tr><tr><td>fold_val_MSE</td><td>▁▂▂██</td></tr><tr><td>fold_val_RMSE</td><td>▁▂▂██</td></tr></table><br/></div><div class=\"wandb-col\"><h3>Run summary:</h3><br/><table class=\"wandb\"><tr><td>avg_val_MAE</td><td>1.15082</td></tr><tr><td>avg_val_MSE</td><td>1.98509</td></tr><tr><td>avg_val_RMSE</td><td>1.40893</td></tr><tr><td>fold_val_MAE</td><td>1.15131</td></tr><tr><td>fold_val_MSE</td><td>1.98714</td></tr><tr><td>fold_val_RMSE</td><td>1.40966</td></tr></table><br/></div></div>"
      ],
      "text/plain": [
       "<IPython.core.display.HTML object>"
      ]
     },
     "metadata": {},
     "output_type": "display_data"
    },
    {
     "data": {
      "text/html": [
       " View run <strong style=\"color:#cdcd00\">SVD_f200_lr0.005_reg0.1_ep200</strong> at: <a href='https://wandb.ai/jackjack170827-uc-san-diego/cse158-project-rating/runs/civ1oxbp' target=\"_blank\">https://wandb.ai/jackjack170827-uc-san-diego/cse158-project-rating/runs/civ1oxbp</a><br/> View project at: <a href='https://wandb.ai/jackjack170827-uc-san-diego/cse158-project-rating' target=\"_blank\">https://wandb.ai/jackjack170827-uc-san-diego/cse158-project-rating</a><br/>Synced 5 W&B file(s), 0 media file(s), 0 artifact file(s) and 0 other file(s)"
      ],
      "text/plain": [
       "<IPython.core.display.HTML object>"
      ]
     },
     "metadata": {},
     "output_type": "display_data"
    },
    {
     "data": {
      "text/html": [
       "Find logs at: <code>./wandb/run-20241203_031757-civ1oxbp/logs</code>"
      ],
      "text/plain": [
       "<IPython.core.display.HTML object>"
      ]
     },
     "metadata": {},
     "output_type": "display_data"
    },
    {
     "data": {
      "text/html": [
       "Tracking run with wandb version 0.18.7"
      ],
      "text/plain": [
       "<IPython.core.display.HTML object>"
      ]
     },
     "metadata": {},
     "output_type": "display_data"
    },
    {
     "data": {
      "text/html": [
       "Run data is saved locally in <code>/Users/julie/cse158-project/wandb/run-20241203_032412-j3vvf8q1</code>"
      ],
      "text/plain": [
       "<IPython.core.display.HTML object>"
      ]
     },
     "metadata": {},
     "output_type": "display_data"
    },
    {
     "data": {
      "text/html": [
       "Syncing run <strong><a href='https://wandb.ai/jackjack170827-uc-san-diego/cse158-project-rating/runs/j3vvf8q1' target=\"_blank\">SVD_f200_lr0.01_reg0.02_ep20</a></strong> to <a href='https://wandb.ai/jackjack170827-uc-san-diego/cse158-project-rating' target=\"_blank\">Weights & Biases</a> (<a href='https://wandb.me/developer-guide' target=\"_blank\">docs</a>)<br/>"
      ],
      "text/plain": [
       "<IPython.core.display.HTML object>"
      ]
     },
     "metadata": {},
     "output_type": "display_data"
    },
    {
     "data": {
      "text/html": [
       " View project at <a href='https://wandb.ai/jackjack170827-uc-san-diego/cse158-project-rating' target=\"_blank\">https://wandb.ai/jackjack170827-uc-san-diego/cse158-project-rating</a>"
      ],
      "text/plain": [
       "<IPython.core.display.HTML object>"
      ]
     },
     "metadata": {},
     "output_type": "display_data"
    },
    {
     "data": {
      "text/html": [
       " View run at <a href='https://wandb.ai/jackjack170827-uc-san-diego/cse158-project-rating/runs/j3vvf8q1' target=\"_blank\">https://wandb.ai/jackjack170827-uc-san-diego/cse158-project-rating/runs/j3vvf8q1</a>"
      ],
      "text/plain": [
       "<IPython.core.display.HTML object>"
      ]
     },
     "metadata": {},
     "output_type": "display_data"
    },
    {
     "data": {
      "text/html": [
       "\n",
       "    <style>\n",
       "        .wandb-row {\n",
       "            display: flex;\n",
       "            flex-direction: row;\n",
       "            flex-wrap: wrap;\n",
       "            justify-content: flex-start;\n",
       "            width: 100%;\n",
       "        }\n",
       "        .wandb-col {\n",
       "            display: flex;\n",
       "            flex-direction: column;\n",
       "            flex-basis: 100%;\n",
       "            flex: 1;\n",
       "            padding: 10px;\n",
       "        }\n",
       "    </style>\n",
       "<div class=\"wandb-row\"><div class=\"wandb-col\"><h3>Run history:</h3><br/><table class=\"wandb\"><tr><td>avg_val_MAE</td><td>▁</td></tr><tr><td>avg_val_MSE</td><td>▁</td></tr><tr><td>avg_val_RMSE</td><td>▁</td></tr><tr><td>fold_val_MAE</td><td>▁▄█▅▁</td></tr><tr><td>fold_val_MSE</td><td>▁▄█▄▄</td></tr><tr><td>fold_val_RMSE</td><td>▁▄█▄▄</td></tr></table><br/></div><div class=\"wandb-col\"><h3>Run summary:</h3><br/><table class=\"wandb\"><tr><td>avg_val_MAE</td><td>1.14697</td></tr><tr><td>avg_val_MSE</td><td>1.9826</td></tr><tr><td>avg_val_RMSE</td><td>1.40805</td></tr><tr><td>fold_val_MAE</td><td>1.14494</td></tr><tr><td>fold_val_MSE</td><td>1.98178</td></tr><tr><td>fold_val_RMSE</td><td>1.40776</td></tr></table><br/></div></div>"
      ],
      "text/plain": [
       "<IPython.core.display.HTML object>"
      ]
     },
     "metadata": {},
     "output_type": "display_data"
    },
    {
     "data": {
      "text/html": [
       " View run <strong style=\"color:#cdcd00\">SVD_f200_lr0.01_reg0.02_ep20</strong> at: <a href='https://wandb.ai/jackjack170827-uc-san-diego/cse158-project-rating/runs/j3vvf8q1' target=\"_blank\">https://wandb.ai/jackjack170827-uc-san-diego/cse158-project-rating/runs/j3vvf8q1</a><br/> View project at: <a href='https://wandb.ai/jackjack170827-uc-san-diego/cse158-project-rating' target=\"_blank\">https://wandb.ai/jackjack170827-uc-san-diego/cse158-project-rating</a><br/>Synced 5 W&B file(s), 0 media file(s), 0 artifact file(s) and 0 other file(s)"
      ],
      "text/plain": [
       "<IPython.core.display.HTML object>"
      ]
     },
     "metadata": {},
     "output_type": "display_data"
    },
    {
     "data": {
      "text/html": [
       "Find logs at: <code>./wandb/run-20241203_032412-j3vvf8q1/logs</code>"
      ],
      "text/plain": [
       "<IPython.core.display.HTML object>"
      ]
     },
     "metadata": {},
     "output_type": "display_data"
    },
    {
     "data": {
      "text/html": [
       "Tracking run with wandb version 0.18.7"
      ],
      "text/plain": [
       "<IPython.core.display.HTML object>"
      ]
     },
     "metadata": {},
     "output_type": "display_data"
    },
    {
     "data": {
      "text/html": [
       "Run data is saved locally in <code>/Users/julie/cse158-project/wandb/run-20241203_032513-vckbdmtk</code>"
      ],
      "text/plain": [
       "<IPython.core.display.HTML object>"
      ]
     },
     "metadata": {},
     "output_type": "display_data"
    },
    {
     "data": {
      "text/html": [
       "Syncing run <strong><a href='https://wandb.ai/jackjack170827-uc-san-diego/cse158-project-rating/runs/vckbdmtk' target=\"_blank\">SVD_f200_lr0.01_reg0.02_ep50</a></strong> to <a href='https://wandb.ai/jackjack170827-uc-san-diego/cse158-project-rating' target=\"_blank\">Weights & Biases</a> (<a href='https://wandb.me/developer-guide' target=\"_blank\">docs</a>)<br/>"
      ],
      "text/plain": [
       "<IPython.core.display.HTML object>"
      ]
     },
     "metadata": {},
     "output_type": "display_data"
    },
    {
     "data": {
      "text/html": [
       " View project at <a href='https://wandb.ai/jackjack170827-uc-san-diego/cse158-project-rating' target=\"_blank\">https://wandb.ai/jackjack170827-uc-san-diego/cse158-project-rating</a>"
      ],
      "text/plain": [
       "<IPython.core.display.HTML object>"
      ]
     },
     "metadata": {},
     "output_type": "display_data"
    },
    {
     "data": {
      "text/html": [
       " View run at <a href='https://wandb.ai/jackjack170827-uc-san-diego/cse158-project-rating/runs/vckbdmtk' target=\"_blank\">https://wandb.ai/jackjack170827-uc-san-diego/cse158-project-rating/runs/vckbdmtk</a>"
      ],
      "text/plain": [
       "<IPython.core.display.HTML object>"
      ]
     },
     "metadata": {},
     "output_type": "display_data"
    },
    {
     "data": {
      "text/html": [
       "\n",
       "    <style>\n",
       "        .wandb-row {\n",
       "            display: flex;\n",
       "            flex-direction: row;\n",
       "            flex-wrap: wrap;\n",
       "            justify-content: flex-start;\n",
       "            width: 100%;\n",
       "        }\n",
       "        .wandb-col {\n",
       "            display: flex;\n",
       "            flex-direction: column;\n",
       "            flex-basis: 100%;\n",
       "            flex: 1;\n",
       "            padding: 10px;\n",
       "        }\n",
       "    </style>\n",
       "<div class=\"wandb-row\"><div class=\"wandb-col\"><h3>Run history:</h3><br/><table class=\"wandb\"><tr><td>avg_val_MAE</td><td>▁</td></tr><tr><td>avg_val_MSE</td><td>▁</td></tr><tr><td>avg_val_RMSE</td><td>▁</td></tr><tr><td>fold_val_MAE</td><td>█▅▁▁▁</td></tr><tr><td>fold_val_MSE</td><td>█▆▂▁▂</td></tr><tr><td>fold_val_RMSE</td><td>█▆▂▁▂</td></tr></table><br/></div><div class=\"wandb-col\"><h3>Run summary:</h3><br/><table class=\"wandb\"><tr><td>avg_val_MAE</td><td>1.14301</td></tr><tr><td>avg_val_MSE</td><td>1.97956</td></tr><tr><td>avg_val_RMSE</td><td>1.40696</td></tr><tr><td>fold_val_MAE</td><td>1.14124</td></tr><tr><td>fold_val_MSE</td><td>1.97272</td></tr><tr><td>fold_val_RMSE</td><td>1.40453</td></tr></table><br/></div></div>"
      ],
      "text/plain": [
       "<IPython.core.display.HTML object>"
      ]
     },
     "metadata": {},
     "output_type": "display_data"
    },
    {
     "data": {
      "text/html": [
       " View run <strong style=\"color:#cdcd00\">SVD_f200_lr0.01_reg0.02_ep50</strong> at: <a href='https://wandb.ai/jackjack170827-uc-san-diego/cse158-project-rating/runs/vckbdmtk' target=\"_blank\">https://wandb.ai/jackjack170827-uc-san-diego/cse158-project-rating/runs/vckbdmtk</a><br/> View project at: <a href='https://wandb.ai/jackjack170827-uc-san-diego/cse158-project-rating' target=\"_blank\">https://wandb.ai/jackjack170827-uc-san-diego/cse158-project-rating</a><br/>Synced 5 W&B file(s), 0 media file(s), 0 artifact file(s) and 0 other file(s)"
      ],
      "text/plain": [
       "<IPython.core.display.HTML object>"
      ]
     },
     "metadata": {},
     "output_type": "display_data"
    },
    {
     "data": {
      "text/html": [
       "Find logs at: <code>./wandb/run-20241203_032513-vckbdmtk/logs</code>"
      ],
      "text/plain": [
       "<IPython.core.display.HTML object>"
      ]
     },
     "metadata": {},
     "output_type": "display_data"
    },
    {
     "data": {
      "text/html": [
       "Tracking run with wandb version 0.18.7"
      ],
      "text/plain": [
       "<IPython.core.display.HTML object>"
      ]
     },
     "metadata": {},
     "output_type": "display_data"
    },
    {
     "data": {
      "text/html": [
       "Run data is saved locally in <code>/Users/julie/cse158-project/wandb/run-20241203_032708-d87nvne0</code>"
      ],
      "text/plain": [
       "<IPython.core.display.HTML object>"
      ]
     },
     "metadata": {},
     "output_type": "display_data"
    },
    {
     "data": {
      "text/html": [
       "Syncing run <strong><a href='https://wandb.ai/jackjack170827-uc-san-diego/cse158-project-rating/runs/d87nvne0' target=\"_blank\">SVD_f200_lr0.01_reg0.02_ep100</a></strong> to <a href='https://wandb.ai/jackjack170827-uc-san-diego/cse158-project-rating' target=\"_blank\">Weights & Biases</a> (<a href='https://wandb.me/developer-guide' target=\"_blank\">docs</a>)<br/>"
      ],
      "text/plain": [
       "<IPython.core.display.HTML object>"
      ]
     },
     "metadata": {},
     "output_type": "display_data"
    },
    {
     "data": {
      "text/html": [
       " View project at <a href='https://wandb.ai/jackjack170827-uc-san-diego/cse158-project-rating' target=\"_blank\">https://wandb.ai/jackjack170827-uc-san-diego/cse158-project-rating</a>"
      ],
      "text/plain": [
       "<IPython.core.display.HTML object>"
      ]
     },
     "metadata": {},
     "output_type": "display_data"
    },
    {
     "data": {
      "text/html": [
       " View run at <a href='https://wandb.ai/jackjack170827-uc-san-diego/cse158-project-rating/runs/d87nvne0' target=\"_blank\">https://wandb.ai/jackjack170827-uc-san-diego/cse158-project-rating/runs/d87nvne0</a>"
      ],
      "text/plain": [
       "<IPython.core.display.HTML object>"
      ]
     },
     "metadata": {},
     "output_type": "display_data"
    },
    {
     "data": {
      "text/html": [
       "\n",
       "    <style>\n",
       "        .wandb-row {\n",
       "            display: flex;\n",
       "            flex-direction: row;\n",
       "            flex-wrap: wrap;\n",
       "            justify-content: flex-start;\n",
       "            width: 100%;\n",
       "        }\n",
       "        .wandb-col {\n",
       "            display: flex;\n",
       "            flex-direction: column;\n",
       "            flex-basis: 100%;\n",
       "            flex: 1;\n",
       "            padding: 10px;\n",
       "        }\n",
       "    </style>\n",
       "<div class=\"wandb-row\"><div class=\"wandb-col\"><h3>Run history:</h3><br/><table class=\"wandb\"><tr><td>avg_val_MAE</td><td>▁</td></tr><tr><td>avg_val_MSE</td><td>▁</td></tr><tr><td>avg_val_RMSE</td><td>▁</td></tr><tr><td>fold_val_MAE</td><td>▂█▄▄▁</td></tr><tr><td>fold_val_MSE</td><td>▁█▅▄▂</td></tr><tr><td>fold_val_RMSE</td><td>▁█▅▄▂</td></tr></table><br/></div><div class=\"wandb-col\"><h3>Run summary:</h3><br/><table class=\"wandb\"><tr><td>avg_val_MAE</td><td>1.14304</td></tr><tr><td>avg_val_MSE</td><td>1.97787</td></tr><tr><td>avg_val_RMSE</td><td>1.40636</td></tr><tr><td>fold_val_MAE</td><td>1.13986</td></tr><tr><td>fold_val_MSE</td><td>1.96636</td></tr><tr><td>fold_val_RMSE</td><td>1.40227</td></tr></table><br/></div></div>"
      ],
      "text/plain": [
       "<IPython.core.display.HTML object>"
      ]
     },
     "metadata": {},
     "output_type": "display_data"
    },
    {
     "data": {
      "text/html": [
       " View run <strong style=\"color:#cdcd00\">SVD_f200_lr0.01_reg0.02_ep100</strong> at: <a href='https://wandb.ai/jackjack170827-uc-san-diego/cse158-project-rating/runs/d87nvne0' target=\"_blank\">https://wandb.ai/jackjack170827-uc-san-diego/cse158-project-rating/runs/d87nvne0</a><br/> View project at: <a href='https://wandb.ai/jackjack170827-uc-san-diego/cse158-project-rating' target=\"_blank\">https://wandb.ai/jackjack170827-uc-san-diego/cse158-project-rating</a><br/>Synced 5 W&B file(s), 0 media file(s), 0 artifact file(s) and 0 other file(s)"
      ],
      "text/plain": [
       "<IPython.core.display.HTML object>"
      ]
     },
     "metadata": {},
     "output_type": "display_data"
    },
    {
     "data": {
      "text/html": [
       "Find logs at: <code>./wandb/run-20241203_032708-d87nvne0/logs</code>"
      ],
      "text/plain": [
       "<IPython.core.display.HTML object>"
      ]
     },
     "metadata": {},
     "output_type": "display_data"
    },
    {
     "data": {
      "text/html": [
       "Tracking run with wandb version 0.18.7"
      ],
      "text/plain": [
       "<IPython.core.display.HTML object>"
      ]
     },
     "metadata": {},
     "output_type": "display_data"
    },
    {
     "data": {
      "text/html": [
       "Run data is saved locally in <code>/Users/julie/cse158-project/wandb/run-20241203_033028-28n580ip</code>"
      ],
      "text/plain": [
       "<IPython.core.display.HTML object>"
      ]
     },
     "metadata": {},
     "output_type": "display_data"
    },
    {
     "data": {
      "text/html": [
       "Syncing run <strong><a href='https://wandb.ai/jackjack170827-uc-san-diego/cse158-project-rating/runs/28n580ip' target=\"_blank\">SVD_f200_lr0.01_reg0.02_ep200</a></strong> to <a href='https://wandb.ai/jackjack170827-uc-san-diego/cse158-project-rating' target=\"_blank\">Weights & Biases</a> (<a href='https://wandb.me/developer-guide' target=\"_blank\">docs</a>)<br/>"
      ],
      "text/plain": [
       "<IPython.core.display.HTML object>"
      ]
     },
     "metadata": {},
     "output_type": "display_data"
    },
    {
     "data": {
      "text/html": [
       " View project at <a href='https://wandb.ai/jackjack170827-uc-san-diego/cse158-project-rating' target=\"_blank\">https://wandb.ai/jackjack170827-uc-san-diego/cse158-project-rating</a>"
      ],
      "text/plain": [
       "<IPython.core.display.HTML object>"
      ]
     },
     "metadata": {},
     "output_type": "display_data"
    },
    {
     "data": {
      "text/html": [
       " View run at <a href='https://wandb.ai/jackjack170827-uc-san-diego/cse158-project-rating/runs/28n580ip' target=\"_blank\">https://wandb.ai/jackjack170827-uc-san-diego/cse158-project-rating/runs/28n580ip</a>"
      ],
      "text/plain": [
       "<IPython.core.display.HTML object>"
      ]
     },
     "metadata": {},
     "output_type": "display_data"
    },
    {
     "data": {
      "text/html": [
       "\n",
       "    <style>\n",
       "        .wandb-row {\n",
       "            display: flex;\n",
       "            flex-direction: row;\n",
       "            flex-wrap: wrap;\n",
       "            justify-content: flex-start;\n",
       "            width: 100%;\n",
       "        }\n",
       "        .wandb-col {\n",
       "            display: flex;\n",
       "            flex-direction: column;\n",
       "            flex-basis: 100%;\n",
       "            flex: 1;\n",
       "            padding: 10px;\n",
       "        }\n",
       "    </style>\n",
       "<div class=\"wandb-row\"><div class=\"wandb-col\"><h3>Run history:</h3><br/><table class=\"wandb\"><tr><td>avg_val_MAE</td><td>▁</td></tr><tr><td>avg_val_MSE</td><td>▁</td></tr><tr><td>avg_val_RMSE</td><td>▁</td></tr><tr><td>fold_val_MAE</td><td>▁▇▂█▂</td></tr><tr><td>fold_val_MSE</td><td>▂▆▁█▃</td></tr><tr><td>fold_val_RMSE</td><td>▂▆▁█▃</td></tr></table><br/></div><div class=\"wandb-col\"><h3>Run summary:</h3><br/><table class=\"wandb\"><tr><td>avg_val_MAE</td><td>1.14476</td></tr><tr><td>avg_val_MSE</td><td>1.97921</td></tr><tr><td>avg_val_RMSE</td><td>1.40684</td></tr><tr><td>fold_val_MAE</td><td>1.1436</td></tr><tr><td>fold_val_MSE</td><td>1.9754</td></tr><tr><td>fold_val_RMSE</td><td>1.40549</td></tr></table><br/></div></div>"
      ],
      "text/plain": [
       "<IPython.core.display.HTML object>"
      ]
     },
     "metadata": {},
     "output_type": "display_data"
    },
    {
     "data": {
      "text/html": [
       " View run <strong style=\"color:#cdcd00\">SVD_f200_lr0.01_reg0.02_ep200</strong> at: <a href='https://wandb.ai/jackjack170827-uc-san-diego/cse158-project-rating/runs/28n580ip' target=\"_blank\">https://wandb.ai/jackjack170827-uc-san-diego/cse158-project-rating/runs/28n580ip</a><br/> View project at: <a href='https://wandb.ai/jackjack170827-uc-san-diego/cse158-project-rating' target=\"_blank\">https://wandb.ai/jackjack170827-uc-san-diego/cse158-project-rating</a><br/>Synced 5 W&B file(s), 0 media file(s), 0 artifact file(s) and 0 other file(s)"
      ],
      "text/plain": [
       "<IPython.core.display.HTML object>"
      ]
     },
     "metadata": {},
     "output_type": "display_data"
    },
    {
     "data": {
      "text/html": [
       "Find logs at: <code>./wandb/run-20241203_033028-28n580ip/logs</code>"
      ],
      "text/plain": [
       "<IPython.core.display.HTML object>"
      ]
     },
     "metadata": {},
     "output_type": "display_data"
    },
    {
     "data": {
      "text/html": [
       "Tracking run with wandb version 0.18.7"
      ],
      "text/plain": [
       "<IPython.core.display.HTML object>"
      ]
     },
     "metadata": {},
     "output_type": "display_data"
    },
    {
     "data": {
      "text/html": [
       "Run data is saved locally in <code>/Users/julie/cse158-project/wandb/run-20241203_033648-0u5we7os</code>"
      ],
      "text/plain": [
       "<IPython.core.display.HTML object>"
      ]
     },
     "metadata": {},
     "output_type": "display_data"
    },
    {
     "data": {
      "text/html": [
       "Syncing run <strong><a href='https://wandb.ai/jackjack170827-uc-san-diego/cse158-project-rating/runs/0u5we7os' target=\"_blank\">SVD_f200_lr0.01_reg0.05_ep20</a></strong> to <a href='https://wandb.ai/jackjack170827-uc-san-diego/cse158-project-rating' target=\"_blank\">Weights & Biases</a> (<a href='https://wandb.me/developer-guide' target=\"_blank\">docs</a>)<br/>"
      ],
      "text/plain": [
       "<IPython.core.display.HTML object>"
      ]
     },
     "metadata": {},
     "output_type": "display_data"
    },
    {
     "data": {
      "text/html": [
       " View project at <a href='https://wandb.ai/jackjack170827-uc-san-diego/cse158-project-rating' target=\"_blank\">https://wandb.ai/jackjack170827-uc-san-diego/cse158-project-rating</a>"
      ],
      "text/plain": [
       "<IPython.core.display.HTML object>"
      ]
     },
     "metadata": {},
     "output_type": "display_data"
    },
    {
     "data": {
      "text/html": [
       " View run at <a href='https://wandb.ai/jackjack170827-uc-san-diego/cse158-project-rating/runs/0u5we7os' target=\"_blank\">https://wandb.ai/jackjack170827-uc-san-diego/cse158-project-rating/runs/0u5we7os</a>"
      ],
      "text/plain": [
       "<IPython.core.display.HTML object>"
      ]
     },
     "metadata": {},
     "output_type": "display_data"
    },
    {
     "data": {
      "text/html": [
       "\n",
       "    <style>\n",
       "        .wandb-row {\n",
       "            display: flex;\n",
       "            flex-direction: row;\n",
       "            flex-wrap: wrap;\n",
       "            justify-content: flex-start;\n",
       "            width: 100%;\n",
       "        }\n",
       "        .wandb-col {\n",
       "            display: flex;\n",
       "            flex-direction: column;\n",
       "            flex-basis: 100%;\n",
       "            flex: 1;\n",
       "            padding: 10px;\n",
       "        }\n",
       "    </style>\n",
       "<div class=\"wandb-row\"><div class=\"wandb-col\"><h3>Run history:</h3><br/><table class=\"wandb\"><tr><td>avg_val_MAE</td><td>▁</td></tr><tr><td>avg_val_MSE</td><td>▁</td></tr><tr><td>avg_val_RMSE</td><td>▁</td></tr><tr><td>fold_val_MAE</td><td>█▃▄▁▆</td></tr><tr><td>fold_val_MSE</td><td>█▅▇▁▇</td></tr><tr><td>fold_val_RMSE</td><td>█▅▇▁▇</td></tr></table><br/></div><div class=\"wandb-col\"><h3>Run summary:</h3><br/><table class=\"wandb\"><tr><td>avg_val_MAE</td><td>1.1494</td></tr><tr><td>avg_val_MSE</td><td>1.98364</td></tr><tr><td>avg_val_RMSE</td><td>1.40842</td></tr><tr><td>fold_val_MAE</td><td>1.14968</td></tr><tr><td>fold_val_MSE</td><td>1.9852</td></tr><tr><td>fold_val_RMSE</td><td>1.40897</td></tr></table><br/></div></div>"
      ],
      "text/plain": [
       "<IPython.core.display.HTML object>"
      ]
     },
     "metadata": {},
     "output_type": "display_data"
    },
    {
     "data": {
      "text/html": [
       " View run <strong style=\"color:#cdcd00\">SVD_f200_lr0.01_reg0.05_ep20</strong> at: <a href='https://wandb.ai/jackjack170827-uc-san-diego/cse158-project-rating/runs/0u5we7os' target=\"_blank\">https://wandb.ai/jackjack170827-uc-san-diego/cse158-project-rating/runs/0u5we7os</a><br/> View project at: <a href='https://wandb.ai/jackjack170827-uc-san-diego/cse158-project-rating' target=\"_blank\">https://wandb.ai/jackjack170827-uc-san-diego/cse158-project-rating</a><br/>Synced 5 W&B file(s), 0 media file(s), 0 artifact file(s) and 0 other file(s)"
      ],
      "text/plain": [
       "<IPython.core.display.HTML object>"
      ]
     },
     "metadata": {},
     "output_type": "display_data"
    },
    {
     "data": {
      "text/html": [
       "Find logs at: <code>./wandb/run-20241203_033648-0u5we7os/logs</code>"
      ],
      "text/plain": [
       "<IPython.core.display.HTML object>"
      ]
     },
     "metadata": {},
     "output_type": "display_data"
    },
    {
     "data": {
      "text/html": [
       "Tracking run with wandb version 0.18.7"
      ],
      "text/plain": [
       "<IPython.core.display.HTML object>"
      ]
     },
     "metadata": {},
     "output_type": "display_data"
    },
    {
     "data": {
      "text/html": [
       "Run data is saved locally in <code>/Users/julie/cse158-project/wandb/run-20241203_033748-mxnb0b4u</code>"
      ],
      "text/plain": [
       "<IPython.core.display.HTML object>"
      ]
     },
     "metadata": {},
     "output_type": "display_data"
    },
    {
     "data": {
      "text/html": [
       "Syncing run <strong><a href='https://wandb.ai/jackjack170827-uc-san-diego/cse158-project-rating/runs/mxnb0b4u' target=\"_blank\">SVD_f200_lr0.01_reg0.05_ep50</a></strong> to <a href='https://wandb.ai/jackjack170827-uc-san-diego/cse158-project-rating' target=\"_blank\">Weights & Biases</a> (<a href='https://wandb.me/developer-guide' target=\"_blank\">docs</a>)<br/>"
      ],
      "text/plain": [
       "<IPython.core.display.HTML object>"
      ]
     },
     "metadata": {},
     "output_type": "display_data"
    },
    {
     "data": {
      "text/html": [
       " View project at <a href='https://wandb.ai/jackjack170827-uc-san-diego/cse158-project-rating' target=\"_blank\">https://wandb.ai/jackjack170827-uc-san-diego/cse158-project-rating</a>"
      ],
      "text/plain": [
       "<IPython.core.display.HTML object>"
      ]
     },
     "metadata": {},
     "output_type": "display_data"
    },
    {
     "data": {
      "text/html": [
       " View run at <a href='https://wandb.ai/jackjack170827-uc-san-diego/cse158-project-rating/runs/mxnb0b4u' target=\"_blank\">https://wandb.ai/jackjack170827-uc-san-diego/cse158-project-rating/runs/mxnb0b4u</a>"
      ],
      "text/plain": [
       "<IPython.core.display.HTML object>"
      ]
     },
     "metadata": {},
     "output_type": "display_data"
    },
    {
     "data": {
      "text/html": [
       "\n",
       "    <style>\n",
       "        .wandb-row {\n",
       "            display: flex;\n",
       "            flex-direction: row;\n",
       "            flex-wrap: wrap;\n",
       "            justify-content: flex-start;\n",
       "            width: 100%;\n",
       "        }\n",
       "        .wandb-col {\n",
       "            display: flex;\n",
       "            flex-direction: column;\n",
       "            flex-basis: 100%;\n",
       "            flex: 1;\n",
       "            padding: 10px;\n",
       "        }\n",
       "    </style>\n",
       "<div class=\"wandb-row\"><div class=\"wandb-col\"><h3>Run history:</h3><br/><table class=\"wandb\"><tr><td>avg_val_MAE</td><td>▁</td></tr><tr><td>avg_val_MSE</td><td>▁</td></tr><tr><td>avg_val_RMSE</td><td>▁</td></tr><tr><td>fold_val_MAE</td><td>▅▁▁█▆</td></tr><tr><td>fold_val_MSE</td><td>▁▂▁█▄</td></tr><tr><td>fold_val_RMSE</td><td>▁▂▁█▄</td></tr></table><br/></div><div class=\"wandb-col\"><h3>Run summary:</h3><br/><table class=\"wandb\"><tr><td>avg_val_MAE</td><td>1.14519</td></tr><tr><td>avg_val_MSE</td><td>1.97831</td></tr><tr><td>avg_val_RMSE</td><td>1.40652</td></tr><tr><td>fold_val_MAE</td><td>1.14673</td></tr><tr><td>fold_val_MSE</td><td>1.98125</td></tr><tr><td>fold_val_RMSE</td><td>1.40757</td></tr></table><br/></div></div>"
      ],
      "text/plain": [
       "<IPython.core.display.HTML object>"
      ]
     },
     "metadata": {},
     "output_type": "display_data"
    },
    {
     "data": {
      "text/html": [
       " View run <strong style=\"color:#cdcd00\">SVD_f200_lr0.01_reg0.05_ep50</strong> at: <a href='https://wandb.ai/jackjack170827-uc-san-diego/cse158-project-rating/runs/mxnb0b4u' target=\"_blank\">https://wandb.ai/jackjack170827-uc-san-diego/cse158-project-rating/runs/mxnb0b4u</a><br/> View project at: <a href='https://wandb.ai/jackjack170827-uc-san-diego/cse158-project-rating' target=\"_blank\">https://wandb.ai/jackjack170827-uc-san-diego/cse158-project-rating</a><br/>Synced 5 W&B file(s), 0 media file(s), 0 artifact file(s) and 0 other file(s)"
      ],
      "text/plain": [
       "<IPython.core.display.HTML object>"
      ]
     },
     "metadata": {},
     "output_type": "display_data"
    },
    {
     "data": {
      "text/html": [
       "Find logs at: <code>./wandb/run-20241203_033748-mxnb0b4u/logs</code>"
      ],
      "text/plain": [
       "<IPython.core.display.HTML object>"
      ]
     },
     "metadata": {},
     "output_type": "display_data"
    },
    {
     "data": {
      "text/html": [
       "Tracking run with wandb version 0.18.7"
      ],
      "text/plain": [
       "<IPython.core.display.HTML object>"
      ]
     },
     "metadata": {},
     "output_type": "display_data"
    },
    {
     "data": {
      "text/html": [
       "Run data is saved locally in <code>/Users/julie/cse158-project/wandb/run-20241203_033948-ufdpv84d</code>"
      ],
      "text/plain": [
       "<IPython.core.display.HTML object>"
      ]
     },
     "metadata": {},
     "output_type": "display_data"
    },
    {
     "data": {
      "text/html": [
       "Syncing run <strong><a href='https://wandb.ai/jackjack170827-uc-san-diego/cse158-project-rating/runs/ufdpv84d' target=\"_blank\">SVD_f200_lr0.01_reg0.05_ep100</a></strong> to <a href='https://wandb.ai/jackjack170827-uc-san-diego/cse158-project-rating' target=\"_blank\">Weights & Biases</a> (<a href='https://wandb.me/developer-guide' target=\"_blank\">docs</a>)<br/>"
      ],
      "text/plain": [
       "<IPython.core.display.HTML object>"
      ]
     },
     "metadata": {},
     "output_type": "display_data"
    },
    {
     "data": {
      "text/html": [
       " View project at <a href='https://wandb.ai/jackjack170827-uc-san-diego/cse158-project-rating' target=\"_blank\">https://wandb.ai/jackjack170827-uc-san-diego/cse158-project-rating</a>"
      ],
      "text/plain": [
       "<IPython.core.display.HTML object>"
      ]
     },
     "metadata": {},
     "output_type": "display_data"
    },
    {
     "data": {
      "text/html": [
       " View run at <a href='https://wandb.ai/jackjack170827-uc-san-diego/cse158-project-rating/runs/ufdpv84d' target=\"_blank\">https://wandb.ai/jackjack170827-uc-san-diego/cse158-project-rating/runs/ufdpv84d</a>"
      ],
      "text/plain": [
       "<IPython.core.display.HTML object>"
      ]
     },
     "metadata": {},
     "output_type": "display_data"
    },
    {
     "data": {
      "text/html": [
       "\n",
       "    <style>\n",
       "        .wandb-row {\n",
       "            display: flex;\n",
       "            flex-direction: row;\n",
       "            flex-wrap: wrap;\n",
       "            justify-content: flex-start;\n",
       "            width: 100%;\n",
       "        }\n",
       "        .wandb-col {\n",
       "            display: flex;\n",
       "            flex-direction: column;\n",
       "            flex-basis: 100%;\n",
       "            flex: 1;\n",
       "            padding: 10px;\n",
       "        }\n",
       "    </style>\n",
       "<div class=\"wandb-row\"><div class=\"wandb-col\"><h3>Run history:</h3><br/><table class=\"wandb\"><tr><td>avg_val_MAE</td><td>▁</td></tr><tr><td>avg_val_MSE</td><td>▁</td></tr><tr><td>avg_val_RMSE</td><td>▁</td></tr><tr><td>fold_val_MAE</td><td>▁█▅▁▅</td></tr><tr><td>fold_val_MSE</td><td>▁█▃▁▆</td></tr><tr><td>fold_val_RMSE</td><td>▁█▃▁▆</td></tr></table><br/></div><div class=\"wandb-col\"><h3>Run summary:</h3><br/><table class=\"wandb\"><tr><td>avg_val_MAE</td><td>1.14661</td></tr><tr><td>avg_val_MSE</td><td>1.98011</td></tr><tr><td>avg_val_RMSE</td><td>1.40716</td></tr><tr><td>fold_val_MAE</td><td>1.14725</td></tr><tr><td>fold_val_MSE</td><td>1.98592</td></tr><tr><td>fold_val_RMSE</td><td>1.40923</td></tr></table><br/></div></div>"
      ],
      "text/plain": [
       "<IPython.core.display.HTML object>"
      ]
     },
     "metadata": {},
     "output_type": "display_data"
    },
    {
     "data": {
      "text/html": [
       " View run <strong style=\"color:#cdcd00\">SVD_f200_lr0.01_reg0.05_ep100</strong> at: <a href='https://wandb.ai/jackjack170827-uc-san-diego/cse158-project-rating/runs/ufdpv84d' target=\"_blank\">https://wandb.ai/jackjack170827-uc-san-diego/cse158-project-rating/runs/ufdpv84d</a><br/> View project at: <a href='https://wandb.ai/jackjack170827-uc-san-diego/cse158-project-rating' target=\"_blank\">https://wandb.ai/jackjack170827-uc-san-diego/cse158-project-rating</a><br/>Synced 5 W&B file(s), 0 media file(s), 0 artifact file(s) and 0 other file(s)"
      ],
      "text/plain": [
       "<IPython.core.display.HTML object>"
      ]
     },
     "metadata": {},
     "output_type": "display_data"
    },
    {
     "data": {
      "text/html": [
       "Find logs at: <code>./wandb/run-20241203_033948-ufdpv84d/logs</code>"
      ],
      "text/plain": [
       "<IPython.core.display.HTML object>"
      ]
     },
     "metadata": {},
     "output_type": "display_data"
    },
    {
     "data": {
      "text/html": [
       "Tracking run with wandb version 0.18.7"
      ],
      "text/plain": [
       "<IPython.core.display.HTML object>"
      ]
     },
     "metadata": {},
     "output_type": "display_data"
    },
    {
     "data": {
      "text/html": [
       "Run data is saved locally in <code>/Users/julie/cse158-project/wandb/run-20241203_034310-1r4tdwrg</code>"
      ],
      "text/plain": [
       "<IPython.core.display.HTML object>"
      ]
     },
     "metadata": {},
     "output_type": "display_data"
    },
    {
     "data": {
      "text/html": [
       "Syncing run <strong><a href='https://wandb.ai/jackjack170827-uc-san-diego/cse158-project-rating/runs/1r4tdwrg' target=\"_blank\">SVD_f200_lr0.01_reg0.05_ep200</a></strong> to <a href='https://wandb.ai/jackjack170827-uc-san-diego/cse158-project-rating' target=\"_blank\">Weights & Biases</a> (<a href='https://wandb.me/developer-guide' target=\"_blank\">docs</a>)<br/>"
      ],
      "text/plain": [
       "<IPython.core.display.HTML object>"
      ]
     },
     "metadata": {},
     "output_type": "display_data"
    },
    {
     "data": {
      "text/html": [
       " View project at <a href='https://wandb.ai/jackjack170827-uc-san-diego/cse158-project-rating' target=\"_blank\">https://wandb.ai/jackjack170827-uc-san-diego/cse158-project-rating</a>"
      ],
      "text/plain": [
       "<IPython.core.display.HTML object>"
      ]
     },
     "metadata": {},
     "output_type": "display_data"
    },
    {
     "data": {
      "text/html": [
       " View run at <a href='https://wandb.ai/jackjack170827-uc-san-diego/cse158-project-rating/runs/1r4tdwrg' target=\"_blank\">https://wandb.ai/jackjack170827-uc-san-diego/cse158-project-rating/runs/1r4tdwrg</a>"
      ],
      "text/plain": [
       "<IPython.core.display.HTML object>"
      ]
     },
     "metadata": {},
     "output_type": "display_data"
    },
    {
     "data": {
      "text/html": [
       "\n",
       "    <style>\n",
       "        .wandb-row {\n",
       "            display: flex;\n",
       "            flex-direction: row;\n",
       "            flex-wrap: wrap;\n",
       "            justify-content: flex-start;\n",
       "            width: 100%;\n",
       "        }\n",
       "        .wandb-col {\n",
       "            display: flex;\n",
       "            flex-direction: column;\n",
       "            flex-basis: 100%;\n",
       "            flex: 1;\n",
       "            padding: 10px;\n",
       "        }\n",
       "    </style>\n",
       "<div class=\"wandb-row\"><div class=\"wandb-col\"><h3>Run history:</h3><br/><table class=\"wandb\"><tr><td>avg_val_MAE</td><td>▁</td></tr><tr><td>avg_val_MSE</td><td>▁</td></tr><tr><td>avg_val_RMSE</td><td>▁</td></tr><tr><td>fold_val_MAE</td><td>▃▁▅▄█</td></tr><tr><td>fold_val_MSE</td><td>▃▁▄▄█</td></tr><tr><td>fold_val_RMSE</td><td>▃▁▄▄█</td></tr></table><br/></div><div class=\"wandb-col\"><h3>Run summary:</h3><br/><table class=\"wandb\"><tr><td>avg_val_MAE</td><td>1.14869</td></tr><tr><td>avg_val_MSE</td><td>1.9836</td></tr><tr><td>avg_val_RMSE</td><td>1.4084</td></tr><tr><td>fold_val_MAE</td><td>1.15436</td></tr><tr><td>fold_val_MSE</td><td>2.00569</td></tr><tr><td>fold_val_RMSE</td><td>1.41622</td></tr></table><br/></div></div>"
      ],
      "text/plain": [
       "<IPython.core.display.HTML object>"
      ]
     },
     "metadata": {},
     "output_type": "display_data"
    },
    {
     "data": {
      "text/html": [
       " View run <strong style=\"color:#cdcd00\">SVD_f200_lr0.01_reg0.05_ep200</strong> at: <a href='https://wandb.ai/jackjack170827-uc-san-diego/cse158-project-rating/runs/1r4tdwrg' target=\"_blank\">https://wandb.ai/jackjack170827-uc-san-diego/cse158-project-rating/runs/1r4tdwrg</a><br/> View project at: <a href='https://wandb.ai/jackjack170827-uc-san-diego/cse158-project-rating' target=\"_blank\">https://wandb.ai/jackjack170827-uc-san-diego/cse158-project-rating</a><br/>Synced 5 W&B file(s), 0 media file(s), 0 artifact file(s) and 0 other file(s)"
      ],
      "text/plain": [
       "<IPython.core.display.HTML object>"
      ]
     },
     "metadata": {},
     "output_type": "display_data"
    },
    {
     "data": {
      "text/html": [
       "Find logs at: <code>./wandb/run-20241203_034310-1r4tdwrg/logs</code>"
      ],
      "text/plain": [
       "<IPython.core.display.HTML object>"
      ]
     },
     "metadata": {},
     "output_type": "display_data"
    },
    {
     "data": {
      "text/html": [
       "Tracking run with wandb version 0.18.7"
      ],
      "text/plain": [
       "<IPython.core.display.HTML object>"
      ]
     },
     "metadata": {},
     "output_type": "display_data"
    },
    {
     "data": {
      "text/html": [
       "Run data is saved locally in <code>/Users/julie/cse158-project/wandb/run-20241203_034923-cj667nmz</code>"
      ],
      "text/plain": [
       "<IPython.core.display.HTML object>"
      ]
     },
     "metadata": {},
     "output_type": "display_data"
    },
    {
     "data": {
      "text/html": [
       "Syncing run <strong><a href='https://wandb.ai/jackjack170827-uc-san-diego/cse158-project-rating/runs/cj667nmz' target=\"_blank\">SVD_f200_lr0.01_reg0.1_ep20</a></strong> to <a href='https://wandb.ai/jackjack170827-uc-san-diego/cse158-project-rating' target=\"_blank\">Weights & Biases</a> (<a href='https://wandb.me/developer-guide' target=\"_blank\">docs</a>)<br/>"
      ],
      "text/plain": [
       "<IPython.core.display.HTML object>"
      ]
     },
     "metadata": {},
     "output_type": "display_data"
    },
    {
     "data": {
      "text/html": [
       " View project at <a href='https://wandb.ai/jackjack170827-uc-san-diego/cse158-project-rating' target=\"_blank\">https://wandb.ai/jackjack170827-uc-san-diego/cse158-project-rating</a>"
      ],
      "text/plain": [
       "<IPython.core.display.HTML object>"
      ]
     },
     "metadata": {},
     "output_type": "display_data"
    },
    {
     "data": {
      "text/html": [
       " View run at <a href='https://wandb.ai/jackjack170827-uc-san-diego/cse158-project-rating/runs/cj667nmz' target=\"_blank\">https://wandb.ai/jackjack170827-uc-san-diego/cse158-project-rating/runs/cj667nmz</a>"
      ],
      "text/plain": [
       "<IPython.core.display.HTML object>"
      ]
     },
     "metadata": {},
     "output_type": "display_data"
    },
    {
     "data": {
      "text/html": [
       "\n",
       "    <style>\n",
       "        .wandb-row {\n",
       "            display: flex;\n",
       "            flex-direction: row;\n",
       "            flex-wrap: wrap;\n",
       "            justify-content: flex-start;\n",
       "            width: 100%;\n",
       "        }\n",
       "        .wandb-col {\n",
       "            display: flex;\n",
       "            flex-direction: column;\n",
       "            flex-basis: 100%;\n",
       "            flex: 1;\n",
       "            padding: 10px;\n",
       "        }\n",
       "    </style>\n",
       "<div class=\"wandb-row\"><div class=\"wandb-col\"><h3>Run history:</h3><br/><table class=\"wandb\"><tr><td>avg_val_MAE</td><td>▁</td></tr><tr><td>avg_val_MSE</td><td>▁</td></tr><tr><td>avg_val_RMSE</td><td>▁</td></tr><tr><td>fold_val_MAE</td><td>▄▆█▁▆</td></tr><tr><td>fold_val_MSE</td><td>▁▃▄▄█</td></tr><tr><td>fold_val_RMSE</td><td>▁▃▄▄█</td></tr></table><br/></div><div class=\"wandb-col\"><h3>Run summary:</h3><br/><table class=\"wandb\"><tr><td>avg_val_MAE</td><td>1.15287</td></tr><tr><td>avg_val_MSE</td><td>1.9844</td></tr><tr><td>avg_val_RMSE</td><td>1.40869</td></tr><tr><td>fold_val_MAE</td><td>1.1531</td></tr><tr><td>fold_val_MSE</td><td>1.99004</td></tr><tr><td>fold_val_RMSE</td><td>1.41069</td></tr></table><br/></div></div>"
      ],
      "text/plain": [
       "<IPython.core.display.HTML object>"
      ]
     },
     "metadata": {},
     "output_type": "display_data"
    },
    {
     "data": {
      "text/html": [
       " View run <strong style=\"color:#cdcd00\">SVD_f200_lr0.01_reg0.1_ep20</strong> at: <a href='https://wandb.ai/jackjack170827-uc-san-diego/cse158-project-rating/runs/cj667nmz' target=\"_blank\">https://wandb.ai/jackjack170827-uc-san-diego/cse158-project-rating/runs/cj667nmz</a><br/> View project at: <a href='https://wandb.ai/jackjack170827-uc-san-diego/cse158-project-rating' target=\"_blank\">https://wandb.ai/jackjack170827-uc-san-diego/cse158-project-rating</a><br/>Synced 5 W&B file(s), 0 media file(s), 0 artifact file(s) and 0 other file(s)"
      ],
      "text/plain": [
       "<IPython.core.display.HTML object>"
      ]
     },
     "metadata": {},
     "output_type": "display_data"
    },
    {
     "data": {
      "text/html": [
       "Find logs at: <code>./wandb/run-20241203_034923-cj667nmz/logs</code>"
      ],
      "text/plain": [
       "<IPython.core.display.HTML object>"
      ]
     },
     "metadata": {},
     "output_type": "display_data"
    },
    {
     "data": {
      "text/html": [
       "Tracking run with wandb version 0.18.7"
      ],
      "text/plain": [
       "<IPython.core.display.HTML object>"
      ]
     },
     "metadata": {},
     "output_type": "display_data"
    },
    {
     "data": {
      "text/html": [
       "Run data is saved locally in <code>/Users/julie/cse158-project/wandb/run-20241203_035026-n347ezhh</code>"
      ],
      "text/plain": [
       "<IPython.core.display.HTML object>"
      ]
     },
     "metadata": {},
     "output_type": "display_data"
    },
    {
     "data": {
      "text/html": [
       "Syncing run <strong><a href='https://wandb.ai/jackjack170827-uc-san-diego/cse158-project-rating/runs/n347ezhh' target=\"_blank\">SVD_f200_lr0.01_reg0.1_ep50</a></strong> to <a href='https://wandb.ai/jackjack170827-uc-san-diego/cse158-project-rating' target=\"_blank\">Weights & Biases</a> (<a href='https://wandb.me/developer-guide' target=\"_blank\">docs</a>)<br/>"
      ],
      "text/plain": [
       "<IPython.core.display.HTML object>"
      ]
     },
     "metadata": {},
     "output_type": "display_data"
    },
    {
     "data": {
      "text/html": [
       " View project at <a href='https://wandb.ai/jackjack170827-uc-san-diego/cse158-project-rating' target=\"_blank\">https://wandb.ai/jackjack170827-uc-san-diego/cse158-project-rating</a>"
      ],
      "text/plain": [
       "<IPython.core.display.HTML object>"
      ]
     },
     "metadata": {},
     "output_type": "display_data"
    },
    {
     "data": {
      "text/html": [
       " View run at <a href='https://wandb.ai/jackjack170827-uc-san-diego/cse158-project-rating/runs/n347ezhh' target=\"_blank\">https://wandb.ai/jackjack170827-uc-san-diego/cse158-project-rating/runs/n347ezhh</a>"
      ],
      "text/plain": [
       "<IPython.core.display.HTML object>"
      ]
     },
     "metadata": {},
     "output_type": "display_data"
    },
    {
     "data": {
      "text/html": [
       "\n",
       "    <style>\n",
       "        .wandb-row {\n",
       "            display: flex;\n",
       "            flex-direction: row;\n",
       "            flex-wrap: wrap;\n",
       "            justify-content: flex-start;\n",
       "            width: 100%;\n",
       "        }\n",
       "        .wandb-col {\n",
       "            display: flex;\n",
       "            flex-direction: column;\n",
       "            flex-basis: 100%;\n",
       "            flex: 1;\n",
       "            padding: 10px;\n",
       "        }\n",
       "    </style>\n",
       "<div class=\"wandb-row\"><div class=\"wandb-col\"><h3>Run history:</h3><br/><table class=\"wandb\"><tr><td>avg_val_MAE</td><td>▁</td></tr><tr><td>avg_val_MSE</td><td>▁</td></tr><tr><td>avg_val_RMSE</td><td>▁</td></tr><tr><td>fold_val_MAE</td><td>▇█▁▅▂</td></tr><tr><td>fold_val_MSE</td><td>██▁▄▁</td></tr><tr><td>fold_val_RMSE</td><td>██▁▄▁</td></tr></table><br/></div><div class=\"wandb-col\"><h3>Run summary:</h3><br/><table class=\"wandb\"><tr><td>avg_val_MAE</td><td>1.14947</td></tr><tr><td>avg_val_MSE</td><td>1.9807</td></tr><tr><td>avg_val_RMSE</td><td>1.40737</td></tr><tr><td>fold_val_MAE</td><td>1.14808</td></tr><tr><td>fold_val_MSE</td><td>1.97264</td></tr><tr><td>fold_val_RMSE</td><td>1.40451</td></tr></table><br/></div></div>"
      ],
      "text/plain": [
       "<IPython.core.display.HTML object>"
      ]
     },
     "metadata": {},
     "output_type": "display_data"
    },
    {
     "data": {
      "text/html": [
       " View run <strong style=\"color:#cdcd00\">SVD_f200_lr0.01_reg0.1_ep50</strong> at: <a href='https://wandb.ai/jackjack170827-uc-san-diego/cse158-project-rating/runs/n347ezhh' target=\"_blank\">https://wandb.ai/jackjack170827-uc-san-diego/cse158-project-rating/runs/n347ezhh</a><br/> View project at: <a href='https://wandb.ai/jackjack170827-uc-san-diego/cse158-project-rating' target=\"_blank\">https://wandb.ai/jackjack170827-uc-san-diego/cse158-project-rating</a><br/>Synced 5 W&B file(s), 0 media file(s), 0 artifact file(s) and 0 other file(s)"
      ],
      "text/plain": [
       "<IPython.core.display.HTML object>"
      ]
     },
     "metadata": {},
     "output_type": "display_data"
    },
    {
     "data": {
      "text/html": [
       "Find logs at: <code>./wandb/run-20241203_035026-n347ezhh/logs</code>"
      ],
      "text/plain": [
       "<IPython.core.display.HTML object>"
      ]
     },
     "metadata": {},
     "output_type": "display_data"
    },
    {
     "data": {
      "text/html": [
       "Tracking run with wandb version 0.18.7"
      ],
      "text/plain": [
       "<IPython.core.display.HTML object>"
      ]
     },
     "metadata": {},
     "output_type": "display_data"
    },
    {
     "data": {
      "text/html": [
       "Run data is saved locally in <code>/Users/julie/cse158-project/wandb/run-20241203_035218-3p9my1ty</code>"
      ],
      "text/plain": [
       "<IPython.core.display.HTML object>"
      ]
     },
     "metadata": {},
     "output_type": "display_data"
    },
    {
     "data": {
      "text/html": [
       "Syncing run <strong><a href='https://wandb.ai/jackjack170827-uc-san-diego/cse158-project-rating/runs/3p9my1ty' target=\"_blank\">SVD_f200_lr0.01_reg0.1_ep100</a></strong> to <a href='https://wandb.ai/jackjack170827-uc-san-diego/cse158-project-rating' target=\"_blank\">Weights & Biases</a> (<a href='https://wandb.me/developer-guide' target=\"_blank\">docs</a>)<br/>"
      ],
      "text/plain": [
       "<IPython.core.display.HTML object>"
      ]
     },
     "metadata": {},
     "output_type": "display_data"
    },
    {
     "data": {
      "text/html": [
       " View project at <a href='https://wandb.ai/jackjack170827-uc-san-diego/cse158-project-rating' target=\"_blank\">https://wandb.ai/jackjack170827-uc-san-diego/cse158-project-rating</a>"
      ],
      "text/plain": [
       "<IPython.core.display.HTML object>"
      ]
     },
     "metadata": {},
     "output_type": "display_data"
    },
    {
     "data": {
      "text/html": [
       " View run at <a href='https://wandb.ai/jackjack170827-uc-san-diego/cse158-project-rating/runs/3p9my1ty' target=\"_blank\">https://wandb.ai/jackjack170827-uc-san-diego/cse158-project-rating/runs/3p9my1ty</a>"
      ],
      "text/plain": [
       "<IPython.core.display.HTML object>"
      ]
     },
     "metadata": {},
     "output_type": "display_data"
    },
    {
     "data": {
      "text/html": [
       "\n",
       "    <style>\n",
       "        .wandb-row {\n",
       "            display: flex;\n",
       "            flex-direction: row;\n",
       "            flex-wrap: wrap;\n",
       "            justify-content: flex-start;\n",
       "            width: 100%;\n",
       "        }\n",
       "        .wandb-col {\n",
       "            display: flex;\n",
       "            flex-direction: column;\n",
       "            flex-basis: 100%;\n",
       "            flex: 1;\n",
       "            padding: 10px;\n",
       "        }\n",
       "    </style>\n",
       "<div class=\"wandb-row\"><div class=\"wandb-col\"><h3>Run history:</h3><br/><table class=\"wandb\"><tr><td>avg_val_MAE</td><td>▁</td></tr><tr><td>avg_val_MSE</td><td>▁</td></tr><tr><td>avg_val_RMSE</td><td>▁</td></tr><tr><td>fold_val_MAE</td><td>█▅▁▄▆</td></tr><tr><td>fold_val_MSE</td><td>█▃▁▇▅</td></tr><tr><td>fold_val_RMSE</td><td>█▃▁▇▅</td></tr></table><br/></div><div class=\"wandb-col\"><h3>Run summary:</h3><br/><table class=\"wandb\"><tr><td>avg_val_MAE</td><td>1.15082</td></tr><tr><td>avg_val_MSE</td><td>1.98435</td></tr><tr><td>avg_val_RMSE</td><td>1.40867</td></tr><tr><td>fold_val_MAE</td><td>1.15121</td></tr><tr><td>fold_val_MSE</td><td>1.98422</td></tr><tr><td>fold_val_RMSE</td><td>1.40862</td></tr></table><br/></div></div>"
      ],
      "text/plain": [
       "<IPython.core.display.HTML object>"
      ]
     },
     "metadata": {},
     "output_type": "display_data"
    },
    {
     "data": {
      "text/html": [
       " View run <strong style=\"color:#cdcd00\">SVD_f200_lr0.01_reg0.1_ep100</strong> at: <a href='https://wandb.ai/jackjack170827-uc-san-diego/cse158-project-rating/runs/3p9my1ty' target=\"_blank\">https://wandb.ai/jackjack170827-uc-san-diego/cse158-project-rating/runs/3p9my1ty</a><br/> View project at: <a href='https://wandb.ai/jackjack170827-uc-san-diego/cse158-project-rating' target=\"_blank\">https://wandb.ai/jackjack170827-uc-san-diego/cse158-project-rating</a><br/>Synced 5 W&B file(s), 0 media file(s), 0 artifact file(s) and 0 other file(s)"
      ],
      "text/plain": [
       "<IPython.core.display.HTML object>"
      ]
     },
     "metadata": {},
     "output_type": "display_data"
    },
    {
     "data": {
      "text/html": [
       "Find logs at: <code>./wandb/run-20241203_035218-3p9my1ty/logs</code>"
      ],
      "text/plain": [
       "<IPython.core.display.HTML object>"
      ]
     },
     "metadata": {},
     "output_type": "display_data"
    },
    {
     "data": {
      "text/html": [
       "Tracking run with wandb version 0.18.7"
      ],
      "text/plain": [
       "<IPython.core.display.HTML object>"
      ]
     },
     "metadata": {},
     "output_type": "display_data"
    },
    {
     "data": {
      "text/html": [
       "Run data is saved locally in <code>/Users/julie/cse158-project/wandb/run-20241203_035539-vpdrexwh</code>"
      ],
      "text/plain": [
       "<IPython.core.display.HTML object>"
      ]
     },
     "metadata": {},
     "output_type": "display_data"
    },
    {
     "data": {
      "text/html": [
       "Syncing run <strong><a href='https://wandb.ai/jackjack170827-uc-san-diego/cse158-project-rating/runs/vpdrexwh' target=\"_blank\">SVD_f200_lr0.01_reg0.1_ep200</a></strong> to <a href='https://wandb.ai/jackjack170827-uc-san-diego/cse158-project-rating' target=\"_blank\">Weights & Biases</a> (<a href='https://wandb.me/developer-guide' target=\"_blank\">docs</a>)<br/>"
      ],
      "text/plain": [
       "<IPython.core.display.HTML object>"
      ]
     },
     "metadata": {},
     "output_type": "display_data"
    },
    {
     "data": {
      "text/html": [
       " View project at <a href='https://wandb.ai/jackjack170827-uc-san-diego/cse158-project-rating' target=\"_blank\">https://wandb.ai/jackjack170827-uc-san-diego/cse158-project-rating</a>"
      ],
      "text/plain": [
       "<IPython.core.display.HTML object>"
      ]
     },
     "metadata": {},
     "output_type": "display_data"
    },
    {
     "data": {
      "text/html": [
       " View run at <a href='https://wandb.ai/jackjack170827-uc-san-diego/cse158-project-rating/runs/vpdrexwh' target=\"_blank\">https://wandb.ai/jackjack170827-uc-san-diego/cse158-project-rating/runs/vpdrexwh</a>"
      ],
      "text/plain": [
       "<IPython.core.display.HTML object>"
      ]
     },
     "metadata": {},
     "output_type": "display_data"
    },
    {
     "data": {
      "text/html": [
       "\n",
       "    <style>\n",
       "        .wandb-row {\n",
       "            display: flex;\n",
       "            flex-direction: row;\n",
       "            flex-wrap: wrap;\n",
       "            justify-content: flex-start;\n",
       "            width: 100%;\n",
       "        }\n",
       "        .wandb-col {\n",
       "            display: flex;\n",
       "            flex-direction: column;\n",
       "            flex-basis: 100%;\n",
       "            flex: 1;\n",
       "            padding: 10px;\n",
       "        }\n",
       "    </style>\n",
       "<div class=\"wandb-row\"><div class=\"wandb-col\"><h3>Run history:</h3><br/><table class=\"wandb\"><tr><td>avg_val_MAE</td><td>▁</td></tr><tr><td>avg_val_MSE</td><td>▁</td></tr><tr><td>avg_val_RMSE</td><td>▁</td></tr><tr><td>fold_val_MAE</td><td>▂▁▄▄█</td></tr><tr><td>fold_val_MSE</td><td>▂▁▂▇█</td></tr><tr><td>fold_val_RMSE</td><td>▂▁▂▇█</td></tr></table><br/></div><div class=\"wandb-col\"><h3>Run summary:</h3><br/><table class=\"wandb\"><tr><td>avg_val_MAE</td><td>1.15359</td></tr><tr><td>avg_val_MSE</td><td>1.9928</td></tr><tr><td>avg_val_RMSE</td><td>1.41166</td></tr><tr><td>fold_val_MAE</td><td>1.1566</td></tr><tr><td>fold_val_MSE</td><td>1.99908</td></tr><tr><td>fold_val_RMSE</td><td>1.41389</td></tr></table><br/></div></div>"
      ],
      "text/plain": [
       "<IPython.core.display.HTML object>"
      ]
     },
     "metadata": {},
     "output_type": "display_data"
    },
    {
     "data": {
      "text/html": [
       " View run <strong style=\"color:#cdcd00\">SVD_f200_lr0.01_reg0.1_ep200</strong> at: <a href='https://wandb.ai/jackjack170827-uc-san-diego/cse158-project-rating/runs/vpdrexwh' target=\"_blank\">https://wandb.ai/jackjack170827-uc-san-diego/cse158-project-rating/runs/vpdrexwh</a><br/> View project at: <a href='https://wandb.ai/jackjack170827-uc-san-diego/cse158-project-rating' target=\"_blank\">https://wandb.ai/jackjack170827-uc-san-diego/cse158-project-rating</a><br/>Synced 5 W&B file(s), 0 media file(s), 0 artifact file(s) and 0 other file(s)"
      ],
      "text/plain": [
       "<IPython.core.display.HTML object>"
      ]
     },
     "metadata": {},
     "output_type": "display_data"
    },
    {
     "data": {
      "text/html": [
       "Find logs at: <code>./wandb/run-20241203_035539-vpdrexwh/logs</code>"
      ],
      "text/plain": [
       "<IPython.core.display.HTML object>"
      ]
     },
     "metadata": {},
     "output_type": "display_data"
    },
    {
     "name": "stdout",
     "output_type": "stream",
     "text": [
      "Best Hyperparameters: {'n_factors': 100, 'lr_all': 0.01, 'reg_all': 0.05, 'n_epochs': 50}\n"
     ]
    },
    {
     "data": {
      "text/html": [
       "Tracking run with wandb version 0.18.7"
      ],
      "text/plain": [
       "<IPython.core.display.HTML object>"
      ]
     },
     "metadata": {},
     "output_type": "display_data"
    },
    {
     "data": {
      "text/html": [
       "Run data is saved locally in <code>/Users/julie/cse158-project/wandb/run-20241203_040203-9h37f6qm</code>"
      ],
      "text/plain": [
       "<IPython.core.display.HTML object>"
      ]
     },
     "metadata": {},
     "output_type": "display_data"
    },
    {
     "data": {
      "text/html": [
       "Syncing run <strong><a href='https://wandb.ai/jackjack170827-uc-san-diego/cse158-project-rating/runs/9h37f6qm' target=\"_blank\">Test_Set_Evaluation</a></strong> to <a href='https://wandb.ai/jackjack170827-uc-san-diego/cse158-project-rating' target=\"_blank\">Weights & Biases</a> (<a href='https://wandb.me/developer-guide' target=\"_blank\">docs</a>)<br/>"
      ],
      "text/plain": [
       "<IPython.core.display.HTML object>"
      ]
     },
     "metadata": {},
     "output_type": "display_data"
    },
    {
     "data": {
      "text/html": [
       " View project at <a href='https://wandb.ai/jackjack170827-uc-san-diego/cse158-project-rating' target=\"_blank\">https://wandb.ai/jackjack170827-uc-san-diego/cse158-project-rating</a>"
      ],
      "text/plain": [
       "<IPython.core.display.HTML object>"
      ]
     },
     "metadata": {},
     "output_type": "display_data"
    },
    {
     "data": {
      "text/html": [
       " View run at <a href='https://wandb.ai/jackjack170827-uc-san-diego/cse158-project-rating/runs/9h37f6qm' target=\"_blank\">https://wandb.ai/jackjack170827-uc-san-diego/cse158-project-rating/runs/9h37f6qm</a>"
      ],
      "text/plain": [
       "<IPython.core.display.HTML object>"
      ]
     },
     "metadata": {},
     "output_type": "display_data"
    },
    {
     "data": {
      "application/vnd.jupyter.widget-view+json": {
       "model_id": "7eac85a815e7413b8025571c6e0abb3d",
       "version_major": 2,
       "version_minor": 0
      },
      "text/plain": [
       "VBox(children=(Label(value='0.006 MB of 0.006 MB uploaded\\r'), FloatProgress(value=1.0, max=1.0)))"
      ]
     },
     "metadata": {},
     "output_type": "display_data"
    },
    {
     "data": {
      "text/html": [
       "\n",
       "    <style>\n",
       "        .wandb-row {\n",
       "            display: flex;\n",
       "            flex-direction: row;\n",
       "            flex-wrap: wrap;\n",
       "            justify-content: flex-start;\n",
       "            width: 100%;\n",
       "        }\n",
       "        .wandb-col {\n",
       "            display: flex;\n",
       "            flex-direction: column;\n",
       "            flex-basis: 100%;\n",
       "            flex: 1;\n",
       "            padding: 10px;\n",
       "        }\n",
       "    </style>\n",
       "<div class=\"wandb-row\"><div class=\"wandb-col\"><h3>Run history:</h3><br/><table class=\"wandb\"><tr><td>test_MAE</td><td>▁</td></tr><tr><td>test_MSE</td><td>▁</td></tr><tr><td>test_RMSE</td><td>▁</td></tr></table><br/></div><div class=\"wandb-col\"><h3>Run summary:</h3><br/><table class=\"wandb\"><tr><td>test_MAE</td><td>1.12818</td></tr><tr><td>test_MSE</td><td>1.95282</td></tr><tr><td>test_RMSE</td><td>1.39744</td></tr></table><br/></div></div>"
      ],
      "text/plain": [
       "<IPython.core.display.HTML object>"
      ]
     },
     "metadata": {},
     "output_type": "display_data"
    },
    {
     "data": {
      "text/html": [
       " View run <strong style=\"color:#cdcd00\">Test_Set_Evaluation</strong> at: <a href='https://wandb.ai/jackjack170827-uc-san-diego/cse158-project-rating/runs/9h37f6qm' target=\"_blank\">https://wandb.ai/jackjack170827-uc-san-diego/cse158-project-rating/runs/9h37f6qm</a><br/> View project at: <a href='https://wandb.ai/jackjack170827-uc-san-diego/cse158-project-rating' target=\"_blank\">https://wandb.ai/jackjack170827-uc-san-diego/cse158-project-rating</a><br/>Synced 5 W&B file(s), 0 media file(s), 2 artifact file(s) and 0 other file(s)"
      ],
      "text/plain": [
       "<IPython.core.display.HTML object>"
      ]
     },
     "metadata": {},
     "output_type": "display_data"
    },
    {
     "data": {
      "text/html": [
       "Find logs at: <code>./wandb/run-20241203_040203-9h37f6qm/logs</code>"
      ],
      "text/plain": [
       "<IPython.core.display.HTML object>"
      ]
     },
     "metadata": {},
     "output_type": "display_data"
    }
   ],
   "source": [
    "project=\"cse158-project-rating\"\n",
    "entity=\"jackjack170827-uc-san-diego\"\n",
    "\n",
    "train_val_df, test_df = train_test_split(df, test_size=0.2, random_state=42)\n",
    "\n",
    "reader = Reader(rating_scale=(1, 5))\n",
    "train_val_set = Dataset.load_from_df(train_val_df[['user_id', 'parent_asin', 'rating']], reader)\n",
    "\n",
    "test_set = list(test_df.itertuples(index=False, name=None))\n",
    "\n",
    "param_grid = {\n",
    "    \"n_factors\": [50, 100, 200],\n",
    "    \"lr_all\": [0.001, 0.005, 0.01],\n",
    "    \"reg_all\": [0.02, 0.05, 0.1],\n",
    "    \"n_epochs\": [20, 50, 100, 200]\n",
    "}\n",
    "\n",
    "param_combinations = list(itertools.product(\n",
    "    param_grid[\"n_factors\"], param_grid[\"lr_all\"],\n",
    "    param_grid[\"reg_all\"], param_grid[\"n_epochs\"]\n",
    "))\n",
    "\n",
    "kf = KFold(n_splits=5)\n",
    "best_params = None\n",
    "best_val_rmse = float(\"inf\")\n",
    "\n",
    "for n_factors, lr_all, reg_all, n_epochs in param_combinations:\n",
    "    config = {\n",
    "        \"n_factors\": n_factors,\n",
    "        \"lr_all\": lr_all,\n",
    "        \"reg_all\": reg_all,\n",
    "        \"n_epochs\": n_epochs\n",
    "    }\n",
    "\n",
    "    run = wandb.init(\n",
    "        project=project,\n",
    "        entity=entity,\n",
    "        name=f\"SVD_f{n_factors}_lr{lr_all}_reg{reg_all}_ep{n_epochs}\",\n",
    "        config=config\n",
    "    )\n",
    "\n",
    "    svd = SVD(**config)\n",
    "\n",
    "    results = cross_validate(svd, train_val_set, measures=[\"RMSE\", \"MAE\"], cv=kf)\n",
    "\n",
    "    for fold_idx in range(kf.n_splits):\n",
    "        wandb.log({\n",
    "            \"fold_val_MSE\": results[\"test_rmse\"][fold_idx] ** 2,\n",
    "            \"fold_val_RMSE\": results[\"test_rmse\"][fold_idx],\n",
    "            \"fold_val_MAE\": results[\"test_mae\"][fold_idx]\n",
    "        })\n",
    "\n",
    "    avg_val_mse = np.mean([rmse ** 2 for rmse in results[\"test_rmse\"]])\n",
    "    avg_val_rmse = np.mean(results[\"test_rmse\"])\n",
    "    avg_val_mae = np.mean(results[\"test_mae\"])\n",
    "\n",
    "    wandb.log({\n",
    "        \"avg_val_MSE\": avg_val_mse,\n",
    "        \"avg_val_RMSE\": avg_val_rmse,\n",
    "        \"avg_val_MAE\": avg_val_mae\n",
    "    })\n",
    "\n",
    "    if avg_val_rmse < best_val_rmse:\n",
    "        best_val_rmse = avg_val_rmse\n",
    "        best_params = config\n",
    "\n",
    "    run.finish()\n",
    "\n",
    "print(\"Best Hyperparameters:\", best_params)\n",
    "    \n",
    "svd = SVD(**best_params)\n",
    "svd.fit(train_val_set.build_full_trainset())\n",
    "\n",
    "predictions = svd.test(test_set)\n",
    "\n",
    "test_mse = np.mean([(pred.est - pred.r_ui) ** 2 for pred in predictions])\n",
    "test_rmse = np.sqrt(test_mse)\n",
    "test_mae = np.mean([abs(pred.est - pred.r_ui) for pred in predictions])\n",
    "\n",
    "test_run = wandb.init(\n",
    "    project=project,\n",
    "    entity=entity,\n",
    "    name=\"Test_Set_Evaluation\",\n",
    "    config=best_params\n",
    ")\n",
    "\n",
    "wandb.log({\n",
    "    \"test_MSE\": test_mse,\n",
    "    \"test_RMSE\": test_rmse,\n",
    "    \"test_MAE\": test_mae\n",
    "})\n",
    "\n",
    "test_run.finish()"
   ]
  },
  {
   "cell_type": "code",
   "execution_count": null,
   "metadata": {},
   "outputs": [],
   "source": []
  }
 ],
 "metadata": {
  "kernelspec": {
   "display_name": "Python 3",
   "language": "python",
   "name": "python3"
  },
  "language_info": {
   "codemirror_mode": {
    "name": "ipython",
    "version": 3
   },
   "file_extension": ".py",
   "mimetype": "text/x-python",
   "name": "python",
   "nbconvert_exporter": "python",
   "pygments_lexer": "ipython3",
   "version": "3.12.5"
  }
 },
 "nbformat": 4,
 "nbformat_minor": 2
}
