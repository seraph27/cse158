{
 "cells": [
  {
   "cell_type": "code",
   "execution_count": 1,
   "metadata": {},
   "outputs": [],
   "source": [
    "import gzip\n",
    "from collections import defaultdict\n",
    "import math\n",
    "import scipy.optimize\n",
    "from sklearn import svm\n",
    "import numpy as np\n",
    "import string\n",
    "import random\n",
    "import string\n",
    "from sklearn import linear_model\n",
    "from skopt import gp_minimize"
   ]
  },
  {
   "cell_type": "code",
   "execution_count": 2,
   "metadata": {},
   "outputs": [],
   "source": [
    "import warnings\n",
    "warnings.filterwarnings(\"ignore\")"
   ]
  },
  {
   "cell_type": "code",
   "execution_count": 3,
   "metadata": {},
   "outputs": [],
   "source": [
    "def readGz(path):\n",
    "    for l in gzip.open(path, 'rt'):\n",
    "        yield eval(l)\n",
    "\n",
    "def readCSV(path):\n",
    "    f = gzip.open(path, 'rt')\n",
    "    f.readline()\n",
    "    for l in f:\n",
    "        u,b,r = l.strip().split(',')\n",
    "        r = int(r)\n",
    "        yield u,b,r"
   ]
  },
  {
   "cell_type": "code",
   "execution_count": 4,
   "metadata": {},
   "outputs": [],
   "source": [
    "allRatings = []\n",
    "for l in readCSV(\"train_Interactions.csv.gz\"):\n",
    "    allRatings.append(l)"
   ]
  },
  {
   "cell_type": "code",
   "execution_count": 5,
   "metadata": {},
   "outputs": [],
   "source": [
    "ratingsTrain = allRatings[:190000]\n",
    "ratingsValid = allRatings[190000:]\n",
    "ratingsPerUser = defaultdict(list)\n",
    "ratingsPerItem = defaultdict(list)\n",
    "bookPerUser = defaultdict(list)\n",
    "userPerBook = defaultdict(list)\n",
    "for u,b,r in ratingsTrain:\n",
    "    ratingsPerUser[u].append((b,r))\n",
    "    ratingsPerItem[b].append((u,r))\n",
    "    bookPerUser[u].append(b)\n",
    "    userPerBook[b].append(u)"
   ]
  },
  {
   "cell_type": "code",
   "execution_count": 6,
   "metadata": {},
   "outputs": [],
   "source": [
    "def Jaccard(s1, s2):\n",
    "    inter = len(set(s1).intersection(set(s2)))\n",
    "    union = len(set(s1).union(set(s2)))\n",
    "    if union == 0:\n",
    "        return 0\n",
    "    return inter / union"
   ]
  },
  {
   "cell_type": "code",
   "execution_count": 7,
   "metadata": {},
   "outputs": [],
   "source": [
    "allbooks = set()\n",
    "for _, book, _ in allRatings:\n",
    "    allbooks.add(book)\n",
    "allbooks = list(allbooks)\n",
    "readValidBinary = set()\n",
    "notReadValidBinary = set()\n",
    "\n",
    "for user, book, _ in ratingsValid:\n",
    "    readValidBinary.add((user, book))\n",
    "\n",
    "for user, book, _ in ratingsValid:\n",
    "    newBook = random.choice(allbooks)\n",
    "    while (user, newBook) in ratingsValid or (user, newBook) in notReadValidBinary:\n",
    "        newBook = random.choice(allbooks)\n",
    "    notReadValidBinary.add((user, newBook))\n",
    "\n",
    "ratingsValidBinary = list()\n",
    "ratingsValidBinary.extend((user, book, 1) for user, book in readValidBinary)\n",
    "ratingsValidBinary.extend((user, book, 0) for user, book in notReadValidBinary)\n"
   ]
  },
  {
   "cell_type": "code",
   "execution_count": 8,
   "metadata": {},
   "outputs": [],
   "source": [
    "def solve(t1, t2):\n",
    "    correct = 0\n",
    "    ret = set()\n",
    "    for user, book, label in ratingsValidBinary:\n",
    "        users_for_book = set(ratingsPerItem[book])\n",
    "        max_jaccard = 0\n",
    "        for bprime, _ in ratingsPerUser[user]:\n",
    "            jaccard = Jaccard(set(ratingsPerItem[bprime]), users_for_book)\n",
    "            max_jaccard = max(max_jaccard, jaccard)\n",
    "        \n",
    "        ok = 0\n",
    "        if max_jaccard > t1: ok = 1\n",
    "        if len(ratingsPerItem[book]) > t2:\n",
    "            ok = 1\n",
    "            # if len(ratingsPerItem[book]) > 150 and max_jaccard == 0:\n",
    "            #     ok = 0\n",
    "        \n",
    "        if ok==label:\n",
    "            correct+=1\n",
    "            ret.add((user, book))\n",
    "\n",
    "\n",
    "    acc = correct / len(ratingsValidBinary)\n",
    "\n",
    "\n",
    "    return acc, ret\n"
   ]
  },
  {
   "cell_type": "code",
   "execution_count": 9,
   "metadata": {},
   "outputs": [],
   "source": [
    "acc, ret= solve(0.0135, 32)\n"
   ]
  },
  {
   "cell_type": "code",
   "execution_count": 10,
   "metadata": {},
   "outputs": [],
   "source": [
    "predictions = open(\"predictions_Read.csv\", 'w')\n",
    "for l in open(\"pairs_Read.csv\"):\n",
    "    if l.startswith(\"userID\"):\n",
    "        predictions.write(l)\n",
    "        continue\n",
    "    u,b = l.strip().split(',')\n",
    "    users_for_book = set(ratingsPerItem[b])\n",
    "    max_jaccard = 0\n",
    "    for bprime, _ in ratingsPerUser[u]:\n",
    "        jaccard = Jaccard(set(ratingsPerItem[bprime]), users_for_book)\n",
    "        max_jaccard = max(max_jaccard, jaccard)\n",
    "    \n",
    "    ok = 0\n",
    "    if max_jaccard > 0.0135: ok = 1\n",
    "    if len(ratingsPerItem[b]) > 33:\n",
    "        ok = 1\n",
    "    predictions.write(u + ',' + b + ',' + str(ok) + '\\n')\n",
    "predictions.close()"
   ]
  },
  {
   "cell_type": "markdown",
   "metadata": {},
   "source": [
    "# BELOW IS RATING PREDICTION"
   ]
  },
  {
   "cell_type": "code",
   "execution_count": null,
   "metadata": {},
   "outputs": [],
   "source": [
    "alpha = np.mean([r for _, _, r in ratingsTrain]) #referenced and edited from hw3 solution. \n",
    "beta_user = defaultdict(float)\n",
    "beta_book = defaultdict(float)\n",
    "for u in ratingsPerUser:\n",
    "    beta_user[u] = 0\n",
    "\n",
    "for b in ratingsPerItem:\n",
    "    beta_book[b] = 0\n",
    "\n",
    "def solve(L1, L2):\n",
    "    alpha = sum(rating - (beta_user[user] + beta_book[book]) for user, book, rating in ratingsTrain) / len(ratingsTrain)\n",
    "    for user, items in ratingsPerUser.items():\n",
    "        beta_user[user] = sum(rating - (alpha + beta_book[book]) for book, rating in items) / (L1 + len(items))\n",
    "    for book, items in ratingsPerItem.items():\n",
    "        beta_book[book] = sum(rating - (alpha + beta_user[user]) for user, rating in items) / (L2 + len(items))\n",
    "\n",
    "    validMSE = 0\n",
    "    for u,b,r in ratingsTrain:\n",
    "        prediction = alpha + beta_user[u] + beta_book[b]\n",
    "        validMSE += (r - prediction)**2\n",
    "    reg_user = 0\n",
    "    reg_book = 0\n",
    "    for user in beta_user:\n",
    "        reg_user += beta_user[user] ** 2\n",
    "    for book in beta_book:\n",
    "        reg_book += beta_book[book] ** 2\n",
    "    return (validMSE, validMSE + L1 * reg_user + L2 * reg_book)\n"
   ]
  },
  {
   "cell_type": "code",
   "execution_count": 40,
   "metadata": {},
   "outputs": [],
   "source": [
    "def solve2(L1, L2): #referenced and edited from hw3 solution. \n",
    "    mse, minimize = solve(L1, L2)\n",
    "    new_mse, new_minimize = solve(L1, L2)\n",
    "    iter = 2\n",
    "    while iter < 10 or minimize - new_minimize > 0.0001:\n",
    "        mse, minimize = new_mse, new_minimize\n",
    "        new_mse, new_minimize = solve(L1, L2)\n",
    "        iter+=1\n",
    "\n",
    "    validMSE = 0\n",
    "    for u,b,r in ratingsValid:\n",
    "        bu = 0\n",
    "        bi = 0\n",
    "        if u in beta_user:\n",
    "            bu = beta_user[u]\n",
    "        if b in beta_book:\n",
    "            bi = beta_book[b]\n",
    "        prediction = alpha + bu + bi\n",
    "        validMSE += (r - prediction)**2\n",
    "\n",
    "    validMSE /= len(ratingsValid)\n",
    "    print(\"Validation MSE = \" + str(validMSE))\n",
    "    return validMSE\n",
    "    \n"
   ]
  },
  {
   "cell_type": "code",
   "execution_count": 61,
   "metadata": {},
   "outputs": [
    {
     "name": "stdout",
     "output_type": "stream",
     "text": [
      "Validation MSE = 1.4223842830856153\n",
      "1.4223842830856153\n"
     ]
    }
   ],
   "source": [
    "print(solve2(3.8, 20.5))\n"
   ]
  },
  {
   "cell_type": "code",
   "execution_count": 63,
   "metadata": {},
   "outputs": [],
   "source": [
    "predictions = open(\"predictions_Rating.csv\", 'w')\n",
    "for l in open(\"pairs_Rating.csv\"):\n",
    "    if l.startswith(\"userID\"): # header\n",
    "        predictions.write(l)\n",
    "        continue\n",
    "    u,b = l.strip().split(',') # Read the user and item from the \"pairs\" file and write out your prediction\n",
    "    prediction = alpha + beta_user.get(u, 0) + beta_book.get(b, 0)\n",
    "    predictions.write(u + ',' + b + ',' + str(prediction) + '\\n')\n",
    "    \n",
    "predictions.close()"
   ]
  }
 ],
 "metadata": {
  "kernelspec": {
   "display_name": "Python 3",
   "language": "python",
   "name": "python3"
  },
  "language_info": {
   "codemirror_mode": {
    "name": "ipython",
    "version": 3
   },
   "file_extension": ".py",
   "mimetype": "text/x-python",
   "name": "python",
   "nbconvert_exporter": "python",
   "pygments_lexer": "ipython3",
   "version": "3.10.10"
  }
 },
 "nbformat": 4,
 "nbformat_minor": 2
}
