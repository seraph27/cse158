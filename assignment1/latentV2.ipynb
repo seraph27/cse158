{
 "cells": [
  {
   "cell_type": "code",
   "execution_count": 1,
   "metadata": {},
   "outputs": [],
   "source": [
    "import gzip\n",
    "from collections import defaultdict\n",
    "import math\n",
    "import scipy.optimize\n",
    "from sklearn import svm\n",
    "import numpy as np\n",
    "import string\n",
    "import random\n",
    "import string\n",
    "from sklearn import linear_model"
   ]
  },
  {
   "cell_type": "code",
   "execution_count": 2,
   "metadata": {},
   "outputs": [],
   "source": [
    "import warnings\n",
    "warnings.filterwarnings(\"ignore\")"
   ]
  },
  {
   "cell_type": "code",
   "execution_count": 3,
   "metadata": {},
   "outputs": [],
   "source": [
    "def readGz(path):\n",
    "    for l in gzip.open(path, 'rt'):\n",
    "        yield eval(l)\n",
    "\n",
    "def readCSV(path):\n",
    "    f = gzip.open(path, 'rt')\n",
    "    f.readline()\n",
    "    for l in f:\n",
    "        u,b,r = l.strip().split(',')\n",
    "        r = int(r)\n",
    "        yield u,b,r"
   ]
  },
  {
   "cell_type": "code",
   "execution_count": 4,
   "metadata": {},
   "outputs": [],
   "source": [
    "allRatings = []\n",
    "for l in readCSV(\"train_Interactions.csv.gz\"):\n",
    "    allRatings.append(l)"
   ]
  },
  {
   "cell_type": "code",
   "execution_count": 5,
   "metadata": {},
   "outputs": [],
   "source": [
    "ratingsTrain = allRatings[:190000]\n",
    "ratingsValid = allRatings[190000:]\n",
    "ratingsPerUser = defaultdict(list)\n",
    "ratingsPerItem = defaultdict(list)\n",
    "for u,b,r in ratingsTrain:\n",
    "    ratingsPerUser[u].append((b,r))\n",
    "    ratingsPerItem[b].append((u,r))\n",
    "\n"
   ]
  },
  {
   "cell_type": "code",
   "execution_count": 6,
   "metadata": {},
   "outputs": [],
   "source": [
    "def Jaccard(s1, s2):\n",
    "    inter = len(set(s1).intersection(set(s2)))\n",
    "    union = len(set(s1).union(set(s2)))\n",
    "    if union == 0:\n",
    "        return 0\n",
    "    return inter / union"
   ]
  },
  {
   "cell_type": "code",
   "execution_count": 7,
   "metadata": {},
   "outputs": [],
   "source": [
    "def initialize_parameters(ratingsPerUser, ratingsPerItem, K, seed=42):\n",
    "    np.random.seed(seed)\n",
    "    beta_user = defaultdict(float)\n",
    "    beta_book = defaultdict(float)\n",
    "    gamma_user = defaultdict(lambda: np.zeros(K))\n",
    "    gamma_book = defaultdict(lambda: np.zeros(K))\n",
    "    \n",
    "    for u in ratingsPerUser:\n",
    "        beta_user[u] = 0.0\n",
    "        gamma_user[u] = np.random.normal(scale=0.1, size=K)\n",
    "    \n",
    "    for b in ratingsPerItem:\n",
    "        beta_book[b] = 0.0\n",
    "        gamma_book[b] = np.random.normal(scale=0.1, size=K)\n",
    "    \n",
    "    alpha = np.mean([r for _, _, r in ratingsTrain])\n",
    "    \n",
    "    return alpha, beta_user, beta_book, gamma_user, gamma_book"
   ]
  },
  {
   "cell_type": "code",
   "execution_count": 8,
   "metadata": {},
   "outputs": [],
   "source": [
    "def compute_objective(alpha, beta_user, beta_item, gamma_user, gamma_item, ratingsValid, L1, L2, L3, L4):\n",
    "    sse = 0\n",
    "    for u, i, r in ratingsValid:\n",
    "        prediction = alpha + beta_user[u] + beta_item[i] + np.dot(gamma_user[u], gamma_item[i])\n",
    "        sse += (r - prediction) ** 2\n",
    "    \n",
    "    reg_user = L1 * sum(beta ** 2 for beta in beta_user.values())\n",
    "    reg_item = L2 * sum(beta ** 2 for beta in beta_item.values())\n",
    "    reg_gamma_user = L3 * sum(np.dot(gamma, gamma) for gamma in gamma_user.values())\n",
    "    reg_gamma_item = L4 * sum(np.dot(gamma, gamma) for gamma in gamma_item.values())\n",
    "    \n",
    "    objective = sse + reg_user + reg_item + reg_gamma_user + reg_gamma_item\n",
    "    return sse, objective\n"
   ]
  },
  {
   "cell_type": "code",
   "execution_count": 9,
   "metadata": {},
   "outputs": [],
   "source": [
    "def train(ratingsTrain, ratingsValid, ratingsPerUser, ratingsPerItem, L1, L2, L3, L4, K, epochs, learning_rate, seed=42):\n",
    "    # Initialize parameters\n",
    "    alpha, beta_user, beta_item, gamma_user, gamma_item = initialize_parameters(ratingsPerUser, ratingsPerItem, K, seed)\n",
    "    \n",
    "    for epoch in range(1, epochs + 1):\n",
    "        np.random.shuffle(ratingsTrain)  # Shuffle training data each epoch\n",
    "        for u, i, r in ratingsTrain:\n",
    "            prediction = alpha + beta_user[u] + beta_item[i] + np.dot(gamma_user[u], gamma_item[i])\n",
    "            error = r - prediction\n",
    "            \n",
    "            # Update alpha\n",
    "            alpha += learning_rate * (error / len(ratingsTrain))\n",
    "            \n",
    "            # Update biases\n",
    "            beta_user[u] += learning_rate * (error - L1 * beta_user[u])\n",
    "            beta_item[i] += learning_rate * (error - L2 * beta_item[i])\n",
    "            \n",
    "            # Update latent factors\n",
    "            gamma_user[u] += learning_rate * (error * gamma_item[i] - L3 * gamma_user[u])\n",
    "            gamma_item[i] += learning_rate * (error * gamma_user[u] - L4 * gamma_item[i])\n",
    "        \n",
    "        # Compute and print objective\n",
    "        sse, obj = compute_objective(alpha, beta_user, beta_item, gamma_user, gamma_item, ratingsValid, L1, L2, L3, L4)\n",
    "        print(f\"Epoch {epoch}: SSE={sse:.4f}, Objective={obj:.4f}\")\n",
    "    \n",
    "    return alpha, beta_user, beta_item, gamma_user, gamma_item\n"
   ]
  },
  {
   "cell_type": "code",
   "execution_count": 10,
   "metadata": {},
   "outputs": [
    {
     "name": "stdout",
     "output_type": "stream",
     "text": [
      "Epoch 1: SSE=16626.4534, Objective=18357.1001\n",
      "Epoch 2: SSE=16351.1044, Objective=18261.3453\n",
      "Epoch 3: SSE=16177.9494, Objective=18300.8628\n",
      "Epoch 4: SSE=16068.2590, Objective=18387.5457\n",
      "Epoch 5: SSE=15998.1931, Objective=18496.3063\n",
      "Epoch 6: SSE=15933.8706, Objective=18585.2066\n",
      "Epoch 7: SSE=15896.0417, Objective=18675.5739\n"
     ]
    },
    {
     "ename": "KeyboardInterrupt",
     "evalue": "",
     "output_type": "error",
     "traceback": [
      "\u001b[1;31m---------------------------------------------------------------------------\u001b[0m",
      "\u001b[1;31mKeyboardInterrupt\u001b[0m                         Traceback (most recent call last)",
      "Cell \u001b[1;32mIn[10], line 1\u001b[0m\n\u001b[1;32m----> 1\u001b[0m \u001b[43mtrain\u001b[49m\u001b[43m(\u001b[49m\u001b[43mratingsTrain\u001b[49m\u001b[43m,\u001b[49m\u001b[43m \u001b[49m\u001b[43mratingsValid\u001b[49m\u001b[43m,\u001b[49m\u001b[43m \u001b[49m\u001b[43mratingsPerUser\u001b[49m\u001b[43m,\u001b[49m\u001b[43m \u001b[49m\u001b[43mratingsPerItem\u001b[49m\u001b[43m,\u001b[49m\u001b[43m \u001b[49m\u001b[38;5;241;43m3\u001b[39;49m\u001b[43m,\u001b[49m\u001b[43m \u001b[49m\u001b[38;5;241;43m12\u001b[39;49m\u001b[43m,\u001b[49m\u001b[43m \u001b[49m\u001b[38;5;241;43m1\u001b[39;49m\u001b[43m,\u001b[49m\u001b[43m \u001b[49m\u001b[38;5;241;43m1\u001b[39;49m\u001b[43m,\u001b[49m\u001b[43m \u001b[49m\u001b[38;5;241;43m5\u001b[39;49m\u001b[43m,\u001b[49m\u001b[43m \u001b[49m\u001b[38;5;241;43m10\u001b[39;49m\u001b[43m,\u001b[49m\u001b[43m \u001b[49m\u001b[38;5;241;43m0.01\u001b[39;49m\u001b[43m)\u001b[49m\n",
      "Cell \u001b[1;32mIn[9], line 23\u001b[0m, in \u001b[0;36mtrain\u001b[1;34m(ratingsTrain, ratingsValid, ratingsPerUser, ratingsPerItem, L1, L2, L3, L4, K, epochs, learning_rate, seed)\u001b[0m\n\u001b[0;32m     20\u001b[0m         gamma_item[i] \u001b[38;5;241m+\u001b[39m\u001b[38;5;241m=\u001b[39m learning_rate \u001b[38;5;241m*\u001b[39m (error \u001b[38;5;241m*\u001b[39m gamma_user[u] \u001b[38;5;241m-\u001b[39m L4 \u001b[38;5;241m*\u001b[39m gamma_item[i])\n\u001b[0;32m     22\u001b[0m     \u001b[38;5;66;03m# Compute and print objective\u001b[39;00m\n\u001b[1;32m---> 23\u001b[0m     sse, obj \u001b[38;5;241m=\u001b[39m \u001b[43mcompute_objective\u001b[49m\u001b[43m(\u001b[49m\u001b[43malpha\u001b[49m\u001b[43m,\u001b[49m\u001b[43m \u001b[49m\u001b[43mbeta_user\u001b[49m\u001b[43m,\u001b[49m\u001b[43m \u001b[49m\u001b[43mbeta_item\u001b[49m\u001b[43m,\u001b[49m\u001b[43m \u001b[49m\u001b[43mgamma_user\u001b[49m\u001b[43m,\u001b[49m\u001b[43m \u001b[49m\u001b[43mgamma_item\u001b[49m\u001b[43m,\u001b[49m\u001b[43m \u001b[49m\u001b[43mratingsValid\u001b[49m\u001b[43m,\u001b[49m\u001b[43m \u001b[49m\u001b[43mL1\u001b[49m\u001b[43m,\u001b[49m\u001b[43m \u001b[49m\u001b[43mL2\u001b[49m\u001b[43m,\u001b[49m\u001b[43m \u001b[49m\u001b[43mL3\u001b[49m\u001b[43m,\u001b[49m\u001b[43m \u001b[49m\u001b[43mL4\u001b[49m\u001b[43m)\u001b[49m\n\u001b[0;32m     24\u001b[0m     \u001b[38;5;28mprint\u001b[39m(\u001b[38;5;124mf\u001b[39m\u001b[38;5;124m\"\u001b[39m\u001b[38;5;124mEpoch \u001b[39m\u001b[38;5;132;01m{\u001b[39;00mepoch\u001b[38;5;132;01m}\u001b[39;00m\u001b[38;5;124m: SSE=\u001b[39m\u001b[38;5;132;01m{\u001b[39;00msse\u001b[38;5;132;01m:\u001b[39;00m\u001b[38;5;124m.4f\u001b[39m\u001b[38;5;132;01m}\u001b[39;00m\u001b[38;5;124m, Objective=\u001b[39m\u001b[38;5;132;01m{\u001b[39;00mobj\u001b[38;5;132;01m:\u001b[39;00m\u001b[38;5;124m.4f\u001b[39m\u001b[38;5;132;01m}\u001b[39;00m\u001b[38;5;124m\"\u001b[39m)\n\u001b[0;32m     26\u001b[0m \u001b[38;5;28;01mreturn\u001b[39;00m alpha, beta_user, beta_item, gamma_user, gamma_item\n",
      "Cell \u001b[1;32mIn[8], line 4\u001b[0m, in \u001b[0;36mcompute_objective\u001b[1;34m(alpha, beta_user, beta_item, gamma_user, gamma_item, ratingsValid, L1, L2, L3, L4)\u001b[0m\n\u001b[0;32m      2\u001b[0m sse \u001b[38;5;241m=\u001b[39m \u001b[38;5;241m0\u001b[39m\n\u001b[0;32m      3\u001b[0m \u001b[38;5;28;01mfor\u001b[39;00m u, i, r \u001b[38;5;129;01min\u001b[39;00m ratingsValid:\n\u001b[1;32m----> 4\u001b[0m     prediction \u001b[38;5;241m=\u001b[39m alpha \u001b[38;5;241m+\u001b[39m beta_user[u] \u001b[38;5;241m+\u001b[39m beta_item[i] \u001b[38;5;241m+\u001b[39m \u001b[43mnp\u001b[49m\u001b[38;5;241;43m.\u001b[39;49m\u001b[43mdot\u001b[49m\u001b[43m(\u001b[49m\u001b[43mgamma_user\u001b[49m\u001b[43m[\u001b[49m\u001b[43mu\u001b[49m\u001b[43m]\u001b[49m\u001b[43m,\u001b[49m\u001b[43m \u001b[49m\u001b[43mgamma_item\u001b[49m\u001b[43m[\u001b[49m\u001b[43mi\u001b[49m\u001b[43m]\u001b[49m\u001b[43m)\u001b[49m\n\u001b[0;32m      5\u001b[0m     sse \u001b[38;5;241m+\u001b[39m\u001b[38;5;241m=\u001b[39m (r \u001b[38;5;241m-\u001b[39m prediction) \u001b[38;5;241m*\u001b[39m\u001b[38;5;241m*\u001b[39m \u001b[38;5;241m2\u001b[39m\n\u001b[0;32m      7\u001b[0m reg_user \u001b[38;5;241m=\u001b[39m L1 \u001b[38;5;241m*\u001b[39m \u001b[38;5;28msum\u001b[39m(beta \u001b[38;5;241m*\u001b[39m\u001b[38;5;241m*\u001b[39m \u001b[38;5;241m2\u001b[39m \u001b[38;5;28;01mfor\u001b[39;00m beta \u001b[38;5;129;01min\u001b[39;00m beta_user\u001b[38;5;241m.\u001b[39mvalues())\n",
      "\u001b[1;31mKeyboardInterrupt\u001b[0m: "
     ]
    }
   ],
   "source": [
    "train(ratingsTrain, ratingsValid, ratingsPerUser, ratingsPerItem, 3, 12, 1, 1, 5, 10, 0.01)"
   ]
  },
  {
   "cell_type": "code",
   "execution_count": null,
   "metadata": {},
   "outputs": [],
   "source": [
    "predictions = open(\"predictions_Rating.csv\", 'w')\n",
    "for l in open(\"pairs_Rating.csv\"):\n",
    "    if l.startswith(\"userID\"): # header\n",
    "        predictions.write(l)\n",
    "        continue\n",
    "    u,b = l.strip().split(',') # Read the user and item from the \"pairs\" file and write out your prediction\n",
    "    prediction = alpha + beta_user.get(u, 0) + beta_book.get(b, 0)\n",
    "    predictions.write(u + ',' + b + ',' + str(prediction) + '\\n')\n",
    "    \n",
    "predictions.close()"
   ]
  }
 ],
 "metadata": {
  "kernelspec": {
   "display_name": "Python 3",
   "language": "python",
   "name": "python3"
  },
  "language_info": {
   "codemirror_mode": {
    "name": "ipython",
    "version": 3
   },
   "file_extension": ".py",
   "mimetype": "text/x-python",
   "name": "python",
   "nbconvert_exporter": "python",
   "pygments_lexer": "ipython3",
   "version": "3.10.10"
  }
 },
 "nbformat": 4,
 "nbformat_minor": 2
}
