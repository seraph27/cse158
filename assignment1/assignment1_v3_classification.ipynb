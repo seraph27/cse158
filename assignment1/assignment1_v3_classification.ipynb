{
 "cells": [
  {
   "cell_type": "code",
   "execution_count": 1,
   "metadata": {},
   "outputs": [],
   "source": [
    "import gzip\n",
    "from collections import defaultdict\n",
    "import math\n",
    "import scipy.optimize\n",
    "from sklearn import svm\n",
    "import numpy as np\n",
    "import string\n",
    "import random\n",
    "import string\n",
    "from sklearn import linear_model\n",
    "import pandas as pd\n",
    "from sklearn.model_selection import train_test_split, GridSearchCV\n",
    "from sklearn.ensemble import RandomForestClassifier\n",
    "from sklearn.metrics import accuracy_score, roc_auc_score, classification_report\n",
    "from sklearn.preprocessing import StandardScaler"
   ]
  },
  {
   "cell_type": "code",
   "execution_count": 2,
   "metadata": {},
   "outputs": [],
   "source": [
    "import warnings\n",
    "warnings.filterwarnings(\"ignore\")"
   ]
  },
  {
   "cell_type": "code",
   "execution_count": 3,
   "metadata": {},
   "outputs": [],
   "source": [
    "def readGz(path):\n",
    "    for l in gzip.open(path, 'rt'):\n",
    "        yield eval(l)\n",
    "\n",
    "def readCSV(path):\n",
    "    f = gzip.open(path, 'rt')\n",
    "    f.readline()\n",
    "    for l in f:\n",
    "        u,b,r = l.strip().split(',')\n",
    "        r = int(r)\n",
    "        yield u,b,r"
   ]
  },
  {
   "cell_type": "code",
   "execution_count": 4,
   "metadata": {},
   "outputs": [],
   "source": [
    "allRatings = []\n",
    "for l in readCSV(\"train_Interactions.csv.gz\"):\n",
    "    allRatings.append(l)"
   ]
  },
  {
   "cell_type": "code",
   "execution_count": 5,
   "metadata": {},
   "outputs": [],
   "source": [
    "ratingsTrain = allRatings[:190000]\n",
    "ratingsValid = allRatings[190000:]\n",
    "ratingsPerUser = defaultdict(list)\n",
    "ratingsPerItem = defaultdict(list)\n",
    "bookPerUser = defaultdict(list)\n",
    "userPerBook = defaultdict(list)\n",
    "for u,b,r in ratingsTrain:\n",
    "    ratingsPerUser[u].append((b,r))\n",
    "    ratingsPerItem[b].append((u,r))\n",
    "    bookPerUser[u].append(b)\n",
    "    userPerBook[b].append(u)\n",
    "\n"
   ]
  },
  {
   "cell_type": "code",
   "execution_count": 9,
   "metadata": {},
   "outputs": [],
   "source": [
    "allbooks = set()\n",
    "for _, book, _ in allRatings:\n",
    "    allbooks.add(book)\n",
    "allbooks = list(allbooks)"
   ]
  },
  {
   "cell_type": "code",
   "execution_count": 22,
   "metadata": {},
   "outputs": [],
   "source": [
    "ratingsValidBinary = [(user, book, 1) for user, book, _ in ratingsValid]\n",
    "ratingsTrainBinary = [(user, book, 1) for user, book, _ in ratingsTrain]\n",
    "for user, book, _ in ratingsValid:\n",
    "    newBook = random.choice(allbooks)\n",
    "    while newBook in [b for b, _ in ratingsPerUser[user]]:\n",
    "        newBook = random.choice(allbooks)\n",
    "    ratingsValidBinary.append((user, newBook, 0))\n",
    "\n",
    "for user, book, _ in ratingsTrain:\n",
    "    newBook = random.choice(allbooks)\n",
    "    while newBook in [b for b, _ in ratingsPerUser[user]]:\n",
    "        newBook = random.choice(allbooks)\n",
    "    ratingsTrainBinary.append((user, newBook, 0))"
   ]
  },
  {
   "cell_type": "code",
   "execution_count": 23,
   "metadata": {},
   "outputs": [],
   "source": [
    "random.shuffle(ratingsValidBinary)\n",
    "random.shuffle(ratingsTrainBinary)"
   ]
  },
  {
   "cell_type": "code",
   "execution_count": null,
   "metadata": {},
   "outputs": [],
   "source": [
    "import pandas as pd\n",
    "from sklearn.preprocessing import StandardScaler\n",
    "from sklearn.ensemble import RandomForestClassifier\n",
    "from sklearn.metrics import accuracy_score, roc_auc_score, classification_report\n",
    "from sklearn.model_selection import GridSearchCV, StratifiedKFold\n",
    "\n",
    "def compute_jaccard(set1, set2):\n",
    "    intersection = len(set1.intersection(set2))\n",
    "    union = len(set1.union(set2))\n",
    "    return intersection / union if union != 0 else 0\n",
    "\n",
    "def create_features(ratingsBinary, ratingsPerItem, ratingsPerUser):\n",
    "    data = []\n",
    "    max_popularity = max(len(ratingsPerItem[b]) for b in ratingsPerItem)\n",
    "    \n",
    "    for user, book, label in ratingsBinary:\n",
    "        users_for_book = set(u for u, _ in ratingsPerItem[book])\n",
    "        user_books = set(b for b, _ in ratingsPerUser[user] if b != book)\n",
    "        \n",
    "        # Calculate max Jaccard similarity\n",
    "        maxjaccard = 0\n",
    "        for b in user_books:\n",
    "            users_for_b = set(u for u, _ in ratingsPerItem[b])\n",
    "            jac = compute_jaccard(users_for_b, users_for_book)\n",
    "            if jac > maxjaccard:\n",
    "                maxjaccard = jac\n",
    "        \n",
    "        # Book popularity\n",
    "        popularity = len(ratingsPerItem[book])\n",
    "        \n",
    "        # User's average book popularity\n",
    "        user_books_count = len(ratingsPerUser[user])\n",
    "        \n",
    "        data.append({\n",
    "            'user': user,\n",
    "            'book': book,\n",
    "            'max_jaccard': maxjaccard,\n",
    "            'book_popularity': popularity,\n",
    "            'user_books_count': user_books_count,\n",
    "            'label': label\n",
    "        })\n",
    "    \n",
    "    return pd.DataFrame(data)\n",
    "\n"
   ]
  },
  {
   "cell_type": "code",
   "execution_count": 26,
   "metadata": {},
   "outputs": [],
   "source": [
    "# Create feature DataFrames for training and validation\n",
    "df_train = create_features(ratingsTrainBinary, ratingsPerItem, ratingsPerUser)\n",
    "df_valid = create_features(ratingsValidBinary, ratingsPerItem, ratingsPerUser)\n",
    "\n",
    "# Feature Selection\n",
    "feature_cols = ['max_jaccard', 'book_popularity', 'user_books_count']\n",
    "\n",
    "X_train = df_train[feature_cols]\n",
    "y_train = df_train['label']\n",
    "X_valid = df_valid[feature_cols]\n",
    "y_valid = df_valid['label']\n",
    "\n",
    "# Scaling Features\n",
    "scaler = StandardScaler()\n",
    "X_train_scaled = scaler.fit_transform(X_train)\n",
    "X_valid_scaled = scaler.transform(X_valid)\n"
   ]
  },
  {
   "cell_type": "code",
   "execution_count": null,
   "metadata": {},
   "outputs": [],
   "source": [
    "def train_and_evaluate(df_train, df_valid):\n",
    "\n",
    "    # Feature Selection\n",
    "    feature_cols = ['max_jaccard', 'book_popularity', 'user_books_count']\n",
    "    \n",
    "    X_train = df_train[feature_cols]\n",
    "    y_train = df_train['label']\n",
    "    X_valid = df_valid[feature_cols]\n",
    "    y_valid = df_valid['label']\n",
    "    \n",
    "    # Scaling\n",
    "    scaler = StandardScaler()\n",
    "    X_train_scaled = scaler.fit_transform(X_train)\n",
    "    X_valid_scaled = scaler.transform(X_valid)\n",
    "    \n",
    "    # Initialize Random Forest\n",
    "    clf = RandomForestClassifier(random_state=42)\n",
    "    kfold = StratifiedKFold(n_splits=5, shuffle=True, random_state=42)\n",
    "\n",
    "    # Hyperparameter Tuning\n",
    "    param_grid = {\n",
    "        'n_estimators': [100, 200],\n",
    "        'max_depth': [None, 10, 20],\n",
    "        'min_samples_split': [2, 5],\n",
    "        'min_samples_leaf': [1, 2]\n",
    "    }\n",
    "    \n",
    "    grid_search = GridSearchCV(\n",
    "        estimator=clf,\n",
    "        param_grid=param_grid,\n",
    "        cv=kfold,\n",
    "        n_jobs=-1,\n",
    "        scoring='roc_auc',\n",
    "        verbose=2\n",
    "    )\n",
    "    \n",
    "    grid_search.fit(X_train_scaled, y_train)\n",
    "    best_clf = grid_search.best_estimator_\n",
    "    \n",
    "    # Predictions\n",
    "    y_pred = best_clf.predict(X_valid_scaled)\n",
    "    y_proba = best_clf.predict_proba(X_valid_scaled)[:,1]\n",
    "    \n",
    "    # Evaluation\n",
    "    accuracy = accuracy_score(y_valid, y_pred)\n",
    "    auc = roc_auc_score(y_valid, y_proba)\n",
    "    report = classification_report(y_valid, y_pred)\n",
    "    \n",
    "    print(f'Best Model Accuracy: {accuracy:.4f}')\n",
    "    print(f'Best Model AUC: {auc:.4f}')\n",
    "    print('Best Model Classification Report:')\n",
    "    print(report)\n",
    "    \n",
    "    return best_clf, scaler\n"
   ]
  },
  {
   "cell_type": "code",
   "execution_count": null,
   "metadata": {},
   "outputs": [
    {
     "name": "stdout",
     "output_type": "stream",
     "text": [
      "Fitting 5 folds for each of 24 candidates, totalling 120 fits\n"
     ]
    }
   ],
   "source": [
    "# Assuming you have already defined ratingsTrain, ratingsValidBinary, and ratingsTestBinary\n",
    "\n",
    "# Train the model using training and validation sets\n",
    "model, scaler = train_and_evaluate(df_train, df_valid)\n"
   ]
  },
  {
   "cell_type": "code",
   "execution_count": null,
   "metadata": {},
   "outputs": [],
   "source": [
    "importances = model.feature_importances_\n",
    "feature_names = feature_cols\n",
    "feature_importances = pd.Series(importances, index=feature_names).sort_values(ascending=False)\n",
    "print(feature_importances)"
   ]
  }
 ],
 "metadata": {
  "kernelspec": {
   "display_name": "Python 3",
   "language": "python",
   "name": "python3"
  },
  "language_info": {
   "codemirror_mode": {
    "name": "ipython",
    "version": 3
   },
   "file_extension": ".py",
   "mimetype": "text/x-python",
   "name": "python",
   "nbconvert_exporter": "python",
   "pygments_lexer": "ipython3",
   "version": "3.10.10"
  }
 },
 "nbformat": 4,
 "nbformat_minor": 2
}
