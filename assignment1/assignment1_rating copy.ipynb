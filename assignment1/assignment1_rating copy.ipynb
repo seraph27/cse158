{
 "cells": [
  {
   "cell_type": "code",
   "execution_count": 2,
   "metadata": {},
   "outputs": [],
   "source": [
    "import gzip\n",
    "from collections import defaultdict\n",
    "import math\n",
    "import scipy.optimize\n",
    "from sklearn import svm\n",
    "import numpy as np\n",
    "import string\n",
    "import random\n",
    "import string\n",
    "from sklearn import linear_model"
   ]
  },
  {
   "cell_type": "code",
   "execution_count": 3,
   "metadata": {},
   "outputs": [],
   "source": [
    "import warnings\n",
    "warnings.filterwarnings(\"ignore\")"
   ]
  },
  {
   "cell_type": "code",
   "execution_count": 4,
   "metadata": {},
   "outputs": [],
   "source": [
    "def readGz(path):\n",
    "    for l in gzip.open(path, 'rt'):\n",
    "        yield eval(l)\n",
    "\n",
    "def readCSV(path):\n",
    "    f = gzip.open(path, 'rt')\n",
    "    f.readline()\n",
    "    for l in f:\n",
    "        u,b,r = l.strip().split(',')\n",
    "        r = int(r)\n",
    "        yield u,b,r"
   ]
  },
  {
   "cell_type": "code",
   "execution_count": 5,
   "metadata": {},
   "outputs": [],
   "source": [
    "allRatings = []\n",
    "for l in readCSV(\"train_Interactions.csv.gz\"):\n",
    "    allRatings.append(l)"
   ]
  },
  {
   "cell_type": "code",
   "execution_count": 6,
   "metadata": {},
   "outputs": [],
   "source": [
    "ratingsTrain = allRatings[:190000]\n",
    "ratingsValid = allRatings[190000:]\n",
    "ratingsPerUser = defaultdict(list)\n",
    "ratingsPerItem = defaultdict(list)\n",
    "for u,b,r in ratingsTrain:\n",
    "    ratingsPerUser[u].append((b,r))\n",
    "    ratingsPerItem[b].append((u,r))\n",
    "\n"
   ]
  },
  {
   "cell_type": "code",
   "execution_count": 7,
   "metadata": {},
   "outputs": [],
   "source": [
    "def Jaccard(s1, s2):\n",
    "    inter = len(set(s1).intersection(set(s2)))\n",
    "    union = len(set(s1).union(set(s2)))\n",
    "    if union == 0:\n",
    "        return 0\n",
    "    return inter / union"
   ]
  },
  {
   "cell_type": "code",
   "execution_count": 54,
   "metadata": {},
   "outputs": [],
   "source": [
    "import tensorflow as tf\n",
    "import tensorflow_recommenders as tfrs\n",
    "\n",
    "# Define user and item embeddings\n",
    "class SimpleModel(tfrs.Model):\n",
    "    def __init__(self):\n",
    "        super().__init__()\n",
    "        self.user_embedding = tf.keras.Sequential([tf.keras.layers.Embedding(1000, 32)])\n",
    "        self.item_embedding = tf.keras.Sequential([tf.keras.layers.Embedding(1000, 32)])\n",
    "        self.task = tfrs.tasks.Retrieval(metrics=tfrs.metrics.FactorizedTopK())\n",
    "\n",
    "    def compute_loss(self, features, training=False):\n",
    "        user_embeddings = self.user_embedding(features[\"user_id\"])\n",
    "        item_embeddings = self.item_embedding(features[\"item_id\"])\n",
    "        return self.task(user_embeddings, item_embeddings)"
   ]
  },
  {
   "cell_type": "code",
   "execution_count": 47,
   "metadata": {},
   "outputs": [],
   "source": [
    "K = 7\n",
    "alpha = np.mean([r for _, _, r in ratingsTrain])\n",
    "beta_user = defaultdict(float)\n",
    "beta_book = defaultdict(float)\n",
    "gamma_user = defaultdict(lambda: np.zeros(K))\n",
    "gamma_book = defaultdict(lambda: np.zeros(K))\n",
    "\n",
    "for u in ratingsPerUser:\n",
    "    beta_user[u] = 0.0\n",
    "    gamma_user[u] = np.random.normal(scale=0.1, size=K)\n",
    "\n",
    "for b in ratingsPerItem:\n",
    "    beta_book[b] = 0.0\n",
    "    gamma_book[b] = np.random.normal(scale=0.1, size=K)\n",
    "\n",
    "alpha = np.mean([r for _, _, r in ratingsTrain])\n",
    "for u in ratingsPerUser:\n",
    "    beta_user[u] = 0\n",
    "\n",
    "for b in ratingsPerItem:\n",
    "    beta_book[b] = 0\n",
    "\n",
    "def solve(L1, L2, L3):\n",
    "    newAlpha = 0\n",
    "    # Update global bias\n",
    "    for u, b, r in ratingsTrain:\n",
    "        newAlpha += r - (beta_user[u] + beta_book[b] + np.dot(gamma_user[u], gamma_book[b]))\n",
    "    alpha = newAlpha / len(ratingsTrain)\n",
    "           # Update user and book biases\n",
    "    for u in ratingsPerUser:\n",
    "        newBetaU = 0\n",
    "        for b, r in ratingsPerUser[u]:\n",
    "            pred = alpha + beta_user[u] + beta_book[b] + np.dot(gamma_user[u], gamma_book[b])\n",
    "            newBetaU += r - pred\n",
    "        beta_user[u] = newBetaU / (L1 + len(ratingsPerUser[u]))\n",
    "\n",
    "    for b in ratingsPerItem:\n",
    "        newBetaI = 0\n",
    "        for u, r in ratingsPerItem[b]:\n",
    "            pred = alpha + beta_user[u] + beta_book[b] + np.dot(gamma_user[u], gamma_book[b])\n",
    "            newBetaI += r - pred\n",
    "        beta_book[b] = newBetaI / (L2 + len(ratingsPerItem[b]))\n",
    "\n",
    "    # Update latent factors using SGD\n",
    "    for u, b, r in ratingsTrain:\n",
    "        pred = alpha + beta_user[u] + beta_book[b] + np.dot(gamma_user[u], gamma_book[b])\n",
    "        err = r - pred\n",
    "\n",
    "        # Gradient updates\n",
    "        gamma_user[u] += 0.01 * (err * gamma_book[b] - L3 * gamma_user[u])\n",
    "        gamma_book[b] += 0.01 * (err * gamma_user[u] - L3 * gamma_book[b])\n",
    "\n",
    "\n",
    "    validMSE = 0\n",
    "    for u, b, r in ratingsTrain:\n",
    "        pred = alpha + beta_user[u] + beta_book[b] + np.dot(gamma_user[u], gamma_book[b])\n",
    "        validMSE += (r - pred) ** 2\n",
    "    reg_user = sum(beta_user[u] ** 2 for u in beta_user) \n",
    "    reg_book = sum(beta_book[b] ** 2 for b in beta_book)\n",
    "\n",
    "    return (validMSE, validMSE + L1 * reg_user + L2 * reg_book + L3 * (np.linalg.norm(gamma_user[u]) ** 2 + np.linalg.norm(gamma_book[b]) ** 2))\n"
   ]
  },
  {
   "cell_type": "code",
   "execution_count": 48,
   "metadata": {},
   "outputs": [],
   "source": [
    "def solve2(L1, L2, L3):\n",
    "    mse, minimize = solve(L1, L2, L3)\n",
    "    new_mse, new_minimize = solve(L1, L2, L3)\n",
    "    iter = 2\n",
    "    while iter < 10 and minimize - new_minimize > 0.0001:\n",
    "        mse, minimize = new_mse, new_minimize\n",
    "        new_mse, new_minimize = solve(L1, L2, L3)\n",
    "        iter+=1\n",
    "\n",
    "    validMSE = 0\n",
    "    for u,b,r in ratingsValid:\n",
    "        bu = 0\n",
    "        bi = 0\n",
    "        if u in beta_user:\n",
    "            bu = beta_user[u]\n",
    "        if b in beta_book:\n",
    "            bi = beta_book[b]\n",
    "        prediction = alpha + bu + bi + np.dot(gamma_user[u], gamma_book[b])\n",
    "        validMSE += (r - prediction)**2\n",
    "\n",
    "    validMSE /= len(ratingsValid)\n",
    "    print(\"Validation MSE = \" + str(validMSE))\n",
    "    return validMSE\n",
    "    \n"
   ]
  },
  {
   "cell_type": "code",
   "execution_count": 50,
   "metadata": {},
   "outputs": [
    {
     "name": "stdout",
     "output_type": "stream",
     "text": [
      "Validation MSE = 1.5022850042058067\n",
      "1.5022850042058067\n"
     ]
    }
   ],
   "source": [
    "print(solve2(4, 18, 0.005))\n"
   ]
  },
  {
   "cell_type": "code",
   "execution_count": null,
   "metadata": {},
   "outputs": [],
   "source": [
    "predictions = open(\"predictions_Rating.csv\", 'w')\n",
    "for l in open(\"pairs_Rating.csv\"):\n",
    "    if l.startswith(\"userID\"): # header\n",
    "        predictions.write(l)\n",
    "        continue\n",
    "    u,b = l.strip().split(',') # Read the user and item from the \"pairs\" file and write out your prediction\n",
    "    prediction = alpha + beta_user.get(u, 0) + beta_book.get(b, 0)\n",
    "    predictions.write(u + ',' + b + ',' + str(prediction) + '\\n')\n",
    "    \n",
    "predictions.close()"
   ]
  }
 ],
 "metadata": {
  "kernelspec": {
   "display_name": "Python 3",
   "language": "python",
   "name": "python3"
  },
  "language_info": {
   "codemirror_mode": {
    "name": "ipython",
    "version": 3
   },
   "file_extension": ".py",
   "mimetype": "text/x-python",
   "name": "python",
   "nbconvert_exporter": "python",
   "pygments_lexer": "ipython3",
   "version": "3.10.10"
  }
 },
 "nbformat": 4,
 "nbformat_minor": 2
}
