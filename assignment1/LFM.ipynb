{
 "cells": [
  {
   "cell_type": "code",
   "execution_count": 8,
   "metadata": {},
   "outputs": [],
   "source": [
    "import gzip\n",
    "from collections import defaultdict\n",
    "import math\n",
    "import scipy.optimize\n",
    "from sklearn import svm\n",
    "import numpy as np\n",
    "import string\n",
    "import random\n",
    "import string\n",
    "from sklearn import linear_model"
   ]
  },
  {
   "cell_type": "code",
   "execution_count": 9,
   "metadata": {},
   "outputs": [],
   "source": [
    "import warnings\n",
    "warnings.filterwarnings(\"ignore\")"
   ]
  },
  {
   "cell_type": "code",
   "execution_count": 10,
   "metadata": {},
   "outputs": [],
   "source": [
    "def readGz(path):\n",
    "    for l in gzip.open(path, 'rt'):\n",
    "        yield eval(l)\n",
    "\n",
    "def readCSV(path):\n",
    "    f = gzip.open(path, 'rt')\n",
    "    f.readline()\n",
    "    for l in f:\n",
    "        u,b,r = l.strip().split(',')\n",
    "        r = int(r)\n",
    "        yield u,b,r"
   ]
  },
  {
   "cell_type": "code",
   "execution_count": 11,
   "metadata": {},
   "outputs": [],
   "source": [
    "allRatings = []\n",
    "for l in readCSV(\"train_Interactions.csv.gz\"):\n",
    "    allRatings.append(l)"
   ]
  },
  {
   "cell_type": "code",
   "execution_count": 12,
   "metadata": {},
   "outputs": [],
   "source": [
    "ratingsTrain = allRatings[:190000]\n",
    "ratingsValid = allRatings[190000:]\n",
    "ratingsPerUser = defaultdict(list)\n",
    "ratingsPerItem = defaultdict(list)\n",
    "for u,b,r in ratingsTrain:\n",
    "    ratingsPerUser[u].append((b,r))\n",
    "    ratingsPerItem[b].append((u,r))\n",
    "\n"
   ]
  },
  {
   "cell_type": "code",
   "execution_count": 13,
   "metadata": {},
   "outputs": [],
   "source": [
    "def Jaccard(s1, s2):\n",
    "    inter = len(set(s1).intersection(set(s2)))\n",
    "    union = len(set(s1).union(set(s2)))\n",
    "    if union == 0:\n",
    "        return 0\n",
    "    return inter / union"
   ]
  },
  {
   "cell_type": "code",
   "execution_count": 14,
   "metadata": {},
   "outputs": [],
   "source": [
    "def initialize_parameters(ratingsPerUser, ratingsPerItem, K, seed=42):\n",
    "    np.random.seed(seed)\n",
    "    beta_user = defaultdict(float)\n",
    "    beta_book = defaultdict(float)\n",
    "    gamma_user = defaultdict(lambda: np.zeros(K))\n",
    "    gamma_book = defaultdict(lambda: np.zeros(K))\n",
    "    \n",
    "    for u in ratingsPerUser:\n",
    "        beta_user[u] = 0.0\n",
    "        gamma_user[u] = np.random.normal(scale=0.1, size=K)\n",
    "    \n",
    "    for b in ratingsPerItem:\n",
    "        beta_book[b] = 0.0\n",
    "        gamma_book[b] = np.random.normal(scale=0.1, size=K)\n",
    "    \n",
    "    alpha = np.mean([r for _, _, r in ratingsTrain])\n",
    "    \n",
    "    return alpha, beta_user, beta_book, gamma_user, gamma_book"
   ]
  },
  {
   "cell_type": "code",
   "execution_count": 22,
   "metadata": {},
   "outputs": [],
   "source": [
    "def train(ratingsTrain, ratingsValid, L1, L2, L3, L4, K, epochs, learning_rate):\n",
    "    # Initialize parameters\n",
    "    alpha, beta_user, beta_book, gamma_user, gamma_book = initialize_parameters(ratingsPerUser, ratingsPerItem, K)\n",
    "    \n",
    "    for u in ratingsPerUser:\n",
    "        beta_user[u] = 0.0\n",
    "    for b in ratingsPerItem:\n",
    "        beta_book[b] = 0.0\n",
    "    for u in ratingsPerUser:\n",
    "        gamma_user[u] = np.random.normal(scale=0.1, size=K)\n",
    "    for b in ratingsPerItem:\n",
    "        gamma_book[b] = np.random.normal(scale=0.1, size=K)\n",
    "    \n",
    "    last_obj = 10**9\n",
    "    for epoch in range(epochs):\n",
    "        np.random.shuffle(ratingsTrain)  # Shuffle training data each epoch\n",
    "        for u, b, r in ratingsTrain:\n",
    "            prediction = alpha + beta_user[u] + beta_book[b] + np.dot(gamma_user[u], gamma_book[b])\n",
    "            error = r - prediction\n",
    "            alpha += learning_rate * error / len(ratingsTrain)\n",
    "            beta_user[u] += learning_rate * (error - L1 * beta_user[u])\n",
    "            beta_book[b] += learning_rate * (error - L2 * beta_book[b])\n",
    "            gamma_user[u] += learning_rate * (error * gamma_book[b] - L3 * gamma_user[u])\n",
    "            gamma_book[b] += learning_rate * (error * gamma_user[u] - L4 * gamma_book[b])\n",
    "\n",
    "        sse, obj = compute_objective(alpha, beta_user, beta_book, gamma_user, gamma_book, ratingsValid, L1, L2, L3, L4)\n",
    "        print(f\"Epoch {epoch}: SSE={sse}, Objective={obj}\")\n",
    "        print(last_obj - obj)\n",
    "        if last_obj - obj < 0.1: break\n",
    "        last_obj = obj\n",
    "    \n",
    "    return alpha, beta_user, beta_book, gamma_user, gamma_book\n",
    "\n",
    "def compute_objective(alpha, beta_user, beta_book, gamma_user, gamma_book, ratingsValid, L1, L2, L3, L4):\n",
    "    sse = 0\n",
    "    for u, b, r in ratingsValid:\n",
    "        prediction = alpha + beta_user[u] + beta_book[b] + np.dot(gamma_user[u], gamma_book[b])\n",
    "        sse += (r - prediction) ** 2\n",
    "    \n",
    "    reg_user = L1 * sum(beta ** 2 for beta in beta_user.values())\n",
    "    reg_book = L2 * sum(beta ** 2 for beta in beta_book.values())\n",
    "    reg_gamma_user = L3 * sum(np.dot(gamma, gamma) for gamma in gamma_user.values())\n",
    "    reg_gamma_book = L4 * sum(np.dot(gamma, gamma) for gamma in gamma_book.values())\n",
    "    \n",
    "    objective = sse + reg_user + reg_book + reg_gamma_user + reg_gamma_book\n",
    "    return sse, objective\n"
   ]
  },
  {
   "cell_type": "code",
   "execution_count": 24,
   "metadata": {},
   "outputs": [
    {
     "name": "stdout",
     "output_type": "stream",
     "text": [
      "Epoch 0: SSE=16684.56753213684, Objective=16957.92280644155\n",
      "999983042.0771936\n",
      "Epoch 1: SSE=16425.67405595806, Objective=17049.376143074198\n",
      "-91.45333663264682\n",
      "Validation MSE = 1.6425674055958062\n"
     ]
    }
   ],
   "source": [
    "alpha, beta_user, beta_book, gamma_user, gamma_book = train(ratingsTrain, ratingsValid, 3, 21, 0, 0, 6, 25, 0.01)\n",
    "validMSE = 0\n",
    "for u,b,r in ratingsValid:\n",
    "    bu = 0\n",
    "    bi = 0\n",
    "    if u in beta_user:\n",
    "        bu = beta_user[u]\n",
    "    if b in beta_book:\n",
    "        bi = beta_book[b]\n",
    "    prediction = alpha + bu + bi + np.dot(gamma_user[u], gamma_book[b])\n",
    "    validMSE += (r - prediction)**2\n",
    "\n",
    "validMSE /= len(ratingsValid)\n",
    "print(\"Validation MSE = \" + str(validMSE))\n"
   ]
  },
  {
   "cell_type": "code",
   "execution_count": null,
   "metadata": {},
   "outputs": [],
   "source": [
    "predictions = open(\"predictions_Rating.csv\", 'w')\n",
    "for l in open(\"pairs_Rating.csv\"):\n",
    "    if l.startswith(\"userID\"): # header\n",
    "        predictions.write(l)\n",
    "        continue\n",
    "    u,b = l.strip().split(',') # Read the user and item from the \"pairs\" file and write out your prediction\n",
    "    prediction = alpha + beta_user.get(u, 0) + beta_book.get(b, 0)\n",
    "    predictions.write(u + ',' + b + ',' + str(prediction) + '\\n')\n",
    "    \n",
    "predictions.close()"
   ]
  }
 ],
 "metadata": {
  "kernelspec": {
   "display_name": "Python 3",
   "language": "python",
   "name": "python3"
  },
  "language_info": {
   "codemirror_mode": {
    "name": "ipython",
    "version": 3
   },
   "file_extension": ".py",
   "mimetype": "text/x-python",
   "name": "python",
   "nbconvert_exporter": "python",
   "pygments_lexer": "ipython3",
   "version": "3.10.10"
  }
 },
 "nbformat": 4,
 "nbformat_minor": 2
}
