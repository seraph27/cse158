{
 "cells": [
  {
   "cell_type": "code",
   "execution_count": 59,
   "id": "c62c3f62",
   "metadata": {},
   "outputs": [],
   "source": [
    "import gzip\n",
    "from collections import defaultdict\n",
    "import math\n",
    "import scipy.optimize\n",
    "from sklearn import svm\n",
    "import numpy\n",
    "import string\n",
    "import random\n",
    "import string\n",
    "from sklearn import linear_model"
   ]
  },
  {
   "cell_type": "code",
   "execution_count": 60,
   "id": "e74ac9ec",
   "metadata": {},
   "outputs": [],
   "source": [
    "def readGz(path):\n",
    "    for l in gzip.open(path, 'rt'):\n",
    "        yield eval(l)"
   ]
  },
  {
   "cell_type": "code",
   "execution_count": 61,
   "id": "df6d8628",
   "metadata": {},
   "outputs": [],
   "source": [
    "def readCSV(path):\n",
    "    f = gzip.open(path, 'rt')\n",
    "    f.readline()\n",
    "    for l in f:\n",
    "        u,b,r = l.strip().split(',')\n",
    "        r = int(r)\n",
    "        yield u,b,r"
   ]
  },
  {
   "cell_type": "code",
   "execution_count": 62,
   "id": "86ef2102",
   "metadata": {},
   "outputs": [],
   "source": [
    "answers = {}"
   ]
  },
  {
   "cell_type": "code",
   "execution_count": 63,
   "id": "b776b3de",
   "metadata": {},
   "outputs": [],
   "source": [
    "# Some data structures that will be useful"
   ]
  },
  {
   "cell_type": "code",
   "execution_count": 64,
   "id": "4e79beea",
   "metadata": {},
   "outputs": [],
   "source": [
    "allRatings = []\n",
    "for l in readCSV(\"train_Interactions.csv.gz\"):\n",
    "    allRatings.append(l)"
   ]
  },
  {
   "cell_type": "code",
   "execution_count": 65,
   "id": "4103a0b2",
   "metadata": {},
   "outputs": [
    {
     "data": {
      "text/plain": [
       "200000"
      ]
     },
     "execution_count": 65,
     "metadata": {},
     "output_type": "execute_result"
    }
   ],
   "source": [
    "len(allRatings)"
   ]
  },
  {
   "cell_type": "code",
   "execution_count": 66,
   "id": "a9fe3a70",
   "metadata": {},
   "outputs": [],
   "source": [
    "ratingsTrain = allRatings[:190000]\n",
    "ratingsValid = allRatings[190000:]\n",
    "ratingsPerUser = defaultdict(list)\n",
    "ratingsPerItem = defaultdict(list)\n",
    "for u,b,r in ratingsTrain:\n",
    "    ratingsPerUser[u].append((b,r))\n",
    "    ratingsPerItem[b].append((u,r))"
   ]
  },
  {
   "cell_type": "code",
   "execution_count": 67,
   "id": "ddd75a1e",
   "metadata": {},
   "outputs": [],
   "source": [
    "##################################################\n",
    "# Read prediction                                #\n",
    "##################################################"
   ]
  },
  {
   "cell_type": "code",
   "execution_count": 68,
   "id": "ac0c608b",
   "metadata": {},
   "outputs": [],
   "source": [
    "# From baseline code\n",
    "bookCount = defaultdict(int)\n",
    "totalRead = 0\n",
    "\n",
    "for user,book,_ in readCSV(\"train_Interactions.csv.gz\"):\n",
    "    bookCount[book] += 1\n",
    "    totalRead += 1\n",
    "\n",
    "mostPopular = [(bookCount[x], x) for x in bookCount]\n",
    "mostPopular.sort()\n",
    "mostPopular.reverse()\n",
    "\n",
    "return1 = set()\n",
    "count = 0\n",
    "for ic, i in mostPopular:\n",
    "    count += ic\n",
    "    return1.add(i)\n",
    "    if count > totalRead/2: break"
   ]
  },
  {
   "cell_type": "code",
   "execution_count": 69,
   "id": "04946ea9",
   "metadata": {},
   "outputs": [],
   "source": [
    "# Generate a negative set\n",
    "\n",
    "userSet = set()\n",
    "bookSet = set()\n",
    "readSet = set()\n",
    "\n",
    "for u,b,r in allRatings:\n",
    "    userSet.add(u)\n",
    "    bookSet.add(b)\n",
    "    readSet.add((u,b))\n",
    "\n",
    "lUserSet = list(userSet)\n",
    "lBookSet = list(bookSet)\n",
    "\n",
    "notRead = set()\n",
    "for u,b,r in ratingsValid:\n",
    "    #u = random.choice(lUserSet)\n",
    "    b = random.choice(lBookSet)\n",
    "    while ((u,b) in readSet or (u,b) in notRead):\n",
    "        b = random.choice(lBookSet)\n",
    "    notRead.add((u,b))\n",
    "\n",
    "readValid = set()\n",
    "for u,b,r in ratingsValid:\n",
    "    readValid.add((u,b))"
   ]
  },
  {
   "cell_type": "code",
   "execution_count": 70,
   "id": "f895b6f9",
   "metadata": {},
   "outputs": [],
   "source": [
    "def Jaccard(s1, s2):\n",
    "    numer = len(s1.intersection(s2))\n",
    "    denom = len(s1.union(s2))\n",
    "    if denom > 0:\n",
    "        return numer/denom\n",
    "    return 0"
   ]
  },
  {
   "cell_type": "code",
   "execution_count": 71,
   "id": "5cde2bc5",
   "metadata": {},
   "outputs": [],
   "source": [
    "### Question 1"
   ]
  },
  {
   "cell_type": "code",
   "execution_count": 72,
   "id": "afdf7f81",
   "metadata": {},
   "outputs": [],
   "source": [
    "# Evaluate baseline strategy\n",
    "\n",
    "correct = 0\n",
    "p0, p1 = 0,0\n",
    "for (label,sample) in [(1, readValid), (0, notRead)]:\n",
    "    for (u,b) in sample:\n",
    "        pred = 0\n",
    "        if b in return1:\n",
    "            pred = 1\n",
    "        if pred == label:\n",
    "            correct += 1"
   ]
  },
  {
   "cell_type": "code",
   "execution_count": 73,
   "id": "e4835674",
   "metadata": {},
   "outputs": [
    {
     "data": {
      "text/plain": [
       "0.7141"
      ]
     },
     "execution_count": 73,
     "metadata": {},
     "output_type": "execute_result"
    }
   ],
   "source": [
    "correct / (len(readValid) + len(notRead))"
   ]
  },
  {
   "cell_type": "code",
   "execution_count": 74,
   "id": "45907e16",
   "metadata": {},
   "outputs": [],
   "source": [
    "answers['Q1'] = correct / (len(readValid) + len(notRead))"
   ]
  },
  {
   "cell_type": "code",
   "execution_count": 75,
   "id": "4cf973fa",
   "metadata": {},
   "outputs": [],
   "source": [
    "assert type(answers['Q1']) == float"
   ]
  },
  {
   "cell_type": "code",
   "execution_count": 76,
   "id": "30f83764",
   "metadata": {},
   "outputs": [],
   "source": [
    "### Question 2"
   ]
  },
  {
   "cell_type": "code",
   "execution_count": 77,
   "id": "d8c7c66f",
   "metadata": {},
   "outputs": [],
   "source": [
    "# Improved strategy\n",
    "\n",
    "return1 = set()\n",
    "count = 0\n",
    "for ic, i in mostPopular:\n",
    "    count += ic\n",
    "    return1.add(i)\n",
    "    if count > 1.5 * totalRead/2: break"
   ]
  },
  {
   "cell_type": "code",
   "execution_count": 78,
   "id": "0cca5964",
   "metadata": {},
   "outputs": [],
   "source": [
    "# Evaluate baseline strategy\n",
    "\n",
    "correct = 0\n",
    "p0, p1 = 0,0\n",
    "for (label,sample) in [(1, readValid), (0, notRead)]:\n",
    "    for (u,b) in sample:\n",
    "        pred = 0\n",
    "        if b in return1:\n",
    "            pred = 1\n",
    "        if pred == label:\n",
    "            correct += 1"
   ]
  },
  {
   "cell_type": "code",
   "execution_count": 79,
   "id": "d75a2d25",
   "metadata": {},
   "outputs": [
    {
     "data": {
      "text/plain": [
       "0.75585"
      ]
     },
     "execution_count": 79,
     "metadata": {},
     "output_type": "execute_result"
    }
   ],
   "source": [
    "correct / (len(readValid) + len(notRead))"
   ]
  },
  {
   "cell_type": "code",
   "execution_count": 80,
   "id": "5d8d60f3",
   "metadata": {},
   "outputs": [],
   "source": [
    "answers['Q2'] = [1.5 * totalRead/2, correct / (len(readValid) + len(notRead))]"
   ]
  },
  {
   "cell_type": "code",
   "execution_count": 81,
   "id": "34e892d8",
   "metadata": {},
   "outputs": [],
   "source": [
    "assert type(answers['Q2'][0]) == float\n",
    "assert type(answers['Q2'][1]) == float"
   ]
  },
  {
   "cell_type": "code",
   "execution_count": 82,
   "id": "095ea961",
   "metadata": {},
   "outputs": [],
   "source": [
    "### Question 3/4"
   ]
  },
  {
   "cell_type": "code",
   "execution_count": 83,
   "id": "1acbf0c2",
   "metadata": {},
   "outputs": [],
   "source": [
    "# Slow implementation, could easily be improved\n",
    "\n",
    "correct = 0\n",
    "for (label,sample) in [(1, readValid), (0, notRead)]:\n",
    "    for (u,b) in sample:\n",
    "        maxSim = 0\n",
    "        users = set(ratingsPerItem[b])\n",
    "        for b2,_ in ratingsPerUser[u]:\n",
    "            sim = Jaccard(users,set(ratingsPerItem[b2]))\n",
    "            if sim > maxSim:\n",
    "                maxSim = sim\n",
    "        pred = 0\n",
    "        if maxSim > 0.013 or len(ratingsPerItem[b]) > 40:\n",
    "            pred = 1\n",
    "        if pred == label:\n",
    "            correct += 1"
   ]
  },
  {
   "cell_type": "code",
   "execution_count": 84,
   "id": "1321eb61",
   "metadata": {},
   "outputs": [
    {
     "data": {
      "text/plain": [
       "0.751"
      ]
     },
     "execution_count": 84,
     "metadata": {},
     "output_type": "execute_result"
    }
   ],
   "source": [
    "correct / (len(readValid) + len(notRead))"
   ]
  },
  {
   "cell_type": "code",
   "execution_count": 85,
   "id": "68662a8d",
   "metadata": {},
   "outputs": [],
   "source": [
    "answers['Q3'] = correct / (len(readValid) + len(notRead))\n",
    "answers['Q4'] = correct / (len(readValid) + len(notRead))"
   ]
  },
  {
   "cell_type": "code",
   "execution_count": 86,
   "id": "7995ceba",
   "metadata": {},
   "outputs": [],
   "source": [
    "assert type(answers['Q3']) == float\n",
    "assert type(answers['Q4']) == float"
   ]
  },
  {
   "cell_type": "code",
   "execution_count": 87,
   "id": "13664877",
   "metadata": {},
   "outputs": [
    {
     "ename": "FileNotFoundError",
     "evalue": "[Errno 2] No such file or directory: '/home/julian/teaching/2024/assignment1/pairs_Read.csv'",
     "output_type": "error",
     "traceback": [
      "\u001b[1;31m---------------------------------------------------------------------------\u001b[0m",
      "\u001b[1;31mFileNotFoundError\u001b[0m                         Traceback (most recent call last)",
      "Cell \u001b[1;32mIn[87], line 2\u001b[0m\n\u001b[0;32m      1\u001b[0m predictions \u001b[38;5;241m=\u001b[39m \u001b[38;5;28mopen\u001b[39m(\u001b[38;5;124m\"\u001b[39m\u001b[38;5;124mpredictions_Read.csv\u001b[39m\u001b[38;5;124m\"\u001b[39m, \u001b[38;5;124m'\u001b[39m\u001b[38;5;124mw\u001b[39m\u001b[38;5;124m'\u001b[39m)\n\u001b[1;32m----> 2\u001b[0m \u001b[38;5;28;01mfor\u001b[39;00m l \u001b[38;5;129;01min\u001b[39;00m \u001b[38;5;28;43mopen\u001b[39;49m\u001b[43m(\u001b[49m\u001b[38;5;124;43m\"\u001b[39;49m\u001b[38;5;124;43m/home/julian/teaching/2024/assignment1/pairs_Read.csv\u001b[39;49m\u001b[38;5;124;43m\"\u001b[39;49m\u001b[43m)\u001b[49m:\n\u001b[0;32m      3\u001b[0m     \u001b[38;5;28;01mif\u001b[39;00m l\u001b[38;5;241m.\u001b[39mstartswith(\u001b[38;5;124m\"\u001b[39m\u001b[38;5;124muserID\u001b[39m\u001b[38;5;124m\"\u001b[39m):\n\u001b[0;32m      4\u001b[0m         predictions\u001b[38;5;241m.\u001b[39mwrite(l)\n",
      "File \u001b[1;32m~\\AppData\\Roaming\\Python\\Python310\\site-packages\\IPython\\core\\interactiveshell.py:324\u001b[0m, in \u001b[0;36m_modified_open\u001b[1;34m(file, *args, **kwargs)\u001b[0m\n\u001b[0;32m    317\u001b[0m \u001b[38;5;28;01mif\u001b[39;00m file \u001b[38;5;129;01min\u001b[39;00m {\u001b[38;5;241m0\u001b[39m, \u001b[38;5;241m1\u001b[39m, \u001b[38;5;241m2\u001b[39m}:\n\u001b[0;32m    318\u001b[0m     \u001b[38;5;28;01mraise\u001b[39;00m \u001b[38;5;167;01mValueError\u001b[39;00m(\n\u001b[0;32m    319\u001b[0m         \u001b[38;5;124mf\u001b[39m\u001b[38;5;124m\"\u001b[39m\u001b[38;5;124mIPython won\u001b[39m\u001b[38;5;124m'\u001b[39m\u001b[38;5;124mt let you open fd=\u001b[39m\u001b[38;5;132;01m{\u001b[39;00mfile\u001b[38;5;132;01m}\u001b[39;00m\u001b[38;5;124m by default \u001b[39m\u001b[38;5;124m\"\u001b[39m\n\u001b[0;32m    320\u001b[0m         \u001b[38;5;124m\"\u001b[39m\u001b[38;5;124mas it is likely to crash IPython. If you know what you are doing, \u001b[39m\u001b[38;5;124m\"\u001b[39m\n\u001b[0;32m    321\u001b[0m         \u001b[38;5;124m\"\u001b[39m\u001b[38;5;124myou can use builtins\u001b[39m\u001b[38;5;124m'\u001b[39m\u001b[38;5;124m open.\u001b[39m\u001b[38;5;124m\"\u001b[39m\n\u001b[0;32m    322\u001b[0m     )\n\u001b[1;32m--> 324\u001b[0m \u001b[38;5;28;01mreturn\u001b[39;00m io_open(file, \u001b[38;5;241m*\u001b[39margs, \u001b[38;5;241m*\u001b[39m\u001b[38;5;241m*\u001b[39mkwargs)\n",
      "\u001b[1;31mFileNotFoundError\u001b[0m: [Errno 2] No such file or directory: '/home/julian/teaching/2024/assignment1/pairs_Read.csv'"
     ]
    }
   ],
   "source": [
    "predictions = open(\"predictions_Read.csv\", 'w')\n",
    "for l in open(\"/home/julian/teaching/2024/assignment1/pairs_Read.csv\"):\n",
    "    if l.startswith(\"userID\"):\n",
    "        predictions.write(l)\n",
    "        continue\n",
    "    u,b = l.strip().split(',')\n",
    "    maxSim = 0\n",
    "    users = set(ratingsPerItem[b])\n",
    "    for b2,_ in ratingsPerUser[u]:\n",
    "        sim = Jaccard(users,set(ratingsPerItem[b2]))\n",
    "        if sim > maxSim:\n",
    "            maxSim = sim\n",
    "    pred = 0\n",
    "    if maxSim > 0.013 or len(ratingsPerItem[b]) > 40:\n",
    "        pred = 1\n",
    "    _ = predictions.write(u + ',' + b + ',' + str(pred) + '\\n')\n",
    "\n",
    "predictions.close()"
   ]
  },
  {
   "cell_type": "code",
   "execution_count": null,
   "id": "5b843dcf",
   "metadata": {},
   "outputs": [],
   "source": [
    "answers['Q5'] = \"I confirm that I have uploaded an assignment submission to gradescope\""
   ]
  },
  {
   "cell_type": "code",
   "execution_count": null,
   "id": "8fe97c5b",
   "metadata": {},
   "outputs": [],
   "source": [
    "assert type(answers['Q5']) == str"
   ]
  },
  {
   "cell_type": "code",
   "execution_count": null,
   "id": "9c51f68c",
   "metadata": {},
   "outputs": [],
   "source": [
    "##################################################\n",
    "# Rating prediction                              #\n",
    "##################################################"
   ]
  },
  {
   "cell_type": "code",
   "execution_count": null,
   "id": "ef4c9854",
   "metadata": {},
   "outputs": [],
   "source": [
    "trainRatings = [r[2] for r in ratingsTrain]\n",
    "globalAverage = sum(trainRatings) * 1.0 / len(trainRatings)"
   ]
  },
  {
   "cell_type": "code",
   "execution_count": null,
   "id": "41e2d4bd",
   "metadata": {},
   "outputs": [
    {
     "name": "stdout",
     "output_type": "stream",
     "text": [
      "Validation MSE (average only) = 1.7272009396120143\n"
     ]
    }
   ],
   "source": [
    "validMSE = 0\n",
    "for u,b,r in ratingsValid:\n",
    "  se = (r - globalAverage)**2\n",
    "  validMSE += se\n",
    "\n",
    "validMSE /= len(ratingsValid)\n",
    "\n",
    "print(\"Validation MSE (average only) = \" + str(validMSE))"
   ]
  },
  {
   "cell_type": "code",
   "execution_count": null,
   "id": "e0332cbd",
   "metadata": {},
   "outputs": [],
   "source": [
    "### Question 6"
   ]
  },
  {
   "cell_type": "code",
   "execution_count": null,
   "id": "78555813",
   "metadata": {},
   "outputs": [],
   "source": [
    "betaU = {}\n",
    "betaI = {}\n",
    "for u in ratingsPerUser:\n",
    "    betaU[u] = 0\n",
    "\n",
    "for b in ratingsPerItem:\n",
    "    betaI[b] = 0"
   ]
  },
  {
   "cell_type": "code",
   "execution_count": null,
   "id": "64dc8ab7",
   "metadata": {},
   "outputs": [],
   "source": [
    "alpha = globalAverage # Could initialize anywhere, this is a guess"
   ]
  },
  {
   "cell_type": "code",
   "execution_count": null,
   "id": "c109250d",
   "metadata": {},
   "outputs": [],
   "source": [
    "def iterate(lamb):\n",
    "    newAlpha = 0\n",
    "    for u,b,r in ratingsTrain:\n",
    "        newAlpha += r - (betaU[u] + betaI[b])\n",
    "    alpha = newAlpha / len(ratingsTrain)\n",
    "    for u in ratingsPerUser:\n",
    "        newBetaU = 0\n",
    "        for b,r in ratingsPerUser[u]:\n",
    "            newBetaU += r - (alpha + betaI[b])\n",
    "        betaU[u] = newBetaU / (lamb + len(ratingsPerUser[u]))\n",
    "    for b in ratingsPerItem:\n",
    "        newBetaI = 0\n",
    "        for u,r in ratingsPerItem[b]:\n",
    "            newBetaI += r - (alpha + betaU[u])\n",
    "        betaI[b] = newBetaI / (lamb + len(ratingsPerItem[b]))\n",
    "    mse = 0\n",
    "    for u,b,r in ratingsTrain:\n",
    "        prediction = alpha + betaU[u] + betaI[b]\n",
    "        mse += (r - prediction)**2\n",
    "    regularizer = 0\n",
    "    for u in betaU:\n",
    "        regularizer += betaU[u]**2\n",
    "    for b in betaI:\n",
    "        regularizer += betaI[b]**2\n",
    "    mse /= len(ratingsTrain)\n",
    "    return mse, mse + lamb*regularizer"
   ]
  },
  {
   "cell_type": "code",
   "execution_count": null,
   "id": "18f9d197",
   "metadata": {},
   "outputs": [],
   "source": [
    "mse,objective = iterate(1)\n",
    "newMSE,newObjective = iterate(1)\n",
    "iterations = 2"
   ]
  },
  {
   "cell_type": "code",
   "execution_count": null,
   "id": "d146ee62",
   "metadata": {},
   "outputs": [
    {
     "name": "stdout",
     "output_type": "stream",
     "text": [
      "Objective after 3 iterations = 13116.588597112237\n",
      "MSE after 3 iterations = 1.0532999574393143\n",
      "Objective after 4 iterations = 13126.061979708516\n",
      "MSE after 4 iterations = 1.0531700104166957\n",
      "Objective after 5 iterations = 13123.880213845163\n",
      "MSE after 5 iterations = 1.053139460478934\n",
      "Objective after 6 iterations = 13119.024310980794\n",
      "MSE after 6 iterations = 1.0531277418089378\n",
      "Objective after 7 iterations = 13113.705317224998\n",
      "MSE after 7 iterations = 1.05312075617977\n",
      "Objective after 8 iterations = 13108.483752331393\n",
      "MSE after 8 iterations = 1.0531152532250623\n",
      "Objective after 9 iterations = 13103.503333711971\n",
      "MSE after 9 iterations = 1.0531103584002324\n",
      "Objective after 10 iterations = 13098.795339035578\n",
      "MSE after 10 iterations = 1.0531058094104893\n",
      "Objective after 11 iterations = 13094.358965836527\n",
      "MSE after 11 iterations = 1.0531015180428667\n",
      "Objective after 12 iterations = 13090.184043329817\n",
      "MSE after 12 iterations = 1.0530974490161191\n",
      "Objective after 13 iterations = 13086.257833272284\n",
      "MSE after 13 iterations = 1.0530935840376767\n",
      "Objective after 14 iterations = 13082.567160407587\n",
      "MSE after 14 iterations = 1.0530899106098723\n",
      "Objective after 15 iterations = 13079.099101138578\n",
      "MSE after 15 iterations = 1.0530864184231299\n",
      "Objective after 16 iterations = 13075.841208433387\n",
      "MSE after 16 iterations = 1.0530830981649675\n",
      "Objective after 17 iterations = 13072.781581863323\n",
      "MSE after 17 iterations = 1.053079941117664\n",
      "Objective after 18 iterations = 13069.908883648974\n",
      "MSE after 18 iterations = 1.0530769390173815\n",
      "Objective after 19 iterations = 13067.212334672899\n",
      "MSE after 19 iterations = 1.0530740840009003\n",
      "Objective after 20 iterations = 13064.681702302454\n",
      "MSE after 20 iterations = 1.053071368580787\n",
      "Objective after 21 iterations = 13062.307284410606\n",
      "MSE after 21 iterations = 1.0530687856298393\n",
      "Objective after 22 iterations = 13060.079891388636\n",
      "MSE after 22 iterations = 1.0530663283679422\n",
      "Objective after 23 iterations = 13057.990827006344\n",
      "MSE after 23 iterations = 1.0530639903496024\n",
      "Objective after 24 iterations = 13056.031868623693\n",
      "MSE after 24 iterations = 1.0530617654515104\n",
      "Objective after 25 iterations = 13054.195247085223\n",
      "MSE after 25 iterations = 1.053059647859635\n",
      "Objective after 26 iterations = 13052.47362654751\n",
      "MSE after 26 iterations = 1.0530576320564538\n",
      "Objective after 27 iterations = 13050.860084434462\n",
      "MSE after 27 iterations = 1.0530557128082738\n",
      "Objective after 28 iterations = 13049.34809167283\n",
      "MSE after 28 iterations = 1.0530538851524758\n",
      "Objective after 29 iterations = 13047.931493326301\n",
      "MSE after 29 iterations = 1.053052144384938\n",
      "Objective after 30 iterations = 13046.60448972293\n",
      "MSE after 30 iterations = 1.0530504860480363\n",
      "Objective after 31 iterations = 13045.36161814472\n",
      "MSE after 31 iterations = 1.0530489059186576\n",
      "Objective after 32 iterations = 13044.19773513028\n",
      "MSE after 32 iterations = 1.053047399996597\n",
      "Objective after 33 iterations = 13043.107999428643\n",
      "MSE after 33 iterations = 1.0530459644935262\n",
      "Objective after 34 iterations = 13042.08785562712\n",
      "MSE after 34 iterations = 1.0530445958221004\n",
      "Objective after 35 iterations = 13041.133018463632\n",
      "MSE after 35 iterations = 1.053043290585847\n",
      "Objective after 36 iterations = 13040.239457830803\n",
      "MSE after 36 iterations = 1.053042045569038\n",
      "Objective after 37 iterations = 13039.403384466934\n",
      "MSE after 37 iterations = 1.0530408577273858\n",
      "Objective after 38 iterations = 13038.62123632771\n",
      "MSE after 38 iterations = 1.0530397241789893\n",
      "Objective after 39 iterations = 13037.889665621515\n",
      "MSE after 39 iterations = 1.0530386421954119\n",
      "Objective after 40 iterations = 13037.205526498523\n",
      "MSE after 40 iterations = 1.0530376091939246\n",
      "Objective after 41 iterations = 13036.565863368363\n",
      "MSE after 41 iterations = 1.0530366227292671\n",
      "Objective after 42 iterations = 13035.96789983075\n",
      "MSE after 42 iterations = 1.0530356804866179\n",
      "Objective after 43 iterations = 13035.409028193319\n",
      "MSE after 43 iterations = 1.053034780274025\n",
      "Objective after 44 iterations = 13034.886799556221\n",
      "MSE after 44 iterations = 1.0530339200161387\n",
      "Objective after 45 iterations = 13034.39891443853\n",
      "MSE after 45 iterations = 1.053033097747716\n",
      "Objective after 46 iterations = 13033.943213923707\n",
      "MSE after 46 iterations = 1.0530323116074936\n",
      "Objective after 47 iterations = 13033.517671299047\n",
      "MSE after 47 iterations = 1.0530315598326974\n",
      "Objective after 48 iterations = 13033.120384168218\n",
      "MSE after 48 iterations = 1.0530308407534938\n",
      "Objective after 49 iterations = 13032.749567010736\n",
      "MSE after 49 iterations = 1.0530301527879045\n",
      "Objective after 50 iterations = 13032.403544169627\n",
      "MSE after 50 iterations = 1.0530294944370249\n",
      "Objective after 51 iterations = 13032.080743242082\n",
      "MSE after 51 iterations = 1.0530288642805279\n",
      "Objective after 52 iterations = 13031.77968885371\n",
      "MSE after 52 iterations = 1.0530282609721275\n",
      "Objective after 53 iterations = 13031.498996796208\n",
      "MSE after 53 iterations = 1.0530276832357282\n",
      "Objective after 54 iterations = 13031.2373685086\n",
      "MSE after 54 iterations = 1.0530271298615324\n",
      "Objective after 55 iterations = 13030.993585883047\n",
      "MSE after 55 iterations = 1.0530265997023038\n",
      "Objective after 56 iterations = 13030.766506377198\n",
      "MSE after 56 iterations = 1.0530260916700347\n",
      "Objective after 57 iterations = 13030.555058416589\n",
      "MSE after 57 iterations = 1.0530256047326356\n",
      "Objective after 58 iterations = 13030.358237070755\n",
      "MSE after 58 iterations = 1.0530251379110223\n",
      "Objective after 59 iterations = 13030.175099986465\n",
      "MSE after 59 iterations = 1.0530246902759868\n",
      "Objective after 60 iterations = 13030.0047635648\n",
      "MSE after 60 iterations = 1.0530242609457272\n",
      "Objective after 61 iterations = 13029.84639936725\n",
      "MSE after 61 iterations = 1.0530238490829957\n",
      "Objective after 62 iterations = 13029.699230737428\n",
      "MSE after 62 iterations = 1.053023453893034\n",
      "Objective after 63 iterations = 13029.562529625922\n",
      "MSE after 63 iterations = 1.0530230746209224\n",
      "Objective after 64 iterations = 13029.435613608084\n",
      "MSE after 64 iterations = 1.0530227105496335\n",
      "Objective after 65 iterations = 13029.317843079487\n",
      "MSE after 65 iterations = 1.0530223609979092\n",
      "Objective after 66 iterations = 13029.208618623254\n",
      "MSE after 66 iterations = 1.053022025318373\n",
      "Objective after 67 iterations = 13029.107378535859\n",
      "MSE after 67 iterations = 1.0530217028956848\n",
      "Objective after 68 iterations = 13029.013596503059\n",
      "MSE after 68 iterations = 1.0530213931448105\n",
      "Objective after 69 iterations = 13028.926779417328\n",
      "MSE after 69 iterations = 1.0530210955094896\n",
      "Objective after 70 iterations = 13028.84646532745\n",
      "MSE after 70 iterations = 1.053020809460545\n",
      "Objective after 71 iterations = 13028.772221514251\n",
      "MSE after 71 iterations = 1.0530205344946297\n",
      "Objective after 72 iterations = 13028.70364268083\n",
      "MSE after 72 iterations = 1.0530202701327644\n",
      "Objective after 73 iterations = 13028.640349256653\n",
      "MSE after 73 iterations = 1.0530200159189118\n",
      "Objective after 74 iterations = 13028.581985802986\n",
      "MSE after 74 iterations = 1.0530197714191505\n",
      "Objective after 75 iterations = 13028.528219516062\n",
      "MSE after 75 iterations = 1.053019536220099\n",
      "Objective after 76 iterations = 13028.47873882165\n",
      "MSE after 76 iterations = 1.0530193099280962\n",
      "Objective after 77 iterations = 13028.433252057097\n",
      "MSE after 77 iterations = 1.0530190921680855\n",
      "Objective after 78 iterations = 13028.391486231809\n",
      "MSE after 78 iterations = 1.0530188825826334\n",
      "Objective after 79 iterations = 13028.353185865431\n",
      "MSE after 79 iterations = 1.0530186808311155\n",
      "Objective after 80 iterations = 13028.31811189695\n",
      "MSE after 80 iterations = 1.0530184865887213\n",
      "Objective after 81 iterations = 13028.286040659743\n",
      "MSE after 81 iterations = 1.0530182995457544\n",
      "Objective after 82 iterations = 13028.25676292122\n",
      "MSE after 82 iterations = 1.0530181194067196\n",
      "Objective after 83 iterations = 13028.23008298026\n",
      "MSE after 83 iterations = 1.0530179458898583\n",
      "Objective after 84 iterations = 13028.20581782066\n",
      "MSE after 84 iterations = 1.0530177787261221\n",
      "Objective after 85 iterations = 13028.183796315625\n",
      "MSE after 85 iterations = 1.0530176176586918\n",
      "Objective after 86 iterations = 13028.163858484304\n",
      "MSE after 86 iterations = 1.0530174624425166\n",
      "Objective after 87 iterations = 13028.145854790142\n",
      "MSE after 87 iterations = 1.053017312843474\n",
      "Objective after 88 iterations = 13028.129645485105\n",
      "MSE after 88 iterations = 1.0530171686378682\n",
      "Objective after 89 iterations = 13028.115099993563\n",
      "MSE after 89 iterations = 1.053017029611957\n",
      "Objective after 90 iterations = 13028.102096334598\n",
      "MSE after 90 iterations = 1.0530168955616566\n",
      "Objective after 91 iterations = 13028.090520578953\n",
      "MSE after 91 iterations = 1.0530167662916332\n",
      "Objective after 92 iterations = 13028.080266341738\n",
      "MSE after 92 iterations = 1.0530166416152797\n",
      "Objective after 93 iterations = 13028.071234303648\n",
      "MSE after 93 iterations = 1.0530165213540166\n",
      "Objective after 94 iterations = 13028.063331764213\n",
      "MSE after 94 iterations = 1.0530164053370898\n",
      "Objective after 95 iterations = 13028.056472221333\n",
      "MSE after 95 iterations = 1.0530162934010894\n",
      "Objective after 96 iterations = 13028.050574978248\n",
      "MSE after 96 iterations = 1.053016185389578\n",
      "Objective after 97 iterations = 13028.045564772767\n",
      "MSE after 97 iterations = 1.053016081152892\n",
      "Objective after 98 iterations = 13028.041371432118\n",
      "MSE after 98 iterations = 1.0530159805476176\n",
      "Objective after 99 iterations = 13028.037929547063\n",
      "MSE after 99 iterations = 1.05301588343645\n",
      "Objective after 100 iterations = 13028.03517816719\n",
      "MSE after 100 iterations = 1.0530157896878778\n",
      "Objective after 101 iterations = 13028.033060515909\n",
      "MSE after 101 iterations = 1.0530156991758701\n",
      "Objective after 102 iterations = 13028.031523721733\n",
      "MSE after 102 iterations = 1.0530156117796168\n",
      "Objective after 103 iterations = 13028.030518567164\n",
      "MSE after 103 iterations = 1.0530155273833215\n",
      "Objective after 104 iterations = 13028.029999253922\n",
      "MSE after 104 iterations = 1.0530154458759684\n",
      "Objective after 105 iterations = 13028.029923180553\n",
      "MSE after 105 iterations = 1.053015367151055\n"
     ]
    }
   ],
   "source": [
    "while iterations < 10 or objective - newObjective > 0.0001:\n",
    "    mse, objective = newMSE, newObjective\n",
    "    newMSE, newObjective = iterate(1)\n",
    "    iterations += 1\n",
    "    print(\"Objective after \"\n",
    "        + str(iterations) + \" iterations = \" + str(newObjective))\n",
    "    print(\"MSE after \"\n",
    "        + str(iterations) + \" iterations = \" + str(newMSE))"
   ]
  },
  {
   "cell_type": "code",
   "execution_count": null,
   "id": "12d6dc8d",
   "metadata": {},
   "outputs": [
    {
     "name": "stdout",
     "output_type": "stream",
     "text": [
      "Validation MSE = 1.4867655009847975\n"
     ]
    }
   ],
   "source": [
    "validMSE = 0\n",
    "for u,b,r in ratingsValid:\n",
    "    bu = 0\n",
    "    bi = 0\n",
    "    if u in betaU:\n",
    "        bu = betaU[u]\n",
    "    if b in betaI:\n",
    "        bi = betaI[b]\n",
    "    prediction = alpha + bu + bi\n",
    "    validMSE += (r - prediction)**2\n",
    "\n",
    "validMSE /= len(ratingsValid)\n",
    "print(\"Validation MSE = \" + str(validMSE))"
   ]
  },
  {
   "cell_type": "code",
   "execution_count": null,
   "id": "e25f1fe8",
   "metadata": {},
   "outputs": [],
   "source": [
    "answers['Q6'] = validMSE"
   ]
  },
  {
   "cell_type": "code",
   "execution_count": null,
   "id": "4399d266",
   "metadata": {},
   "outputs": [],
   "source": [
    "assert type(answers['Q6']) == float"
   ]
  },
  {
   "cell_type": "code",
   "execution_count": null,
   "id": "b84a95e2",
   "metadata": {},
   "outputs": [],
   "source": [
    "### Question 7"
   ]
  },
  {
   "cell_type": "code",
   "execution_count": null,
   "id": "77f54377",
   "metadata": {},
   "outputs": [
    {
     "name": "stdout",
     "output_type": "stream",
     "text": [
      "Maximum betaU = u18223169 (1.8200651107262364)\n",
      "Maximum betaI = b22273615 (1.7887811142876646)\n",
      "Minimum betaU = u88024921 (-3.562782354660326)\n",
      "Minimum betaI = b85650308 (-2.308817425988121)\n"
     ]
    }
   ],
   "source": [
    "betaUs = [(betaU[u], u) for u in betaU]\n",
    "betaIs = [(betaI[i], i) for i in betaI]\n",
    "betaUs.sort()\n",
    "betaIs.sort()\n",
    "\n",
    "print(\"Maximum betaU = \" + str(betaUs[-1][1]) + ' (' + str(betaUs[-1][0]) + ')')\n",
    "print(\"Maximum betaI = \" + str(betaIs[-1][1]) + ' (' + str(betaIs[-1][0]) + ')')\n",
    "print(\"Minimum betaU = \" + str(betaUs[0][1]) + ' (' + str(betaUs[0][0]) + ')')\n",
    "print(\"Minimum betaI = \" + str(betaIs[0][1]) + ' (' + str(betaIs[0][0]) + ')')"
   ]
  },
  {
   "cell_type": "code",
   "execution_count": null,
   "id": "628aeb0e",
   "metadata": {},
   "outputs": [],
   "source": [
    "answers['Q7'] = [betaUs[-1][1], betaUs[0][1], betaUs[-1][0], betaUs[0][0]]"
   ]
  },
  {
   "cell_type": "code",
   "execution_count": null,
   "id": "51a33e6c",
   "metadata": {},
   "outputs": [],
   "source": [
    "assert [type(x) for x in answers['Q7']] == [str, str, float, float]"
   ]
  },
  {
   "cell_type": "code",
   "execution_count": null,
   "id": "10450e9a",
   "metadata": {},
   "outputs": [],
   "source": [
    "### Question 8"
   ]
  },
  {
   "cell_type": "code",
   "execution_count": null,
   "id": "9534a878",
   "metadata": {},
   "outputs": [
    {
     "ename": "NameError",
     "evalue": "name 'newMSE' is not defined",
     "output_type": "error",
     "traceback": [
      "\u001b[1;31m---------------------------------------------------------------------------\u001b[0m",
      "\u001b[1;31mNameError\u001b[0m                                 Traceback (most recent call last)",
      "Cell \u001b[1;32mIn[58], line 5\u001b[0m\n\u001b[0;32m      3\u001b[0m iterations \u001b[38;5;241m=\u001b[39m \u001b[38;5;241m1\u001b[39m\n\u001b[0;32m      4\u001b[0m \u001b[38;5;28;01mwhile\u001b[39;00m iterations \u001b[38;5;241m<\u001b[39m \u001b[38;5;241m10\u001b[39m \u001b[38;5;129;01mor\u001b[39;00m objective \u001b[38;5;241m-\u001b[39m newObjective \u001b[38;5;241m>\u001b[39m \u001b[38;5;241m0.0001\u001b[39m:\n\u001b[1;32m----> 5\u001b[0m     mse, objective \u001b[38;5;241m=\u001b[39m \u001b[43mnewMSE\u001b[49m, newObjective\n\u001b[0;32m      6\u001b[0m     newMSE, newObjective \u001b[38;5;241m=\u001b[39m iterate(\u001b[38;5;241m0.6\u001b[39m)\n\u001b[0;32m      7\u001b[0m     iterations \u001b[38;5;241m+\u001b[39m\u001b[38;5;241m=\u001b[39m \u001b[38;5;241m1\u001b[39m\n",
      "\u001b[1;31mNameError\u001b[0m: name 'newMSE' is not defined"
     ]
    }
   ],
   "source": [
    "# Better lambda...\n",
    "\n",
    "iterations = 1\n",
    "while iterations < 10 or objective - newObjective > 0.0001:\n",
    "    mse, objective = newMSE, newObjective\n",
    "    newMSE, newObjective = iterate(0.6)\n",
    "    iterations += 1\n",
    "    print(\"Objective after \" + str(iterations) + \" iterations = \" + str(newObjective))\n",
    "    print(\"MSE after \" + str(iterations) + \" iterations = \" + str(newMSE))"
   ]
  },
  {
   "cell_type": "code",
   "execution_count": null,
   "id": "54f42834",
   "metadata": {},
   "outputs": [
    {
     "name": "stdout",
     "output_type": "stream",
     "text": [
      "Validation MSE = 1.4320141515744742\n"
     ]
    }
   ],
   "source": [
    "validMSE = 0\n",
    "for u,b,r in ratingsValid:\n",
    "    bu = 0\n",
    "    bi = 0\n",
    "    if u in betaU:\n",
    "        bu = betaU[u]\n",
    "    if b in betaI:\n",
    "        bi = betaI[b]\n",
    "    prediction = alpha + bu + bi\n",
    "    validMSE += (r - prediction)**2\n",
    "\n",
    "validMSE /= len(ratingsValid)\n",
    "print(\"Validation MSE = \" + str(validMSE))"
   ]
  },
  {
   "cell_type": "code",
   "execution_count": null,
   "id": "c98c5f96",
   "metadata": {},
   "outputs": [],
   "source": [
    "answers['Q8'] = (5.0, validMSE)"
   ]
  },
  {
   "cell_type": "code",
   "execution_count": null,
   "id": "4ed27a0e",
   "metadata": {},
   "outputs": [],
   "source": [
    "assert type(answers['Q8'][0]) == float\n",
    "assert type(answers['Q8'][1]) == float"
   ]
  },
  {
   "cell_type": "code",
   "execution_count": null,
   "id": "9a670321",
   "metadata": {},
   "outputs": [],
   "source": [
    "predictions = open(\"predictions_Rating.csv\", 'w')\n",
    "for l in open(\"/home/julian/teaching/2024/assignment1/pairs_Rating.csv\"):\n",
    "    if l.startswith(\"userID\"):\n",
    "        predictions.write(l)\n",
    "        continue\n",
    "    u,b = l.strip().split(',')\n",
    "    bu = 0\n",
    "    bi = 0\n",
    "    if u in betaU:\n",
    "        bu = betaU[u]\n",
    "    if b in betaI:\n",
    "        bi = betaI[b]\n",
    "    _ = predictions.write(u + ',' + b + ',' + str(alpha + bu + bi) + '\\n')\n",
    "\n",
    "predictions.close()"
   ]
  },
  {
   "cell_type": "code",
   "execution_count": null,
   "id": "681bd24a",
   "metadata": {},
   "outputs": [],
   "source": [
    "f = open(\"answers_hw3.txt\", 'w')\n",
    "f.write(str(answers) + '\\n')\n",
    "f.close()"
   ]
  },
  {
   "cell_type": "code",
   "execution_count": null,
   "id": "4612a38a-9bc5-4117-ba3d-a1e559d6d73e",
   "metadata": {},
   "outputs": [],
   "source": []
  }
 ],
 "metadata": {
  "kernelspec": {
   "display_name": "Python 3",
   "language": "python",
   "name": "python3"
  },
  "language_info": {
   "codemirror_mode": {
    "name": "ipython",
    "version": 3
   },
   "file_extension": ".py",
   "mimetype": "text/x-python",
   "name": "python",
   "nbconvert_exporter": "python",
   "pygments_lexer": "ipython3",
   "version": "3.10.10"
  }
 },
 "nbformat": 4,
 "nbformat_minor": 5
}
