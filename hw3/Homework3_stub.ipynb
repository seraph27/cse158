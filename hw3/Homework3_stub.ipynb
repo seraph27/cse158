{
 "cells": [
  {
   "cell_type": "code",
   "execution_count": 8,
   "id": "301bf995",
   "metadata": {},
   "outputs": [],
   "source": [
    "import gzip\n",
    "from collections import defaultdict\n",
    "import math\n",
    "import scipy.optimize\n",
    "from sklearn import svm\n",
    "import numpy\n",
    "import string\n",
    "import random\n",
    "import string\n",
    "from sklearn import linear_model"
   ]
  },
  {
   "cell_type": "code",
   "execution_count": 9,
   "id": "31cab31f",
   "metadata": {},
   "outputs": [],
   "source": [
    "import warnings\n",
    "warnings.filterwarnings(\"ignore\")"
   ]
  },
  {
   "cell_type": "code",
   "execution_count": 10,
   "id": "33f967ad",
   "metadata": {},
   "outputs": [],
   "source": [
    "def assertFloat(x):\n",
    "    assert type(float(x)) == float\n",
    "\n",
    "def assertFloatList(items, N):\n",
    "    assert len(items) == N\n",
    "    assert [type(float(x)) for x in items] == [float]*N"
   ]
  },
  {
   "cell_type": "code",
   "execution_count": 11,
   "id": "3e25a33f",
   "metadata": {},
   "outputs": [],
   "source": [
    "def readGz(path):\n",
    "    for l in gzip.open(path, 'rt'):\n",
    "        yield eval(l)"
   ]
  },
  {
   "cell_type": "code",
   "execution_count": 12,
   "id": "f88efc3b",
   "metadata": {},
   "outputs": [],
   "source": [
    "def readCSV(path):\n",
    "    f = gzip.open(path, 'rt')\n",
    "    f.readline()\n",
    "    for l in f:\n",
    "        u,b,r = l.strip().split(',')\n",
    "        r = int(r)\n",
    "        yield u,b,r"
   ]
  },
  {
   "cell_type": "code",
   "execution_count": 13,
   "id": "3a5f39ec",
   "metadata": {},
   "outputs": [],
   "source": [
    "answers = {}"
   ]
  },
  {
   "cell_type": "code",
   "execution_count": 14,
   "id": "b3b16eab",
   "metadata": {},
   "outputs": [],
   "source": [
    "# Some data structures that will be useful"
   ]
  },
  {
   "cell_type": "code",
   "execution_count": 15,
   "id": "09ac1dc4",
   "metadata": {},
   "outputs": [],
   "source": [
    "allRatings = []\n",
    "for l in readCSV(\"train_Interactions.csv.gz\"):\n",
    "    allRatings.append(l)"
   ]
  },
  {
   "cell_type": "code",
   "execution_count": 16,
   "id": "e4717806",
   "metadata": {},
   "outputs": [
    {
     "data": {
      "text/plain": [
       "200000"
      ]
     },
     "execution_count": 16,
     "metadata": {},
     "output_type": "execute_result"
    }
   ],
   "source": [
    "len(allRatings)"
   ]
  },
  {
   "cell_type": "code",
   "execution_count": 17,
   "id": "ca3c2a44",
   "metadata": {},
   "outputs": [],
   "source": [
    "ratingsTrain = allRatings[:190000]\n",
    "ratingsValid = allRatings[190000:]\n",
    "ratingsPerUser = defaultdict(list)\n",
    "ratingsPerItem = defaultdict(list)\n",
    "for u,b,r in ratingsTrain:\n",
    "    ratingsPerUser[u].append((b,r))\n",
    "    ratingsPerItem[b].append((u,r))"
   ]
  },
  {
   "cell_type": "code",
   "execution_count": 18,
   "id": "93959f65",
   "metadata": {},
   "outputs": [],
   "source": [
    "##################################################\n",
    "# Read prediction                                #\n",
    "##################################################"
   ]
  },
  {
   "cell_type": "code",
   "execution_count": 19,
   "id": "d7f73c1c",
   "metadata": {},
   "outputs": [
    {
     "data": {
      "text/plain": [
       "[('u47877739', 'b50020691', 4),\n",
       " ('u44286663', 'b17025078', 5),\n",
       " ('u73526619', 'b22925633', 5),\n",
       " ('u39123859', 'b62815615', 0),\n",
       " ('u12786783', 'b99699446', 2),\n",
       " ('u99072969', 'b24832848', 4),\n",
       " ('u84518411', 'b73152433', 2),\n",
       " ('u50827374', 'b41385722', 3),\n",
       " ('u16732033', 'b77335595', 4),\n",
       " ('u24849922', 'b00310513', 5)]"
      ]
     },
     "execution_count": 19,
     "metadata": {},
     "output_type": "execute_result"
    }
   ],
   "source": [
    "ratingsValid[:10]"
   ]
  },
  {
   "cell_type": "code",
   "execution_count": 20,
   "id": "abb17ed7",
   "metadata": {},
   "outputs": [],
   "source": [
    "# Copied from baseline code\n",
    "bookCount = defaultdict(int)\n",
    "totalRead = 0\n",
    "\n",
    "for user,book,_ in readCSV(\"train_Interactions.csv.gz\"):\n",
    "    bookCount[book] += 1\n",
    "    totalRead += 1\n",
    "\n",
    "mostPopular = [(bookCount[x], x) for x in bookCount]\n",
    "mostPopular.sort()\n",
    "mostPopular.reverse()\n",
    "\n",
    "return1 = set()\n",
    "count = 0\n",
    "for ic, i in mostPopular:\n",
    "    count += ic\n",
    "    return1.add(i)\n",
    "    if count > totalRead/2: break"
   ]
  },
  {
   "cell_type": "code",
   "execution_count": 21,
   "id": "80f40789",
   "metadata": {},
   "outputs": [],
   "source": [
    "### Question 1"
   ]
  },
  {
   "cell_type": "code",
   "execution_count": 22,
   "id": "7c9eea8f",
   "metadata": {},
   "outputs": [],
   "source": [
    "newRatingsValid = [(user, book, 1) for user, book, _ in ratingsValid]\n",
    "for user, book, _ in ratingsValid:\n",
    "    newBook = random.choice(list(bookCount.keys()))\n",
    "    while newBook in [b for b, _ in ratingsPerUser[user]]:\n",
    "        newBook = random.choice(list(bookCount.keys()))\n",
    "    newRatingsValid.append((user, newBook, 0))"
   ]
  },
  {
   "cell_type": "code",
   "execution_count": 23,
   "id": "fdaeb0f7",
   "metadata": {},
   "outputs": [
    {
     "data": {
      "text/plain": [
       "[('u93903821', 'b69804870', 1),\n",
       " ('u57052204', 'b71539352', 1),\n",
       " ('u92805325', 'b62685767', 0),\n",
       " ('u25959217', 'b22908875', 0),\n",
       " ('u08691057', 'b07766119', 1),\n",
       " ('u13761011', 'b85669891', 1),\n",
       " ('u07396386', 'b86037632', 1),\n",
       " ('u79880289', 'b48342589', 1),\n",
       " ('u47462976', 'b51416416', 1),\n",
       " ('u86445272', 'b81328113', 0)]"
      ]
     },
     "execution_count": 23,
     "metadata": {},
     "output_type": "execute_result"
    }
   ],
   "source": [
    "random.shuffle(newRatingsValid)\n",
    "newRatingsValid[-10:]"
   ]
  },
  {
   "cell_type": "code",
   "execution_count": 24,
   "id": "7ca86424",
   "metadata": {},
   "outputs": [
    {
     "name": "stdout",
     "output_type": "stream",
     "text": [
      "0.7116\n"
     ]
    }
   ],
   "source": [
    "correct = 0\n",
    "for _, book, predict in newRatingsValid:\n",
    "    correct += predict == (book in return1)\n",
    "\n",
    "acc1 = correct / len(newRatingsValid)\n",
    "print(acc1)"
   ]
  },
  {
   "cell_type": "code",
   "execution_count": 25,
   "id": "8af7b181",
   "metadata": {},
   "outputs": [],
   "source": [
    "answers['Q1'] = acc1"
   ]
  },
  {
   "cell_type": "code",
   "execution_count": 26,
   "id": "6839df36",
   "metadata": {},
   "outputs": [],
   "source": [
    "assertFloat(answers['Q1'])"
   ]
  },
  {
   "cell_type": "code",
   "execution_count": 27,
   "id": "50491907",
   "metadata": {},
   "outputs": [],
   "source": [
    "### Question 2"
   ]
  },
  {
   "cell_type": "code",
   "execution_count": 28,
   "id": "87e03b83",
   "metadata": {},
   "outputs": [],
   "source": [
    "def solve(threshold):\n",
    "    bookCount = defaultdict(int)\n",
    "    totalRead = 0\n",
    "\n",
    "    for _ ,book,_ in readCSV(\"train_Interactions.csv.gz\"):\n",
    "        bookCount[book] += 1\n",
    "        totalRead += 1\n",
    "\n",
    "    mostPopular = [(bookCount[x], x) for x in bookCount]\n",
    "    mostPopular.sort()\n",
    "    mostPopular.reverse()\n",
    "\n",
    "    return2 = set()\n",
    "    count = 0\n",
    "\n",
    "    for ic, i in mostPopular:\n",
    "        count += ic\n",
    "        return2.add(i)\n",
    "        if count > totalRead * threshold: break\n",
    "\n",
    "    correct = 0\n",
    "    for _, book, predict in newRatingsValid:\n",
    "        correct += predict == (book in return2)\n",
    "    #print(correct, return2)\n",
    "    acc = correct / len(newRatingsValid)\n",
    "    return acc"
   ]
  },
  {
   "cell_type": "code",
   "execution_count": 29,
   "id": "52d94a11",
   "metadata": {},
   "outputs": [
    {
     "name": "stdout",
     "output_type": "stream",
     "text": [
      "0.3333333333333333 0.6666666666666667\n",
      "0.5555555555555556 0.7777777777777778\n",
      "0.7037037037037037 0.8518518518518519\n",
      "0.654320987654321 0.7530864197530864\n",
      "0.720164609053498 0.7860082304526749\n",
      "0.6982167352537723 0.7421124828532236\n",
      "0.6835848193872885 0.7128486511202561\n",
      "0.7030940405426003 0.7226032616979119\n",
      "0.696590966824163 0.7095971142610374\n",
      "0.7052617317820793 0.7139324967399956\n",
      "0.7110422417540235 0.7168227517259677\n"
     ]
    },
    {
     "ename": "KeyboardInterrupt",
     "evalue": "",
     "output_type": "error",
     "traceback": [
      "\u001b[1;31m---------------------------------------------------------------------------\u001b[0m",
      "\u001b[1;31mKeyboardInterrupt\u001b[0m                         Traceback (most recent call last)",
      "Cell \u001b[1;32mIn[29], line 6\u001b[0m\n\u001b[0;32m      4\u001b[0m m2 \u001b[38;5;241m=\u001b[39m r \u001b[38;5;241m-\u001b[39m (r \u001b[38;5;241m-\u001b[39m l) \u001b[38;5;241m/\u001b[39m \u001b[38;5;241m3\u001b[39m\n\u001b[0;32m      5\u001b[0m \u001b[38;5;28mprint\u001b[39m(m1, m2)\n\u001b[1;32m----> 6\u001b[0m \u001b[38;5;28;01mif\u001b[39;00m \u001b[43msolve\u001b[49m\u001b[43m(\u001b[49m\u001b[43mm1\u001b[49m\u001b[43m)\u001b[49m \u001b[38;5;241m<\u001b[39m solve(m2):\n\u001b[0;32m      7\u001b[0m     l \u001b[38;5;241m=\u001b[39m m1\n\u001b[0;32m      8\u001b[0m \u001b[38;5;28;01melse\u001b[39;00m:\n",
      "Cell \u001b[1;32mIn[28], line 5\u001b[0m, in \u001b[0;36msolve\u001b[1;34m(threshold)\u001b[0m\n\u001b[0;32m      2\u001b[0m bookCount \u001b[38;5;241m=\u001b[39m defaultdict(\u001b[38;5;28mint\u001b[39m)\n\u001b[0;32m      3\u001b[0m totalRead \u001b[38;5;241m=\u001b[39m \u001b[38;5;241m0\u001b[39m\n\u001b[1;32m----> 5\u001b[0m \u001b[38;5;28;01mfor\u001b[39;00m _ ,book,_ \u001b[38;5;129;01min\u001b[39;00m readCSV(\u001b[38;5;124m\"\u001b[39m\u001b[38;5;124mtrain_Interactions.csv.gz\u001b[39m\u001b[38;5;124m\"\u001b[39m):\n\u001b[0;32m      6\u001b[0m     bookCount[book] \u001b[38;5;241m+\u001b[39m\u001b[38;5;241m=\u001b[39m \u001b[38;5;241m1\u001b[39m\n\u001b[0;32m      7\u001b[0m     totalRead \u001b[38;5;241m+\u001b[39m\u001b[38;5;241m=\u001b[39m \u001b[38;5;241m1\u001b[39m\n",
      "Cell \u001b[1;32mIn[12], line 4\u001b[0m, in \u001b[0;36mreadCSV\u001b[1;34m(path)\u001b[0m\n\u001b[0;32m      2\u001b[0m f \u001b[38;5;241m=\u001b[39m gzip\u001b[38;5;241m.\u001b[39mopen(path, \u001b[38;5;124m'\u001b[39m\u001b[38;5;124mrt\u001b[39m\u001b[38;5;124m'\u001b[39m)\n\u001b[0;32m      3\u001b[0m f\u001b[38;5;241m.\u001b[39mreadline()\n\u001b[1;32m----> 4\u001b[0m \u001b[38;5;28;01mfor\u001b[39;00m l \u001b[38;5;129;01min\u001b[39;00m f:\n\u001b[0;32m      5\u001b[0m     u,b,r \u001b[38;5;241m=\u001b[39m l\u001b[38;5;241m.\u001b[39mstrip()\u001b[38;5;241m.\u001b[39msplit(\u001b[38;5;124m'\u001b[39m\u001b[38;5;124m,\u001b[39m\u001b[38;5;124m'\u001b[39m)\n\u001b[0;32m      6\u001b[0m     r \u001b[38;5;241m=\u001b[39m \u001b[38;5;28mint\u001b[39m(r)\n",
      "File \u001b[1;32mc:\\Users\\Seraph\\AppData\\Local\\Programs\\Python\\Python310\\lib\\gzip.py:314\u001b[0m, in \u001b[0;36mGzipFile.read1\u001b[1;34m(self, size)\u001b[0m\n\u001b[0;32m    312\u001b[0m \u001b[38;5;28;01mif\u001b[39;00m size \u001b[38;5;241m<\u001b[39m \u001b[38;5;241m0\u001b[39m:\n\u001b[0;32m    313\u001b[0m     size \u001b[38;5;241m=\u001b[39m io\u001b[38;5;241m.\u001b[39mDEFAULT_BUFFER_SIZE\n\u001b[1;32m--> 314\u001b[0m \u001b[38;5;28;01mreturn\u001b[39;00m \u001b[38;5;28;43mself\u001b[39;49m\u001b[38;5;241;43m.\u001b[39;49m\u001b[43m_buffer\u001b[49m\u001b[38;5;241;43m.\u001b[39;49m\u001b[43mread1\u001b[49m\u001b[43m(\u001b[49m\u001b[43msize\u001b[49m\u001b[43m)\u001b[49m\n",
      "File \u001b[1;32mc:\\Users\\Seraph\\AppData\\Local\\Programs\\Python\\Python310\\lib\\_compression.py:68\u001b[0m, in \u001b[0;36mDecompressReader.readinto\u001b[1;34m(self, b)\u001b[0m\n\u001b[0;32m     66\u001b[0m \u001b[38;5;28;01mdef\u001b[39;00m \u001b[38;5;21mreadinto\u001b[39m(\u001b[38;5;28mself\u001b[39m, b):\n\u001b[0;32m     67\u001b[0m     \u001b[38;5;28;01mwith\u001b[39;00m \u001b[38;5;28mmemoryview\u001b[39m(b) \u001b[38;5;28;01mas\u001b[39;00m view, view\u001b[38;5;241m.\u001b[39mcast(\u001b[38;5;124m\"\u001b[39m\u001b[38;5;124mB\u001b[39m\u001b[38;5;124m\"\u001b[39m) \u001b[38;5;28;01mas\u001b[39;00m byte_view:\n\u001b[1;32m---> 68\u001b[0m         data \u001b[38;5;241m=\u001b[39m \u001b[38;5;28;43mself\u001b[39;49m\u001b[38;5;241;43m.\u001b[39;49m\u001b[43mread\u001b[49m\u001b[43m(\u001b[49m\u001b[38;5;28;43mlen\u001b[39;49m\u001b[43m(\u001b[49m\u001b[43mbyte_view\u001b[49m\u001b[43m)\u001b[49m\u001b[43m)\u001b[49m\n\u001b[0;32m     69\u001b[0m         byte_view[:\u001b[38;5;28mlen\u001b[39m(data)] \u001b[38;5;241m=\u001b[39m data\n\u001b[0;32m     70\u001b[0m     \u001b[38;5;28;01mreturn\u001b[39;00m \u001b[38;5;28mlen\u001b[39m(data)\n",
      "File \u001b[1;32mc:\\Users\\Seraph\\AppData\\Local\\Programs\\Python\\Python310\\lib\\gzip.py:496\u001b[0m, in \u001b[0;36m_GzipReader.read\u001b[1;34m(self, size)\u001b[0m\n\u001b[0;32m    493\u001b[0m \u001b[38;5;66;03m# Read a chunk of data from the file\u001b[39;00m\n\u001b[0;32m    494\u001b[0m buf \u001b[38;5;241m=\u001b[39m \u001b[38;5;28mself\u001b[39m\u001b[38;5;241m.\u001b[39m_fp\u001b[38;5;241m.\u001b[39mread(io\u001b[38;5;241m.\u001b[39mDEFAULT_BUFFER_SIZE)\n\u001b[1;32m--> 496\u001b[0m uncompress \u001b[38;5;241m=\u001b[39m \u001b[38;5;28;43mself\u001b[39;49m\u001b[38;5;241;43m.\u001b[39;49m\u001b[43m_decompressor\u001b[49m\u001b[38;5;241;43m.\u001b[39;49m\u001b[43mdecompress\u001b[49m\u001b[43m(\u001b[49m\u001b[43mbuf\u001b[49m\u001b[43m,\u001b[49m\u001b[43m \u001b[49m\u001b[43msize\u001b[49m\u001b[43m)\u001b[49m\n\u001b[0;32m    497\u001b[0m \u001b[38;5;28;01mif\u001b[39;00m \u001b[38;5;28mself\u001b[39m\u001b[38;5;241m.\u001b[39m_decompressor\u001b[38;5;241m.\u001b[39munconsumed_tail \u001b[38;5;241m!=\u001b[39m \u001b[38;5;124mb\u001b[39m\u001b[38;5;124m\"\u001b[39m\u001b[38;5;124m\"\u001b[39m:\n\u001b[0;32m    498\u001b[0m     \u001b[38;5;28mself\u001b[39m\u001b[38;5;241m.\u001b[39m_fp\u001b[38;5;241m.\u001b[39mprepend(\u001b[38;5;28mself\u001b[39m\u001b[38;5;241m.\u001b[39m_decompressor\u001b[38;5;241m.\u001b[39munconsumed_tail)\n",
      "\u001b[1;31mKeyboardInterrupt\u001b[0m: "
     ]
    }
   ],
   "source": [
    "l, r, eps = 0, 1, 1e-3\n",
    "while r - l > eps:\n",
    "    m1 = l + (r - l) / 3\n",
    "    m2 = r - (r - l) / 3\n",
    "    print(m1, m2)\n",
    "    if solve(m1) < solve(m2):\n",
    "        l = m1\n",
    "    else:\n",
    "        r = m2\n",
    "\n",
    "best_threshold = l\n",
    "\n"
   ]
  },
  {
   "cell_type": "code",
   "execution_count": 30,
   "id": "889f8435",
   "metadata": {},
   "outputs": [
    {
     "ename": "NameError",
     "evalue": "name 'best_threshold' is not defined",
     "output_type": "error",
     "traceback": [
      "\u001b[1;31m---------------------------------------------------------------------------\u001b[0m",
      "\u001b[1;31mNameError\u001b[0m                                 Traceback (most recent call last)",
      "Cell \u001b[1;32mIn[30], line 1\u001b[0m\n\u001b[1;32m----> 1\u001b[0m acc2 \u001b[38;5;241m=\u001b[39m solve(\u001b[43mbest_threshold\u001b[49m)\n\u001b[0;32m      2\u001b[0m acc2\n",
      "\u001b[1;31mNameError\u001b[0m: name 'best_threshold' is not defined"
     ]
    }
   ],
   "source": [
    "acc2 = solve(best_threshold)\n",
    "acc2"
   ]
  },
  {
   "cell_type": "code",
   "execution_count": null,
   "id": "263c16a7",
   "metadata": {},
   "outputs": [],
   "source": [
    "answers['Q2'] = [best_threshold, acc2]"
   ]
  },
  {
   "cell_type": "code",
   "execution_count": null,
   "id": "fcb6b96c",
   "metadata": {},
   "outputs": [],
   "source": [
    "assertFloat(answers['Q2'][0])\n",
    "assertFloat(answers['Q2'][1])"
   ]
  },
  {
   "cell_type": "code",
   "execution_count": null,
   "id": "b753559d",
   "metadata": {},
   "outputs": [],
   "source": [
    "### Question 3/4"
   ]
  },
  {
   "cell_type": "code",
   "execution_count": null,
   "id": "04a6f2e1",
   "metadata": {},
   "outputs": [],
   "source": [
    "def Jaccard(s1, s2):\n",
    "    return len(s1.intersection(s2)) / len(s1.union(s2)) "
   ]
  },
  {
   "cell_type": "code",
   "execution_count": null,
   "id": "eadbf160",
   "metadata": {},
   "outputs": [],
   "source": [
    "usersPerItem = defaultdict(set)\n",
    "itemsPerUser = defaultdict(set)\n",
    "for user, item, _ in ratingsTrain:\n",
    "    usersPerItem[item].add(user)\n",
    "    itemsPerUser[user].add(item)\n",
    "\n",
    "def solveQ3(threshold):\n",
    "    ans = set()\n",
    "    for user, book, _ in newRatingsValid:\n",
    "        B = usersPerItem[book] #all users who read the book\n",
    "        maxSim = 0\n",
    "        for bprime in itemsPerUser[user]:\n",
    "            if bprime == book:\n",
    "                continue\n",
    "            B2 = usersPerItem[bprime]\n",
    "            sim = Jaccard(B, B2)\n",
    "            maxSim = max(maxSim, sim)\n",
    "            #print(maxSim)\n",
    "        if maxSim > threshold:\n",
    "            ans.add(book)\n",
    "\n",
    "    correct = 0\n",
    "    for _, book, predict in newRatingsValid:\n",
    "        correct += predict == (book in ans)\n",
    "    \n",
    "    acc = correct / len(newRatingsValid)\n",
    "    return acc\n"
   ]
  },
  {
   "cell_type": "code",
   "execution_count": null,
   "id": "84202ebd",
   "metadata": {},
   "outputs": [
    {
     "name": "stdout",
     "output_type": "stream",
     "text": [
      "0.69805 0.006 0.7005 0.009\n",
      "0.69965 0.007 0.6999 0.009\n",
      "0.70025 0.007666666666666666 0.69865 0.009\n",
      "0.70045 0.007666666666666666 0.69975 0.008555555555555556\n",
      "0.6998 0.007666666666666666 0.7005 0.00825925925925926\n",
      "0.70065 0.007864197530864198 0.70025 0.00825925925925926\n",
      "0.70045 0.007864197530864198 0.7005 0.008127572016460905\n",
      "0.7005 0.007951989026063101 0.7004 0.008127572016460905\n",
      "0.70065 0.007951989026063101 0.7005 0.008069044352994971\n",
      "0.70065 0.007951989026063101 0.7005 0.008030025910684347\n",
      "0.70065 0.007951989026063101 0.70065 0.008004013615810598\n",
      "0.70045 0.007951989026063101 0.70065 0.007986672085894765\n",
      "0.70065 0.00796355004600699 0.70065 0.007986672085894765\n",
      "0.70065 0.00796355004600699 0.70065 0.007978964739265506\n",
      "0.70045 0.00796355004600699 0.70065 0.007973826508179334\n",
      "0.70065 0.007966975533397772 0.70065 0.007973826508179334\n",
      "0.70065 0.007966975533397772 0.70065 0.007971542849918812\n",
      "0.70045 0.007966975533397772 0.70065 0.007970020411078466\n",
      "0.70065 0.00796799049262467 0.70065 0.007970020411078466\n",
      "0.70065 0.00796799049262467 0.70065 0.007969343771593867\n"
     ]
    }
   ],
   "source": [
    "l, r, eps = 0.006, 0.009, 1e-6\n",
    "while r - l > eps:\n",
    "    m1 = l + (r - l) / 3\n",
    "    m2 = r - (r - l) / 3\n",
    "    now1 = solveQ3(m1)\n",
    "    now2 = solveQ3(m2)\n",
    "    print(now1, l, now2, r)\n",
    "    if now1 < now2:\n",
    "        l = m1\n",
    "    else:\n",
    "        r = m2\n",
    "\n",
    "best_threshold2 = l"
   ]
  },
  {
   "cell_type": "code",
   "execution_count": null,
   "id": "4e5c4279",
   "metadata": {},
   "outputs": [
    {
     "data": {
      "text/plain": [
       "0.70045"
      ]
     },
     "execution_count": 445,
     "metadata": {},
     "output_type": "execute_result"
    }
   ],
   "source": [
    "acc3 = solveQ3(best_threshold2)\n",
    "acc3"
   ]
  },
  {
   "cell_type": "markdown",
   "id": "3d135f0f",
   "metadata": {},
   "source": [
    "# --------------------------------- problem 4 -----------------------------------"
   ]
  },
  {
   "cell_type": "code",
   "execution_count": null,
   "id": "0a1bc959",
   "metadata": {},
   "outputs": [],
   "source": [
    "def solveQ4(threshold1, threshold2):\n",
    "    ans1 = set()\n",
    "    for user, book, _ in newRatingsValid:\n",
    "        B = usersPerItem[book] #all users who read the book\n",
    "        maxSim = 0\n",
    "        for bprime in itemsPerUser[user]:\n",
    "            if bprime == book:\n",
    "                continue\n",
    "            B2 = usersPerItem[bprime]\n",
    "            sim = Jaccard(B, B2)\n",
    "            maxSim = max(maxSim, sim)\n",
    "            #print(maxSim)\n",
    "        if maxSim > threshold1:\n",
    "            ans1.add(book)\n",
    "\n",
    "    bookCount = defaultdict(int)\n",
    "    totalRead = 0\n",
    "\n",
    "    for user,book,_ in readCSV(\"train_Interactions.csv.gz\"):\n",
    "        bookCount[book] += 1\n",
    "        totalRead += 1\n",
    "\n",
    "    mostPopular = [(bookCount[x], x) for x in bookCount]\n",
    "    mostPopular.sort()\n",
    "    mostPopular.reverse()\n",
    "    count = 0\n",
    "    ans2 = set()\n",
    "    for ic, i in mostPopular:\n",
    "        count += ic\n",
    "        ans2.add(i)\n",
    "        if count > totalRead * threshold2: break\n",
    "\n",
    "    global ret\n",
    "    ret = set.union(ans1, ans2)\n",
    "    correct = 0\n",
    "    for _, book, predict in newRatingsValid:\n",
    "        correct += predict == (book in ret)\n",
    "    \n",
    "    acc = correct / len(newRatingsValid)\n",
    "    return acc\n",
    "\n",
    "#idea is u just use 2 threshold instead of 1 for the function and find the maximum \n",
    "    \n"
   ]
  },
  {
   "cell_type": "code",
   "execution_count": null,
   "id": "9ab7d257",
   "metadata": {},
   "outputs": [
    {
     "name": "stdout",
     "output_type": "stream",
     "text": [
      "Optimization terminated successfully.\n",
      "         Current function value: -0.755950\n",
      "         Iterations: 22\n",
      "         Function evaluations: 58\n"
     ]
    }
   ],
   "source": [
    "best_threshold3 = scipy.optimize.fmin(lambda x: -solveQ4(x[0], x[1]), [0.699 ,0.6835848193872885 ])"
   ]
  },
  {
   "cell_type": "code",
   "execution_count": null,
   "id": "811eff14",
   "metadata": {},
   "outputs": [
    {
     "data": {
      "text/plain": [
       "array([0.70391484, 0.70815115])"
      ]
     },
     "execution_count": 360,
     "metadata": {},
     "output_type": "execute_result"
    }
   ],
   "source": [
    "best_threshold3"
   ]
  },
  {
   "cell_type": "code",
   "execution_count": null,
   "id": "ce03170c",
   "metadata": {},
   "outputs": [],
   "source": [
    "acc4 = solveQ4(best_threshold3[0], best_threshold3[1])"
   ]
  },
  {
   "cell_type": "code",
   "execution_count": null,
   "id": "728e868c",
   "metadata": {},
   "outputs": [
    {
     "data": {
      "text/plain": [
       "0.75595"
      ]
     },
     "execution_count": 362,
     "metadata": {},
     "output_type": "execute_result"
    }
   ],
   "source": [
    "acc4"
   ]
  },
  {
   "cell_type": "code",
   "execution_count": null,
   "id": "83ab0986",
   "metadata": {},
   "outputs": [],
   "source": [
    "answers['Q3'] = acc3\n",
    "answers['Q4'] = acc4"
   ]
  },
  {
   "cell_type": "code",
   "execution_count": null,
   "id": "fbdd0c83",
   "metadata": {},
   "outputs": [],
   "source": [
    "assertFloat(answers['Q3'])\n",
    "assertFloat(answers['Q4'])"
   ]
  },
  {
   "cell_type": "code",
   "execution_count": null,
   "id": "3e68cbed",
   "metadata": {},
   "outputs": [],
   "source": [
    "predictions = open(\"predictions_Read.csv\", 'w')\n",
    "for l in open(\"pairs_Read.csv\"):\n",
    "    if l.startswith(\"userID\"):\n",
    "        predictions.write(l)\n",
    "        continue\n",
    "    u,b = l.strip().split(',')\n",
    "    if b in ret:\n",
    "        predictions.write(u + ',' + b + \",1\\n\")\n",
    "    else:\n",
    "        predictions.write(u + ',' + b + \",0\\n\")\n",
    "\n",
    "\n",
    "predictions.close()"
   ]
  },
  {
   "cell_type": "code",
   "execution_count": null,
   "id": "297b5c85",
   "metadata": {},
   "outputs": [],
   "source": [
    "answers['Q5'] = \"I confirm that I have uploaded an assignment submission to gradescope\""
   ]
  },
  {
   "cell_type": "code",
   "execution_count": null,
   "id": "b3cb95e6",
   "metadata": {},
   "outputs": [],
   "source": [
    "assert type(answers['Q5']) == str"
   ]
  },
  {
   "cell_type": "code",
   "execution_count": null,
   "id": "bcf70975",
   "metadata": {},
   "outputs": [],
   "source": [
    "##################################################\n",
    "# Rating prediction                              #\n",
    "##################################################"
   ]
  },
  {
   "cell_type": "code",
   "execution_count": null,
   "id": "95b960a7",
   "metadata": {},
   "outputs": [],
   "source": [
    "### Question 6"
   ]
  },
  {
   "cell_type": "code",
   "execution_count": null,
   "id": "af7f3f37",
   "metadata": {},
   "outputs": [],
   "source": [
    "    \n",
    "alpha = numpy.mean([r for _, _, r in ratingsTrain])\n",
    "beta_user = defaultdict(float)\n",
    "beta_book = defaultdict(float)\n",
    "#referenced formula from 10/22 slides.  \n",
    "\n",
    "for _ in range(50):\n",
    "    alpha = sum(rating - (beta_user[user] + beta_book[book]) for user, book, rating in ratingsTrain) / len(ratingsTrain)\n",
    "    for user, items in ratingsPerUser.items():\n",
    "        beta_user[user] = sum(rating - (alpha + beta_book[book]) for book, rating in items) / (1 + len(items))\n",
    "    for book, items in ratingsPerItem.items():\n",
    "        beta_book[book] = sum(rating - (alpha + beta_user[user]) for user, rating in items) / (1 + len(items))\n",
    "\n",
    "valid_error = [(rating - (alpha + beta_user.get(user, 0) + beta_book.get(book, 0))) ** 2 for user, book, rating in ratingsValid]\n",
    "validMSE = numpy.mean(valid_error).item()\n",
    "\n",
    "         "
   ]
  },
  {
   "cell_type": "code",
   "execution_count": null,
   "id": "6d69e40f",
   "metadata": {},
   "outputs": [
    {
     "data": {
      "text/plain": [
       "1.4618057928245451"
      ]
     },
     "execution_count": 263,
     "metadata": {},
     "output_type": "execute_result"
    }
   ],
   "source": [
    "validMSE"
   ]
  },
  {
   "cell_type": "code",
   "execution_count": null,
   "id": "422ab930",
   "metadata": {},
   "outputs": [],
   "source": [
    "answers['Q6'] = validMSE"
   ]
  },
  {
   "cell_type": "code",
   "execution_count": null,
   "id": "5509bf2a",
   "metadata": {},
   "outputs": [],
   "source": [
    "assertFloat(answers['Q6'])"
   ]
  },
  {
   "cell_type": "code",
   "execution_count": null,
   "id": "9826cdc9",
   "metadata": {},
   "outputs": [],
   "source": [
    "### Question 7"
   ]
  },
  {
   "cell_type": "code",
   "execution_count": null,
   "id": "a742cbe4",
   "metadata": {},
   "outputs": [],
   "source": [
    "maxUser = str(max(beta_user, key=beta_user.get))\n",
    "maxBeta = beta_user[maxUser]\n",
    "minUser = str(min(beta_user, key=beta_user.get))\n",
    "minBeta = beta_user[minUser]\n"
   ]
  },
  {
   "cell_type": "code",
   "execution_count": null,
   "id": "c61b675c",
   "metadata": {},
   "outputs": [
    {
     "data": {
      "text/plain": [
       "['u18223169', 'u88024921', 1.8189836349785167, -3.5630493778377224]"
      ]
     },
     "execution_count": 278,
     "metadata": {},
     "output_type": "execute_result"
    }
   ],
   "source": [
    "answers['Q7'] = [maxUser, minUser, maxBeta, minBeta]\n",
    "answers['Q7']"
   ]
  },
  {
   "cell_type": "code",
   "execution_count": null,
   "id": "7aca2bc7",
   "metadata": {},
   "outputs": [],
   "source": [
    "assert [type(x) for x in answers['Q7']] == [str, str, float, float]"
   ]
  },
  {
   "cell_type": "code",
   "execution_count": null,
   "id": "0a416949",
   "metadata": {},
   "outputs": [],
   "source": [
    "### Question 8"
   ]
  },
  {
   "cell_type": "code",
   "execution_count": null,
   "id": "011bd708",
   "metadata": {},
   "outputs": [],
   "source": [
    "import numpy"
   ]
  },
  {
   "cell_type": "code",
   "execution_count": null,
   "id": "4157a39f",
   "metadata": {},
   "outputs": [],
   "source": [
    "def solve(lambda_reg):\n",
    "    alpha = numpy.mean([r for _, _, r in ratingsTrain])\n",
    "    beta_user = defaultdict(float)\n",
    "    beta_book = defaultdict(float)\n",
    "    #referenced formula from 10/22 slides.  \n",
    "\n",
    "    for _ in range(10):\n",
    "        alpha = sum(rating - (beta_user[user] + beta_book[book]) for user, book, rating in ratingsTrain) / len(ratingsTrain)\n",
    "        for user, items in ratingsPerUser.items():\n",
    "            beta_user[user] = sum(rating - (alpha + beta_book[book]) for book, rating in items) / (lambda_reg + len(items))\n",
    "        for book, items in ratingsPerItem.items():\n",
    "            beta_book[book] = sum(rating - (alpha + beta_user[user]) for user, rating in items) / (lambda_reg + len(items))\n",
    "\n",
    "    valid_error = [(rating - (alpha + beta_user.get(user, 0) + beta_book.get(book, 0))) ** 2 for user, book, rating in ratingsValid]\n",
    "    validMSE = numpy.mean(valid_error).item()\n",
    "    return validMSE"
   ]
  },
  {
   "cell_type": "code",
   "execution_count": null,
   "id": "36e5f2e0",
   "metadata": {},
   "outputs": [
    {
     "ename": "NameError",
     "evalue": "name 'ratingsTrain' is not defined",
     "output_type": "error",
     "traceback": [
      "\u001b[1;31m---------------------------------------------------------------------------\u001b[0m",
      "\u001b[1;31mNameError\u001b[0m                                 Traceback (most recent call last)",
      "Cell \u001b[1;32mIn[7], line 1\u001b[0m\n\u001b[1;32m----> 1\u001b[0m \u001b[38;5;28mprint\u001b[39m(\u001b[43msolve\u001b[49m\u001b[43m(\u001b[49m\u001b[38;5;241;43m0.6\u001b[39;49m\u001b[43m)\u001b[49m)\n",
      "Cell \u001b[1;32mIn[5], line 2\u001b[0m, in \u001b[0;36msolve\u001b[1;34m(lambda_reg)\u001b[0m\n\u001b[0;32m      1\u001b[0m \u001b[38;5;28;01mdef\u001b[39;00m \u001b[38;5;21msolve\u001b[39m(lambda_reg):\n\u001b[1;32m----> 2\u001b[0m     alpha \u001b[38;5;241m=\u001b[39m numpy\u001b[38;5;241m.\u001b[39mmean([r \u001b[38;5;28;01mfor\u001b[39;00m _, _, r \u001b[38;5;129;01min\u001b[39;00m \u001b[43mratingsTrain\u001b[49m])\n\u001b[0;32m      3\u001b[0m     beta_user \u001b[38;5;241m=\u001b[39m defaultdict(\u001b[38;5;28mfloat\u001b[39m)\n\u001b[0;32m      4\u001b[0m     beta_book \u001b[38;5;241m=\u001b[39m defaultdict(\u001b[38;5;28mfloat\u001b[39m)\n",
      "\u001b[1;31mNameError\u001b[0m: name 'ratingsTrain' is not defined"
     ]
    }
   ],
   "source": [
    "print(solve(0.6))"
   ]
  },
  {
   "cell_type": "code",
   "execution_count": null,
   "id": "8dfa2e93",
   "metadata": {},
   "outputs": [
    {
     "name": "stdout",
     "output_type": "stream",
     "text": [
      "33.333333333333336 66.66666666666666\n",
      "22.222222222222218 44.44444444444444\n",
      "14.814814814814815 29.629629629629626\n",
      "9.876543209876543 19.75308641975308\n",
      "6.584362139917694 13.168724279835388\n",
      "4.38957475994513 8.779149519890257\n",
      "2.9263831732967525 5.852766346593505\n",
      "4.8773052888279205 6.828227404359089\n",
      "4.226997916984198 5.527612660671644\n",
      "3.793459669088383 4.660536164880013\n",
      "4.371510666282803 4.9495616634772235\n",
      "4.17882700055133 4.564194332014276\n",
      "4.050371223397014 4.307282777705645\n",
      "4.221645592936102 4.3929199624751885\n",
      "4.3358285059621595 4.450011418988218\n",
      "4.297767534953474 4.373889476970846\n",
      "4.348515496298389 4.399263457643303\n",
      "4.331599509183417 4.36543148341336\n",
      "4.320322184440102 4.342876833926732\n",
      "4.335358617431188 4.350395050422274\n",
      "4.3303464731008265 4.34037076176155\n",
      "4.337029332207976 4.343712191315125\n",
      "4.341484571612742 4.345939811017508\n",
      "4.339999491811153 4.342969651414331\n",
      "4.341979598213271 4.34395970461539\n",
      "4.341319562745899 4.342639633680644\n",
      "4.342199610035729 4.34307965732556\n",
      "4.341906260939119 4.34249295913234\n",
      "4.342297393067932 4.342688525196746\n",
      "4.342167015691661 4.342427770444204\n",
      "4.342340852193356 4.342514688695052\n",
      "4.342282906692791 4.342398797693922\n",
      "4.342360167360211 4.342437428027631\n",
      "4.342411674471824 4.3424631815834385\n",
      "4.34239450543462 4.34242884350903\n",
      "4.342383059409817 4.3424059514594235\n",
      "4.342398320776222 4.342413582142625\n",
      "4.342393233654087 4.342403407898356\n",
      "4.3424000164836 4.342406799313112\n",
      "4.3423977555404285 4.34240227742677\n",
      "4.342400770131323 4.342403784722218\n",
      "4.342402779858586 4.342404789585849\n",
      "4.342402109949498 4.342403449767674\n",
      "4.3424016633434395 4.342402556555557\n",
      "4.3424022588181845 4.342402854292929\n",
      "4.342402655801347 4.342403052784511\n",
      "4.342402655801347 1.4106621594601563\n"
     ]
    }
   ],
   "source": [
    "l, r, eps = 0, 100, 1e-4\n",
    "\n",
    "while(r-l > eps):\n",
    "    m1 = l + (r-l)/3\n",
    "    m2 = r - (r-l)/3\n",
    "    print(m1, m2)\n",
    "    if solve(m1) < solve(m2):\n",
    "        r = m2\n",
    "    else:\n",
    "        l = m1\n",
    "\n",
    "print(l, solve(l))\n",
    "\n",
    "lamb = l\n",
    "validMSE = solve(l)"
   ]
  },
  {
   "cell_type": "code",
   "execution_count": null,
   "id": "f1880fc9",
   "metadata": {},
   "outputs": [],
   "source": [
    "answers['Q8'] = (lamb, validMSE)"
   ]
  },
  {
   "cell_type": "code",
   "execution_count": null,
   "id": "56b09160",
   "metadata": {},
   "outputs": [],
   "source": [
    "assertFloat(answers['Q8'][0])\n",
    "assertFloat(answers['Q8'][1])"
   ]
  },
  {
   "cell_type": "code",
   "execution_count": null,
   "id": "b9bd53b3",
   "metadata": {},
   "outputs": [
    {
     "ename": "NameError",
     "evalue": "name 'alpha' is not defined",
     "output_type": "error",
     "traceback": [
      "\u001b[1;31m---------------------------------------------------------------------------\u001b[0m",
      "\u001b[1;31mNameError\u001b[0m                                 Traceback (most recent call last)",
      "Cell \u001b[1;32mIn[1], line 7\u001b[0m\n\u001b[0;32m      5\u001b[0m         \u001b[38;5;28;01mcontinue\u001b[39;00m\n\u001b[0;32m      6\u001b[0m     u,b \u001b[38;5;241m=\u001b[39m l\u001b[38;5;241m.\u001b[39mstrip()\u001b[38;5;241m.\u001b[39msplit(\u001b[38;5;124m'\u001b[39m\u001b[38;5;124m,\u001b[39m\u001b[38;5;124m'\u001b[39m) \u001b[38;5;66;03m# Read the user and item from the \"pairs\" file and write out your prediction\u001b[39;00m\n\u001b[1;32m----> 7\u001b[0m     prediction \u001b[38;5;241m=\u001b[39m \u001b[43malpha\u001b[49m \u001b[38;5;241m+\u001b[39m beta_user\u001b[38;5;241m.\u001b[39mget(u, \u001b[38;5;241m0\u001b[39m) \u001b[38;5;241m+\u001b[39m beta_book\u001b[38;5;241m.\u001b[39mget(b, \u001b[38;5;241m0\u001b[39m)\n\u001b[0;32m      8\u001b[0m     predictions\u001b[38;5;241m.\u001b[39mwrite(u \u001b[38;5;241m+\u001b[39m \u001b[38;5;124m'\u001b[39m\u001b[38;5;124m,\u001b[39m\u001b[38;5;124m'\u001b[39m \u001b[38;5;241m+\u001b[39m b \u001b[38;5;241m+\u001b[39m \u001b[38;5;124m'\u001b[39m\u001b[38;5;124m,\u001b[39m\u001b[38;5;124m'\u001b[39m \u001b[38;5;241m+\u001b[39m \u001b[38;5;28mstr\u001b[39m(prediction) \u001b[38;5;241m+\u001b[39m \u001b[38;5;124m'\u001b[39m\u001b[38;5;130;01m\\n\u001b[39;00m\u001b[38;5;124m'\u001b[39m)\n\u001b[0;32m     10\u001b[0m predictions\u001b[38;5;241m.\u001b[39mclose()\n",
      "\u001b[1;31mNameError\u001b[0m: name 'alpha' is not defined"
     ]
    }
   ],
   "source": [
    "predictions = open(\"predictions_Rating.csv\", 'w')\n",
    "for l in open(\"pairs_Rating.csv\"):\n",
    "    if l.startswith(\"userID\"): # header\n",
    "        predictions.write(l)\n",
    "        continue\n",
    "    u,b = l.strip().split(',') # Read the user and item from the \"pairs\" file and write out your prediction\n",
    "    prediction = alpha + beta_user.get(u, 0) + beta_book.get(b, 0)\n",
    "    predictions.write(u + ',' + b + ',' + str(prediction) + '\\n')\n",
    "    \n",
    "predictions.close()"
   ]
  },
  {
   "cell_type": "code",
   "execution_count": null,
   "id": "839261ed",
   "metadata": {},
   "outputs": [],
   "source": [
    "f = open(\"answers_hw3.txt\", 'w')\n",
    "f.write(str(answers) + '\\n')\n",
    "f.close()"
   ]
  },
  {
   "cell_type": "code",
   "execution_count": null,
   "id": "3000bdde",
   "metadata": {},
   "outputs": [],
   "source": []
  }
 ],
 "metadata": {
  "kernelspec": {
   "display_name": "Python 3",
   "language": "python",
   "name": "python3"
  },
  "language_info": {
   "codemirror_mode": {
    "name": "ipython",
    "version": 3
   },
   "file_extension": ".py",
   "mimetype": "text/x-python",
   "name": "python",
   "nbconvert_exporter": "python",
   "pygments_lexer": "ipython3",
   "version": "3.10.10"
  }
 },
 "nbformat": 4,
 "nbformat_minor": 5
}
