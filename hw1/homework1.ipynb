{
 "cells": [
  {
   "cell_type": "code",
   "execution_count": 488,
   "id": "d545425e",
   "metadata": {},
   "outputs": [],
   "source": [
    "import json\n",
    "from matplotlib import pyplot as plt\n",
    "from collections import defaultdict\n",
    "from sklearn import linear_model\n",
    "import numpy as np\n",
    "import random\n",
    "import gzip\n",
    "import math"
   ]
  },
  {
   "cell_type": "code",
   "execution_count": 489,
   "id": "d577aff3",
   "metadata": {},
   "outputs": [],
   "source": [
    "import warnings\n",
    "warnings.filterwarnings(\"ignore\")"
   ]
  },
  {
   "cell_type": "code",
   "execution_count": 490,
   "id": "e74ac91e",
   "metadata": {},
   "outputs": [],
   "source": [
    "def assertFloat(x): # Checks that an answer is a float\n",
    "    assert type(float(x)) == float\n",
    "\n",
    "def assertFloatList(items, N):\n",
    "    assert len(items) == N\n",
    "    assert [type(float(x)) for x in items] == [float]*N"
   ]
  },
  {
   "cell_type": "code",
   "execution_count": 491,
   "id": "1a7911bf",
   "metadata": {},
   "outputs": [],
   "source": [
    "f = gzip.open(\"young_adult_10000.json.gz\")\n",
    "dataset = []\n",
    "for l in f:\n",
    "    dataset.append(json.loads(l))"
   ]
  },
  {
   "cell_type": "code",
   "execution_count": 492,
   "id": "85100ed3",
   "metadata": {},
   "outputs": [
    {
     "data": {
      "text/plain": [
       "10000"
      ]
     },
     "execution_count": 492,
     "metadata": {},
     "output_type": "execute_result"
    }
   ],
   "source": [
    "len(dataset)"
   ]
  },
  {
   "cell_type": "code",
   "execution_count": 493,
   "id": "e716aa89",
   "metadata": {},
   "outputs": [],
   "source": [
    "answers = {} # Put your answers to each question in this dictionary"
   ]
  },
  {
   "cell_type": "code",
   "execution_count": 494,
   "id": "cb2c286a",
   "metadata": {},
   "outputs": [
    {
     "data": {
      "text/plain": [
       "[{'user_id': '8842281e1d1347389f2ab93d60773d4d',\n",
       "  'book_id': '2767052',\n",
       "  'review_id': '248c011811e945eca861b5c31a549291',\n",
       "  'rating': 5,\n",
       "  'review_text': \"I cracked and finally picked this up. Very enjoyable quick read - couldn't put it down - it was like crack. \\n I'm a bit bothered by the lack of backstory of how Panem and the Hunger Games come about. It is just kind of explained away in a few paragraphs and we are left to accept this very strange world where teenagers are pitted into an arena each year to kill each other? I was expecting it because I've seen Battle Royale, but I would have appreciated knowing more of the backstory of how the world could have come into such a odd state. \\n I suppose what makes a book like this interesting is thinking about the strategy of it all. The players are going to be statistically encouraged to band together because they will last longer that way, but by definition of course any partnership will be broken, and the drama of how that unfolds is always interesting and full of friendships broken and betrayal. Each character approached the game in their own way. Some banded together in larger coalitions, some were loners initially and banded together later. And some were just loners, like Foxface. A lot depended on your survival skill: could you find food and water on your own? Self-dependence is highly valued - and of course our hero was strong there. \\n All in all, a fun read, but I feel kind of dirty for having read it.\",\n",
       "  'date_added': 'Wed Jan 13 13:38:25 -0800 2010',\n",
       "  'date_updated': 'Wed Mar 22 11:46:36 -0700 2017',\n",
       "  'read_at': 'Sun Mar 25 00:00:00 -0700 2012',\n",
       "  'started_at': 'Fri Mar 23 00:00:00 -0700 2012',\n",
       "  'n_votes': 24,\n",
       "  'n_comments': 25},\n",
       " {'user_id': '7504b2aee1ecb5b2872d3da381c6c91e',\n",
       "  'book_id': '23302416',\n",
       "  'review_id': '84c0936a0f9868f38e75d2f9a5cb761e',\n",
       "  'rating': 5,\n",
       "  'review_text': \"I read this book because my fifth grade son was required to for school. I'm so glad I did! I experienced a range of emotions & just loved it. Glad these middle schoolers are being exposed to the topics discussed in the book.\",\n",
       "  'date_added': 'Wed Jan 21 18:40:59 -0800 2015',\n",
       "  'date_updated': 'Wed Oct 26 03:44:13 -0700 2016',\n",
       "  'read_at': '',\n",
       "  'started_at': '',\n",
       "  'n_votes': 0,\n",
       "  'n_comments': 0},\n",
       " {'user_id': 'f8a89075dc6de14857561522e729f82c',\n",
       "  'book_id': '18053080',\n",
       "  'review_id': '785c8db878f4009da9741dea51f641da',\n",
       "  'rating': 4,\n",
       "  'review_text': 'Though the book started out slow and only started to get interesting towards page 100, overall, it was worth the read.',\n",
       "  'date_added': 'Sat Jan 11 17:58:41 -0800 2014',\n",
       "  'date_updated': 'Tue Dec 02 11:43:07 -0800 2014',\n",
       "  'read_at': 'Sat Apr 12 00:00:00 -0700 2014',\n",
       "  'started_at': 'Fri Apr 11 00:00:00 -0700 2014',\n",
       "  'n_votes': 0,\n",
       "  'n_comments': 0},\n",
       " {'user_id': 'f8a89075dc6de14857561522e729f82c',\n",
       "  'book_id': '17383543',\n",
       "  'review_id': '34dc3c45d07e82718b05e73167259aef',\n",
       "  'rating': 2,\n",
       "  'review_text': \"*Update - 10/27/13* - After some sleep, I thinking about Allegiant overall without the influence of other reviews, I changed my rating to a 2 which is deserved. \\n I know that no author is going to please the masses. I had given the first 2 books 5 stars. My ratings were well deserved. Allegiant was written with very little action, jumping on the train one time, which we learn later in the book it is controlled by people in the city and slows down. Blowing up a hole in a wall is not the action a reader wanted, we wanted to see Divergent action. \\n I cried with the ending and hoped that the book would have ended differently. No author can keep all the characters. Different plots and bland characters bent on power or revenge make up this book. \\n Sometimes authors produce gold and fail to live up the standards of their readers. Veronica spun gold twice and couldn't do it for a third time. \\n 10/27/13 Review \\n I really wanted to give the book 2 stars but I chose 3 as it did get interesting around chapter 40, but it also felt really drawn out. Allegiant was nothing like Divergent and Insurgent. I read both Divergent and Insurgent 2x. I struggled getting through with Allegiant. For me, I didn't have much of a stronghold to keep reading. A lot of other readers, myself included, felt the first 2 books could have finished the series. I felt a few times that Veronica was grasping on a ending. I still don't see why the book took 18 months to be published. The mix of chapters from Tris to Four was confusing. Four didn't seem to have his character personality as he did in the prior books. Gone Girl did the character transitions from chapter to chapter much smoother. Several times I found myself wondering who's prospective I was reading from. Not to give anything away, read the book if you want to see how the series ends. Don't read the book if you want a complete spin off of the first 2 books and being placed in a Maze Runner setting.\",\n",
       "  'date_added': 'Sun Apr 21 19:42:28 -0700 2013',\n",
       "  'date_updated': 'Fri Aug 15 07:55:01 -0700 2014',\n",
       "  'read_at': 'Sat Oct 26 00:00:00 -0700 2013',\n",
       "  'started_at': 'Fri Oct 25 00:00:00 -0700 2013',\n",
       "  'n_votes': 0,\n",
       "  'n_comments': 0},\n",
       " {'user_id': 'f8a89075dc6de14857561522e729f82c',\n",
       "  'book_id': '16651458',\n",
       "  'review_id': 'd8d6b590780256fef7ae4a9550fe3e0d',\n",
       "  'rating': 5,\n",
       "  'review_text': 'This is a moving, heartbreaking, view into a life of an obese 16 year old boy in high school. Don\\'t let the name \"butter\" cause you to overlook reading this book. You see the life of butter from his eyes, how he interacts with his mom and dad, how his so called friends view him, and how his true friend participates in his life. \\n It really doesn\\'t matter how old you are, this book brings to life the struggles of childhood, high school, a healthy lifestyle, how others affect ones life, and how one sees themselves in the eyes of everyone around them.',\n",
       "  'date_added': 'Fri Jan 11 11:42:42 -0800 2013',\n",
       "  'date_updated': 'Fri Mar 01 09:31:01 -0800 2013',\n",
       "  'read_at': 'Mon Jan 14 00:00:00 -0800 2013',\n",
       "  'started_at': 'Sat Jan 12 00:00:00 -0800 2013',\n",
       "  'n_votes': 0,\n",
       "  'n_comments': 0}]"
      ]
     },
     "execution_count": 494,
     "metadata": {},
     "output_type": "execute_result"
    }
   ],
   "source": [
    "dataset[:5]"
   ]
  },
  {
   "cell_type": "code",
   "execution_count": 495,
   "id": "2a260695",
   "metadata": {},
   "outputs": [],
   "source": [
    "### Question 1"
   ]
  },
  {
   "cell_type": "code",
   "execution_count": 496,
   "id": "fea5f8f2",
   "metadata": {},
   "outputs": [],
   "source": [
    "def feature(datum): #predict rating from number of exclamation points\n",
    "    feat = [1, datum['review_text'].count('!')]\n",
    "    return feat\n",
    "    "
   ]
  },
  {
   "cell_type": "code",
   "execution_count": 497,
   "id": "8f00dea9",
   "metadata": {},
   "outputs": [],
   "source": [
    "X = [feature(d) for d in dataset] #how many ! in a review\n",
    "Y = [d['rating'] for d in dataset] #overall rating"
   ]
  },
  {
   "cell_type": "code",
   "execution_count": 498,
   "id": "171b8bb4",
   "metadata": {},
   "outputs": [
    {
     "data": {
      "text/plain": [
       "[[1, 0],\n",
       " [1, 1],\n",
       " [1, 0],\n",
       " [1, 0],\n",
       " [1, 0],\n",
       " [1, 0],\n",
       " [1, 4],\n",
       " [1, 2],\n",
       " [1, 1],\n",
       " [1, 0]]"
      ]
     },
     "execution_count": 498,
     "metadata": {},
     "output_type": "execute_result"
    }
   ],
   "source": [
    "X[:10]\n"
   ]
  },
  {
   "cell_type": "code",
   "execution_count": 499,
   "id": "ad90baf1",
   "metadata": {},
   "outputs": [
    {
     "data": {
      "text/plain": [
       "[5, 5, 4, 2, 5, 5, 5, 5, 5, 5]"
      ]
     },
     "execution_count": 499,
     "metadata": {},
     "output_type": "execute_result"
    }
   ],
   "source": [
    "Y[:10]"
   ]
  },
  {
   "cell_type": "code",
   "execution_count": 500,
   "id": "e9cbf081",
   "metadata": {},
   "outputs": [
    {
     "data": {
      "text/plain": [
       "(3.6885330408320325, 0.071090190199541)"
      ]
     },
     "execution_count": 500,
     "metadata": {},
     "output_type": "execute_result"
    }
   ],
   "source": [
    "model = linear_model.LinearRegression().fit(X, Y)\n",
    "theta0, theta1 = model.intercept_.item(), model.coef_[1].item()\n",
    "\n",
    "theta0, theta1"
   ]
  },
  {
   "cell_type": "code",
   "execution_count": 501,
   "id": "c3d6999a",
   "metadata": {},
   "outputs": [],
   "source": [
    "from sklearn.metrics import root_mean_squared_error\n",
    "mse = root_mean_squared_error(Y, model.predict(X))**2\n",
    "mse = mse.item()"
   ]
  },
  {
   "cell_type": "code",
   "execution_count": 502,
   "id": "30742205",
   "metadata": {},
   "outputs": [],
   "source": [
    "theta, _, _, _ = np.linalg.lstsq(X, Y, rcond=None) #just trying out another way"
   ]
  },
  {
   "cell_type": "code",
   "execution_count": 503,
   "id": "fb5d01e8",
   "metadata": {},
   "outputs": [
    {
     "data": {
      "text/plain": [
       "array([3.68853304, 0.07109019])"
      ]
     },
     "execution_count": 503,
     "metadata": {},
     "output_type": "execute_result"
    }
   ],
   "source": [
    "theta"
   ]
  },
  {
   "cell_type": "code",
   "execution_count": 504,
   "id": "51581a4f",
   "metadata": {},
   "outputs": [],
   "source": [
    "answers['Q1'] = [theta0, theta1, mse]"
   ]
  },
  {
   "cell_type": "code",
   "execution_count": 505,
   "id": "525fd954",
   "metadata": {},
   "outputs": [],
   "source": [
    "assertFloatList(answers['Q1'], 3) # Check the format of your answer (three floats)"
   ]
  },
  {
   "cell_type": "code",
   "execution_count": 506,
   "id": "8b84731b",
   "metadata": {},
   "outputs": [],
   "source": [
    "### Question 2"
   ]
  },
  {
   "cell_type": "code",
   "execution_count": 507,
   "id": "982ea2f5",
   "metadata": {},
   "outputs": [],
   "source": [
    "def feature(datum):\n",
    "    feat = [1, len(datum['review_text']), datum['review_text'].count('!')]\n",
    "    return feat"
   ]
  },
  {
   "cell_type": "code",
   "execution_count": 508,
   "id": "cda70702",
   "metadata": {},
   "outputs": [
    {
     "data": {
      "text/plain": [
       "[[1, 1326, 0],\n",
       " [1, 224, 1],\n",
       " [1, 118, 0],\n",
       " [1, 1952, 0],\n",
       " [1, 554, 0],\n",
       " [1, 486, 0],\n",
       " [1, 257, 4],\n",
       " [1, 10, 2],\n",
       " [1, 31, 1],\n",
       " [1, 62, 0]]"
      ]
     },
     "execution_count": 508,
     "metadata": {},
     "output_type": "execute_result"
    }
   ],
   "source": [
    "X = [feature(d) for d in dataset] #length of review, number of ! in review\n",
    "Y = [d['rating'] for d in dataset] #overall rating\n",
    "X[:10]\n"
   ]
  },
  {
   "cell_type": "code",
   "execution_count": 509,
   "id": "fd35ff89",
   "metadata": {},
   "outputs": [],
   "source": [
    "model = linear_model.LinearRegression().fit(X, Y)\n",
    "theta0, theta1, theta2 = model.intercept_.item(), model.coef_[1].item(), model.coef_[2].item()\n",
    "mse = root_mean_squared_error(Y, model.predict(X))**2\n",
    "mse = mse.item()"
   ]
  },
  {
   "cell_type": "code",
   "execution_count": 510,
   "id": "f099afd8",
   "metadata": {},
   "outputs": [
    {
     "data": {
      "text/plain": [
       "[3.717512807797201,\n",
       " -4.1215065294879574e-05,\n",
       " 0.07527591733232615,\n",
       " 1.5214029246165834]"
      ]
     },
     "execution_count": 510,
     "metadata": {},
     "output_type": "execute_result"
    }
   ],
   "source": [
    "answers['Q2'] = [theta0, theta1, theta2, mse]\n",
    "answers['Q2']"
   ]
  },
  {
   "cell_type": "code",
   "execution_count": 511,
   "id": "31e2f9e8",
   "metadata": {},
   "outputs": [],
   "source": [
    "assertFloatList(answers['Q2'], 4)"
   ]
  },
  {
   "cell_type": "code",
   "execution_count": 512,
   "id": "1147c4f6",
   "metadata": {},
   "outputs": [],
   "source": [
    "### Question 3"
   ]
  },
  {
   "cell_type": "code",
   "execution_count": 513,
   "id": "78ef0f1e",
   "metadata": {},
   "outputs": [],
   "source": [
    "def feature(datum, deg): #poly from 1 to 5\n",
    "    feat = [1] + [datum['review_text'].count('!')**i for i in range(1, deg+1)]\n",
    "    return feat"
   ]
  },
  {
   "cell_type": "code",
   "execution_count": 514,
   "id": "71a32332",
   "metadata": {},
   "outputs": [],
   "source": [
    "X_train = [[feature(d, i) for d in dataset] for i in range(1, 6)]\n",
    "Y = [d['rating'] for d in dataset]\n",
    "models = [linear_model.LinearRegression().fit(X_train[i], Y) for i in range(5)]\n",
    "mses = [root_mean_squared_error(Y, models[i].predict(X_train[i]))**2 for i in range(5)]\n",
    "mses = [mse.item() for mse in mses]\n"
   ]
  },
  {
   "cell_type": "code",
   "execution_count": 515,
   "id": "911130a2",
   "metadata": {},
   "outputs": [
    {
     "data": {
      "text/plain": [
       "[1.5231747404538287,\n",
       " 1.504668610625092,\n",
       " 1.4966845515179232,\n",
       " 1.4904477302230692,\n",
       " 1.4896106953961645]"
      ]
     },
     "execution_count": 515,
     "metadata": {},
     "output_type": "execute_result"
    }
   ],
   "source": [
    "mses"
   ]
  },
  {
   "cell_type": "code",
   "execution_count": 516,
   "id": "559faac4",
   "metadata": {},
   "outputs": [],
   "source": [
    "answers['Q3'] = mses"
   ]
  },
  {
   "cell_type": "code",
   "execution_count": 517,
   "id": "bbb5da71",
   "metadata": {},
   "outputs": [],
   "source": [
    "assertFloatList(answers['Q3'], 5)# List of length 5"
   ]
  },
  {
   "cell_type": "code",
   "execution_count": 518,
   "id": "dcbb8263",
   "metadata": {},
   "outputs": [],
   "source": [
    "### Question 4"
   ]
  },
  {
   "cell_type": "code",
   "execution_count": 519,
   "id": "e91bc048",
   "metadata": {},
   "outputs": [
    {
     "data": {
      "text/plain": [
       "[1.524874385986629,\n",
       " 1.4977199259322447,\n",
       " 1.4856632190311285,\n",
       " 1.4767337440081165,\n",
       " 1.480957727369849]"
      ]
     },
     "execution_count": 519,
     "metadata": {},
     "output_type": "execute_result"
    }
   ],
   "source": [
    "training_set, test_set = dataset[:5000], dataset[5000:]\n",
    "\n",
    "X_train = [[feature(d, i) for d in training_set] for i in range(1, 6)]\n",
    "X_test = [[feature(d, i) for d in test_set] for i in range(1, 6)]\n",
    "\n",
    "Y_train = [d['rating'] for d in training_set]\n",
    "Y_test = [d['rating'] for d in test_set]\n",
    "\n",
    "models = [linear_model.LinearRegression().fit(X_train[i], Y_train) for i in range(5)]\n",
    "mses = [root_mean_squared_error(Y_test, models[i].predict(X_test[i]))**2 for i in range(5)]\n",
    "mses = [mse.item() for mse in mses]\n",
    "\n",
    "mses"
   ]
  },
  {
   "cell_type": "code",
   "execution_count": 520,
   "id": "fdd505ff",
   "metadata": {},
   "outputs": [],
   "source": [
    "answers['Q4'] = mses"
   ]
  },
  {
   "cell_type": "code",
   "execution_count": 521,
   "id": "d2954061",
   "metadata": {},
   "outputs": [],
   "source": [
    "assertFloatList(answers['Q4'], 5)"
   ]
  },
  {
   "cell_type": "code",
   "execution_count": 522,
   "id": "2fa286a5",
   "metadata": {},
   "outputs": [],
   "source": [
    "### Question 5"
   ]
  },
  {
   "cell_type": "code",
   "execution_count": 523,
   "id": "81dcc36d",
   "metadata": {},
   "outputs": [
    {
     "data": {
      "text/plain": [
       "(4.0, 0.907)"
      ]
     },
     "execution_count": 523,
     "metadata": {},
     "output_type": "execute_result"
    }
   ],
   "source": [
    "from sklearn.metrics import mean_absolute_error\n",
    "theta0 = np.median(Y_test).item()\n",
    "mae = mean_absolute_error(Y_test, [theta0] * len(Y_test)).item()\n",
    "\n",
    "theta0, mae\n"
   ]
  },
  {
   "cell_type": "code",
   "execution_count": 524,
   "id": "b3a2e9b9",
   "metadata": {},
   "outputs": [],
   "source": [
    "answers['Q5'] = mae"
   ]
  },
  {
   "cell_type": "code",
   "execution_count": 525,
   "id": "d71a47ed",
   "metadata": {},
   "outputs": [],
   "source": [
    "assertFloat(answers['Q5'])"
   ]
  },
  {
   "cell_type": "code",
   "execution_count": 526,
   "id": "cf84f30c",
   "metadata": {},
   "outputs": [],
   "source": [
    "### Question 6"
   ]
  },
  {
   "cell_type": "code",
   "execution_count": 527,
   "id": "19b5b795",
   "metadata": {},
   "outputs": [],
   "source": [
    "f = open(\"beer_50000.json\")\n",
    "dataset = []\n",
    "for l in f:\n",
    "    if 'user/gender' in l:\n",
    "        dataset.append(eval(l))"
   ]
  },
  {
   "cell_type": "code",
   "execution_count": 528,
   "id": "299d4fee",
   "metadata": {},
   "outputs": [
    {
     "data": {
      "text/plain": [
       "[{'review/appearance': 4.0,\n",
       "  'beer/style': 'American Double / Imperial IPA',\n",
       "  'review/palate': 4.0,\n",
       "  'review/taste': 4.5,\n",
       "  'beer/name': 'Cauldron DIPA',\n",
       "  'review/timeUnix': 1293735206,\n",
       "  'user/gender': 'Male',\n",
       "  'user/birthdayRaw': 'Jun 16, 1901',\n",
       "  'beer/ABV': 7.7,\n",
       "  'beer/beerId': '64883',\n",
       "  'user/birthdayUnix': -2163081600,\n",
       "  'beer/brewerId': '1075',\n",
       "  'review/timeStruct': {'isdst': 0,\n",
       "   'mday': 30,\n",
       "   'hour': 18,\n",
       "   'min': 53,\n",
       "   'sec': 26,\n",
       "   'mon': 12,\n",
       "   'year': 2010,\n",
       "   'yday': 364,\n",
       "   'wday': 3},\n",
       "  'user/ageInSeconds': 3581417047,\n",
       "  'review/overall': 4.0,\n",
       "  'review/text': \"According to the website, the style for the Caldera Cauldron changes every year. The current release is a DIPA, which frankly is the only cauldron I'm familiar with (it was an IPA/DIPA the last time I ordered a cauldron at the horsebrass several years back). In any event... at the Horse Brass yesterday.\\t\\tThe beer pours an orange copper color with good head retention and lacing. The nose is all hoppy IPA goodness, showcasing a huge aroma of dry citrus, pine and sandlewood. The flavor profile replicates the nose pretty closely in this West Coast all the way DIPA. This DIPA is not for the faint of heart and is a bit much even for a hophead like myslf. The finish is quite dry and hoppy, and there's barely enough sweet malt to balance and hold up the avalanche of hoppy bitterness in this beer. Mouthfeel is actually fairly light, with a long, persistentely bitter finish. Drinkability is good, with the alcohol barely noticeable in this well crafted beer. Still, this beer is so hugely hoppy/bitter, it's really hard for me to imagine ordering more than a single glass. Regardless, this is a very impressive beer from the folks at Caldera.\",\n",
       "  'user/profileName': 'johnmichaelsen',\n",
       "  'review/aroma': 4.5},\n",
       " {'review/appearance': 3.5,\n",
       "  'beer/style': 'Herbed / Spiced Beer',\n",
       "  'review/palate': 3.0,\n",
       "  'review/taste': 3.5,\n",
       "  'beer/name': 'Caldera Ginger Beer',\n",
       "  'review/timeUnix': 1325524659,\n",
       "  'user/gender': 'Male',\n",
       "  'beer/ABV': 4.7,\n",
       "  'beer/beerId': '52159',\n",
       "  'beer/brewerId': '1075',\n",
       "  'review/timeStruct': {'isdst': 0,\n",
       "   'mday': 2,\n",
       "   'hour': 17,\n",
       "   'min': 17,\n",
       "   'sec': 39,\n",
       "   'mon': 1,\n",
       "   'year': 2012,\n",
       "   'yday': 2,\n",
       "   'wday': 0},\n",
       "  'review/overall': 3.0,\n",
       "  'review/text': \"Poured from the bottle into a Chimay goblet.\\t\\tAppearance: Pours a slightly cloudy yellow/orange color with a half finger of fluffy white head. The head fades to a small layer on top of the pour.\\t\\tSmell: Very light and crisp. I'm definitely picking up the ginger, but it's not overly powerful. There is a slight sweetness from the malt as well.\\t\\tTaste: Very light and refreshing. The ginger shows up right away and then fades towards the finish of the sip. The finish is malty and bread like. \\t\\tMouthfeel: The body is on the thin side with smooth carbonation and a very dry finish.\\t\\tOverall: This is a light and refreshing beer, but nothing spectacular. The amount of ginger is nice, but I would have liked to have more going on.\",\n",
       "  'user/profileName': 'oline73',\n",
       "  'review/aroma': 3.5},\n",
       " {'review/appearance': 3.5,\n",
       "  'beer/style': 'Herbed / Spiced Beer',\n",
       "  'review/palate': 2.0,\n",
       "  'review/taste': 3.5,\n",
       "  'beer/name': 'Caldera Ginger Beer',\n",
       "  'review/timeUnix': 1306276018,\n",
       "  'user/gender': 'Male',\n",
       "  'beer/ABV': 4.7,\n",
       "  'beer/beerId': '52159',\n",
       "  'beer/brewerId': '1075',\n",
       "  'review/timeStruct': {'isdst': 0,\n",
       "   'mday': 24,\n",
       "   'hour': 22,\n",
       "   'min': 26,\n",
       "   'sec': 58,\n",
       "   'mon': 5,\n",
       "   'year': 2011,\n",
       "   'yday': 144,\n",
       "   'wday': 1},\n",
       "  'review/overall': 3.0,\n",
       "  'review/text': 'Bottle says \"Malt beverage brewed with Ginger and ginger added\" Sounds redundant to me, but lets move on.\\t\\tPours a bud light yellow with a tiny white head of small bubbles. The beer is almost as clear as a glass of water with some food coloring in it.\\t\\tAroma of light ginger, a very light malt aroma but primarily odorless on the malt side. I wouldn\\'t be completely surprised if there were some adjuncts in here because of the lack of underlying malt flavors. Taste is of a light adjunct lager with a dosing of ginger. Not surprising there. \\t\\tThis is a light session beer, good for the warmer days of spring / summer. Mouthfeel is extremely light, high carbonation.\\t\\tOverall decent. This would be great if you were drinking beers on draft at the bar with some friends just hanging out. I wouldn\\'t necessarily seek it out though to drink out of a bottle.',\n",
       "  'user/profileName': 'alpinebryant',\n",
       "  'review/aroma': 2.5},\n",
       " {'review/appearance': 5.0,\n",
       "  'beer/style': 'Herbed / Spiced Beer',\n",
       "  'review/palate': 4.0,\n",
       "  'review/taste': 4.0,\n",
       "  'beer/name': 'Caldera Ginger Beer',\n",
       "  'review/timeUnix': 1285632924,\n",
       "  'user/gender': 'Male',\n",
       "  'beer/ABV': 4.7,\n",
       "  'beer/beerId': '52159',\n",
       "  'beer/brewerId': '1075',\n",
       "  'review/timeStruct': {'isdst': 0,\n",
       "   'mday': 28,\n",
       "   'hour': 0,\n",
       "   'min': 15,\n",
       "   'sec': 24,\n",
       "   'mon': 9,\n",
       "   'year': 2010,\n",
       "   'yday': 271,\n",
       "   'wday': 1},\n",
       "  'review/overall': 4.5,\n",
       "  'review/text': 'Poured from a 22oz bomber into my Drie Fonteinen tumbler. \\t\\tHazy titanium yellow body (which catches the shadows forming a beautiful mysterious gradient) with an incredibly dense pillow of magnolia cream. Heavy persistent head and rich creamy lacing.\\t\\tPale malt, asian pear, and a hint of citrus in the nose. A vaguely tropical lager...\\t\\tTastes very much like a well done APA, with a nice balance of pale malt and low hop bitterness. The ginger adds to the refreshing character, but isn\\'t readily detectable at first (lacks any \"bite\"). Medium-dry finish - very clean and extremely quaffable. I can imagine hibiscus and beets working in small quantities, though I think they omitted those for this version...\\t\\tLight bodied, pillowy, smooth and moderately carbonated.\\t\\tDon\\'t go into this expecting a ginger beer (despite its name) as it has little in common with that spicy soft drink. This is a wonderful session ale though, and worth seeking out if you are a fan of light yet flavorful lagers. Would obviously go perfectly with sushi.',\n",
       "  'user/profileName': 'augustgarage',\n",
       "  'review/aroma': 3.5},\n",
       " {'review/appearance': 4.0,\n",
       "  'beer/style': 'American Pale Lager',\n",
       "  'review/palate': 4.0,\n",
       "  'review/taste': 4.0,\n",
       "  'beer/name': 'Caldera OBF 15',\n",
       "  'review/timeUnix': 1062311123,\n",
       "  'user/gender': 'Male',\n",
       "  'user/birthdayRaw': 'Jun 23, 1958',\n",
       "  'beer/ABV': 5.6,\n",
       "  'beer/beerId': '12386',\n",
       "  'user/birthdayUnix': -363718800,\n",
       "  'beer/brewerId': '1075',\n",
       "  'review/timeStruct': {'isdst': 0,\n",
       "   'mday': 31,\n",
       "   'hour': 6,\n",
       "   'min': 25,\n",
       "   'sec': 23,\n",
       "   'mon': 8,\n",
       "   'year': 2003,\n",
       "   'yday': 243,\n",
       "   'wday': 6},\n",
       "  'user/ageInSeconds': 1782054247,\n",
       "  'review/overall': 4.0,\n",
       "  'review/text': \"More of a 'dry' than a lager, tasted at the 2002 Oregon Brewers Festival. Orange color, orange flavor in nose. Light malts and fairly aggressively hopped; yet it is not very bitter. Interesting taste, complex and subtle. Light yet flavorful. Mouthfeel is full and round. Finish is clean and smooth. Aftertaste is slightly bitter. Nice beer. Would be a great beer to sip during a hot summer day.\",\n",
       "  'user/profileName': 'beerguy101',\n",
       "  'review/aroma': 3.0}]"
      ]
     },
     "execution_count": 528,
     "metadata": {},
     "output_type": "execute_result"
    }
   ],
   "source": [
    "dataset[:5]"
   ]
  },
  {
   "cell_type": "code",
   "execution_count": 529,
   "id": "4da155f5",
   "metadata": {},
   "outputs": [],
   "source": [
    "def feature(datum): #predict rating from number of exclamation points\n",
    "    feat = [1, datum['review/text'].count('!')]\n",
    "    return feat"
   ]
  },
  {
   "cell_type": "code",
   "execution_count": 530,
   "id": "cf95bec0",
   "metadata": {},
   "outputs": [],
   "source": [
    "X = [feature(d) for d in dataset]\n",
    "Y = [d['user/gender'] == \"Female\" for d in dataset] #1 for female "
   ]
  },
  {
   "cell_type": "code",
   "execution_count": 531,
   "id": "902bf87c",
   "metadata": {},
   "outputs": [
    {
     "data": {
      "text/plain": [
       "(20095, 0, 308, 0, 0.5)"
      ]
     },
     "execution_count": 531,
     "metadata": {},
     "output_type": "execute_result"
    },
    {
     "data": {
      "image/png": "[encoded data removed]",
      "text/plain": [
       "<Figure size 640x480 with 2 Axes>"
      ]
     },
     "metadata": {},
     "output_type": "display_data"
    }
   ],
   "source": [
    "from sklearn.metrics import confusion_matrix, ConfusionMatrixDisplay\n",
    "model = linear_model.LogisticRegression().fit(X, Y)\n",
    "matrix = confusion_matrix(Y, model.predict(X))\n",
    "_ = ConfusionMatrixDisplay.from_estimator(model , X, Y)\n",
    "\n",
    "TN, FP, FN, TP = matrix[0][0].item(), matrix[0][1].item(), matrix[1][0].item(), matrix[1][1].item()\n",
    "BER = 0.5 * (FP / (FP + TN) + FN / (FN + TP))\n",
    "TN, FP, FN, TP, BER"
   ]
  },
  {
   "cell_type": "code",
   "execution_count": 532,
   "id": "0c35d20a",
   "metadata": {},
   "outputs": [],
   "source": [
    "answers['Q6'] = [TP, TN, FP, FN, BER]"
   ]
  },
  {
   "cell_type": "code",
   "execution_count": 533,
   "id": "9b18991a",
   "metadata": {},
   "outputs": [],
   "source": [
    "assertFloatList(answers['Q6'], 5)"
   ]
  },
  {
   "cell_type": "code",
   "execution_count": 534,
   "id": "f066f3d5",
   "metadata": {},
   "outputs": [],
   "source": [
    "### Question 7"
   ]
  },
  {
   "cell_type": "code",
   "execution_count": 535,
   "id": "d24c241f",
   "metadata": {},
   "outputs": [
    {
     "data": {
      "text/plain": [
       "(16332, 3763, 220, 88, 0.4507731134255145)"
      ]
     },
     "execution_count": 535,
     "metadata": {},
     "output_type": "execute_result"
    },
    {
     "data": {
      "image/png": "[encoded data removed]",
      "text/plain": [
       "<Figure size 640x480 with 2 Axes>"
      ]
     },
     "metadata": {},
     "output_type": "display_data"
    }
   ],
   "source": [
    "model = linear_model.LogisticRegression(class_weight=\"balanced\").fit(X, Y)\n",
    "matrix = confusion_matrix(Y, model.predict(X))\n",
    "_ = ConfusionMatrixDisplay.from_estimator(model , X, Y)\n",
    "\n",
    "TN, FP, FN, TP = matrix[0][0].item(), matrix[0][1].item(), matrix[1][0].item(), matrix[1][1].item()\n",
    "BER = 0.5 * (FP / (FP + TN) + FN / (FN + TP))\n",
    "TN, FP, FN, TP, BER"
   ]
  },
  {
   "cell_type": "code",
   "execution_count": 536,
   "id": "0622704c",
   "metadata": {},
   "outputs": [],
   "source": [
    "answers[\"Q7\"] = [TP, TN, FP, FN, BER]"
   ]
  },
  {
   "cell_type": "code",
   "execution_count": 537,
   "id": "efb03c92",
   "metadata": {},
   "outputs": [],
   "source": [
    "assertFloatList(answers['Q7'], 5)"
   ]
  },
  {
   "cell_type": "code",
   "execution_count": 538,
   "id": "0e622c2b",
   "metadata": {},
   "outputs": [],
   "source": [
    "### Question 8"
   ]
  },
  {
   "cell_type": "code",
   "execution_count": 539,
   "id": "9b6bcea5",
   "metadata": {},
   "outputs": [],
   "source": [
    "from sklearn.metrics import precision_score\n",
    "\n",
    "predictions = model.predict_proba(X)[:, 1]\n",
    "\n",
    "K_values = [1, 10, 100, 1000, 10000]\n",
    "precisionList = []\n",
    "\n",
    "for K in K_values:\n",
    "    top_k = np.argsort(predictions)[-K:]\n",
    "    precisionList.append(precision_score(Y, [i in top_k for i in range(len(Y))]).item())\n"
   ]
  },
  {
   "cell_type": "code",
   "execution_count": 540,
   "id": "764513e1",
   "metadata": {},
   "outputs": [],
   "source": [
    "answers['Q8'] = precisionList"
   ]
  },
  {
   "cell_type": "code",
   "execution_count": 541,
   "id": "b0d7d87a",
   "metadata": {},
   "outputs": [],
   "source": [
    "assertFloatList(answers['Q8'], 5) #List of five floats"
   ]
  },
  {
   "cell_type": "code",
   "execution_count": 542,
   "id": "230af88b",
   "metadata": {},
   "outputs": [
    {
     "data": {
      "text/plain": [
       "{'Q1': [3.6885330408320325, 0.071090190199541, 1.5231747404538287],\n",
       " 'Q2': [3.717512807797201,\n",
       "  -4.1215065294879574e-05,\n",
       "  0.07527591733232615,\n",
       "  1.5214029246165834],\n",
       " 'Q3': [1.5231747404538287,\n",
       "  1.504668610625092,\n",
       "  1.4966845515179232,\n",
       "  1.4904477302230692,\n",
       "  1.4896106953961645],\n",
       " 'Q4': [1.524874385986629,\n",
       "  1.4977199259322447,\n",
       "  1.4856632190311285,\n",
       "  1.4767337440081165,\n",
       "  1.480957727369849],\n",
       " 'Q5': 0.907,\n",
       " 'Q6': [0, 20095, 0, 308, 0.5],\n",
       " 'Q7': [88, 16332, 3763, 220, 0.4507731134255145],\n",
       " 'Q8': [0.0, 0.0, 0.02, 0.02, 0.0162]}"
      ]
     },
     "execution_count": 542,
     "metadata": {},
     "output_type": "execute_result"
    }
   ],
   "source": [
    "answers"
   ]
  },
  {
   "cell_type": "code",
   "execution_count": 543,
   "id": "d557ab88",
   "metadata": {},
   "outputs": [],
   "source": [
    "f = open(\"answers_hw1.txt\", 'w') # Write your answers to a file\n",
    "f.write(str(answers) + '\\n')\n",
    "f.close()"
   ]
  },
  {
   "cell_type": "code",
   "execution_count": null,
   "id": "63b457fc",
   "metadata": {},
   "outputs": [],
   "source": []
  }
 ],
 "metadata": {
  "kernelspec": {
   "display_name": "Python 3",
   "language": "python",
   "name": "python3"
  },
  "language_info": {
   "codemirror_mode": {
    "name": "ipython",
    "version": 3
   },
   "file_extension": ".py",
   "mimetype": "text/x-python",
   "name": "python",
   "nbconvert_exporter": "python",
   "pygments_lexer": "ipython3",
   "version": "3.10.10"
  }
 },
 "nbformat": 4,
 "nbformat_minor": 5
}
